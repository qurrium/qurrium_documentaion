{
 "cells": [
  {
   "cell_type": "markdown",
   "metadata": {},
   "source": [
    "# 2.1 WaveFunction Overlap - Hadamaed Test\n",
    "\n",
    "The `WaveFunctionOverlap` or `EchoListen` instance provides three methods:\n",
    "\n",
    "1. **`EchoListenRandomized`**: Uses randomized measurements and serves as the default method.\n",
    "   ```python\n",
    "   exp_method_02 = WaveFunctionOverlap()\n",
    "   ```\n",
    "   or\n",
    "   ```python\n",
    "   exp_method_02 = EchoListen()\n",
    "   ```\n",
    "   or\n",
    "   ```python\n",
    "   exp_method_02 = WaveFunctionOverlap(method=\"randomized\")\n",
    "   ```\n",
    "   or\n",
    "   ```python\n",
    "   exp_method_02 = EchoListen(method=\"randomized\")\n",
    "   ```\n",
    "   or\n",
    "   ```python\n",
    "   exp_method_02 = WaveFunctionOverlap(method=\"base\")\n",
    "   ```\n",
    "   or\n",
    "   ```python\n",
    "   exp_method_02 = EchoListen(method=\"base\")\n",
    "   ```\n",
    "2. **`EchoListenHadamard`**: Employs the Hadamard test for entropy calculation.\n",
    "   ```python\n",
    "   exp_method_01 = WaveFunctionOverlap(method=\"hadamard\")\n",
    "   ```\n",
    "   or\n",
    "   ```python\n",
    "   exp_method_01 = EchoListen(method=\"hadamard\")\n",
    "   ```\n",
    "3. **`EchoListenRandomizedV1`**: Implements randomized measurements with a different approach but is deprecated due to limitations in subsystem selection.\n",
    "   ```python\n",
    "   exp_method_03 = WaveFunctionOverlap(method=\"randomized_v1\")\n",
    "   ```\n",
    "   or\n",
    "   ```python\n",
    "   exp_method_03 = EchoListen(method=\"randomized_v1\")\n",
    "   ```\n",
    "\n",
    "All three methods calculate the entropy of a quantum state, but their calculation techniques and post-processing procedures are entirely different."
   ]
  },
  {
   "cell_type": "markdown",
   "metadata": {},
   "source": [
    "## 2.1 Hadamaed Test\n",
    "\n",
    "This method is also called 'Swap test'. The interested users are encouraged to read the papers [Identification of Symmetry-Protected Topological States on Noisy Quantum Computers](https://journals.aps.org/prl/abstract/10.1103/PhysRevLett.125.120502) and [Entanglement spectroscopy on a quantum computer](https://journals.aps.org/prb/abstract/10.1103/PhysRevB.96.195136) for the introduction and applications of this method.\n"
   ]
  },
  {
   "cell_type": "markdown",
   "metadata": {},
   "source": [
    "---\n",
    "\n",
    "## `hadamard_overlap_echo`\n",
    "\n",
    "```python\n",
    "def hadamard_overlap_echo(\n",
    "    shots: int,\n",
    "    counts: list[dict[str, int]],\n",
    "    backend: PostProcessingBackendLabel = DEFAULT_PROCESS_BACKEND,\n",
    "    pbar: Optional[tqdm.tqdm] = None,\n",
    ") -> dict[str, float]:\n",
    "    \"\"\"Calculate overlap echo with more information combined.\n",
    "\n",
    "    - Which echo:\n",
    "\n",
    "            The echo we compute is the overlap echo.\n",
    "\n",
    "    Args:\n",
    "        shots (int):\n",
    "            Shots of the experiment on quantum machine.\n",
    "        counts (list[dict[str, int]]):\n",
    "            Counts of the experiment on quantum machine.\n",
    "        backend (PostProcessingBackendLabel, optional):\n",
    "            Backend of the postprocessing. Defaults to DEFAULT_PROCESS_BACKEND.\n",
    "        pbar (Optional[tqdm.tqdm], optional):\n",
    "            Progress bar. Defaults to None.\n",
    "\n",
    "    Raises:\n",
    "        ValueError: Get degree neither 'int' nor 'tuple[int, int]'.\n",
    "        ValueError: Measure range does not contain subsystem.\n",
    "\n",
    "    Returns:\n",
    "        dict[str, float]: Quantity of the experiment.\n",
    "    \"\"\"\n",
    "```\n"
   ]
  },
  {
   "cell_type": "markdown",
   "metadata": {},
   "source": [
    "---\n",
    "\n",
    "### Dummy Data\n"
   ]
  },
  {
   "cell_type": "code",
   "execution_count": 1,
   "metadata": {},
   "outputs": [],
   "source": [
    "dummy_cases = [\n",
    "    {\"shots\": 100, \"counts\": [{\"0\": 51, \"1\": 49}], \"answer\": 0},\n",
    "    {\"shots\": 100, \"counts\": [{\"0\": 100}], \"answer\": 1},\n",
    "    {\"shots\": 100, \"counts\": [{\"1\": 100}], \"answer\": 1},\n",
    "]"
   ]
  },
  {
   "cell_type": "markdown",
   "metadata": {},
   "source": [
    "---\n",
    "\n",
    "### Simple Example\n"
   ]
  },
  {
   "cell_type": "code",
   "execution_count": null,
   "metadata": {},
   "outputs": [],
   "source": [
    "from qurry.process.hadamard_test import hadamard_overlap_echo\n",
    "\n",
    "test_result_2_1s = [\n",
    "    hadamard_overlap_echo(case[\"shots\"], case[\"counts\"]) for case in dummy_cases\n",
    "]"
   ]
  },
  {
   "cell_type": "code",
   "execution_count": 3,
   "metadata": {},
   "outputs": [
    {
     "name": "stdout",
     "output_type": "stream",
     "text": [
      "| result of hadamard_entangled_entropy\n",
      "| case 1\n",
      "| {'echo': 0.02}\n",
      "| case 2\n",
      "| {'echo': 1.0}\n",
      "| case 3\n",
      "| {'echo': 1.0}\n"
     ]
    }
   ],
   "source": [
    "print(\"| result of hadamard_entangled_entropy\")\n",
    "for i, result in enumerate(test_result_2_1s):\n",
    "    print(f\"| case {i + 1}\")\n",
    "    print(f\"| {result}\")"
   ]
  },
  {
   "cell_type": "markdown",
   "metadata": {},
   "source": [
    "---\n",
    "\n",
    "### Integration wit your own progress bar\n"
   ]
  },
  {
   "cell_type": "code",
   "execution_count": null,
   "metadata": {},
   "outputs": [
    {
     "name": "stderr",
     "output_type": "stream",
     "text": [
      "|  - 00:00 < 00:00"
     ]
    },
    {
     "name": "stdout",
     "output_type": "stream",
     "text": [
      "| case 3\n",
      "| {'echo': 0.02}\n",
      "| case 3\n",
      "| {'echo': 1.0}\n",
      "| case 3\n",
      "| {'echo': 1.0}\n"
     ]
    },
    {
     "name": "stderr",
     "output_type": "stream",
     "text": [
      "\n"
     ]
    }
   ],
   "source": [
    "from tqdm import tqdm\n",
    "\n",
    "all_counts_progress_01 = tqdm(\n",
    "    dummy_cases,\n",
    "    bar_format=\"| {desc} - {elapsed} < {remaining}\",\n",
    ")\n",
    "\n",
    "test_result_2_2s = []\n",
    "for case in all_counts_progress_01:\n",
    "    test_result_2_2s.append(hadamard_overlap_echo(case[\"shots\"], case[\"counts\"]))\n",
    "    print(f\"| case {i + 1}\")\n",
    "    print(f\"| {test_result_2_2s[-1]}\")"
   ]
  },
  {
   "cell_type": "markdown",
   "metadata": {},
   "source": [
    "---\n",
    "\n",
    "### Post-Process Availablities and Version Info\n",
    "\n"
   ]
  },
  {
   "cell_type": "code",
   "execution_count": 5,
   "metadata": {},
   "outputs": [
    {
     "data": {
      "text/plain": [
       " | Qurry version: 0.10.0\n",
       "--------------------------------------------------------\n",
       " ### Qurry Post-Processing\n",
       "   - Backend Availability ................... Python Cython Rust  \n",
       " - randomized_measure\n",
       "   - entangled_entropy.entropy_core_2 ....... Yes    Depr.  Yes   \n",
       "   - entangle_entropy.purity_cell_2 ......... Yes    Depr.  Yes   \n",
       "   - wavefunction_overlap.echo_core_2 ....... Yes    Depr.  Yes   \n",
       "   - wavefunction_overlap.echo_cell_2 ....... Yes    Depr.  Error \n",
       " - utils\n",
       "   - randomized ............................. Yes    Depr.  Yes   \n",
       "   - construct .............................. Yes    No     Yes   \n",
       "   - dummy .................................. Yes    No     Yes   \n",
       "   - test ................................... Yes    No     Yes   \n",
       " - hadamard_test\n",
       "   - purity_echo_core ....................... Yes    No     Yes   \n",
       " - magnet_square\n",
       "   - magnsq_core ............................ Yes    No     No    \n",
       "--------------------------------------------------------\n",
       "   + Yes ...... Working normally.\n",
       "   + Error .... Exception occurred.\n",
       "   + No ....... Not supported.\n",
       "   + Depr. .... Deprecated.\n",
       "--------------------------------------------------------\n",
       "by <Hoshi>"
      ]
     },
     "execution_count": 5,
     "metadata": {},
     "output_type": "execute_result"
    }
   ],
   "source": [
    "from qurry.process.status import AVAIBILITY_STATESHEET\n",
    "\n",
    "AVAIBILITY_STATESHEET"
   ]
  },
  {
   "cell_type": "code",
   "execution_count": null,
   "metadata": {},
   "outputs": [],
   "source": []
  }
 ],
 "metadata": {
  "kernelspec": {
   "display_name": "quantumsphere12",
   "language": "python",
   "name": "python3"
  },
  "language_info": {
   "codemirror_mode": {
    "name": "ipython",
    "version": 3
   },
   "file_extension": ".py",
   "mimetype": "text/x-python",
   "name": "python",
   "nbconvert_exporter": "python",
   "pygments_lexer": "ipython3",
   "version": "3.12.7"
  }
 },
 "nbformat": 4,
 "nbformat_minor": 4
}
