{
 "cells": [
  {
   "cell_type": "markdown",
   "metadata": {},
   "source": [
    "# Post-Processing\n",
    "\n",
    "We have introduced the workflow from building circuits to executing post-processing to get the final result. However, for some users that already have measurement outcomes from their own calculations, they may want to skip the building circuits and job manager to use the post-processing part only.\n",
    "\n",
    "In this notebook, we will focus on the post-processing part. We will introduce how to access the fuctions that performs post-processing for <u>**those who are familiar with the post-processing procedure and more experienced with Python**</u>.\n"
   ]
  },
  {
   "cell_type": "markdown",
   "metadata": {},
   "source": [
    "## 1. Entanglement Entropy\n",
    "\n",
    "All three methods calculate the entropy of a quantum state, but their calculation techniques and post-processing procedures are entirely different.\n",
    "\n",
    "1. Hadamard Test\n",
    "2. Randomized Measurement\n",
    "3. Randomized Measurement with Error Mitigation\n",
    "4. Randomized Measurement V1 - the deprecated version\n",
    "   - This method is deprecated, and we recommend **not** using it for post-processing except when dealing with data from versions **below `0.9.1`**\n",
    "   - `EntropyRandomizedMeasureV1` is a deprecated version of `EntropyRandomizedMeasure` because it lacks clarity on the relationship between bitstrings and qubit indices. This limitation can easily cause confusion, especially when working with systems that do not measure all qubits. However, it is retained for backward compatibility.\n",
    "5. Randomized Measurement V1 with Error Mitigation - the deprecated version\n",
    "   - This method is deprecated, and we recommend **not** using it for post-processing except when dealing with data from versions **below `0.9.1`**\n",
    "   - `EntropyRandomizedMeasureV1` is a deprecated version of `EntropyRandomizedMeasure` because it lacks clarity on the relationship between bitstrings and qubit indices. This limitation can easily cause confusion, especially when working with systems that do not measure all qubits. However, it is retained for backward compatibility.\n",
    "\n",
    "```{toctree}\n",
    ":maxdepth: 1\n",
    "\n",
    "01_entropy_measure/1_hadamard\n",
    "01_entropy_measure/2a_randomized_measure\n",
    "01_entropy_measure/2b_randomized_measure\n",
    "01_entropy_measure/4a_randomized_measure_v1\n",
    "01_entropy_measure/4b_randomized_measure_v1\n",
    "\n",
    "```\n",
    "\n",
    "## 2. WaveFuction Overlap\n",
    "\n",
    "1. Hadamard Test\n",
    "2. Randomized Measurement\n",
    "3. Randomized Measurement V1 - the deprecated version\n",
    "   - This method is deprecated, and we recommend **not** using it for post-processing except when dealing with data from versions **below `0.9.1`**\n",
    "   - `EntropyRandomizedMeasureV1` is a deprecated version of `EntropyRandomizedMeasure` because it lacks clarity on the relationship between bitstrings and qubit indices. This limitation can easily cause confusion, especially when working with systems that do not measure all qubits. However, it is retained for backward compatibility.\n",
    "\n",
    "```{toctree}\n",
    ":maxdepth: 1\n",
    "\n",
    "02_wave_func_overlap/1_hadamard\n",
    "02_wave_func_overlap/2_randomized_measure\n",
    "02_wave_func_overlap/3_randomized_measure_v1\n",
    "\n",
    "```\n",
    "\n",
    "## 3. Classical Shadow\n",
    "\n",
    "This feature has been implemented. The documentation is coming...\n",
    "\n",
    "## 4. Magnetization Square\n",
    "\n",
    "This feature has been implemented. The documentation is coming...\n",
    "\n",
    "<!-- ## 5. String Operator\n",
    "\n",
    "\n",
    "This feature has been implemented. The documentation is coming... -->\n"
   ]
  },
  {
   "cell_type": "markdown",
   "metadata": {},
   "source": [
    "---\n",
    "\n",
    "## Access the post-processing functions with Rust or Cython acceleration\n",
    "\n",
    "All the functions are located in the `qurry.process` module. You can access them by importing the module.\n",
    "\n",
    "We also prepared Rust and Cython acceleration for the post-processing because Python is notorious for its inefficiency. The post-processing is the most time-consuming part in the workflow, as a result of the exponential amount of quantum data. Thus, acceleration of the process is of extreme importance.\n",
    "\n",
    "For comparison, Rust is the fastest, Cython is the second, and Python is the slowest. You can check whether the acceleration module is available by checking `AVAIBILITY_STATESHEET` from `qurry.process.status`\n"
   ]
  },
  {
   "cell_type": "code",
   "execution_count": 1,
   "metadata": {},
   "outputs": [
    {
     "data": {
      "text/plain": [
       " | Qurrium version: 0.13.0\n",
       "---------------------------------------------------------------------------\n",
       " ### Qurrium Post-Processing\n",
       "   - Backend Availability ................... Python Cython Rust   JAX   \n",
       " - randomized_measure\n",
       "   - entangled_entropy.entropy_core_2 ....... Yes    Depr.  Yes    No    \n",
       "   - entangle_entropy.purity_cell_2 ......... Yes    Depr.  Yes    No    \n",
       "   - entangled_entropy_v1.entropy_core ...... Yes    Depr.  Yes    No    \n",
       "   - entangle_entropy_v1.purity_cell ........ Yes    Depr.  Yes    No    \n",
       "   - wavefunction_overlap.echo_core_2 ....... Yes    Depr.  Yes    No    \n",
       "   - wavefunction_overlap.echo_cell_2 ....... Yes    Depr.  Yes    No    \n",
       "   - wavefunction_overlap_v1.echo_core ...... Yes    Depr.  Yes    No    \n",
       "   - wavefunction_overlap_v1.echo_cell ...... Yes    Depr.  Yes    No    \n",
       " - hadamard_test\n",
       "   - purity_echo_core ....................... Yes    No     Yes    No    \n",
       " - magnet_square\n",
       "   - magnsq_core ............................ Yes    No     Yes    No    \n",
       " - string_operator\n",
       "   - strop_core ............................. Yes    No     Yes    No    \n",
       " - classical_shadow\n",
       "   - rho_m_core ............................. Yes    No     No     Yes   \n",
       " - utils\n",
       "   - randomized ............................. Yes    Depr.  Yes    No    \n",
       "   - counts_process ......................... Yes    No     Yes    No    \n",
       "   - bit_slice .............................. Yes    No     Yes    No    \n",
       "   - dummy .................................. Yes    No     Yes    No    \n",
       "   - test ................................... Yes    No     Yes    No    \n",
       "---------------------------------------------------------------------------\n",
       "   + Yes ...... Working normally.\n",
       "   + Error .... Exception occurred.\n",
       "   + No ....... Not supported.\n",
       "   + Depr. .... Deprecated.\n",
       "---------------------------------------------------------------------------\n",
       "by <Hoshi>"
      ]
     },
     "execution_count": 1,
     "metadata": {},
     "output_type": "execute_result"
    }
   ],
   "source": [
    "from qurry.process.status import AVAIBILITY_STATESHEET\n",
    "\n",
    "AVAIBILITY_STATESHEET"
   ]
  },
  {
   "cell_type": "markdown",
   "metadata": {},
   "source": [
    "### The Future of Acceleration\n",
    "\n",
    "- The future version of Qurry will only maintain Rust acceleration.\n",
    "\n",
    "- Cython acceleration that has been implemented will remain in the package, but not be updated anymore. For the computation efficiency of Cython is only slightly better than that of Python. Nonetheless, Cython and Python are hard to work parallelly due to not just **GIL (Global Interpreter Lock) in multi-thread**, but also **memory-wasted and inefficient for each children process in multi-process**. Therefore, we decided to focus on Rust acceleration. Python version will be remained for the compatibility and the convenience of debugging.\n"
   ]
  },
  {
   "cell_type": "code",
   "execution_count": null,
   "metadata": {},
   "outputs": [],
   "source": []
  }
 ],
 "metadata": {
  "kernelspec": {
   "display_name": "quantumsphere12",
   "language": "python",
   "name": "python3"
  },
  "language_info": {
   "codemirror_mode": {
    "name": "ipython",
    "version": 3
   },
   "file_extension": ".py",
   "mimetype": "text/x-python",
   "name": "python",
   "nbconvert_exporter": "python",
   "pygments_lexer": "ipython3",
   "version": "3.12.3"
  }
 },
 "nbformat": 4,
 "nbformat_minor": 4
}
