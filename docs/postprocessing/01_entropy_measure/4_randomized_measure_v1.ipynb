{
 "cells": [
  {
   "cell_type": "markdown",
   "metadata": {},
   "source": [
    "# 1.4 Randomized Measurement V1\n",
    "\n",
    "## Entanglement Entropy\n",
    "\n",
    "This method is based on [Probing Rényi entanglement entropy via randomized measurements](https://www.science.org/doi/abs/10.1126/science.aau4963) with deplorizing error mitigation by [Simple mitigation of global depolarizing errors in quantum simulations](https://link.aps.org/doi/10.1103/PhysRevE.104.035309).\n"
   ]
  },
  {
   "cell_type": "markdown",
   "metadata": {
    "tags": []
   },
   "source": [
    "## `randomized_entangled_entropy_v1`\n"
   ]
  },
  {
   "cell_type": "markdown",
   "metadata": {},
   "source": [
    "Here, we assume you already have the data from the calculation. You can call the function `randomized_entangled_entropy_v1` from `qurry.process.randomized_measure` to calculate the entropy.\n",
    "\n",
    "In this function, only `shots`, `counts`, and `degree` are required arguments. The others are optional.\n",
    "\n",
    "The following is the arguments of the function:\n",
    "\n",
    "```python\n",
    "def randomized_entangled_entropy_v1(\n",
    "    shots: int,\n",
    "    counts: list[dict[str, int]],\n",
    "    degree: Optional[Union[tuple[int, int], int]],\n",
    "    measure: Optional[tuple[int, int]] = None,\n",
    "    backend: PostProcessingBackendLabel = DEFAULT_PROCESS_BACKEND,\n",
    "    workers_num: Optional[int] = None,\n",
    "    pbar: Optional[tqdm.tqdm] = None,\n",
    ") -> RandomizedEntangledEntropyComplex:\n",
    "    \"\"\"Calculate entangled entropy.\n",
    "\n",
    "    Args:\n",
    "        shots (int):\n",
    "            Shots of the counts.\n",
    "        counts (list[dict[str, int]]):\n",
    "            Counts from randomized measurement results.\n",
    "        degree (Optional[Union[tuple[int, int], int]]):\n",
    "            The range of partition.\n",
    "        measure (Optional[tuple[int, int]], optional):\n",
    "            The range that implemented the measuring gate.\n",
    "            If not specified, then use all qubits.\n",
    "            This will affect the range of partition\n",
    "            when you not implement the measuring gate on all qubit.\n",
    "            Defaults to None.\n",
    "        backend (PostProcessingBackendLabel, optional):\n",
    "            Backend for the post-processing.\n",
    "            Defaults to DEFAULT_PROCESS_BACKEND.\n",
    "        workers_num (Optional[int], optional):\n",
    "            Number of multi-processing workers, it will be ignored if backend is Rust.\n",
    "            if sets to 1, then disable to using multi-processing;\n",
    "            if not specified, then use the number of all cpu counts by `os.cpu_count()`.\n",
    "            This only works for Python and Cython backend.\n",
    "            Defaults to None.\n",
    "        pbar (Optional[tqdm.tqdm], optional):\n",
    "            The progress bar API, you can use put a :cls:`tqdm` object here.\n",
    "            This function will update the progress bar description.\n",
    "            Defaults to None.\n",
    "\n",
    "    Returns:\n",
    "        RandomizedEntangledEntropyComplex:\n",
    "            A dictionary contains purity, entropy,\n",
    "            a list of each overlap, puritySD, degree,\n",
    "            actual measure range, bitstring range and more.\n",
    "    \"\"\"\n",
    "```\n",
    "\n",
    "This function returns a dictionary that contains the entropy, purity, and other relevant information.\n",
    "The returned `dict` contains the following information:\n",
    "\n",
    "```python\n",
    "class RandomizedEntangledEntropyComplex(TypedDict):\n",
    "    \"\"\"The result of the analysis.\"\"\"\n",
    "\n",
    "    purity: Union[np.float64, float]\n",
    "    \"\"\"The purity of the system.\"\"\"\n",
    "    entropy: Union[np.float64, float]\n",
    "    \"\"\"The entropy of the system.\"\"\"\n",
    "    purityCells: Union[dict[int, np.float64], dict[int, float]]\n",
    "    \"\"\"The purity of each cell.\"\"\"\n",
    "    puritySD: Union[np.float64, float]\n",
    "    \"\"\"The standard deviation of the purity.\"\"\"\n",
    "    entropySD: Union[np.float64, float]\n",
    "    \"\"\"The standard deviation of the entropy.\"\"\"\n",
    "    degree: Optional[Union[tuple[int, int], int]]\n",
    "    \"\"\"The range of partition.\"\"\"\n",
    "    measureActually: Union[tuple[int, int], tuple[()]]\n",
    "    \"\"\"The range of partition refer to all qubits.\"\"\"\n",
    "    bitStringRange: Union[tuple[int, int], tuple[()]]\n",
    "    \"\"\"The range of partition on the bitstring.\"\"\"\n",
    "    countsNum: int\n",
    "    \"\"\"The number of counts.\"\"\"\n",
    "```\n"
   ]
  },
  {
   "cell_type": "markdown",
   "metadata": {},
   "source": [
    "### Dummy Data\n"
   ]
  },
  {
   "cell_type": "code",
   "execution_count": 1,
   "metadata": {},
   "outputs": [],
   "source": [
    "from qurry.capsule import quickRead\n",
    "\n",
    "easy_dummy: dict[str, dict[str, int]] = quickRead(\"../easy-dummy.json\")\n",
    "large_dummy_list = [easy_dummy[\"0\"] for _ in range(100)]"
   ]
  },
  {
   "cell_type": "markdown",
   "metadata": {},
   "source": [
    "### Simple Example\n"
   ]
  },
  {
   "cell_type": "code",
   "execution_count": 2,
   "metadata": {},
   "outputs": [],
   "source": [
    "from qurry.process.randomized_measure import (\n",
    "    randomized_entangled_entropy_v1,\n",
    "    RandomizedEntangledEntropyComplex,\n",
    ")\n",
    "\n",
    "test_result_1_1_1 = randomized_entangled_entropy_v1(4096, large_dummy_list, 6)"
   ]
  },
  {
   "cell_type": "code",
   "execution_count": 3,
   "metadata": {},
   "outputs": [
    {
     "name": "stdout",
     "output_type": "stream",
     "text": [
      "| result of randomized_entangled_entropy_v1 except for purityCells\n",
      "{'bitStringRange': (2, 8),\n",
      " 'countsNum': 100,\n",
      " 'degree': 6,\n",
      " 'entropy': np.float64(-0.08786065308638322),\n",
      " 'entropySD': np.float64(0.0),\n",
      " 'measureActually': (2, 8),\n",
      " 'purity': np.float64(1.0627930164337158),\n",
      " 'puritySD': np.float64(0.0),\n",
      " 'takingTime': 0.002826164}\n",
      "| result of randomized_entangled_entropy_v1[purityCells]\n",
      "1.0627930164337158\n",
      "1.0627930164337158\n"
     ]
    }
   ],
   "source": [
    "from pprint import pprint\n",
    "\n",
    "print(\"| result of randomized_entangled_entropy_v1 except for purityCells\")\n",
    "pprint({k: v for k, v in test_result_1_1_1.items() if k != \"purityCells\"})\n",
    "# \"purityCells\" is too long we skip it here\n",
    "\n",
    "print(\"| result of randomized_entangled_entropy_v1[purityCells]\")\n",
    "print(test_result_1_1_1[\"purityCells\"][0])\n",
    "print(test_result_1_1_1[\"purityCells\"][1])"
   ]
  },
  {
   "cell_type": "markdown",
   "metadata": {},
   "source": [
    "### Integration with your own progress bar\n"
   ]
  },
  {
   "cell_type": "code",
   "execution_count": 4,
   "metadata": {},
   "outputs": [
    {
     "name": "stderr",
     "output_type": "stream",
     "text": [
      "| Calculate specific degree (3, -2). - 00:03 < 00:00 \n"
     ]
    }
   ],
   "source": [
    "from tqdm import tqdm\n",
    "import time\n",
    "\n",
    "all_counts_progress_01 = tqdm(\n",
    "    [\n",
    "        (4096, large_dummy_list, 6),\n",
    "        (4096, large_dummy_list, (2, 8)),\n",
    "        (4096, large_dummy_list, 7),\n",
    "        (4096, large_dummy_list, (0, 7)),\n",
    "        (4096, large_dummy_list, (-2, 5)),\n",
    "        (4096, large_dummy_list, (-5, -1)),\n",
    "        (4096, large_dummy_list, (3, -2)),\n",
    "    ],\n",
    "    bar_format=\"| {desc} - {elapsed} < {remaining}\",\n",
    ")\n",
    "\n",
    "test_result_1_1_2 = []\n",
    "for tmp_shot, tmp_counts, tmp_partition in all_counts_progress_01:\n",
    "    test_result_1_1_2.append(\n",
    "        randomized_entangled_entropy_v1(\n",
    "            tmp_shot, tmp_counts, tmp_partition, pbar=all_counts_progress_01\n",
    "        )\n",
    "    )\n",
    "    time.sleep(0.5)"
   ]
  },
  {
   "cell_type": "markdown",
   "metadata": {},
   "source": [
    "### Using Python backend\n",
    "\n",
    "It will be slow. You'd better think twice before using it.\n"
   ]
  },
  {
   "cell_type": "code",
   "execution_count": 5,
   "metadata": {},
   "outputs": [
    {
     "name": "stderr",
     "output_type": "stream",
     "text": [
      "| Calculate specific degree (3, -2). - 00:42 < 00:00 \n"
     ]
    }
   ],
   "source": [
    "all_counts_progress_02 = tqdm(\n",
    "    [\n",
    "        (4096, large_dummy_list, 6),\n",
    "        (4096, large_dummy_list, (2, 8)),\n",
    "        (4096, large_dummy_list, 7),\n",
    "        (4096, large_dummy_list, (0, 7)),\n",
    "        (4096, large_dummy_list, (-2, 5)),\n",
    "        (4096, large_dummy_list, (-5, -1)),\n",
    "        (4096, large_dummy_list, (3, -2)),\n",
    "    ],\n",
    "    bar_format=\"| {desc} - {elapsed} < {remaining}\",\n",
    ")\n",
    "\n",
    "\n",
    "test_result_1_1_2 = []\n",
    "for tmp_shot, tmp_counts, tmp_partition in all_counts_progress_02:\n",
    "    test_result_1_1_2.append(\n",
    "        randomized_entangled_entropy_v1(\n",
    "            tmp_shot,\n",
    "            tmp_counts,\n",
    "            tmp_partition,\n",
    "            pbar=all_counts_progress_02,\n",
    "            backend=\"Python\",\n",
    "        )\n",
    "    )\n",
    "    time.sleep(0.5)"
   ]
  },
  {
   "cell_type": "markdown",
   "metadata": {},
   "source": [
    "---\n",
    "\n",
    "## Post-Process Availablities and Version Info\n"
   ]
  },
  {
   "cell_type": "code",
   "execution_count": 6,
   "metadata": {},
   "outputs": [
    {
     "data": {
      "text/plain": [
       " | Qurrium version: 0.13.0\n",
       "---------------------------------------------------------------------------\n",
       " ### Qurrium Post-Processing\n",
       "   - Backend Availability ................... Python Cython Rust   JAX   \n",
       " - randomized_measure\n",
       "   - entangled_entropy.entropy_core_2 ....... Yes    Depr.  Yes    No    \n",
       "   - entangle_entropy.purity_cell_2 ......... Yes    Depr.  Yes    No    \n",
       "   - entangled_entropy_v1.entropy_core ...... Yes    Depr.  Yes    No    \n",
       "   - entangle_entropy_v1.purity_cell ........ Yes    Depr.  Yes    No    \n",
       "   - wavefunction_overlap.echo_core_2 ....... Yes    Depr.  Yes    No    \n",
       "   - wavefunction_overlap.echo_cell_2 ....... Yes    Depr.  Yes    No    \n",
       "   - wavefunction_overlap_v1.echo_core ...... Yes    Depr.  Yes    No    \n",
       "   - wavefunction_overlap_v1.echo_cell ...... Yes    Depr.  Yes    No    \n",
       " - hadamard_test\n",
       "   - purity_echo_core ....................... Yes    No     Yes    No    \n",
       " - magnet_square\n",
       "   - magnsq_core ............................ Yes    No     Yes    No    \n",
       " - string_operator\n",
       "   - strop_core ............................. Yes    No     Yes    No    \n",
       " - classical_shadow\n",
       "   - rho_m_core ............................. Yes    No     No     Yes   \n",
       " - utils\n",
       "   - randomized ............................. Yes    Depr.  Yes    No    \n",
       "   - counts_process ......................... Yes    No     Yes    No    \n",
       "   - bit_slice .............................. Yes    No     Yes    No    \n",
       "   - dummy .................................. Yes    No     Yes    No    \n",
       "   - test ................................... Yes    No     Yes    No    \n",
       "---------------------------------------------------------------------------\n",
       "   + Yes ...... Working normally.\n",
       "   + Error .... Exception occurred.\n",
       "   + No ....... Not supported.\n",
       "   + Depr. .... Deprecated.\n",
       "---------------------------------------------------------------------------\n",
       "by <Hoshi>"
      ]
     },
     "execution_count": 6,
     "metadata": {},
     "output_type": "execute_result"
    }
   ],
   "source": [
    "from qurry.process.status import AVAIBILITY_STATESHEET\n",
    "\n",
    "AVAIBILITY_STATESHEET"
   ]
  },
  {
   "cell_type": "code",
   "execution_count": null,
   "metadata": {},
   "outputs": [],
   "source": []
  }
 ],
 "metadata": {
  "kernelspec": {
   "display_name": "quantumsphere12",
   "language": "python",
   "name": "python3"
  },
  "language_info": {
   "codemirror_mode": {
    "name": "ipython",
    "version": 3
   },
   "file_extension": ".py",
   "mimetype": "text/x-python",
   "name": "python",
   "nbconvert_exporter": "python",
   "pygments_lexer": "ipython3",
   "version": "3.12.3"
  }
 },
 "nbformat": 4,
 "nbformat_minor": 4
}
