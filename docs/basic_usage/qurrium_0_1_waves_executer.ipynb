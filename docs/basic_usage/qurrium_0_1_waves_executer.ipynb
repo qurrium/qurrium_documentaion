{
 "cells": [
  {
   "cell_type": "markdown",
   "id": "166f3b67",
   "metadata": {},
   "source": [
    "# 0.1 WavesExecuter\n",
    "\n",
    "---\n",
    "\n",
    "## Basic Usage\n",
    "\n",
    "This `QurriumInstance` does not any post-processing feature but provides a workdlow that can execute multiple at once.\n"
   ]
  },
  {
   "cell_type": "markdown",
   "id": "86beb579",
   "metadata": {},
   "source": [
    "### a. Import the instances\n"
   ]
  },
  {
   "cell_type": "code",
   "execution_count": 1,
   "id": "0fc71722",
   "metadata": {},
   "outputs": [],
   "source": [
    "from qurry import WavesExecuter\n",
    "\n",
    "experiment_workflow = WavesExecuter()"
   ]
  },
  {
   "cell_type": "markdown",
   "id": "d48d1d69",
   "metadata": {},
   "source": [
    "### b. Preparing quantum circuit\n",
    "\n",
    "Remember for any quantum circuit, you need to make sure that they all contain classical registers.\n",
    "Otherwise, `WavesExecuter` will raise an `ValueError` when you try to execute the circuit.\n"
   ]
  },
  {
   "cell_type": "code",
   "execution_count": 2,
   "id": "2e597e81",
   "metadata": {},
   "outputs": [],
   "source": [
    "from qiskit import QuantumCircuit\n",
    "from qurry.recipe import TrivialParamagnet, GHZ\n",
    "\n",
    "\n",
    "def make_neel_circuit(n):\n",
    "    qc = QuantumCircuit(n)\n",
    "    for i in range(0, n, 2):\n",
    "        qc.x(i)\n",
    "    return qc\n",
    "\n",
    "\n",
    "circuits_dict = {}\n",
    "\n",
    "for i in range(2, 13, 2):\n",
    "    circuits_dict[f\"trivial_paramagnet_{i}_ms\"] = TrivialParamagnet(i)\n",
    "    circuits_dict[f\"ghz_{i}_ms\"] = GHZ(i)\n",
    "    circuits_dict[f\"neel_{i}_ms\"] = make_neel_circuit(i)\n",
    "\n",
    "for name, circuit in circuits_dict.items():\n",
    "    circuit.measure_all()"
   ]
  },
  {
   "cell_type": "code",
   "execution_count": 3,
   "id": "a40fc17c",
   "metadata": {},
   "outputs": [
    {
     "name": "stdout",
     "output_type": "stream",
     "text": [
      "     ┌───┐\n",
      "q_0: ┤ H ├\n",
      "     ├───┤\n",
      "q_1: ┤ H ├\n",
      "     └───┘\n",
      "Error: | No classical register in ALL circuits, counts will be empty. Please add classical register to the circuit. (Don't be frustrated, I did the same thing on unit test. It made me confused and thought what's wrong for a while before ('_').)\n"
     ]
    }
   ],
   "source": [
    "no_creq = TrivialParamagnet(2)\n",
    "print(no_creq.draw())\n",
    "\n",
    "try:\n",
    "    experiment_workflow.measure([no_creq], shots=1024)\n",
    "except ValueError as e:\n",
    "    print(f\"Error: {e}\")"
   ]
  },
  {
   "cell_type": "markdown",
   "id": "25fc5d4c",
   "metadata": {},
   "source": [
    "### c. Execute the circuit\n"
   ]
  },
  {
   "cell_type": "markdown",
   "id": "6937e4ba",
   "metadata": {},
   "source": [
    "#### i. Directly input the circuit\n",
    "\n",
    "After executing, it will return a uuid of experiment. You can use this uuid to get the result of the experiment.\n"
   ]
  },
  {
   "cell_type": "code",
   "execution_count": 4,
   "id": "3135a9f2",
   "metadata": {},
   "outputs": [
    {
     "data": {
      "text/plain": [
       "'5118eb7c-03cc-4bf6-9ffb-e03b6423cf33'"
      ]
     },
     "execution_count": 4,
     "metadata": {},
     "output_type": "execute_result"
    }
   ],
   "source": [
    "exp1 = experiment_workflow.measure(list(circuits_dict.values()), shots=1024)\n",
    "exp1"
   ]
  },
  {
   "cell_type": "markdown",
   "id": "4052ff26",
   "metadata": {},
   "source": [
    "Each experiment result will be stored in a container `.exps`.\n"
   ]
  },
  {
   "cell_type": "code",
   "execution_count": 5,
   "id": "a01a6c9f",
   "metadata": {},
   "outputs": [
    {
     "data": {
      "text/plain": [
       "<WavesExecuterExperiment(exp_id=5118eb7c-03cc-4bf6-9ffb-e03b6423cf33, \n",
       "  WavesExecuterArguments(exp_name='experiment.waves_executer'),\n",
       "  Commonparams(exp_id='5118eb7c-03cc-4bf6-9ffb-e03b6423cf33', target_keys=[1, 2, 3, 4, 5, 6, 7, 8, 9, 10, 11, 12, 13, 14, 15, 16, 17, 18], shots=1024, backend=<AerSimulator('aer_simulator')>, run_args={}, transpile_args={}, tags=(), save_location=PosixPath('.'), serial=None, summoner_id=None, summoner_name=None, datetimes=DatetimeDict({'build': '2025-06-25 13:45:44', 'run.001': '2025-06-25 13:45:44'})),\n",
       "  unused_args_num=0,\n",
       "  analysis_num=0))>"
      ]
     },
     "execution_count": 5,
     "metadata": {},
     "output_type": "execute_result"
    }
   ],
   "source": [
    "experiment_workflow.exps[exp1]"
   ]
  },
  {
   "cell_type": "markdown",
   "id": "a392b6da",
   "metadata": {},
   "source": [
    "`WavesExecuter` does not provide any post-processing feature.\n",
    "So `.analyze()` **will not provide any useful information**, but\n",
    "\n",
    "**The Answer to the Ultimate Question of Life, The Universe, and Everything**\n"
   ]
  },
  {
   "cell_type": "code",
   "execution_count": 6,
   "id": "98b17ffb",
   "metadata": {},
   "outputs": [
    {
     "name": "stdout",
     "output_type": "stream",
     "text": [
      "| ultimate_question: \n"
     ]
    },
    {
     "data": {
      "text/plain": [
       "<WavesQurryAnalysis(\n",
       "  serial=0,\n",
       "  WEAnalysisInput(ultimate_question=''),\n",
       "  WEAnalysisContent(ultimate_answer=42, dummy=-100)),\n",
       "  unused_args_num=0\n",
       "  )>"
      ]
     },
     "execution_count": 6,
     "metadata": {},
     "output_type": "execute_result"
    }
   ],
   "source": [
    "report01 = experiment_workflow.exps[exp1].analyze()\n",
    "report01"
   ]
  },
  {
   "cell_type": "code",
   "execution_count": 7,
   "id": "04e837c4",
   "metadata": {},
   "outputs": [
    {
     "data": {
      "text/plain": [
       "{'ultimate_answer': 42,\n",
       " 'dummy': -100,\n",
       " 'input': {'ultimate_question': ''},\n",
       " 'header': {'serial': 0, 'datetime': '2025-06-25 13:45:44', 'log': {}}}"
      ]
     },
     "execution_count": 7,
     "metadata": {},
     "output_type": "execute_result"
    }
   ],
   "source": [
    "main01, side_product01 = report01.export()\n",
    "main01"
   ]
  },
  {
   "cell_type": "markdown",
   "id": "80f78a90",
   "metadata": {},
   "source": [
    "#### ii. Add the circuits to container `.waves`, then call them later.\n",
    "\n",
    "Since we have executed an experiment, the circuit we input in `exp1` is stored in the container `.waves` with serial number `0`.\n"
   ]
  },
  {
   "cell_type": "code",
   "execution_count": 8,
   "id": "e7e4b5fd",
   "metadata": {},
   "outputs": [
    {
     "data": {
      "text/plain": [
       "WaveContainer({\n",
       "  0: <qurry.recipe.simple.paramagnet.TrivialParamagnet object at 0x739ffa2408f0>,\n",
       "  1: <qurry.recipe.simple.paramagnet.TrivialParamagnet object at 0x739ffab6fa40>,\n",
       "  2: <qurry.recipe.simple.cat.GHZ object at 0x739ffa1fdf40>,\n",
       "  3: <qiskit.circuit.quantumcircuit.QuantumCircuit object at 0x73a0da416e40>,\n",
       "  4: <qurry.recipe.simple.paramagnet.TrivialParamagnet object at 0x739ffa403e00>,\n",
       "  5: <qurry.recipe.simple.cat.GHZ object at 0x739ffa2401a0>,\n",
       "  6: <qiskit.circuit.quantumcircuit.QuantumCircuit object at 0x739ffa241550>,\n",
       "  7: <qurry.recipe.simple.paramagnet.TrivialParamagnet object at 0x739ffa241640>,\n",
       "  8: <qurry.recipe.simple.cat.GHZ object at 0x739ffa6e88c0>,\n",
       "  9: <qiskit.circuit.quantumcircuit.QuantumCircuit object at 0x739ffb020080>,\n",
       "  10: <qurry.recipe.simple.paramagnet.TrivialParamagnet object at 0x739ffa241a00>,\n",
       "  11: <qurry.recipe.simple.cat.GHZ object at 0x739ffa217cb0>,\n",
       "  12: <qiskit.circuit.quantumcircuit.QuantumCircuit object at 0x739ffa4de360>,\n",
       "  13: <qurry.recipe.simple.paramagnet.TrivialParamagnet object at 0x739ffa241e20>,\n",
       "  14: <qurry.recipe.simple.cat.GHZ object at 0x739ffa242030>,\n",
       "  15: <qiskit.circuit.quantumcircuit.QuantumCircuit object at 0x739ffa242240>,\n",
       "  16: <qurry.recipe.simple.paramagnet.TrivialParamagnet object at 0x739ffa38a420>,\n",
       "  17: <qurry.recipe.simple.cat.GHZ object at 0x739ffa432c00>,\n",
       "  18: <qiskit.circuit.quantumcircuit.QuantumCircuit object at 0x739ffa242510>})"
      ]
     },
     "execution_count": 8,
     "metadata": {},
     "output_type": "execute_result"
    }
   ],
   "source": [
    "experiment_workflow.waves"
   ]
  },
  {
   "cell_type": "markdown",
   "id": "c5dc7dc7",
   "metadata": {},
   "source": [
    "But we can also add the circuit to the container `.waves` with a custom name.\n",
    "The name should be unique, otherwise it will be overwritten.\n",
    "The method `add` will return the actual name of the circuit in the container.\n"
   ]
  },
  {
   "cell_type": "code",
   "execution_count": 9,
   "id": "ab6b71dc",
   "metadata": {},
   "outputs": [
    {
     "name": "stdout",
     "output_type": "stream",
     "text": [
      "| Circuit: trivial_paramagnet_2_ms added.\n",
      "| Circuit: ghz_2_ms added.\n",
      "| Circuit: neel_2_ms added.\n",
      "| Circuit: trivial_paramagnet_4_ms added.\n",
      "| Circuit: ghz_4_ms added.\n",
      "| Circuit: neel_4_ms added.\n",
      "| Circuit: trivial_paramagnet_6_ms added.\n",
      "| Circuit: ghz_6_ms added.\n",
      "| Circuit: neel_6_ms added.\n",
      "| Circuit: trivial_paramagnet_8_ms added.\n",
      "| Circuit: ghz_8_ms added.\n",
      "| Circuit: neel_8_ms added.\n",
      "| Circuit: trivial_paramagnet_10_ms added.\n",
      "| Circuit: ghz_10_ms added.\n",
      "| Circuit: neel_10_ms added.\n",
      "| Circuit: trivial_paramagnet_12_ms added.\n",
      "| Circuit: ghz_12_ms added.\n",
      "| Circuit: neel_12_ms added.\n"
     ]
    }
   ],
   "source": [
    "for k, v in circuits_dict.items():\n",
    "    print(\"| Circuit:\", experiment_workflow.add(v, k), \"added.\")"
   ]
  },
  {
   "cell_type": "markdown",
   "id": "d426d0bf",
   "metadata": {},
   "source": [
    "If there is a circuit with the same name, it will be replaced by the new one.\n"
   ]
  },
  {
   "cell_type": "code",
   "execution_count": 10,
   "id": "62f0b726",
   "metadata": {},
   "outputs": [
    {
     "name": "stdout",
     "output_type": "stream",
     "text": [
      "ghz_8_ms\n",
      "        ┌───┐ ░ ┌─┐   \n",
      "   q_0: ┤ H ├─░─┤M├───\n",
      "        ├───┤ ░ └╥┘┌─┐\n",
      "   q_1: ┤ H ├─░──╫─┤M├\n",
      "        └───┘ ░  ║ └╥┘\n",
      "meas: 2/═════════╩══╩═\n",
      "                 0  1 \n"
     ]
    }
   ],
   "source": [
    "print(experiment_workflow.add(circuits_dict[\"trivial_paramagnet_2_ms\"], \"ghz_8_ms\"))\n",
    "print(experiment_workflow.waves[\"ghz_8_ms\"])"
   ]
  },
  {
   "cell_type": "markdown",
   "id": "7b79fe25",
   "metadata": {},
   "source": [
    "Otherwise, you will need to use `replace=\"duplicate\"` to prevent it from being replaced.\n"
   ]
  },
  {
   "cell_type": "code",
   "execution_count": 11,
   "id": "a1d8b6ae",
   "metadata": {},
   "outputs": [
    {
     "name": "stdout",
     "output_type": "stream",
     "text": [
      "ghz_8_ms.37\n",
      "        ┌───┐ ░ ┌─┐   \n",
      "   q_0: ┤ H ├─░─┤M├───\n",
      "        ├───┤ ░ └╥┘┌─┐\n",
      "   q_1: ┤ H ├─░──╫─┤M├\n",
      "        └───┘ ░  ║ └╥┘\n",
      "meas: 2/═════════╩══╩═\n",
      "                 0  1 \n"
     ]
    }
   ],
   "source": [
    "duplicated_case01 = experiment_workflow.add(\n",
    "    circuits_dict[\"trivial_paramagnet_2_ms\"], \"ghz_8_ms\", replace=\"duplicate\"\n",
    ")\n",
    "print(duplicated_case01)\n",
    "print(experiment_workflow.waves[duplicated_case01])"
   ]
  },
  {
   "cell_type": "markdown",
   "id": "f38b4679",
   "metadata": {},
   "source": [
    "Now we have prepared the circuit and stored it in the container `.waves`.\n"
   ]
  },
  {
   "cell_type": "code",
   "execution_count": 12,
   "id": "2a6e1e85",
   "metadata": {},
   "outputs": [
    {
     "data": {
      "text/plain": [
       "WaveContainer({\n",
       "  0: <qurry.recipe.simple.paramagnet.TrivialParamagnet object at 0x739ffa2408f0>,\n",
       "  1: <qurry.recipe.simple.paramagnet.TrivialParamagnet object at 0x739ffab6fa40>,\n",
       "  2: <qurry.recipe.simple.cat.GHZ object at 0x739ffa1fdf40>,\n",
       "  3: <qiskit.circuit.quantumcircuit.QuantumCircuit object at 0x73a0da416e40>,\n",
       "  4: <qurry.recipe.simple.paramagnet.TrivialParamagnet object at 0x739ffa403e00>,\n",
       "  5: <qurry.recipe.simple.cat.GHZ object at 0x739ffa2401a0>,\n",
       "  6: <qiskit.circuit.quantumcircuit.QuantumCircuit object at 0x739ffa241550>,\n",
       "  7: <qurry.recipe.simple.paramagnet.TrivialParamagnet object at 0x739ffa241640>,\n",
       "  8: <qurry.recipe.simple.cat.GHZ object at 0x739ffa6e88c0>,\n",
       "  9: <qiskit.circuit.quantumcircuit.QuantumCircuit object at 0x739ffb020080>,\n",
       "  10: <qurry.recipe.simple.paramagnet.TrivialParamagnet object at 0x739ffa241a00>,\n",
       "  11: <qurry.recipe.simple.cat.GHZ object at 0x739ffa217cb0>,\n",
       "  12: <qiskit.circuit.quantumcircuit.QuantumCircuit object at 0x739ffa4de360>,\n",
       "  13: <qurry.recipe.simple.paramagnet.TrivialParamagnet object at 0x739ffa241e20>,\n",
       "  14: <qurry.recipe.simple.cat.GHZ object at 0x739ffa242030>,\n",
       "  15: <qiskit.circuit.quantumcircuit.QuantumCircuit object at 0x739ffa242240>,\n",
       "  16: <qurry.recipe.simple.paramagnet.TrivialParamagnet object at 0x739ffa38a420>,\n",
       "  17: <qurry.recipe.simple.cat.GHZ object at 0x739ffa432c00>,\n",
       "  18: <qiskit.circuit.quantumcircuit.QuantumCircuit object at 0x739ffa242510>,\n",
       "  'trivial_paramagnet_2_ms': <qurry.recipe.simple.paramagnet.TrivialParamagnet object at 0x739ffab6fa40>,\n",
       "  'ghz_2_ms': <qurry.recipe.simple.cat.GHZ object at 0x739ffa1fdf40>,\n",
       "  'neel_2_ms': <qiskit.circuit.quantumcircuit.QuantumCircuit object at 0x73a0da416e40>,\n",
       "  'trivial_paramagnet_4_ms': <qurry.recipe.simple.paramagnet.TrivialParamagnet object at 0x739ffa403e00>,\n",
       "  'ghz_4_ms': <qurry.recipe.simple.cat.GHZ object at 0x739ffa2401a0>,\n",
       "  'neel_4_ms': <qiskit.circuit.quantumcircuit.QuantumCircuit object at 0x739ffa241550>,\n",
       "  'trivial_paramagnet_6_ms': <qurry.recipe.simple.paramagnet.TrivialParamagnet object at 0x739ffa241640>,\n",
       "  'ghz_6_ms': <qurry.recipe.simple.cat.GHZ object at 0x739ffa6e88c0>,\n",
       "  'neel_6_ms': <qiskit.circuit.quantumcircuit.QuantumCircuit object at 0x739ffb020080>,\n",
       "  'trivial_paramagnet_8_ms': <qurry.recipe.simple.paramagnet.TrivialParamagnet object at 0x739ffa241a00>,\n",
       "  'ghz_8_ms': <qurry.recipe.simple.paramagnet.TrivialParamagnet object at 0x739ffab6fa40>,\n",
       "  'neel_8_ms': <qiskit.circuit.quantumcircuit.QuantumCircuit object at 0x739ffa4de360>,\n",
       "  'trivial_paramagnet_10_ms': <qurry.recipe.simple.paramagnet.TrivialParamagnet object at 0x739ffa241e20>,\n",
       "  'ghz_10_ms': <qurry.recipe.simple.cat.GHZ object at 0x739ffa242030>,\n",
       "  'neel_10_ms': <qiskit.circuit.quantumcircuit.QuantumCircuit object at 0x739ffa242240>,\n",
       "  'trivial_paramagnet_12_ms': <qurry.recipe.simple.paramagnet.TrivialParamagnet object at 0x739ffa38a420>,\n",
       "  'ghz_12_ms': <qurry.recipe.simple.cat.GHZ object at 0x739ffa432c00>,\n",
       "  'neel_12_ms': <qiskit.circuit.quantumcircuit.QuantumCircuit object at 0x739ffa242510>,\n",
       "  'ghz_8_ms.37': <qurry.recipe.simple.paramagnet.TrivialParamagnet object at 0x739ffab6fa40>})"
      ]
     },
     "execution_count": 12,
     "metadata": {},
     "output_type": "execute_result"
    }
   ],
   "source": [
    "experiment_workflow.waves"
   ]
  },
  {
   "cell_type": "markdown",
   "id": "66a312be",
   "metadata": {},
   "source": [
    "Finally, we can execute the circuit and get the result.\n"
   ]
  },
  {
   "cell_type": "code",
   "execution_count": 13,
   "id": "2d32257f",
   "metadata": {},
   "outputs": [
    {
     "data": {
      "text/plain": [
       "'0aae1729-ee74-4bce-ac2c-3b978758f7c9'"
      ]
     },
     "execution_count": 13,
     "metadata": {},
     "output_type": "execute_result"
    }
   ],
   "source": [
    "exp2 = experiment_workflow.measure(list(circuits_dict.keys()), shots=1024)\n",
    "exp2"
   ]
  },
  {
   "cell_type": "code",
   "execution_count": 14,
   "id": "3490266c",
   "metadata": {},
   "outputs": [
    {
     "data": {
      "text/plain": [
       "<WavesExecuterExperiment(exp_id=0aae1729-ee74-4bce-ac2c-3b978758f7c9, \n",
       "  WavesExecuterArguments(exp_name='experiment.waves_executer'),\n",
       "  Commonparams(exp_id='0aae1729-ee74-4bce-ac2c-3b978758f7c9', target_keys=['trivial_paramagnet_2_ms', 'ghz_2_ms', 'neel_2_ms', 'trivial_paramagnet_4_ms', 'ghz_4_ms', 'neel_4_ms', 'trivial_paramagnet_6_ms', 'ghz_6_ms', 'neel_6_ms', 'trivial_paramagnet_8_ms', 'ghz_8_ms', 'neel_8_ms', 'trivial_paramagnet_10_ms', 'ghz_10_ms', 'neel_10_ms', 'trivial_paramagnet_12_ms', 'ghz_12_ms', 'neel_12_ms'], shots=1024, backend=<AerSimulator('aer_simulator')>, run_args={}, transpile_args={}, tags=(), save_location=PosixPath('.'), serial=None, summoner_id=None, summoner_name=None, datetimes=DatetimeDict({'build': '2025-06-25 13:45:56', 'run.001': '2025-06-25 13:45:56'})),\n",
       "  unused_args_num=0,\n",
       "  analysis_num=0))>"
      ]
     },
     "execution_count": 14,
     "metadata": {},
     "output_type": "execute_result"
    }
   ],
   "source": [
    "experiment_workflow.exps[exp2]"
   ]
  },
  {
   "cell_type": "code",
   "execution_count": 15,
   "id": "3eec833e",
   "metadata": {},
   "outputs": [
    {
     "name": "stdout",
     "output_type": "stream",
     "text": [
      "| ultimate_question: What is the answer to the ultimate question of life, the universe, and everything\n"
     ]
    },
    {
     "data": {
      "text/plain": [
       "<WavesQurryAnalysis(\n",
       "  serial=0,\n",
       "  WEAnalysisInput(ultimate_question='What is the answer to the ultimate question of life, the universe, and everything'),\n",
       "  WEAnalysisContent(ultimate_answer=42, dummy=-100)),\n",
       "  unused_args_num=0\n",
       "  )>"
      ]
     },
     "execution_count": 15,
     "metadata": {},
     "output_type": "execute_result"
    }
   ],
   "source": [
    "report02 = experiment_workflow.exps[exp2].analyze(\n",
    "    \"What is the answer to the ultimate question of life, the universe, and everything\"\n",
    ")\n",
    "report02"
   ]
  },
  {
   "cell_type": "markdown",
   "id": "8beaea80",
   "metadata": {},
   "source": [
    "### d. take `counts`\n"
   ]
  },
  {
   "cell_type": "code",
   "execution_count": 19,
   "id": "aafd7aa5",
   "metadata": {},
   "outputs": [
    {
     "name": "stdout",
     "output_type": "stream",
     "text": [
      "| First 2 counts of the second experiment:\n"
     ]
    },
    {
     "data": {
      "text/plain": [
       "[{'11': 260, '10': 255, '00': 277, '01': 232}, {'11': 508, '00': 516}]"
      ]
     },
     "execution_count": 19,
     "metadata": {},
     "output_type": "execute_result"
    }
   ],
   "source": [
    "print(\"| First 2 counts of the second experiment:\")\n",
    "\n",
    "experiment_workflow.exps[exp2].afterwards.counts[:2]"
   ]
  },
  {
   "cell_type": "markdown",
   "id": "7da71740",
   "metadata": {},
   "source": [
    "### e. Export them after all\n"
   ]
  },
  {
   "cell_type": "code",
   "execution_count": 17,
   "id": "1c5b0ab5",
   "metadata": {},
   "outputs": [
    {
     "data": {
      "text/plain": [
       "{'folder': 'experiment.waves_executer.001',\n",
       " 'qurryinfo': 'experiment.waves_executer.001/qurryinfo.json',\n",
       " 'args': 'experiment.waves_executer.001/args/experiment.waves_executer.001.id=5118eb7c-03cc-4bf6-9ffb-e03b6423cf33.args.json',\n",
       " 'advent': 'experiment.waves_executer.001/advent/experiment.waves_executer.001.id=5118eb7c-03cc-4bf6-9ffb-e03b6423cf33.advent.json',\n",
       " 'legacy': 'experiment.waves_executer.001/legacy/experiment.waves_executer.001.id=5118eb7c-03cc-4bf6-9ffb-e03b6423cf33.legacy.json',\n",
       " 'reports': 'experiment.waves_executer.001/reports/experiment.waves_executer.001.id=5118eb7c-03cc-4bf6-9ffb-e03b6423cf33.reports.json'}"
      ]
     },
     "execution_count": 17,
     "metadata": {},
     "output_type": "execute_result"
    }
   ],
   "source": [
    "exp1_id, exp1_files_info = experiment_workflow.exps[exp1].write(\n",
    "    save_location=\".\",  # where to save files\n",
    ")\n",
    "exp1_files_info"
   ]
  },
  {
   "cell_type": "markdown",
   "id": "5ce8d9c7",
   "metadata": {},
   "source": [
    "---\n",
    "\n",
    "### Post-Process Availablities and Version Info\n"
   ]
  },
  {
   "cell_type": "code",
   "execution_count": 18,
   "id": "d4cca3b9",
   "metadata": {},
   "outputs": [
    {
     "data": {
      "text/plain": [
       " | Qurrium version: 0.13.0\n",
       "---------------------------------------------------------------------------\n",
       " ### Qurrium Post-Processing\n",
       "   - Backend Availability ................... Python Cython Rust   JAX   \n",
       " - randomized_measure\n",
       "   - entangled_entropy.entropy_core_2 ....... Yes    Depr.  Yes    No    \n",
       "   - entangle_entropy.purity_cell_2 ......... Yes    Depr.  Yes    No    \n",
       "   - entangled_entropy_v1.entropy_core ...... Yes    Depr.  Yes    No    \n",
       "   - entangle_entropy_v1.purity_cell ........ Yes    Depr.  Yes    No    \n",
       "   - wavefunction_overlap.echo_core_2 ....... Yes    Depr.  Yes    No    \n",
       "   - wavefunction_overlap.echo_cell_2 ....... Yes    Depr.  Yes    No    \n",
       "   - wavefunction_overlap_v1.echo_core ...... Yes    Depr.  Yes    No    \n",
       "   - wavefunction_overlap_v1.echo_cell ...... Yes    Depr.  Yes    No    \n",
       " - hadamard_test\n",
       "   - purity_echo_core ....................... Yes    No     Yes    No    \n",
       " - magnet_square\n",
       "   - magnsq_core ............................ Yes    No     Yes    No    \n",
       " - string_operator\n",
       "   - strop_core ............................. Yes    No     Yes    No    \n",
       " - classical_shadow\n",
       "   - rho_m_core ............................. Yes    No     No     Yes   \n",
       " - utils\n",
       "   - randomized ............................. Yes    Depr.  Yes    No    \n",
       "   - counts_process ......................... Yes    No     Yes    No    \n",
       "   - bit_slice .............................. Yes    No     Yes    No    \n",
       "   - dummy .................................. Yes    No     Yes    No    \n",
       "   - test ................................... Yes    No     Yes    No    \n",
       "---------------------------------------------------------------------------\n",
       "   + Yes ...... Working normally.\n",
       "   + Error .... Exception occurred.\n",
       "   + No ....... Not supported.\n",
       "   + Depr. .... Deprecated.\n",
       "---------------------------------------------------------------------------\n",
       "by <Hoshi>"
      ]
     },
     "execution_count": 18,
     "metadata": {},
     "output_type": "execute_result"
    }
   ],
   "source": [
    "from qurry.process import AVAIBILITY_STATESHEET\n",
    "\n",
    "AVAIBILITY_STATESHEET"
   ]
  },
  {
   "cell_type": "code",
   "execution_count": null,
   "id": "898c1a96",
   "metadata": {},
   "outputs": [],
   "source": []
  }
 ],
 "metadata": {
  "kernelspec": {
   "display_name": "quantumsphere12",
   "language": "python",
   "name": "python3"
  },
  "language_info": {
   "codemirror_mode": {
    "name": "ipython",
    "version": 3
   },
   "file_extension": ".py",
   "mimetype": "text/x-python",
   "name": "python",
   "nbconvert_exporter": "python",
   "pygments_lexer": "ipython3",
   "version": "3.12.3"
  }
 },
 "nbformat": 4,
 "nbformat_minor": 5
}
