{
 "cells": [
  {
   "cell_type": "markdown",
   "id": "166f3b67",
   "metadata": {},
   "source": [
    "# 3.1 Magnetization Square on Z Direction\n",
    "\n",
    "---\n",
    "\n",
    "## Basic Usage\n"
   ]
  },
  {
   "cell_type": "markdown",
   "id": "86beb579",
   "metadata": {},
   "source": [
    "### a. Import the instances\n"
   ]
  },
  {
   "cell_type": "code",
   "execution_count": 1,
   "id": "0fc71722",
   "metadata": {},
   "outputs": [],
   "source": [
    "from qurry import ZDirMagnetSquare\n",
    "\n",
    "experiment_zdir_magnet_square = ZDirMagnetSquare()"
   ]
  },
  {
   "cell_type": "markdown",
   "id": "d48d1d69",
   "metadata": {},
   "source": [
    "### b. Preparing quantum circuit\n"
   ]
  },
  {
   "cell_type": "code",
   "execution_count": 2,
   "id": "2e597e81",
   "metadata": {},
   "outputs": [],
   "source": [
    "from qurry.recipe import Cat, TrivialParamagnet"
   ]
  },
  {
   "cell_type": "code",
   "execution_count": 3,
   "id": "9584bc4f",
   "metadata": {},
   "outputs": [
    {
     "name": "stdout",
     "output_type": "stream",
     "text": [
      "| trivial paramagnet and cat in 4 qubits:\n",
      "     ┌───┐\n",
      "q_0: ┤ H ├\n",
      "     ├───┤\n",
      "q_1: ┤ H ├\n",
      "     ├───┤\n",
      "q_2: ┤ H ├\n",
      "     ├───┤\n",
      "q_3: ┤ H ├\n",
      "     └───┘\n",
      "     ┌───┐               \n",
      "q_0: ┤ H ├──■────────────\n",
      "     └───┘┌─┴─┐          \n",
      "q_1: ─────┤ X ├──■───────\n",
      "          └───┘┌─┴─┐     \n",
      "q_2: ──────────┤ X ├──■──\n",
      "               └───┘┌─┴─┐\n",
      "q_3: ───────────────┤ X ├\n",
      "                    └───┘\n"
     ]
    }
   ],
   "source": [
    "circuits_dict = {\n",
    "    \"trivialPM_2\": TrivialParamagnet(2),\n",
    "    \"trivialPM_4\": TrivialParamagnet(4),\n",
    "    \"trivialPM_6\": TrivialParamagnet(6),\n",
    "    \"trivialPM_8\": TrivialParamagnet(8),\n",
    "    \"cat_2\": Cat(2),\n",
    "    \"cat_4\": Cat(4),\n",
    "    \"cat_6\": Cat(6),\n",
    "    \"cat_8\": Cat(8),\n",
    "}\n",
    "print(\"| trivial paramagnet and cat in 4 qubits:\")\n",
    "print(circuits_dict[\"trivialPM_4\"])\n",
    "print(circuits_dict[\"cat_4\"])"
   ]
  },
  {
   "cell_type": "markdown",
   "id": "25fc5d4c",
   "metadata": {},
   "source": [
    "### c. Execute the circuit\n"
   ]
  },
  {
   "cell_type": "markdown",
   "id": "6937e4ba",
   "metadata": {},
   "source": [
    "#### i. Directly input the circuit\n",
    "\n",
    "After executing, it will return a uuid of experiment. You can use this uuid to get the result of the experiment.\n"
   ]
  },
  {
   "cell_type": "code",
   "execution_count": 4,
   "id": "3135a9f2",
   "metadata": {},
   "outputs": [
    {
     "data": {
      "text/plain": [
       "'f3077c7d-cf7d-47d1-b594-1c839660ee9d'"
      ]
     },
     "execution_count": 4,
     "metadata": {},
     "output_type": "execute_result"
    }
   ],
   "source": [
    "exp1 = experiment_zdir_magnet_square.measure(circuits_dict[\"cat_6\"], shots=4096)\n",
    "exp1"
   ]
  },
  {
   "cell_type": "markdown",
   "id": "4052ff26",
   "metadata": {},
   "source": [
    "Each experiment result will be stored in a container `.exps`.\n"
   ]
  },
  {
   "cell_type": "code",
   "execution_count": 5,
   "id": "a01a6c9f",
   "metadata": {},
   "outputs": [
    {
     "data": {
      "text/plain": [
       "<ZDirMagnetSquareExperiment(exp_id=f3077c7d-cf7d-47d1-b594-1c839660ee9d, \n",
       "  ZDirMagnetSquareArguments(exp_name='experiment.qurmagsq_magnet_square_zdir', num_qubits=6),\n",
       "  Commonparams(exp_id='f3077c7d-cf7d-47d1-b594-1c839660ee9d', target_keys=[0], shots=4096, backend=<AerSimulator('aer_simulator')>, run_args={}, transpile_args={}, tags=(), save_location=PosixPath('.'), serial=None, summoner_id=None, summoner_name=None, datetimes=DatetimeDict({'build': '2025-06-25 13:41:45', 'run.001': '2025-06-25 13:41:45'})),\n",
       "  unused_args_num=0,\n",
       "  analysis_num=1))>"
      ]
     },
     "execution_count": 5,
     "metadata": {},
     "output_type": "execute_result"
    }
   ],
   "source": [
    "experiment_zdir_magnet_square.exps[exp1]"
   ]
  },
  {
   "cell_type": "markdown",
   "id": "2f58ea4f",
   "metadata": {},
   "source": [
    "For `ZDirMagnetSquare`, its `.analyze` in `ZDirMagnetSquareExperiment` does not require any arguments, so its post-processing will be executed automatically after `.measure`.\n"
   ]
  },
  {
   "cell_type": "code",
   "execution_count": 6,
   "id": "9d0f697f",
   "metadata": {},
   "outputs": [
    {
     "data": {
      "text/plain": [
       "AnalysisContainer(length=1, {\n",
       "  0: <ZDirMSAnalysis(serial=0, ZDirMSAnalysisInput(), ZDirMSAnalysisContent(magnet_square=1.0, and others)), unused_args_num=0>})"
      ]
     },
     "execution_count": 6,
     "metadata": {},
     "output_type": "execute_result"
    }
   ],
   "source": [
    "experiment_zdir_magnet_square.exps[exp1].reports"
   ]
  },
  {
   "cell_type": "code",
   "execution_count": 7,
   "id": "dd76acdf",
   "metadata": {},
   "outputs": [
    {
     "data": {
      "text/plain": [
       "<ZDirMSAnalysis(\n",
       "  serial=0,\n",
       "  ZDirMSAnalysisInput(),\n",
       "  ZDirMSAnalysisContent(magnet_square=1.0, and others)),\n",
       "  unused_args_num=0\n",
       "  )>"
      ]
     },
     "execution_count": 7,
     "metadata": {},
     "output_type": "execute_result"
    }
   ],
   "source": [
    "report01 = experiment_zdir_magnet_square.exps[exp1].reports[0]\n",
    "report01"
   ]
  },
  {
   "cell_type": "code",
   "execution_count": 8,
   "id": "04e837c4",
   "metadata": {},
   "outputs": [
    {
     "name": "stdout",
     "output_type": "stream",
     "text": [
      "| magnetization square 1.0\n",
      "| num_qubits: 6\n",
      "| shots: 4096\n",
      "| taking_time: 0.000399785\n",
      "| input: {}\n",
      "| header: {'serial': 0, 'datetime': '2025-06-25 13:41:45', 'log': {}}\n"
     ]
    }
   ],
   "source": [
    "main01, side_product01 = report01.export()\n",
    "print(\"| magnetization square\", main01[\"magnet_square\"])\n",
    "for k, v in main01.items():\n",
    "    if \"magnet_square\" in k:\n",
    "        continue\n",
    "    print(f\"| {k}: {v}\")"
   ]
  },
  {
   "cell_type": "code",
   "execution_count": 9,
   "id": "a212fa9d",
   "metadata": {},
   "outputs": [
    {
     "name": "stdout",
     "output_type": "stream",
     "text": [
      "| side product is empty here: {}\n"
     ]
    }
   ],
   "source": [
    "print(\"| side product is empty here:\", side_product01)"
   ]
  },
  {
   "cell_type": "markdown",
   "id": "2090464b",
   "metadata": {},
   "source": [
    "`main` contains another keys `\"magnet_square_cells\"` which is a dict,\n",
    "It contains the magnetization square cells they correspond to the magnetization square.\n"
   ]
  },
  {
   "cell_type": "code",
   "execution_count": 10,
   "id": "6be69ded",
   "metadata": {},
   "outputs": [
    {
     "name": "stdout",
     "output_type": "stream",
     "text": [
      "{19: 1.0, 0: 1.0, 22: 1.0, 1: 1.0, 4: 1.0, 16: 1.0, 10: 1.0, 6: 1.0, 25: 1.0, 20: 1.0, 12: 1.0, 17: 1.0, 24: 1.0, 13: 1.0, 11: 1.0, 7: 1.0, 26: 1.0, 8: 1.0, 28: 1.0, 5: 1.0, 18: 1.0, 2: 1.0, 14: 1.0, 27: 1.0, 29: 1.0, 23: 1.0, 21: 1.0, 15: 1.0, 3: 1.0, 9: 1.0}\n"
     ]
    }
   ],
   "source": [
    "print(main01[\"magnet_square_cells\"])"
   ]
  },
  {
   "cell_type": "markdown",
   "id": "80f78a90",
   "metadata": {},
   "source": [
    "#### ii. Add the circuits to container `.waves`, then call them later.\n",
    "\n",
    "Since we have executed an experiment, the circuit we input in `exp1` is stored in the container `.waves` with serial number `0`.\n"
   ]
  },
  {
   "cell_type": "code",
   "execution_count": 11,
   "id": "e7e4b5fd",
   "metadata": {},
   "outputs": [
    {
     "data": {
      "text/plain": [
       "WaveContainer({ 0: <qurry.recipe.simple.cat.Cat object at 0x7f36182445f0>})"
      ]
     },
     "execution_count": 11,
     "metadata": {},
     "output_type": "execute_result"
    }
   ],
   "source": [
    "experiment_zdir_magnet_square.waves"
   ]
  },
  {
   "cell_type": "markdown",
   "id": "c5dc7dc7",
   "metadata": {},
   "source": [
    "But we can also add the circuit to the container `.waves` with a custom name.\n",
    "The name should be unique, otherwise it will be overwritten.\n",
    "The method `add` will return the actual name of the circuit in the container.\n"
   ]
  },
  {
   "cell_type": "code",
   "execution_count": 12,
   "id": "50325122",
   "metadata": {},
   "outputs": [
    {
     "name": "stdout",
     "output_type": "stream",
     "text": [
      "| trivialPM_2 added with key: trivialPM_2\n",
      "| trivialPM_4 added with key: trivialPM_4\n",
      "| trivialPM_6 added with key: trivialPM_6\n",
      "| trivialPM_8 added with key: trivialPM_8\n",
      "| cat_2 added with key: cat_2\n",
      "| cat_4 added with key: cat_4\n",
      "| cat_6 added with key: cat_6\n",
      "| cat_8 added with key: cat_8\n",
      "     ┌───┐               \n",
      "q_0: ┤ H ├──■────────────\n",
      "     └───┘┌─┴─┐          \n",
      "q_1: ─────┤ X ├──■───────\n",
      "          └───┘┌─┴─┐     \n",
      "q_2: ──────────┤ X ├──■──\n",
      "               └───┘┌─┴─┐\n",
      "q_3: ───────────────┤ X ├\n",
      "                    └───┘\n"
     ]
    }
   ],
   "source": [
    "for k, v in circuits_dict.items():\n",
    "    key_of_cirq = experiment_zdir_magnet_square.add(v, k)\n",
    "    print(f\"| {k} added with key: {key_of_cirq}\")\n",
    "print(experiment_zdir_magnet_square.waves[\"cat_4\"])"
   ]
  },
  {
   "cell_type": "markdown",
   "id": "d426d0bf",
   "metadata": {},
   "source": [
    "If there is a circuit with the same name, it will be replaced by the new one.\n"
   ]
  },
  {
   "cell_type": "code",
   "execution_count": 13,
   "id": "62f0b726",
   "metadata": {},
   "outputs": [
    {
     "name": "stdout",
     "output_type": "stream",
     "text": [
      "cat_4\n",
      "     ┌───┐               \n",
      "q_0: ┤ H ├──■────────────\n",
      "     └───┘┌─┴─┐          \n",
      "q_1: ─────┤ X ├──■───────\n",
      "          └───┘┌─┴─┐     \n",
      "q_2: ──────────┤ X ├──■──\n",
      "               └───┘┌─┴─┐\n",
      "q_3: ───────────────┤ X ├\n",
      "                    └───┘\n"
     ]
    }
   ],
   "source": [
    "print(experiment_zdir_magnet_square.add(circuits_dict[\"cat_4\"], \"cat_4\"))\n",
    "print(experiment_zdir_magnet_square.waves[\"cat_4\"])"
   ]
  },
  {
   "cell_type": "markdown",
   "id": "7b79fe25",
   "metadata": {},
   "source": [
    "Otherwise, you will need to use `replace=\"duplicate\"` to prevent it from being replaced.\n"
   ]
  },
  {
   "cell_type": "code",
   "execution_count": 14,
   "id": "a1d8b6ae",
   "metadata": {},
   "outputs": [
    {
     "name": "stdout",
     "output_type": "stream",
     "text": [
      "cat_4.9\n",
      "     ┌───┐               \n",
      "q_0: ┤ H ├──■────────────\n",
      "     └───┘┌─┴─┐          \n",
      "q_1: ─────┤ X ├──■───────\n",
      "          └───┘┌─┴─┐     \n",
      "q_2: ──────────┤ X ├──■──\n",
      "               └───┘┌─┴─┐\n",
      "q_3: ───────────────┤ X ├\n",
      "                    └───┘\n"
     ]
    }
   ],
   "source": [
    "duplicated_case01 = experiment_zdir_magnet_square.add(\n",
    "    circuits_dict[\"cat_4\"], \"cat_4\", replace=\"duplicate\"\n",
    ")\n",
    "print(duplicated_case01)\n",
    "print(experiment_zdir_magnet_square.waves[duplicated_case01])"
   ]
  },
  {
   "cell_type": "markdown",
   "id": "f38b4679",
   "metadata": {},
   "source": [
    "Now we have prepared the circuit and stored it in the container `.waves`.\n"
   ]
  },
  {
   "cell_type": "code",
   "execution_count": 15,
   "id": "2a6e1e85",
   "metadata": {},
   "outputs": [
    {
     "data": {
      "text/plain": [
       "WaveContainer({\n",
       "  0: <qurry.recipe.simple.cat.Cat object at 0x7f36182445f0>,\n",
       "  'trivialPM_2': <qurry.recipe.simple.paramagnet.TrivialParamagnet object at 0x7f37081d96d0>,\n",
       "  'trivialPM_4': <qurry.recipe.simple.paramagnet.TrivialParamagnet object at 0x7f36181cb110>,\n",
       "  'trivialPM_6': <qurry.recipe.simple.paramagnet.TrivialParamagnet object at 0x7f36183f7620>,\n",
       "  'trivialPM_8': <qurry.recipe.simple.paramagnet.TrivialParamagnet object at 0x7f361802a360>,\n",
       "  'cat_2': <qurry.recipe.simple.cat.Cat object at 0x7f361802a6f0>,\n",
       "  'cat_4': <qurry.recipe.simple.cat.Cat object at 0x7f361802aa50>,\n",
       "  'cat_6': <qurry.recipe.simple.cat.Cat object at 0x7f36182445f0>,\n",
       "  'cat_8': <qurry.recipe.simple.cat.Cat object at 0x7f361802ac60>,\n",
       "  'cat_4.9': <qurry.recipe.simple.cat.Cat object at 0x7f361802aa50>})"
      ]
     },
     "execution_count": 15,
     "metadata": {},
     "output_type": "execute_result"
    }
   ],
   "source": [
    "experiment_zdir_magnet_square.waves"
   ]
  },
  {
   "cell_type": "markdown",
   "id": "66a312be",
   "metadata": {},
   "source": [
    "Finally, we can execute the circuit and get the result.\n"
   ]
  },
  {
   "cell_type": "code",
   "execution_count": 16,
   "id": "2d32257f",
   "metadata": {},
   "outputs": [
    {
     "data": {
      "text/plain": [
       "'6ac29458-12c2-4f53-b178-61dd72fb1938'"
      ]
     },
     "execution_count": 16,
     "metadata": {},
     "output_type": "execute_result"
    }
   ],
   "source": [
    "exp2 = experiment_zdir_magnet_square.measure(\"cat_4\", shots=4096)\n",
    "exp2"
   ]
  },
  {
   "cell_type": "code",
   "execution_count": 17,
   "id": "3490266c",
   "metadata": {},
   "outputs": [
    {
     "data": {
      "text/plain": [
       "<ZDirMagnetSquareExperiment(exp_id=6ac29458-12c2-4f53-b178-61dd72fb1938, \n",
       "  ZDirMagnetSquareArguments(exp_name='experiment.qurmagsq_magnet_square_zdir', num_qubits=4),\n",
       "  Commonparams(exp_id='6ac29458-12c2-4f53-b178-61dd72fb1938', target_keys=['cat_4'], shots=4096, backend=<AerSimulator('aer_simulator')>, run_args={}, transpile_args={}, tags=(), save_location=PosixPath('.'), serial=None, summoner_id=None, summoner_name=None, datetimes=DatetimeDict({'build': '2025-06-25 13:41:48', 'run.001': '2025-06-25 13:41:48'})),\n",
       "  unused_args_num=0,\n",
       "  analysis_num=1))>"
      ]
     },
     "execution_count": 17,
     "metadata": {},
     "output_type": "execute_result"
    }
   ],
   "source": [
    "experiment_zdir_magnet_square.exps[exp2]"
   ]
  },
  {
   "cell_type": "code",
   "execution_count": 18,
   "id": "3eec833e",
   "metadata": {},
   "outputs": [
    {
     "data": {
      "text/plain": [
       "<ZDirMSAnalysis(\n",
       "  serial=0,\n",
       "  ZDirMSAnalysisInput(),\n",
       "  ZDirMSAnalysisContent(magnet_square=1.0, and others)),\n",
       "  unused_args_num=0\n",
       "  )>"
      ]
     },
     "execution_count": 18,
     "metadata": {},
     "output_type": "execute_result"
    }
   ],
   "source": [
    "report02 = experiment_zdir_magnet_square.exps[exp2].reports[0]\n",
    "report02"
   ]
  },
  {
   "cell_type": "markdown",
   "id": "7da71740",
   "metadata": {},
   "source": [
    "### d. Export them after all\n"
   ]
  },
  {
   "cell_type": "code",
   "execution_count": 19,
   "id": "1c5b0ab5",
   "metadata": {},
   "outputs": [
    {
     "data": {
      "text/plain": [
       "{'folder': 'experiment.qurmagsq_magnet_square_zdir.001',\n",
       " 'qurryinfo': 'experiment.qurmagsq_magnet_square_zdir.001/qurryinfo.json',\n",
       " 'args': 'experiment.qurmagsq_magnet_square_zdir.001/args/experiment.qurmagsq_magnet_square_zdir.001.id=f3077c7d-cf7d-47d1-b594-1c839660ee9d.args.json',\n",
       " 'advent': 'experiment.qurmagsq_magnet_square_zdir.001/advent/experiment.qurmagsq_magnet_square_zdir.001.id=f3077c7d-cf7d-47d1-b594-1c839660ee9d.advent.json',\n",
       " 'legacy': 'experiment.qurmagsq_magnet_square_zdir.001/legacy/experiment.qurmagsq_magnet_square_zdir.001.id=f3077c7d-cf7d-47d1-b594-1c839660ee9d.legacy.json',\n",
       " 'reports': 'experiment.qurmagsq_magnet_square_zdir.001/reports/experiment.qurmagsq_magnet_square_zdir.001.id=f3077c7d-cf7d-47d1-b594-1c839660ee9d.reports.json'}"
      ]
     },
     "execution_count": 19,
     "metadata": {},
     "output_type": "execute_result"
    }
   ],
   "source": [
    "exp1_id, exp1_files_info = experiment_zdir_magnet_square.exps[exp1].write(\n",
    "    save_location=\".\",  # where to save files\n",
    ")\n",
    "exp1_files_info"
   ]
  },
  {
   "cell_type": "markdown",
   "id": "5ce8d9c7",
   "metadata": {},
   "source": [
    "---\n",
    "\n",
    "### Post-Process Availablities and Version Info\n"
   ]
  },
  {
   "cell_type": "code",
   "execution_count": 20,
   "id": "d4cca3b9",
   "metadata": {},
   "outputs": [
    {
     "data": {
      "text/plain": [
       " | Qurrium version: 0.13.0\n",
       "---------------------------------------------------------------------------\n",
       " ### Qurrium Post-Processing\n",
       "   - Backend Availability ................... Python Cython Rust   JAX   \n",
       " - randomized_measure\n",
       "   - entangled_entropy.entropy_core_2 ....... Yes    Depr.  Yes    No    \n",
       "   - entangle_entropy.purity_cell_2 ......... Yes    Depr.  Yes    No    \n",
       "   - entangled_entropy_v1.entropy_core ...... Yes    Depr.  Yes    No    \n",
       "   - entangle_entropy_v1.purity_cell ........ Yes    Depr.  Yes    No    \n",
       "   - wavefunction_overlap.echo_core_2 ....... Yes    Depr.  Yes    No    \n",
       "   - wavefunction_overlap.echo_cell_2 ....... Yes    Depr.  Yes    No    \n",
       "   - wavefunction_overlap_v1.echo_core ...... Yes    Depr.  Yes    No    \n",
       "   - wavefunction_overlap_v1.echo_cell ...... Yes    Depr.  Yes    No    \n",
       " - hadamard_test\n",
       "   - purity_echo_core ....................... Yes    No     Yes    No    \n",
       " - magnet_square\n",
       "   - magnsq_core ............................ Yes    No     Yes    No    \n",
       " - string_operator\n",
       "   - strop_core ............................. Yes    No     Yes    No    \n",
       " - classical_shadow\n",
       "   - rho_m_core ............................. Yes    No     No     Yes   \n",
       " - utils\n",
       "   - randomized ............................. Yes    Depr.  Yes    No    \n",
       "   - counts_process ......................... Yes    No     Yes    No    \n",
       "   - bit_slice .............................. Yes    No     Yes    No    \n",
       "   - dummy .................................. Yes    No     Yes    No    \n",
       "   - test ................................... Yes    No     Yes    No    \n",
       "---------------------------------------------------------------------------\n",
       "   + Yes ...... Working normally.\n",
       "   + Error .... Exception occurred.\n",
       "   + No ....... Not supported.\n",
       "   + Depr. .... Deprecated.\n",
       "---------------------------------------------------------------------------\n",
       "by <Hoshi>"
      ]
     },
     "execution_count": 20,
     "metadata": {},
     "output_type": "execute_result"
    }
   ],
   "source": [
    "from qurry.process import AVAIBILITY_STATESHEET\n",
    "\n",
    "AVAIBILITY_STATESHEET"
   ]
  },
  {
   "cell_type": "code",
   "execution_count": null,
   "id": "898c1a96",
   "metadata": {},
   "outputs": [],
   "source": []
  }
 ],
 "metadata": {
  "kernelspec": {
   "display_name": "quantumsphere12",
   "language": "python",
   "name": "python3"
  },
  "language_info": {
   "codemirror_mode": {
    "name": "ipython",
    "version": 3
   },
   "file_extension": ".py",
   "mimetype": "text/x-python",
   "name": "python",
   "nbconvert_exporter": "python",
   "pygments_lexer": "ipython3",
   "version": "3.12.3"
  }
 },
 "nbformat": 4,
 "nbformat_minor": 5
}
