{
 "cells": [
  {
   "cell_type": "markdown",
   "id": "166f3b67",
   "metadata": {},
   "source": [
    "# 1.3 By Classical Shadow\n",
    "\n",
    "---\n",
    "\n",
    "## Multiple Experiments\n",
    "\n",
    "Consider a scenario, you have multiple circuits that you want to run at once.\n",
    "\n",
    "Call `.measure()` one by one will be inefficient,\n",
    "no to mention that you also need to call `.anlyze()` for their post-processing.\n",
    "\n",
    "Here we provide a more efficient way solve this problem,\n",
    "where the true power of Qurrium as experiment manage toolkit.\n"
   ]
  },
  {
   "cell_type": "markdown",
   "id": "86beb579",
   "metadata": {},
   "source": [
    "### a. Import the instances\n"
   ]
  },
  {
   "cell_type": "code",
   "execution_count": 1,
   "id": "0fc71722",
   "metadata": {},
   "outputs": [],
   "source": [
    "from qurry import ShadowUnveil\n",
    "\n",
    "experiment_shadow = ShadowUnveil()"
   ]
  },
  {
   "cell_type": "markdown",
   "id": "d48d1d69",
   "metadata": {},
   "source": [
    "### b. Preparing quantum circuit\n",
    "\n",
    "Prepare and add circuits to the `.wave` for later usage.\n"
   ]
  },
  {
   "cell_type": "code",
   "execution_count": 2,
   "id": "2e597e81",
   "metadata": {},
   "outputs": [
    {
     "data": {
      "text/plain": [
       "WaveContainer({\n",
       "  'trivial_paramagnet_2': <qurry.recipe.simple.paramagnet.TrivialParamagnet object at 0x7cda84ffeae0>,\n",
       "  'ghz_2': <qurry.recipe.simple.cat.GHZ object at 0x7cd98966b470>,\n",
       "  'neel_2': <qiskit.circuit.quantumcircuit.QuantumCircuit object at 0x7cd988bb3320>,\n",
       "  'trivial_paramagnet_4': <qurry.recipe.simple.paramagnet.TrivialParamagnet object at 0x7cd988b710a0>,\n",
       "  'ghz_4': <qurry.recipe.simple.cat.GHZ object at 0x7cd988a59250>,\n",
       "  'neel_4': <qiskit.circuit.quantumcircuit.QuantumCircuit object at 0x7cd988a5a210>,\n",
       "  'trivial_paramagnet_6': <qurry.recipe.simple.paramagnet.TrivialParamagnet object at 0x7cd989848980>,\n",
       "  'ghz_6': <qurry.recipe.simple.cat.GHZ object at 0x7cd988a03230>,\n",
       "  'neel_6': <qiskit.circuit.quantumcircuit.QuantumCircuit object at 0x7cd996acd220>,\n",
       "  'trivial_paramagnet_8': <qurry.recipe.simple.paramagnet.TrivialParamagnet object at 0x7cd988a5a6c0>,\n",
       "  'ghz_8': <qurry.recipe.simple.cat.GHZ object at 0x7cd988a5a750>,\n",
       "  'neel_8': <qiskit.circuit.quantumcircuit.QuantumCircuit object at 0x7cd988a5aab0>,\n",
       "  'trivial_paramagnet_10': <qurry.recipe.simple.paramagnet.TrivialParamagnet object at 0x7cd988a5ad20>,\n",
       "  'ghz_10': <qurry.recipe.simple.cat.GHZ object at 0x7cd988a5adb0>,\n",
       "  'neel_10': <qiskit.circuit.quantumcircuit.QuantumCircuit object at 0x7cd988a5b1a0>,\n",
       "  'trivial_paramagnet_12': <qurry.recipe.simple.paramagnet.TrivialParamagnet object at 0x7cd988a5b410>,\n",
       "  'ghz_12': <qurry.recipe.simple.cat.GHZ object at 0x7cd988a5b470>,\n",
       "  'neel_12': <qiskit.circuit.quantumcircuit.QuantumCircuit object at 0x7cd988a5b6e0>})"
      ]
     },
     "execution_count": 2,
     "metadata": {},
     "output_type": "execute_result"
    }
   ],
   "source": [
    "from qiskit import QuantumCircuit\n",
    "from qurry.recipe import TrivialParamagnet, GHZ\n",
    "\n",
    "\n",
    "def make_neel_circuit(n):\n",
    "    qc = QuantumCircuit(n)\n",
    "    for i in range(0, n, 2):\n",
    "        qc.x(i)\n",
    "    return qc\n",
    "\n",
    "\n",
    "for i in range(2, 13, 2):\n",
    "    experiment_shadow.add(TrivialParamagnet(i), f\"trivial_paramagnet_{i}\")\n",
    "    experiment_shadow.add(GHZ(i), f\"ghz_{i}\")\n",
    "    experiment_shadow.add(make_neel_circuit(i), f\"neel_{i}\")\n",
    "\n",
    "experiment_shadow.waves"
   ]
  },
  {
   "cell_type": "markdown",
   "id": "25fc5d4c",
   "metadata": {},
   "source": [
    "### c. Execute multiple experiments at once\n",
    "\n",
    "Let's demonstrate the true power of Qurrium.\n"
   ]
  },
  {
   "cell_type": "code",
   "execution_count": 3,
   "id": "1e63ed3e",
   "metadata": {},
   "outputs": [],
   "source": [
    "from qurry.qurrent import ShadowUnveilMeasureArgs"
   ]
  },
  {
   "cell_type": "markdown",
   "id": "45d57823",
   "metadata": {},
   "source": [
    "Preparing a configuration list for multiple experiments with following parameters:\n",
    "\n",
    "```python\n",
    "class ShadowUnveilMeasureArgs(BasicArgs, total=False):\n",
    "    \"\"\"Output arguments for :meth:`output`.\"\"\"\n",
    "\n",
    "    wave: Optional[Union[QuantumCircuit, Hashable]]\n",
    "    \"\"\"The key or the circuit to execute.\"\"\"\n",
    "    times: int\n",
    "    \"\"\"The number of random unitary operator.\n",
    "    It will denote as `N_U` in the experiment name.\"\"\"\n",
    "    measure: Optional[Union[tuple[int, int], int, list[int]]]\n",
    "    \"\"\"The measure range.\"\"\"\n",
    "    unitary_loc: Optional[Union[tuple[int, int], int, list[int]]]\n",
    "    \"\"\"The range of the unitary operator.\"\"\"\n",
    "    unitary_loc_not_cover_measure: bool\n",
    "    \"\"\"Whether the range of the unitary operator is not cover the measure range.\"\"\"\n",
    "    random_unitary_seeds: Optional[dict[int, dict[int, int]]]\n",
    "    \"\"\"The seeds for all random unitary operator.\n",
    "    This argument only takes input as type of `dict[int, dict[int, int]]`.\n",
    "    The first key is the index for the random unitary operator.\n",
    "    The second key is the index for the qubit.\n",
    "\n",
    "    .. code-block:: python\n",
    "        {\n",
    "            0: {0: 1234, 1: 5678},\n",
    "            1: {0: 2345, 1: 6789},\n",
    "            2: {0: 3456, 1: 7890},\n",
    "        }\n",
    "\n",
    "    If you want to generate the seeds for all random unitary operator,\n",
    "    you can use the function `generate_random_unitary_seeds`\n",
    "    in `qurry.qurrium.utils.random_unitary`.\n",
    "\n",
    "    .. code-block:: python\n",
    "        from qurry.qurrium.utils.random_unitary import generate_random_unitary_seeds\n",
    "        random_unitary_seeds = generate_random_unitary_seeds(100, 2)\n",
    "    \"\"\"\n",
    "```\n"
   ]
  },
  {
   "cell_type": "code",
   "execution_count": 4,
   "id": "9a6c6749",
   "metadata": {},
   "outputs": [
    {
     "name": "stdout",
     "output_type": "stream",
     "text": [
      "180\n"
     ]
    }
   ],
   "source": [
    "config_list: list[ShadowUnveilMeasureArgs] = [\n",
    "    {\n",
    "        \"shots\": 1024,\n",
    "        \"times\": 100,\n",
    "        \"wave\": f\"{wave_names}_{i}\",\n",
    "        \"tags\": (wave_names, f\"size_{i}\"),\n",
    "    }\n",
    "    for _ in range(10)\n",
    "    for i in range(2, 13, 2)\n",
    "    for wave_names in [\"trivial_paramagnet\", \"ghz\", \"neel\"]\n",
    "]\n",
    "print(len(config_list))"
   ]
  },
  {
   "cell_type": "markdown",
   "id": "28ef8515",
   "metadata": {},
   "source": [
    "The `.multiOutput` will return an id of this `multimanager` instance,\n",
    "which can be used to get the results and post-process them.\n",
    "\n",
    "Each `multimanager` will export the experiments in a folder you can specify\n",
    "by setting `save_location` parameter with default location for current directory\n",
    "where Python executed.\n",
    "It will create a folder with the name of the `multimanager` instance,\n",
    "and inside it will create a folder for storing each experiment data.\n",
    "\n",
    "It will do firstly in the building process, but you can skip it by setting `skip_build_write=True` to save time.\n",
    "After all experiments are executed, it will export secondly,\n",
    "which can also be skipped by setting `skip_output_write=True` for no files output.\n"
   ]
  },
  {
   "cell_type": "code",
   "execution_count": 5,
   "id": "3135a9f2",
   "metadata": {},
   "outputs": [
    {
     "name": "stdout",
     "output_type": "stream",
     "text": [
      "| MultiManager building...\n",
      "| Write \"qurshady.001\", at location \"qurshady.001\"\n"
     ]
    },
    {
     "data": {
      "application/vnd.jupyter.widget-view+json": {
       "model_id": "3ff7d6eba0cb440a8d63a9d1946a5fc5",
       "version_major": 2,
       "version_minor": 0
      },
      "text/plain": [
       "| 0/180   0%|          | - MultiManager building... - 00:00 < ?"
      ]
     },
     "metadata": {},
     "output_type": "display_data"
    },
    {
     "name": "stdout",
     "output_type": "stream",
     "text": [
      "| MultiOutput running...\n"
     ]
    },
    {
     "data": {
      "application/vnd.jupyter.widget-view+json": {
       "model_id": "25277711306d4ccf8b43216cbacab65a",
       "version_major": 2,
       "version_minor": 0
      },
      "text/plain": [
       "| 0/180   0%|          | -  - 00:00 < ?"
      ]
     },
     "metadata": {},
     "output_type": "display_data"
    },
    {
     "name": "stdout",
     "output_type": "stream",
     "text": [
      "| Export multimanager...\n"
     ]
    },
    {
     "data": {
      "application/vnd.jupyter.widget-view+json": {
       "model_id": "08e77cb566b14fc591384ed8d8b48928",
       "version_major": 2,
       "version_minor": 0
      },
      "text/plain": [
       "| 0/9 - Exporting MultiManager content... - 00:00 < ?"
      ]
     },
     "metadata": {},
     "output_type": "display_data"
    },
    {
     "name": "stdout",
     "output_type": "stream",
     "text": [
      "| No quantity to export.\n",
      "| Export multi.config.json for 6727edce-142a-40cd-b596-9c84c9a9a114\n"
     ]
    },
    {
     "data": {
      "application/vnd.jupyter.widget-view+json": {
       "model_id": "4da69547731443f797e99ce567a4182e",
       "version_major": 2,
       "version_minor": 0
      },
      "text/plain": [
       "| 0/179 - Exporting experiments... - 00:00 < ?"
      ]
     },
     "metadata": {},
     "output_type": "display_data"
    },
    {
     "name": "stdout",
     "output_type": "stream",
     "text": [
      "| Exporting qurshady.001/qurryinfo.json...\n",
      "| Exporting qurshady.001/qurryinfo.json done.\n"
     ]
    },
    {
     "data": {
      "text/plain": [
       "'6727edce-142a-40cd-b596-9c84c9a9a114'"
      ]
     },
     "execution_count": 5,
     "metadata": {},
     "output_type": "execute_result"
    }
   ],
   "source": [
    "multi_exps1 = experiment_shadow.multiOutput(\n",
    "    config_list,\n",
    "    summoner_name=\"qurshady\",  # you can name it whatever you want\n",
    "    multiprocess_build=True,\n",
    "    # Using multiprocessing to build the experiments,\n",
    "    # it will be faster but take all the CPU\n",
    "    skip_build_write=True,\n",
    "    # Skip the writing of the experiment as files during the build,\n",
    "    save_location=\".\",\n",
    "    # Save the experiment as files in the current directory\n",
    "    multiprocess_write=True,\n",
    "    # Writing the experiment as files using multiprocessing,\n",
    ")\n",
    "multi_exps1"
   ]
  },
  {
   "cell_type": "markdown",
   "id": "bb81b201",
   "metadata": {},
   "source": [
    "You can check the result of `multiOutput` that we just executed by accessing the `.multimanagers`\n"
   ]
  },
  {
   "cell_type": "code",
   "execution_count": 6,
   "id": "c585ba29",
   "metadata": {},
   "outputs": [
    {
     "data": {
      "text/plain": [
       "MultiManagerContainer(num=1, {\n",
       "  \"6727edce-142a-40cd-b596-9c84c9a9a114\":\n",
       "    <MultiManager(name=\"qurshady.001\", jobstype=\"local\", ..., exps_num=180)>,\n",
       "})"
      ]
     },
     "execution_count": 6,
     "metadata": {},
     "output_type": "execute_result"
    }
   ],
   "source": [
    "experiment_shadow.multimanagers"
   ]
  },
  {
   "cell_type": "code",
   "execution_count": 7,
   "id": "29668232",
   "metadata": {},
   "outputs": [
    {
     "data": {
      "text/plain": [
       "<MultiManager(id=\"6727edce-142a-40cd-b596-9c84c9a9a114\",\n",
       "  name=\"qurshady.001\",\n",
       "  tags=(),\n",
       "  jobstype=\"local\",\n",
       "  pending_strategy=\"tags\",\n",
       "  last_events={\n",
       "    'output.001': '2025-06-25 13:34:43',},\n",
       "  exps_num=180)>"
      ]
     },
     "execution_count": 7,
     "metadata": {},
     "output_type": "execute_result"
    }
   ],
   "source": [
    "experiment_shadow.multimanagers[multi_exps1]"
   ]
  },
  {
   "cell_type": "markdown",
   "id": "4052ff26",
   "metadata": {},
   "source": [
    "### d. Run post-processing at once\n"
   ]
  },
  {
   "cell_type": "code",
   "execution_count": 8,
   "id": "045b5b22",
   "metadata": {},
   "outputs": [
    {
     "data": {
      "application/vnd.jupyter.widget-view+json": {
       "model_id": "bf9dc5fb25c447fa92335cf262d555b8",
       "version_major": 2,
       "version_minor": 0
      },
      "text/plain": [
       "| 0/180 - Analysis:  - 00:00 < ?"
      ]
     },
     "metadata": {},
     "output_type": "display_data"
    },
    {
     "name": "stderr",
     "output_type": "stream",
     "text": [
      "WARNING:2025-06-25 13:34:56,590:jax._src.xla_bridge:909: An NVIDIA GPU may be present on this machine, but a CUDA-enabled jaxlib is not installed. Falling back to cpu.\n"
     ]
    },
    {
     "name": "stdout",
     "output_type": "stream",
     "text": [
      "| \"report.001\" has been completed.\n"
     ]
    },
    {
     "data": {
      "text/plain": [
       "'6727edce-142a-40cd-b596-9c84c9a9a114'"
      ]
     },
     "execution_count": 8,
     "metadata": {},
     "output_type": "execute_result"
    }
   ],
   "source": [
    "experiment_shadow.multiAnalysis(\n",
    "    summoner_id=multi_exps1,\n",
    "    skip_write=True,\n",
    "    multiprocess_write=False,\n",
    "    selected_qubits=[0, 1],\n",
    ")"
   ]
  },
  {
   "cell_type": "code",
   "execution_count": 9,
   "id": "483b0b35",
   "metadata": {},
   "outputs": [
    {
     "name": "stdout",
     "output_type": "stream",
     "text": [
      "| Available results:\n",
      "| - ('trivial_paramagnet', 'size_2') with length 10\n",
      "| - ('ghz', 'size_2') with length 10\n",
      "| - ('neel', 'size_2') with length 10\n",
      "| - ('trivial_paramagnet', 'size_4') with length 10\n",
      "| - ('ghz', 'size_4') with length 10\n",
      "| - ('neel', 'size_4') with length 10\n",
      "| - ('trivial_paramagnet', 'size_6') with length 10\n",
      "| - ('ghz', 'size_6') with length 10\n",
      "| - ('neel', 'size_6') with length 10\n",
      "| - ('trivial_paramagnet', 'size_8') with length 10\n",
      "| - ('ghz', 'size_8') with length 10\n",
      "| - ('neel', 'size_8') with length 10\n",
      "| - ('trivial_paramagnet', 'size_10') with length 10\n",
      "| - ('ghz', 'size_10') with length 10\n",
      "| - ('neel', 'size_10') with length 10\n",
      "| - ('trivial_paramagnet', 'size_12') with length 10\n",
      "| - ('ghz', 'size_12') with length 10\n",
      "| - ('neel', 'size_12') with length 10\n"
     ]
    }
   ],
   "source": [
    "print(\"| Available results:\")\n",
    "for k, v in (\n",
    "    experiment_shadow.multimanagers[multi_exps1]\n",
    "    .quantity_container[\"report.001\"]\n",
    "    .items()\n",
    "):\n",
    "    print(\"| -\", k, \"with length\", len(v))"
   ]
  },
  {
   "cell_type": "markdown",
   "id": "ae853f57",
   "metadata": {},
   "source": [
    "- Example of the content of `quantity_container`\n"
   ]
  },
  {
   "cell_type": "code",
   "execution_count": 10,
   "id": "c8b8b3c6",
   "metadata": {},
   "outputs": [
    {
     "data": {
      "text/plain": [
       "[{'classical_registers_actually': [1, 0],\n",
       "  'taking_time': 0.007611989974975586,\n",
       "  'mean_of_rho': array([[0.25079102+0.j        , 0.19346191+0.00212402j,\n",
       "          0.20775879+0.00319336j, 0.15600586+0.00030762j],\n",
       "         [0.19346191-0.00212402j, 0.24501953+0.j        ,\n",
       "          0.15899414-0.00074707j, 0.21224121-0.00418945j],\n",
       "         [0.20775879-0.00319336j, 0.15899414+0.00074707j,\n",
       "          0.24794922+0.j        , 0.19653809+0.00106934j],\n",
       "         [0.15600586-0.00030762j, 0.21224121+0.00418945j,\n",
       "          0.19653809-0.00106934j, 0.25624023+0.j        ]]),\n",
       "  'purity': np.float64(0.6553996242176403),\n",
       "  'entropy': np.float64(0.6095532491954326),\n",
       "  'estimate_of_given_operators': [],\n",
       "  'accuracy_prob_comp_delta': nan,\n",
       "  'num_of_estimators_k': 0,\n",
       "  'accuracy_predict_epsilon': nan,\n",
       "  'maximum_shadow_norm': nan,\n",
       "  'input': {'shots': 1024,\n",
       "   'num_qubits': 10,\n",
       "   'selected_qubits': [0, 1],\n",
       "   'registers_mapping': {0: 0,\n",
       "    1: 1,\n",
       "    2: 2,\n",
       "    3: 3,\n",
       "    4: 4,\n",
       "    5: 5,\n",
       "    6: 6,\n",
       "    7: 7,\n",
       "    8: 8,\n",
       "    9: 9},\n",
       "   'bitstring_mapping': {0: 0,\n",
       "    1: 1,\n",
       "    2: 2,\n",
       "    3: 3,\n",
       "    4: 4,\n",
       "    5: 5,\n",
       "    6: 6,\n",
       "    7: 7,\n",
       "    8: 8,\n",
       "    9: 9},\n",
       "   'unitary_located': [0, 1, 2, 3, 4, 5, 6, 7, 8, 9]},\n",
       "  'header': {'serial': 0, 'datetime': '2025-06-25 13:34:57', 'log': {}}},\n",
       " {'classical_registers_actually': [1, 0],\n",
       "  'taking_time': 0.006048679351806641,\n",
       "  'mean_of_rho': array([[0.25134766+0.j        , 0.2470166 -0.00083496j,\n",
       "          0.25842773-0.00382324j, 0.2254834 -0.00386719j],\n",
       "         [0.2470166 +0.00083496j, 0.24645508+0.j        ,\n",
       "          0.2245166 -0.00114258j, 0.25157227-0.00092285j],\n",
       "         [0.25842773+0.00382324j, 0.2245166 +0.00114258j,\n",
       "          0.25178711+0.j        , 0.2479834 -0.00109863j],\n",
       "         [0.2254834 +0.00386719j, 0.25157227+0.00092285j,\n",
       "          0.2479834 +0.00109863j, 0.25041016+0.j        ]]),\n",
       "  'purity': np.float64(0.9290011457963423),\n",
       "  'entropy': np.float64(0.10624771891056277),\n",
       "  'estimate_of_given_operators': [],\n",
       "  'accuracy_prob_comp_delta': nan,\n",
       "  'num_of_estimators_k': 0,\n",
       "  'accuracy_predict_epsilon': nan,\n",
       "  'maximum_shadow_norm': nan,\n",
       "  'input': {'shots': 1024,\n",
       "   'num_qubits': 10,\n",
       "   'selected_qubits': [0, 1],\n",
       "   'registers_mapping': {0: 0,\n",
       "    1: 1,\n",
       "    2: 2,\n",
       "    3: 3,\n",
       "    4: 4,\n",
       "    5: 5,\n",
       "    6: 6,\n",
       "    7: 7,\n",
       "    8: 8,\n",
       "    9: 9},\n",
       "   'bitstring_mapping': {0: 0,\n",
       "    1: 1,\n",
       "    2: 2,\n",
       "    3: 3,\n",
       "    4: 4,\n",
       "    5: 5,\n",
       "    6: 6,\n",
       "    7: 7,\n",
       "    8: 8,\n",
       "    9: 9},\n",
       "   'unitary_located': [0, 1, 2, 3, 4, 5, 6, 7, 8, 9]},\n",
       "  'header': {'serial': 0, 'datetime': '2025-06-25 13:34:57', 'log': {}}}]"
      ]
     },
     "execution_count": 10,
     "metadata": {},
     "output_type": "execute_result"
    }
   ],
   "source": [
    "experiment_shadow.multimanagers[multi_exps1].quantity_container[\"report.001\"][\n",
    "    (\"trivial_paramagnet\", \"size_10\")\n",
    "][:2]"
   ]
  },
  {
   "cell_type": "markdown",
   "id": "1963d333",
   "metadata": {},
   "source": [
    "### e. Run post-processing at once with specific analysis arguments\n",
    "\n",
    "At first, we need to get the each experiment's id in the `multimanager` instance.\n"
   ]
  },
  {
   "cell_type": "code",
   "execution_count": 11,
   "id": "b114c2d8",
   "metadata": {},
   "outputs": [
    {
     "name": "stdout",
     "output_type": "stream",
     "text": [
      "180\n",
      "| The number of exp_id: 180\n",
      "| First 3 experiment keys:\n"
     ]
    },
    {
     "data": {
      "text/plain": [
       "['5c480234-84d7-4dbb-b907-c37d22687f94',\n",
       " 'dc8a33c7-2006-40f7-8dea-b23877afd0df',\n",
       " '4365b10c-4b41-4500-ae74-d688f3173cf4']"
      ]
     },
     "execution_count": 11,
     "metadata": {},
     "output_type": "execute_result"
    }
   ],
   "source": [
    "expkeys_of_multi_exps1 = list(experiment_shadow.multimanagers[multi_exps1].exps.keys())\n",
    "print(len(expkeys_of_multi_exps1))\n",
    "print(\"| The number of exp_id:\", len(expkeys_of_multi_exps1))\n",
    "print(\"| First 3 experiment keys:\")\n",
    "expkeys_of_multi_exps1[:3]"
   ]
  },
  {
   "cell_type": "markdown",
   "id": "f13dfbdd",
   "metadata": {},
   "source": [
    "1. If you want to run the post-processing for some specific experiments,\n",
    "   for example, the first 3 experiments we get for the `multimanager` instance.\n"
   ]
  },
  {
   "cell_type": "code",
   "execution_count": 12,
   "id": "38778cf7",
   "metadata": {},
   "outputs": [
    {
     "data": {
      "application/vnd.jupyter.widget-view+json": {
       "model_id": "1b546ea8d5184c299f531174d78d7bc8",
       "version_major": 2,
       "version_minor": 0
      },
      "text/plain": [
       "| 0/180 - Analysis:  - 00:00 < ?"
      ]
     },
     "metadata": {},
     "output_type": "display_data"
    },
    {
     "name": "stdout",
     "output_type": "stream",
     "text": [
      "| \"first_3.001\" has been completed.\n"
     ]
    },
    {
     "data": {
      "text/plain": [
       "'6727edce-142a-40cd-b596-9c84c9a9a114'"
      ]
     },
     "execution_count": 12,
     "metadata": {},
     "output_type": "execute_result"
    }
   ],
   "source": [
    "experiment_shadow.multiAnalysis(\n",
    "    summoner_id=multi_exps1,\n",
    "    analysis_name=\"first_3\",\n",
    "    skip_write=True,\n",
    "    multiprocess_write=False,\n",
    "    specific_analysis_args={\n",
    "        k: (\n",
    "            {\n",
    "                \"selected_qubits\": [0, 1],\n",
    "            }\n",
    "            if idx < 3\n",
    "            else False  # Give False to skip analysis for this experiment\n",
    "        )\n",
    "        for idx, k in enumerate(expkeys_of_multi_exps1)\n",
    "    },\n",
    ")"
   ]
  },
  {
   "cell_type": "code",
   "execution_count": 13,
   "id": "ada4eb86",
   "metadata": {},
   "outputs": [
    {
     "name": "stdout",
     "output_type": "stream",
     "text": [
      "| Available results:\n",
      "| length: 3\n"
     ]
    }
   ],
   "source": [
    "print(\"| Available results:\")\n",
    "print(\n",
    "    \"| length:\",\n",
    "    sum(\n",
    "        len(v)\n",
    "        for v in experiment_shadow.multimanagers[multi_exps1]\n",
    "        .quantity_container[\"first_3.001\"]\n",
    "        .values()\n",
    "    ),\n",
    ")"
   ]
  },
  {
   "cell_type": "markdown",
   "id": "4a1f8281",
   "metadata": {},
   "source": [
    "2. Or manually specify all the analysis arguments for each experiment.\n"
   ]
  },
  {
   "cell_type": "code",
   "execution_count": 14,
   "id": "6f483aff",
   "metadata": {},
   "outputs": [
    {
     "data": {
      "application/vnd.jupyter.widget-view+json": {
       "model_id": "add5c21585e34c71a0edf3ee17a32d91",
       "version_major": 2,
       "version_minor": 0
      },
      "text/plain": [
       "| 0/180 - Analysis:  - 00:00 < ?"
      ]
     },
     "metadata": {},
     "output_type": "display_data"
    },
    {
     "name": "stdout",
     "output_type": "stream",
     "text": [
      "| \"all_manual.001\" has been completed.\n",
      "| Export multimanager...\n"
     ]
    },
    {
     "data": {
      "application/vnd.jupyter.widget-view+json": {
       "model_id": "f7dcdc71998d4936b27ea23e95c6d64e",
       "version_major": 2,
       "version_minor": 0
      },
      "text/plain": [
       "| 0/9 - Exporting MultiManager content... - 00:00 < ?"
      ]
     },
     "metadata": {},
     "output_type": "display_data"
    },
    {
     "data": {
      "application/vnd.jupyter.widget-view+json": {
       "model_id": "3ddadc2e0b044a53aa6824ef58c42904",
       "version_major": 2,
       "version_minor": 0
      },
      "text/plain": [
       "| 0/3 - exporting quantity - 00:00 < ?"
      ]
     },
     "metadata": {},
     "output_type": "display_data"
    },
    {
     "name": "stdout",
     "output_type": "stream",
     "text": [
      "| Export multi.config.json for 6727edce-142a-40cd-b596-9c84c9a9a114\n"
     ]
    },
    {
     "data": {
      "application/vnd.jupyter.widget-view+json": {
       "model_id": "ff876ff1ef324b2f993cae58694aa2a5",
       "version_major": 2,
       "version_minor": 0
      },
      "text/plain": [
       "| 0/179 - Exporting experiments... - 00:00 < ?"
      ]
     },
     "metadata": {},
     "output_type": "display_data"
    },
    {
     "name": "stdout",
     "output_type": "stream",
     "text": [
      "| Exporting qurshady.001/qurryinfo.json...\n",
      "| Exporting qurshady.001/qurryinfo.json done.\n"
     ]
    },
    {
     "data": {
      "text/plain": [
       "'6727edce-142a-40cd-b596-9c84c9a9a114'"
      ]
     },
     "execution_count": 14,
     "metadata": {},
     "output_type": "execute_result"
    }
   ],
   "source": [
    "experiment_shadow.multiAnalysis(\n",
    "    summoner_id=multi_exps1,\n",
    "    skip_write=False,\n",
    "    analysis_name=\"all_manual\",\n",
    "    multiprocess_write=True,\n",
    "    specific_analysis_args={\n",
    "        k: {\n",
    "            \"selected_qubits\": [0, 1],  # selected qubits for the analysis\n",
    "        }\n",
    "        for idx, k in enumerate(expkeys_of_multi_exps1)\n",
    "    },\n",
    ")"
   ]
  },
  {
   "cell_type": "code",
   "execution_count": 15,
   "id": "9d2c5e8d",
   "metadata": {},
   "outputs": [
    {
     "name": "stdout",
     "output_type": "stream",
     "text": [
      "| Available results:\n",
      "| length: 180\n"
     ]
    }
   ],
   "source": [
    "print(\"| Available results:\")\n",
    "print(\n",
    "    \"| length:\",\n",
    "    sum(\n",
    "        len(v)\n",
    "        for v in experiment_shadow.multimanagers[multi_exps1]\n",
    "        .quantity_container[\"all_manual.001\"]\n",
    "        .values()\n",
    "    ),\n",
    ")"
   ]
  },
  {
   "cell_type": "markdown",
   "id": "d73c526b",
   "metadata": {},
   "source": [
    "#### All `multiAnalysis` results\n"
   ]
  },
  {
   "cell_type": "code",
   "execution_count": 16,
   "id": "51313a27",
   "metadata": {},
   "outputs": [
    {
     "data": {
      "text/plain": [
       "dict_keys(['report.001', 'first_3.001', 'all_manual.001'])"
      ]
     },
     "execution_count": 16,
     "metadata": {},
     "output_type": "execute_result"
    }
   ],
   "source": [
    "experiment_shadow.multimanagers[multi_exps1].quantity_container.keys()"
   ]
  },
  {
   "cell_type": "markdown",
   "id": "1f4ffe7a",
   "metadata": {},
   "source": [
    "### f. Read exported multimanager data\n"
   ]
  },
  {
   "cell_type": "code",
   "execution_count": 17,
   "id": "e873e02d",
   "metadata": {},
   "outputs": [
    {
     "name": "stdout",
     "output_type": "stream",
     "text": [
      "| Retrieve qurshady.001...\n",
      "| at: qurshady.001\n"
     ]
    },
    {
     "data": {
      "application/vnd.jupyter.widget-view+json": {
       "model_id": "df3c59562798447c89cc19b302842f79",
       "version_major": 2,
       "version_minor": 0
      },
      "text/plain": [
       "| 0/180   0%|          | - Loading 180 experiments ... - 00:00 < ?"
      ]
     },
     "metadata": {},
     "output_type": "display_data"
    }
   ],
   "source": [
    "multi_exps1_reades = experiment_shadow.multiRead(\n",
    "    save_location=\".\",\n",
    "    summoner_name=\"qurshady.001\",\n",
    ")"
   ]
  },
  {
   "cell_type": "markdown",
   "id": "57520119",
   "metadata": {},
   "source": [
    "---\n",
    "\n",
    "### Post-Process Availablities and Version Info\n"
   ]
  },
  {
   "cell_type": "code",
   "execution_count": 18,
   "id": "306e7ba6",
   "metadata": {},
   "outputs": [
    {
     "data": {
      "text/plain": [
       " | Qurrium version: 0.13.0\n",
       "---------------------------------------------------------------------------\n",
       " ### Qurrium Post-Processing\n",
       "   - Backend Availability ................... Python Cython Rust   JAX   \n",
       " - randomized_measure\n",
       "   - entangled_entropy.entropy_core_2 ....... Yes    Depr.  Yes    No    \n",
       "   - entangle_entropy.purity_cell_2 ......... Yes    Depr.  Yes    No    \n",
       "   - entangled_entropy_v1.entropy_core ...... Yes    Depr.  Yes    No    \n",
       "   - entangle_entropy_v1.purity_cell ........ Yes    Depr.  Yes    No    \n",
       "   - wavefunction_overlap.echo_core_2 ....... Yes    Depr.  Yes    No    \n",
       "   - wavefunction_overlap.echo_cell_2 ....... Yes    Depr.  Yes    No    \n",
       "   - wavefunction_overlap_v1.echo_core ...... Yes    Depr.  Yes    No    \n",
       "   - wavefunction_overlap_v1.echo_cell ...... Yes    Depr.  Yes    No    \n",
       " - hadamard_test\n",
       "   - purity_echo_core ....................... Yes    No     Yes    No    \n",
       " - magnet_square\n",
       "   - magnsq_core ............................ Yes    No     Yes    No    \n",
       " - string_operator\n",
       "   - strop_core ............................. Yes    No     Yes    No    \n",
       " - classical_shadow\n",
       "   - rho_m_core ............................. Yes    No     No     Yes   \n",
       " - utils\n",
       "   - randomized ............................. Yes    Depr.  Yes    No    \n",
       "   - counts_process ......................... Yes    No     Yes    No    \n",
       "   - bit_slice .............................. Yes    No     Yes    No    \n",
       "   - dummy .................................. Yes    No     Yes    No    \n",
       "   - test ................................... Yes    No     Yes    No    \n",
       "---------------------------------------------------------------------------\n",
       "   + Yes ...... Working normally.\n",
       "   + Error .... Exception occurred.\n",
       "   + No ....... Not supported.\n",
       "   + Depr. .... Deprecated.\n",
       "---------------------------------------------------------------------------\n",
       "by <Hoshi>"
      ]
     },
     "execution_count": 18,
     "metadata": {},
     "output_type": "execute_result"
    }
   ],
   "source": [
    "from qurry.process import AVAIBILITY_STATESHEET\n",
    "\n",
    "AVAIBILITY_STATESHEET"
   ]
  }
 ],
 "metadata": {
  "kernelspec": {
   "display_name": "quantumsphere12",
   "language": "python",
   "name": "python3"
  },
  "language_info": {
   "codemirror_mode": {
    "name": "ipython",
    "version": 3
   },
   "file_extension": ".py",
   "mimetype": "text/x-python",
   "name": "python",
   "nbconvert_exporter": "python",
   "pygments_lexer": "ipython3",
   "version": "3.12.3"
  }
 },
 "nbformat": 4,
 "nbformat_minor": 5
}
