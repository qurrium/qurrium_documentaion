{
 "cells": [
  {
   "cell_type": "markdown",
   "id": "166f3b67",
   "metadata": {},
   "source": [
    "# 1.3 By Classical Shadow\n",
    "\n",
    "## Basic Usag"
   ]
  },
  {
   "cell_type": "markdown",
   "id": "86beb579",
   "metadata": {},
   "source": [
    "### a. Import the instances\n"
   ]
  },
  {
   "cell_type": "code",
   "execution_count": 1,
   "id": "0fc71722",
   "metadata": {},
   "outputs": [],
   "source": [
    "from qurry import ShadowUnveil\n",
    "\n",
    "experiment_shadow = ShadowUnveil()"
   ]
  },
  {
   "cell_type": "markdown",
   "id": "d48d1d69",
   "metadata": {},
   "source": [
    "### b. Preparing quantum circuit\n"
   ]
  },
  {
   "cell_type": "code",
   "execution_count": 2,
   "id": "2e597e81",
   "metadata": {},
   "outputs": [],
   "source": [
    "from qiskit import QuantumCircuit\n",
    "from qurry.recipe import TrivialParamagnet, GHZ"
   ]
  },
  {
   "cell_type": "code",
   "execution_count": 3,
   "id": "9584bc4f",
   "metadata": {},
   "outputs": [
    {
     "name": "stdout",
     "output_type": "stream",
     "text": [
      "| trivial paramagnet in 8 qubits:\n",
      "     ┌───┐\n",
      "q_0: ┤ H ├\n",
      "     ├───┤\n",
      "q_1: ┤ H ├\n",
      "     ├───┤\n",
      "q_2: ┤ H ├\n",
      "     ├───┤\n",
      "q_3: ┤ H ├\n",
      "     ├───┤\n",
      "q_4: ┤ H ├\n",
      "     ├───┤\n",
      "q_5: ┤ H ├\n",
      "     ├───┤\n",
      "q_6: ┤ H ├\n",
      "     ├───┤\n",
      "q_7: ┤ H ├\n",
      "     └───┘\n"
     ]
    }
   ],
   "source": [
    "sample01 = TrivialParamagnet(8)\n",
    "print(\"| trivial paramagnet in 8 qubits:\")\n",
    "print(sample01)"
   ]
  },
  {
   "cell_type": "code",
   "execution_count": 4,
   "id": "ddd66f20",
   "metadata": {},
   "outputs": [
    {
     "name": "stdout",
     "output_type": "stream",
     "text": [
      "| GHZ in 8 qubits:\n",
      "     ┌───┐                                   \n",
      "q_0: ┤ H ├──■────────────────────────────────\n",
      "     └───┘┌─┴─┐                              \n",
      "q_1: ─────┤ X ├──■───────────────────────────\n",
      "          └───┘┌─┴─┐                         \n",
      "q_2: ──────────┤ X ├──■──────────────────────\n",
      "               └───┘┌─┴─┐                    \n",
      "q_3: ───────────────┤ X ├──■─────────────────\n",
      "                    └───┘┌─┴─┐               \n",
      "q_4: ────────────────────┤ X ├──■────────────\n",
      "                         └───┘┌─┴─┐          \n",
      "q_5: ─────────────────────────┤ X ├──■───────\n",
      "                              └───┘┌─┴─┐     \n",
      "q_6: ──────────────────────────────┤ X ├──■──\n",
      "                                   └───┘┌─┴─┐\n",
      "q_7: ───────────────────────────────────┤ X ├\n",
      "                                        └───┘\n"
     ]
    }
   ],
   "source": [
    "sample02 = GHZ(8)\n",
    "print(\"| GHZ in 8 qubits:\")\n",
    "print(sample02)"
   ]
  },
  {
   "cell_type": "code",
   "execution_count": 5,
   "id": "bf3a0988",
   "metadata": {},
   "outputs": [
    {
     "name": "stdout",
     "output_type": "stream",
     "text": [
      "| Custom circuit:\n",
      "     ┌───┐\n",
      "q_0: ┤ X ├\n",
      "     └───┘\n",
      "q_1: ─────\n",
      "     ┌───┐\n",
      "q_2: ┤ X ├\n",
      "     └───┘\n",
      "q_3: ─────\n",
      "     ┌───┐\n",
      "q_4: ┤ X ├\n",
      "     └───┘\n",
      "q_5: ─────\n",
      "     ┌───┐\n",
      "q_6: ┤ X ├\n",
      "     └───┘\n",
      "q_7: ─────\n",
      "          \n"
     ]
    }
   ],
   "source": [
    "sample03 = QuantumCircuit(8)\n",
    "sample03.x(range(0, 8, 2))\n",
    "print(\"| Custom circuit:\")\n",
    "print(sample03)"
   ]
  },
  {
   "cell_type": "markdown",
   "id": "25fc5d4c",
   "metadata": {},
   "source": [
    "### c. Execute the circuit\n"
   ]
  },
  {
   "cell_type": "markdown",
   "id": "6937e4ba",
   "metadata": {},
   "source": [
    "#### i. Directly input the circuit\n",
    "\n",
    "After executing, it will return a uuid of experiment. You can use this uuid to get the result of the experiment.\n"
   ]
  },
  {
   "cell_type": "code",
   "execution_count": 6,
   "id": "3135a9f2",
   "metadata": {},
   "outputs": [
    {
     "data": {
      "text/plain": [
       "'477e84fc-bfe9-4bbc-add0-18259234636d'"
      ]
     },
     "execution_count": 6,
     "metadata": {},
     "output_type": "execute_result"
    }
   ],
   "source": [
    "exp1 = experiment_shadow.measure(sample01, times=100, shots=4096)\n",
    "exp1"
   ]
  },
  {
   "cell_type": "markdown",
   "id": "4052ff26",
   "metadata": {},
   "source": [
    "Each experiment result will be stored in a container `.exps`.\n"
   ]
  },
  {
   "cell_type": "code",
   "execution_count": 7,
   "id": "a01a6c9f",
   "metadata": {},
   "outputs": [
    {
     "data": {
      "text/plain": [
       "<ShadowUnveilExperiment(exp_id=477e84fc-bfe9-4bbc-add0-18259234636d, \n",
       "  ShadowUnveilArguments(exp_name='experiment.N_U_100.qurshady_entropy', times=100, qubits_measured=[0, 1, 2, 3, 4, 5, 6, 7], registers_mapping={0: 0, 1: 1, 2: 2, 3: 3, 4: 4, 5: 5, 6: 6, 7: 7}, actual_num_qubits=8, unitary_located=[0, 1, 2, 3, 4, 5, 6, 7], random_unitary_seeds=None),\n",
       "  Commonparams(exp_id='477e84fc-bfe9-4bbc-add0-18259234636d', target_keys=[0], shots=4096, backend=<AerSimulator('aer_simulator')>, run_args={}, transpile_args={}, tags=(), default_analysis=[], save_location=PosixPath('.'), filename='', files={}, serial=None, summoner_id=None, summoner_name=None, datetimes=DatetimeDict({'build': '2025-06-13 21:31:21', 'run.001': '2025-06-13 21:31:21'})),\n",
       "  unused_args_num=0,\n",
       "  analysis_num=0))>"
      ]
     },
     "execution_count": 7,
     "metadata": {},
     "output_type": "execute_result"
    }
   ],
   "source": [
    "experiment_shadow.exps[exp1]"
   ]
  },
  {
   "cell_type": "code",
   "execution_count": 8,
   "id": "98b17ffb",
   "metadata": {},
   "outputs": [
    {
     "data": {
      "text/plain": [
       "<ShadowUnveilAnalysis(\n",
       "  serial=0,\n",
       "  AnalysisInput(num_qubits=8, selected_qubits=[0, 1, 2, 3], registers_mapping={0: 0, 1: 1, 2: 2, 3: 3, 4: 4, 5: 5, 6: 6, 7: 7}, bitstring_mapping={0: 0, 1: 1, 2: 2, 3: 3, 4: 4, 5: 5, 6: 6, 7: 7}, shots=4096, unitary_located=[0, 1, 2, 3, 4, 5, 6, 7]),\n",
       "  AnalysisContent(purity=0.7954854651472786, entropy=0.330092524546643, and others)),\n",
       "  unused_args_num=1\n",
       "  )>"
      ]
     },
     "execution_count": 8,
     "metadata": {},
     "output_type": "execute_result"
    }
   ],
   "source": [
    "report01 = experiment_shadow.exps[exp1].analyze(\n",
    "    selected_qubits=[0, 1, 2, 3],\n",
    ")\n",
    "report01"
   ]
  },
  {
   "cell_type": "markdown",
   "id": "adbac124",
   "metadata": {},
   "source": [
    "The analysis result will be content following the structure of the experiment result. The analysis fields in the dictionary `main01`.\n",
    "\n",
    "```python\n",
    "expect_rho: np.ndarray[tuple[int, int], np.dtype[np.complex128]]\n",
    "\"\"\"The expectation value of Rho.\n",
    "Which is the esitmation of the density matrix on selected qubits,\n",
    "in other words, on selected susbsystem.\n",
    "\n",
    "It will be a 2D array with shape (2^n, 2^n),\n",
    "where n is the number of selected qubits.\n",
    "\"\"\"\n",
    "purity: float\n",
    "\"\"\"The purity calculated by classical shadow.\"\"\"\n",
    "entropy: float\n",
    "\"\"\"The entropy calculated by classical shadow.\"\"\"\n",
    "\n",
    "rho_m_dict: dict[int, np.ndarray[tuple[int, int], np.dtype[np.complex128]]]\n",
    "\"\"\"The dictionary of Rho M.\"\"\"\n",
    "classical_registers_actually: list[int]\n",
    "\"\"\"The list of the index of classical register respecting selected qubits.\"\"\"\n",
    "taking_time: float\n",
    "\"\"\"The time taken for the calculation.\"\"\"\n",
    "```\n"
   ]
  },
  {
   "cell_type": "code",
   "execution_count": 9,
   "id": "04e837c4",
   "metadata": {},
   "outputs": [
    {
     "name": "stdout",
     "output_type": "stream",
     "text": [
      "| purity: 0.7954854651472786\n",
      "| entropy: 0.330092524546643\n",
      "| classical_registers_actually: [3, 2, 1, 0]\n",
      "| taking_time: 0.044885873794555664\n",
      "| input: {'num_qubits': 8, 'selected_qubits': [0, 1, 2, 3], 'registers_mapping': {0: 0, 1: 1, 2: 2, 3: 3, 4: 4, 5: 5, 6: 6, 7: 7}, 'bitstring_mapping': {0: 0, 1: 1, 2: 2, 3: 3, 4: 4, 5: 5, 6: 6, 7: 7}, 'shots': 4096, 'unitary_located': [0, 1, 2, 3, 4, 5, 6, 7]}\n",
      "| header: {'serial': 0, 'datetime': '2025-06-13 21:31:21', 'summoner': None, 'log': {}}\n",
      "| expect_rho:\n",
      "[[0.06241211+0.00000000e+00j 0.06573761+1.28540039e-03j\n",
      "  0.06583557-4.98046875e-04j 0.04707642+2.72735596e-03j\n",
      "  0.05754272-1.53717041e-03j 0.05752441-2.19726562e-05j\n",
      "  0.05600555-3.80676270e-03j 0.01939636+7.91015625e-04j\n",
      "  0.06870483+9.36584473e-04j 0.06771973-6.86645508e-04j\n",
      "  0.05684601-1.24694824e-03j 0.06778015+1.18652344e-03j\n",
      "  0.07832428-1.11236572e-03j 0.06746704-1.09588623e-03j\n",
      "  0.05155609+5.02624512e-04j 0.05134186+4.40002441e-03j]\n",
      " [0.06573761-1.28540039e-03j 0.06178223+0.00000000e+00j\n",
      "  0.04796631-2.08465576e-03j 0.0682251 +1.22680664e-04j\n",
      "  0.05423401-1.74682617e-03j 0.05783386+2.89031982e-03j\n",
      "  0.01560608-4.79553223e-03j 0.05734039+5.76782227e-04j\n",
      "  0.06515442+2.96630859e-04j 0.06753479-5.52062988e-04j\n",
      "  0.06366028-4.28466797e-04j 0.05445648-4.39453125e-05j\n",
      "  0.06782959-3.18878174e-03j 0.07779694+5.52062988e-04j\n",
      "  0.05312164-3.85620117e-03j 0.05041901-2.36480713e-03j]\n",
      " [0.06583557+4.98046875e-04j 0.04796631+2.08465576e-03j\n",
      "  0.06217773+0.00000000e+00j 0.06586945+1.91711426e-03j\n",
      "  0.05578583-2.58728027e-03j 0.01731995-2.14233398e-04j\n",
      "  0.05733948-1.17462158e-03j 0.05623901-1.40625000e-03j\n",
      "  0.05578583+1.46118164e-03j 0.07374573-1.81274414e-04j\n",
      "  0.07003967-3.81774902e-04j 0.06930176+1.78527832e-03j\n",
      "  0.05064972+9.80529785e-04j 0.05094635+1.97753906e-03j\n",
      "  0.07743439+5.02624512e-04j 0.06766479+3.10638428e-03j]\n",
      " [0.04707642-2.72735596e-03j 0.0682251 -1.22680664e-04j\n",
      "  0.06586945-1.91711426e-03j 0.06337158+0.00000000e+00j\n",
      "  0.01517761-3.55957031e-03j 0.0566922 +1.36779785e-03j\n",
      "  0.05680481-3.13110352e-03j 0.05973999-3.10821533e-03j\n",
      "  0.06689026-5.76782227e-04j 0.05817535-2.44445801e-03j\n",
      "  0.06795593-2.30712891e-03j 0.07051758-2.88391113e-04j\n",
      "  0.04709015-1.43371582e-03j 0.04822723-1.88690186e-03j\n",
      "  0.06802734-2.05169678e-03j 0.080961  -1.19476318e-03j]\n",
      " [0.05754272+1.53717041e-03j 0.05423401+1.74682617e-03j\n",
      "  0.05578583+2.58728027e-03j 0.01517761+3.55957031e-03j\n",
      "  0.06163025+0.00000000e+00j 0.06501801+6.70166016e-04j\n",
      "  0.06819763+1.28723145e-03j 0.04430786+9.97009277e-04j\n",
      "  0.07733002+1.12335205e-03j 0.06745056-5.19104004e-04j\n",
      "  0.05023773+9.47570801e-04j 0.05069916-3.11462402e-03j\n",
      "  0.06913879+6.34460449e-04j 0.06973022-3.57055664e-04j\n",
      "  0.0564505 +2.41149902e-03j 0.06862061+1.53259277e-03j]\n",
      " [0.05752441+2.19726562e-05j 0.05783386-2.89031982e-03j\n",
      "  0.01731995+2.14233398e-04j 0.0566922 -1.36779785e-03j\n",
      "  0.06501801-6.70166016e-04j 0.06102234+0.00000000e+00j\n",
      "  0.04091309-1.60675049e-03j 0.06584106-2.01416016e-04j\n",
      "  0.06646179-3.63372803e-03j 0.0779892 -3.44146729e-03j\n",
      "  0.04990814+2.57080078e-03j 0.05137482-1.91986084e-03j\n",
      "  0.06874695-1.25244141e-03j 0.06958374-4.25720215e-04j\n",
      "  0.06815918-7.74536133e-04j 0.05712616-6.37207031e-04j]\n",
      " [0.05600555+3.80676270e-03j 0.01560608+4.79553223e-03j\n",
      "  0.05733948+1.17462158e-03j 0.05680481+3.13110352e-03j\n",
      "  0.06819763-1.28723145e-03j 0.04091309+1.60675049e-03j\n",
      "  0.06312073+0.00000000e+00j 0.06491913-6.75659180e-04j\n",
      "  0.05005646+2.18353271e-03j 0.04951263+6.92138672e-04j\n",
      "  0.07772552-4.58679199e-04j 0.06804382+6.17980957e-04j\n",
      "  0.05591766-1.20849609e-04j 0.06390747+1.64794922e-04j\n",
      "  0.06869385-2.88391113e-04j 0.0659729 +1.12609863e-03j]\n",
      " [0.01939636-7.91015625e-04j 0.05734039-5.76782227e-04j\n",
      "  0.05623901+1.40625000e-03j 0.05973999+3.10821533e-03j\n",
      "  0.04430786-9.97009277e-04j 0.06584106+2.01416016e-04j\n",
      "  0.06491913+6.75659180e-04j 0.06334778+0.00000000e+00j\n",
      "  0.05238007-1.23596191e-03j 0.05247894-6.83898926e-04j\n",
      "  0.06705505+5.68542480e-04j 0.08243866+1.10687256e-03j\n",
      "  0.06723633-9.22851563e-04j 0.055242  +2.25219727e-04j\n",
      "  0.06541809-6.92138672e-04j 0.07078674-1.62048340e-04j]\n",
      " [0.06870483-9.36584473e-04j 0.06515442-2.96630859e-04j\n",
      "  0.05578583-1.46118164e-03j 0.06689026+5.76782227e-04j\n",
      "  0.07733002-1.12335205e-03j 0.06646179+3.63372803e-03j\n",
      "  0.05005646-2.18353271e-03j 0.05238007+1.23596191e-03j\n",
      "  0.06230042+0.00000000e+00j 0.0646994 -1.23596191e-03j\n",
      "  0.06947205+7.32421875e-05j 0.04157227+1.06292725e-03j\n",
      "  0.05825684-7.73620605e-04j 0.05571167-4.50439453e-04j\n",
      "  0.05631866+1.35131836e-03j 0.01657837+1.68090820e-03j]\n",
      " [0.06771973+6.86645508e-04j 0.06753479+5.52062988e-04j\n",
      "  0.07374573+1.81274414e-04j 0.05817535+2.44445801e-03j\n",
      "  0.06745056+5.19104004e-04j 0.0779892 +3.44146729e-03j\n",
      "  0.04951263-6.92138672e-04j 0.05247894+6.83898926e-04j\n",
      "  0.0646994 +1.23596191e-03j 0.06092346+0.00000000e+00j\n",
      "  0.04559326+1.07116699e-04j 0.06583008-7.56225586e-04j\n",
      "  0.05624451-8.23974609e-04j 0.0571637 -1.48773193e-03j\n",
      "  0.01802856+1.53259277e-03j 0.05607147-1.68090820e-03j]\n",
      " [0.05684601+1.24694824e-03j 0.06366028+4.28466797e-04j\n",
      "  0.07003967+3.81774902e-04j 0.06795593+2.30712891e-03j\n",
      "  0.05023773-9.47570801e-04j 0.04990814-2.57080078e-03j\n",
      "  0.07772552+4.58679199e-04j 0.06705505-5.68542480e-04j\n",
      "  0.06947205-7.32421875e-05j 0.04559326-1.07116699e-04j\n",
      "  0.06323059+0.00000000e+00j 0.067435  +4.50439453e-04j\n",
      "  0.05623077+2.14233398e-03j 0.01865479+6.75659180e-04j\n",
      "  0.05805359+2.22564697e-03j 0.05581055+3.20800781e-03j]\n",
      " [0.06778015-1.18652344e-03j 0.05445648+4.39453125e-05j\n",
      "  0.06930176-1.78527832e-03j 0.07051758+2.88391113e-04j\n",
      "  0.05069916+3.11462402e-03j 0.05137482+1.91986084e-03j\n",
      "  0.06804382-6.17980957e-04j 0.08243866-1.10687256e-03j\n",
      "  0.04157227-1.06292725e-03j 0.06583008+7.56225586e-04j\n",
      "  0.067435  -4.50439453e-04j 0.06354553+0.00000000e+00j\n",
      "  0.01423828+2.76855469e-03j 0.05555511-1.71386719e-03j\n",
      "  0.05743103+2.83447266e-03j 0.05906982+1.28082275e-03j]\n",
      " [0.07832428+1.11236572e-03j 0.06782959+3.18878174e-03j\n",
      "  0.05064972-9.80529785e-04j 0.04709015+1.43371582e-03j\n",
      "  0.06913879-6.34460449e-04j 0.06874695+1.25244141e-03j\n",
      "  0.05591766+1.20849609e-04j 0.06723633+9.22851563e-04j\n",
      "  0.05825684+7.73620605e-04j 0.05624451+8.23974609e-04j\n",
      "  0.05623077-2.14233398e-03j 0.01423828-2.76855469e-03j\n",
      "  0.06377075+0.00000000e+00j 0.06707794+1.59301758e-04j\n",
      "  0.06745056-4.81567383e-04j 0.04592285-1.65618896e-03j]\n",
      " [0.06746704+1.09588623e-03j 0.07779694-5.52062988e-04j\n",
      "  0.05094635-1.97753906e-03j 0.04822723+1.88690186e-03j\n",
      "  0.06973022+3.57055664e-04j 0.06958374+4.25720215e-04j\n",
      "  0.06390747-1.64794922e-04j 0.055242  -2.25219727e-04j\n",
      "  0.05571167+4.50439453e-04j 0.0571637 +1.48773193e-03j\n",
      "  0.01865479-6.75659180e-04j 0.05555511+1.71386719e-03j\n",
      "  0.06707794-1.59301758e-04j 0.06340454+0.00000000e+00j\n",
      "  0.04664795-4.03747559e-04j 0.06914795+1.39160156e-04j]\n",
      " [0.05155609-5.02624512e-04j 0.05312164+3.85620117e-03j\n",
      "  0.07743439-5.02624512e-04j 0.06802734+2.05169678e-03j\n",
      "  0.0564505 -2.41149902e-03j 0.06815918+7.74536133e-04j\n",
      "  0.06869385+2.88391113e-04j 0.06541809+6.92138672e-04j\n",
      "  0.05631866-1.35131836e-03j 0.01802856-1.53259277e-03j\n",
      "  0.05805359-2.22564697e-03j 0.05743103-2.83447266e-03j\n",
      "  0.06745056+4.81567383e-04j 0.04664795+4.03747559e-04j\n",
      "  0.06181152+0.00000000e+00j 0.06424347+2.63671875e-04j]\n",
      " [0.05134186-4.40002441e-03j 0.05041901+2.36480713e-03j\n",
      "  0.06766479-3.10638428e-03j 0.080961  +1.19476318e-03j\n",
      "  0.06862061-1.53259277e-03j 0.05712616+6.37207031e-04j\n",
      "  0.0659729 -1.12609863e-03j 0.07078674+1.62048340e-04j\n",
      "  0.01657837-1.68090820e-03j 0.05607147+1.68090820e-03j\n",
      "  0.05581055-3.20800781e-03j 0.05906982-1.28082275e-03j\n",
      "  0.04592285+1.65618896e-03j 0.06914795-1.39160156e-04j\n",
      "  0.06424347-2.63671875e-04j 0.06214844+0.00000000e+00j]]\n"
     ]
    }
   ],
   "source": [
    "main01, side_product01 = report01.export(jsonable=False)\n",
    "# you need to set jsonable=False to get the raw data\n",
    "# Otherwise, the data will be converted to JSON format,\n",
    "# which 'expect_rho' will be a string instead of a numpy array\n",
    "\n",
    "for k, v in main01.items():\n",
    "    if k == \"expect_rho\":\n",
    "        continue\n",
    "    print(f\"| {k}: {v}\")\n",
    "print(\"| expect_rho:\")\n",
    "print(main01[\"expect_rho\"])"
   ]
  },
  {
   "cell_type": "markdown",
   "id": "f67989e3",
   "metadata": {},
   "source": [
    "Also, `side_product` will contain a dictionary of `rho` from each group of random unitary,\n",
    "which is where `expect_rho` is calculated from.\n"
   ]
  },
  {
   "cell_type": "code",
   "execution_count": 10,
   "id": "a3b11a9e",
   "metadata": {},
   "outputs": [
    {
     "name": "stdout",
     "output_type": "stream",
     "text": [
      "| rho_m_dict\n",
      "| length of rho_m_dict: 100\n",
      "| keys of rho_s_dict: dict_keys([0, 1, 2, 3, 4, 5, 6, 7, 8, 9, 10, 11, 12, 13, 14, 15, 16, 17, 18, 19, 20, 21, 22, 23, 24, 25, 26, 27, 28, 29, 30, 31, 32, 33, 34, 35, 36, 37, 38, 39, 40, 41, 42, 43, 44, 45, 46, 47, 48, 49, 50, 51, 52, 53, 54, 55, 56, 57, 58, 59, 60, 61, 62, 63, 64, 65, 66, 67, 68, 69, 70, 71, 72, 73, 74, 75, 76, 77, 78, 79, 80, 81, 82, 83, 84, 85, 86, 87, 88, 89, 90, 91, 92, 93, 94, 95, 96, 97, 98, 99])\n",
      "| rho_m_dict[0]:\n",
      "[[0.07971191+0.j         0.        +0.j         0.        +0.j\n",
      "  0.        +0.j         0.        -0.05895996j 0.        +0.j\n",
      "  0.        +0.j         0.        +0.j         0.        +0.j\n",
      "  0.        +0.j         0.        +0.j         0.        +0.j\n",
      "  0.        +0.j         0.        +0.j         0.        +0.j\n",
      "  0.        +0.j        ]\n",
      " [0.        +0.j         0.03430176+0.j         0.        +0.j\n",
      "  0.        +0.j         0.        +0.j         0.        +0.14099121j\n",
      "  0.        +0.j         0.        +0.j         0.        +0.j\n",
      "  0.        +0.j         0.        +0.j         0.        +0.j\n",
      "  0.        +0.j         0.        +0.j         0.        +0.j\n",
      "  0.        +0.j        ]\n",
      " [0.        +0.j         0.        +0.j         0.08557129+0.j\n",
      "  0.        +0.j         0.        +0.j         0.        +0.j\n",
      "  0.        +0.09924316j 0.        +0.j         0.        +0.j\n",
      "  0.        +0.j         0.        +0.j         0.        +0.j\n",
      "  0.        +0.j         0.        +0.j         0.        +0.j\n",
      "  0.        +0.j        ]\n",
      " [0.        +0.j         0.        +0.j         0.        +0.j\n",
      "  0.07202148+0.j         0.        +0.j         0.        +0.j\n",
      "  0.        +0.j         0.        -0.17871094j 0.        +0.j\n",
      "  0.        +0.j         0.        +0.j         0.        +0.j\n",
      "  0.        +0.j         0.        +0.j         0.        +0.j\n",
      "  0.        +0.j        ]\n",
      " [0.        +0.05895996j 0.        +0.j         0.        +0.j\n",
      "  0.        +0.j         0.07971191+0.j         0.        +0.j\n",
      "  0.        +0.j         0.        +0.j         0.        +0.j\n",
      "  0.        +0.j         0.        +0.j         0.        +0.j\n",
      "  0.        +0.j         0.        +0.j         0.        +0.j\n",
      "  0.        +0.j        ]\n",
      " [0.        +0.j         0.        -0.14099121j 0.        +0.j\n",
      "  0.        +0.j         0.        +0.j         0.03430176+0.j\n",
      "  0.        +0.j         0.        +0.j         0.        +0.j\n",
      "  0.        +0.j         0.        +0.j         0.        +0.j\n",
      "  0.        +0.j         0.        +0.j         0.        +0.j\n",
      "  0.        +0.j        ]\n",
      " [0.        +0.j         0.        +0.j         0.        -0.09924316j\n",
      "  0.        +0.j         0.        +0.j         0.        +0.j\n",
      "  0.08557129+0.j         0.        +0.j         0.        +0.j\n",
      "  0.        +0.j         0.        +0.j         0.        +0.j\n",
      "  0.        +0.j         0.        +0.j         0.        +0.j\n",
      "  0.        +0.j        ]\n",
      " [0.        +0.j         0.        +0.j         0.        +0.j\n",
      "  0.        +0.17871094j 0.        +0.j         0.        +0.j\n",
      "  0.        +0.j         0.07202148+0.j         0.        +0.j\n",
      "  0.        +0.j         0.        +0.j         0.        +0.j\n",
      "  0.        +0.j         0.        +0.j         0.        +0.j\n",
      "  0.        +0.j        ]\n",
      " [0.        +0.j         0.        +0.j         0.        +0.j\n",
      "  0.        +0.j         0.        +0.j         0.        +0.j\n",
      "  0.        +0.j         0.        +0.j         0.05627441+0.j\n",
      "  0.        +0.j         0.        +0.j         0.        +0.j\n",
      "  0.        -0.00183105j 0.        +0.j         0.        +0.j\n",
      "  0.        +0.j        ]\n",
      " [0.        +0.j         0.        +0.j         0.        +0.j\n",
      "  0.        +0.j         0.        +0.j         0.        +0.j\n",
      "  0.        +0.j         0.        +0.j         0.        +0.j\n",
      "  0.07128906+0.j         0.        +0.j         0.        +0.j\n",
      "  0.        +0.j         0.        -0.06225586j 0.        +0.j\n",
      "  0.        +0.j        ]\n",
      " [0.        +0.j         0.        +0.j         0.        +0.j\n",
      "  0.        +0.j         0.        +0.j         0.        +0.j\n",
      "  0.        +0.j         0.        +0.j         0.        +0.j\n",
      "  0.        +0.j         0.03356934+0.j         0.        +0.j\n",
      "  0.        +0.j         0.        +0.j         0.        -0.01501465j\n",
      "  0.        +0.j        ]\n",
      " [0.        +0.j         0.        +0.j         0.        +0.j\n",
      "  0.        +0.j         0.        +0.j         0.        +0.j\n",
      "  0.        +0.j         0.        +0.j         0.        +0.j\n",
      "  0.        +0.j         0.        +0.j         0.06726074+0.j\n",
      "  0.        +0.j         0.        +0.j         0.        +0.j\n",
      "  0.        +0.05969238j]\n",
      " [0.        +0.j         0.        +0.j         0.        +0.j\n",
      "  0.        +0.j         0.        +0.j         0.        +0.j\n",
      "  0.        +0.j         0.        +0.j         0.        +0.00183105j\n",
      "  0.        +0.j         0.        +0.j         0.        +0.j\n",
      "  0.05627441+0.j         0.        +0.j         0.        +0.j\n",
      "  0.        +0.j        ]\n",
      " [0.        +0.j         0.        +0.j         0.        +0.j\n",
      "  0.        +0.j         0.        +0.j         0.        +0.j\n",
      "  0.        +0.j         0.        +0.j         0.        +0.j\n",
      "  0.        +0.06225586j 0.        +0.j         0.        +0.j\n",
      "  0.        +0.j         0.07128906+0.j         0.        +0.j\n",
      "  0.        +0.j        ]\n",
      " [0.        +0.j         0.        +0.j         0.        +0.j\n",
      "  0.        +0.j         0.        +0.j         0.        +0.j\n",
      "  0.        +0.j         0.        +0.j         0.        +0.j\n",
      "  0.        +0.j         0.        +0.01501465j 0.        +0.j\n",
      "  0.        +0.j         0.        +0.j         0.03356934+0.j\n",
      "  0.        +0.j        ]\n",
      " [0.        +0.j         0.        +0.j         0.        +0.j\n",
      "  0.        +0.j         0.        +0.j         0.        +0.j\n",
      "  0.        +0.j         0.        +0.j         0.        +0.j\n",
      "  0.        +0.j         0.        +0.j         0.        -0.05969238j\n",
      "  0.        +0.j         0.        +0.j         0.        +0.j\n",
      "  0.06726074+0.j        ]]\n"
     ]
    }
   ],
   "source": [
    "for k, v in side_product01.items():\n",
    "    print(f\"| {k}\")\n",
    "\n",
    "print(\"| length of rho_m_dict:\", len(side_product01[\"rho_m_dict\"]))\n",
    "print(\"| keys of rho_s_dict:\", side_product01[\"rho_m_dict\"].keys())\n",
    "print(\"| rho_m_dict[0]:\")\n",
    "print(side_product01[\"rho_m_dict\"][0])"
   ]
  },
  {
   "cell_type": "markdown",
   "id": "80f78a90",
   "metadata": {},
   "source": [
    "#### ii. Add the circuits to container `.waves`, then call them later.\n",
    "\n",
    "Since we have executed an experiment, the circuit we input in `exp1` is stored in the container `.waves` with serial number `0`.\n"
   ]
  },
  {
   "cell_type": "code",
   "execution_count": 11,
   "id": "e7e4b5fd",
   "metadata": {},
   "outputs": [
    {
     "data": {
      "text/plain": [
       "WaveContainer({\n",
       "  0: <qurry.recipe.simple.paramagnet.TrivialParamagnet object at 0x73bbe86367e0>})"
      ]
     },
     "execution_count": 11,
     "metadata": {},
     "output_type": "execute_result"
    }
   ],
   "source": [
    "experiment_shadow.waves"
   ]
  },
  {
   "cell_type": "markdown",
   "id": "c5dc7dc7",
   "metadata": {},
   "source": [
    "But we can also add the circuit to the container `.waves` with a custom name.\n",
    "The name should be unique, otherwise it will be overwritten.\n",
    "The method `add` will return the actual name of the circuit in the container.\n"
   ]
  },
  {
   "cell_type": "code",
   "execution_count": 12,
   "id": "50325122",
   "metadata": {},
   "outputs": [
    {
     "name": "stdout",
     "output_type": "stream",
     "text": [
      "ghz_8\n",
      "     ┌───┐                                   \n",
      "q_0: ┤ H ├──■────────────────────────────────\n",
      "     └───┘┌─┴─┐                              \n",
      "q_1: ─────┤ X ├──■───────────────────────────\n",
      "          └───┘┌─┴─┐                         \n",
      "q_2: ──────────┤ X ├──■──────────────────────\n",
      "               └───┘┌─┴─┐                    \n",
      "q_3: ───────────────┤ X ├──■─────────────────\n",
      "                    └───┘┌─┴─┐               \n",
      "q_4: ────────────────────┤ X ├──■────────────\n",
      "                         └───┘┌─┴─┐          \n",
      "q_5: ─────────────────────────┤ X ├──■───────\n",
      "                              └───┘┌─┴─┐     \n",
      "q_6: ──────────────────────────────┤ X ├──■──\n",
      "                                   └───┘┌─┴─┐\n",
      "q_7: ───────────────────────────────────┤ X ├\n",
      "                                        └───┘\n"
     ]
    }
   ],
   "source": [
    "print(experiment_shadow.add(sample02, \"ghz_8\"))\n",
    "print(experiment_shadow.waves[\"ghz_8\"])"
   ]
  },
  {
   "cell_type": "markdown",
   "id": "d426d0bf",
   "metadata": {},
   "source": [
    "If there is a circuit with the same name, it will be replaced by the new one.\n"
   ]
  },
  {
   "cell_type": "code",
   "execution_count": 13,
   "id": "62f0b726",
   "metadata": {},
   "outputs": [
    {
     "name": "stdout",
     "output_type": "stream",
     "text": [
      "ghz_8\n",
      "     ┌───┐\n",
      "q_0: ┤ X ├\n",
      "     └───┘\n",
      "q_1: ─────\n",
      "     ┌───┐\n",
      "q_2: ┤ X ├\n",
      "     └───┘\n",
      "q_3: ─────\n",
      "     ┌───┐\n",
      "q_4: ┤ X ├\n",
      "     └───┘\n",
      "q_5: ─────\n",
      "     ┌───┐\n",
      "q_6: ┤ X ├\n",
      "     └───┘\n",
      "q_7: ─────\n",
      "          \n"
     ]
    }
   ],
   "source": [
    "print(experiment_shadow.add(sample03, \"ghz_8\"))\n",
    "print(experiment_shadow.waves[\"ghz_8\"])"
   ]
  },
  {
   "cell_type": "markdown",
   "id": "7b79fe25",
   "metadata": {},
   "source": [
    "Otherwise, you will need to use `replace=\"duplicate\"` to prevent it from being replaced.\n"
   ]
  },
  {
   "cell_type": "code",
   "execution_count": 14,
   "id": "a1d8b6ae",
   "metadata": {},
   "outputs": [
    {
     "name": "stdout",
     "output_type": "stream",
     "text": [
      "ghz_8.2\n",
      "     ┌───┐                                   \n",
      "q_0: ┤ H ├──■────────────────────────────────\n",
      "     └───┘┌─┴─┐                              \n",
      "q_1: ─────┤ X ├──■───────────────────────────\n",
      "          └───┘┌─┴─┐                         \n",
      "q_2: ──────────┤ X ├──■──────────────────────\n",
      "               └───┘┌─┴─┐                    \n",
      "q_3: ───────────────┤ X ├──■─────────────────\n",
      "                    └───┘┌─┴─┐               \n",
      "q_4: ────────────────────┤ X ├──■────────────\n",
      "                         └───┘┌─┴─┐          \n",
      "q_5: ─────────────────────────┤ X ├──■───────\n",
      "                              └───┘┌─┴─┐     \n",
      "q_6: ──────────────────────────────┤ X ├──■──\n",
      "                                   └───┘┌─┴─┐\n",
      "q_7: ───────────────────────────────────┤ X ├\n",
      "                                        └───┘\n"
     ]
    }
   ],
   "source": [
    "duplicated_case01 = experiment_shadow.add(sample02, \"ghz_8\", replace=\"duplicate\")\n",
    "print(duplicated_case01)\n",
    "print(experiment_shadow.waves[duplicated_case01])"
   ]
  },
  {
   "cell_type": "markdown",
   "id": "f38b4679",
   "metadata": {},
   "source": [
    "Now we have prepared the circuit and stored it in the container `.waves`.\n"
   ]
  },
  {
   "cell_type": "code",
   "execution_count": 15,
   "id": "2a6e1e85",
   "metadata": {},
   "outputs": [
    {
     "data": {
      "text/plain": [
       "WaveContainer({\n",
       "  0: <qurry.recipe.simple.paramagnet.TrivialParamagnet object at 0x73bbe86367e0>,\n",
       "  'ghz_8': <qiskit.circuit.quantumcircuit.QuantumCircuit object at 0x73bbe86f4ce0>,\n",
       "  'ghz_8.2': <qurry.recipe.simple.cat.GHZ object at 0x73bbe86f53a0>})"
      ]
     },
     "execution_count": 15,
     "metadata": {},
     "output_type": "execute_result"
    }
   ],
   "source": [
    "experiment_shadow.waves"
   ]
  },
  {
   "cell_type": "markdown",
   "id": "66a312be",
   "metadata": {},
   "source": [
    "Finally, we can execute the circuit and get the result.\n"
   ]
  },
  {
   "cell_type": "code",
   "execution_count": 16,
   "id": "2d32257f",
   "metadata": {},
   "outputs": [
    {
     "name": "stderr",
     "output_type": "stream",
     "text": [
      "/usr/local/lib/python3.12/multiprocessing/popen_fork.py:66: RuntimeWarning: os.fork() was called. os.fork() is incompatible with multithreaded code, and JAX is multithreaded, so this will likely lead to a deadlock.\n",
      "  self.pid = os.fork()\n"
     ]
    },
    {
     "name": "stderr",
     "output_type": "stream",
     "text": [
      "/usr/local/lib/python3.12/multiprocessing/popen_fork.py:66: RuntimeWarning: os.fork() was called. os.fork() is incompatible with multithreaded code, and JAX is multithreaded, so this will likely lead to a deadlock.\n",
      "  self.pid = os.fork()\n"
     ]
    },
    {
     "data": {
      "text/plain": [
       "'29ac2573-038f-4415-b7a1-f3b6f3f82bd8'"
      ]
     },
     "execution_count": 16,
     "metadata": {},
     "output_type": "execute_result"
    }
   ],
   "source": [
    "exp2 = experiment_shadow.measure(\"ghz_8.2\", times=100, shots=4096)\n",
    "exp2"
   ]
  },
  {
   "cell_type": "code",
   "execution_count": 17,
   "id": "3490266c",
   "metadata": {},
   "outputs": [
    {
     "data": {
      "text/plain": [
       "<ShadowUnveilExperiment(exp_id=29ac2573-038f-4415-b7a1-f3b6f3f82bd8, \n",
       "  ShadowUnveilArguments(exp_name='experiment.N_U_100.qurshady_entropy', times=100, qubits_measured=[0, 1, 2, 3, 4, 5, 6, 7], registers_mapping={0: 0, 1: 1, 2: 2, 3: 3, 4: 4, 5: 5, 6: 6, 7: 7}, actual_num_qubits=8, unitary_located=[0, 1, 2, 3, 4, 5, 6, 7], random_unitary_seeds=None),\n",
       "  Commonparams(exp_id='29ac2573-038f-4415-b7a1-f3b6f3f82bd8', target_keys=['ghz_8.2'], shots=4096, backend=<AerSimulator('aer_simulator')>, run_args={}, transpile_args={}, tags=(), default_analysis=[], save_location=PosixPath('.'), filename='', files={}, serial=None, summoner_id=None, summoner_name=None, datetimes=DatetimeDict({'build': '2025-06-13 21:31:31', 'run.001': '2025-06-13 21:31:31'})),\n",
       "  unused_args_num=0,\n",
       "  analysis_num=0))>"
      ]
     },
     "execution_count": 17,
     "metadata": {},
     "output_type": "execute_result"
    }
   ],
   "source": [
    "experiment_shadow.exps[exp2]"
   ]
  },
  {
   "cell_type": "code",
   "execution_count": 18,
   "id": "3eec833e",
   "metadata": {},
   "outputs": [
    {
     "data": {
      "text/plain": [
       "<ShadowUnveilAnalysis(\n",
       "  serial=0,\n",
       "  AnalysisInput(num_qubits=8, selected_qubits=[0, 1, 2, 3], registers_mapping={0: 0, 1: 1, 2: 2, 3: 3, 4: 4, 5: 5, 6: 6, 7: 7}, bitstring_mapping={0: 0, 1: 1, 2: 2, 3: 3, 4: 4, 5: 5, 6: 6, 7: 7}, shots=4096, unitary_located=[0, 1, 2, 3, 4, 5, 6, 7]),\n",
       "  AnalysisContent(purity=0.35163742420348254, entropy=1.5078394725302031, and others)),\n",
       "  unused_args_num=1\n",
       "  )>"
      ]
     },
     "execution_count": 18,
     "metadata": {},
     "output_type": "execute_result"
    }
   ],
   "source": [
    "report02 = experiment_shadow.exps[exp2].analyze(\n",
    "    selected_qubits=[0, 1, 2, 3],\n",
    ")\n",
    "report02"
   ]
  },
  {
   "cell_type": "code",
   "execution_count": 19,
   "id": "8af56cc4",
   "metadata": {},
   "outputs": [
    {
     "name": "stdout",
     "output_type": "stream",
     "text": [
      "| purity: 0.35163742420348254\n",
      "| entropy: 1.5078394725302031\n",
      "| classical_registers_actually: [3, 2, 1, 0]\n",
      "| taking_time: 0.058391571044921875\n",
      "| input: {'num_qubits': 8, 'selected_qubits': [0, 1, 2, 3], 'registers_mapping': {0: 0, 1: 1, 2: 2, 3: 3, 4: 4, 5: 5, 6: 6, 7: 7}, 'bitstring_mapping': {0: 0, 1: 1, 2: 2, 3: 3, 4: 4, 5: 5, 6: 6, 7: 7}, 'shots': 4096, 'unitary_located': [0, 1, 2, 3, 4, 5, 6, 7]}\n",
      "| header: {'serial': 0, 'datetime': '2025-06-13 21:31:32', 'summoner': None, 'log': {}}\n",
      "| expect_rho:\n",
      "[[ 3.99228210e-01+0.00000000e+00j -1.68457031e-04+3.26843262e-04j\n",
      "   1.62322998e-03-5.18554687e-03j  2.82073975e-03+4.55932617e-04j\n",
      "   1.56738281e-03+1.39343262e-03j  1.91711426e-03-3.79028320e-04j\n",
      "  -7.77282715e-04-4.58679199e-04j  1.73034668e-03+9.88769531e-05j\n",
      "  -1.40533447e-03+2.74658203e-05j -1.74957275e-03+2.03247070e-04j\n",
      "   1.48590088e-03+8.62426758e-04j  1.02172852e-03+2.24945068e-03j\n",
      "  -4.42749023e-03+1.70837402e-03j  3.56781006e-03+1.54083252e-03j\n",
      "  -5.52062988e-04+5.52062988e-04j -3.33709717e-03+1.11236572e-03j]\n",
      " [-1.68457031e-04-3.26843262e-04j  3.00125122e-02+0.00000000e+00j\n",
      "  -2.73284912e-03+1.90612793e-03j  1.27166748e-03+1.48864746e-03j\n",
      "  -1.82922363e-03+1.15356445e-04j -8.27636719e-04+7.45239258e-04j\n",
      "  -5.43823242e-04-1.64794922e-04j  4.42199707e-04+4.97131348e-04j\n",
      "  -1.12335205e-03-5.65795898e-04j  1.48406982e-03-3.62548828e-04j\n",
      "   2.30712891e-04+8.32214355e-04j -3.44146729e-03+2.77404785e-03j\n",
      "   2.38952637e-04-2.66143799e-03j  1.60400391e-03+1.74133301e-03j\n",
      "  -3.08990479e-03+8.15734863e-04j  1.82098389e-03+1.34307861e-03j]\n",
      " [ 1.62322998e-03+5.18554687e-03j -2.73284912e-03-1.90612793e-03j\n",
      "   2.89321899e-02+0.00000000e+00j -1.38793945e-03-1.19476318e-03j\n",
      "  -3.98254395e-04-1.62322998e-03j -2.60375977e-03+7.08618164e-04j\n",
      "  -8.77075195e-04+1.84936523e-04j -2.59826660e-03+2.20825195e-03j\n",
      "  -1.94732666e-03-7.96508789e-04j  4.94384766e-04-3.87268066e-04j\n",
      "   1.88507080e-03-1.09863281e-05j  1.39801025e-03+5.49316406e-05j\n",
      "   4.03747559e-04-1.91986084e-03j -7.66296387e-04+1.35955811e-03j\n",
      "   2.88940430e-03+1.34582520e-03j  4.03747559e-04+8.48693848e-04j]\n",
      " [ 2.82073975e-03-4.55932617e-04j  1.27166748e-03-1.48864746e-03j\n",
      "  -1.38793945e-03+1.19476318e-03j -2.83157349e-02+0.00000000e+00j\n",
      "   4.94384766e-04+4.44946289e-04j -1.45294189e-03+7.49816895e-04j\n",
      "   1.07116699e-03+1.05468750e-03j  7.81860352e-04-2.34191895e-03j\n",
      "   1.31835938e-03-1.21124268e-03j  1.59576416e-03-3.66394043e-03j\n",
      "   6.06994629e-04+1.09863281e-05j  4.23889160e-04+6.53686523e-04j\n",
      "  -1.60675049e-03+1.06292725e-03j  2.87567139e-03-7.33337402e-04j\n",
      "  -6.50939941e-04+2.38128662e-03j -1.56005859e-03-1.19201660e-03j]\n",
      " [ 1.56738281e-03-1.39343262e-03j -1.82922363e-03-1.15356445e-04j\n",
      "  -3.98254395e-04+1.62322998e-03j  4.94384766e-04-4.44946289e-04j\n",
      "   7.31192017e-02+0.00000000e+00j  6.66503906e-04-1.01898193e-03j\n",
      "  -5.46569824e-04+2.64770508e-03j -5.41076660e-04-7.80029297e-04j\n",
      "   2.48840332e-03-1.38977051e-03j  2.21649170e-03+1.45843506e-03j\n",
      "  -1.35955811e-03-4.91912842e-03j  1.11236572e-03-2.49664307e-03j\n",
      "   8.24890137e-04+1.04370117e-04j  3.02947998e-03-8.84399414e-04j\n",
      "  -1.67816162e-03-6.04248047e-05j -3.62548828e-03-2.22473145e-04j]\n",
      " [ 1.91711426e-03+3.79028320e-04j -8.27636719e-04-7.45239258e-04j\n",
      "  -2.60375977e-03-7.08618164e-04j -1.45294189e-03-7.49816895e-04j\n",
      "   6.66503906e-04+1.01898193e-03j -7.24148560e-02+0.00000000e+00j\n",
      "   1.45294189e-03-1.24145508e-03j -4.03747559e-04-9.61303711e-04j\n",
      "  -1.44195557e-03-8.65173340e-04j -1.26892090e-03+2.16979980e-03j\n",
      "   2.84271240e-03-1.11236572e-03j -1.65618896e-03+2.49664307e-03j\n",
      "   2.69989014e-03+2.74658203e-05j  1.57196045e-03-6.81152344e-04j\n",
      "  -2.04345703e-03-1.63970947e-03j  1.89788818e-03-3.48815918e-03j]\n",
      " [-7.77282715e-04+4.58679199e-04j -5.43823242e-04+1.64794922e-04j\n",
      "  -8.77075195e-04-1.84936523e-04j  1.07116699e-03-1.05468750e-03j\n",
      "  -5.46569824e-04-2.64770508e-03j  1.45294189e-03+1.24145508e-03j\n",
      "  -4.98416138e-02+0.00000000e+00j  5.67626953e-04+1.24969482e-03j\n",
      "  -8.23974609e-06-9.31091309e-04j -3.70788574e-04-8.65173340e-04j\n",
      "   2.47192383e-04+2.10388184e-03j -6.50939941e-04-1.60675049e-03j\n",
      "   8.87145996e-04+1.26342773e-04j -5.93261719e-04+2.08465576e-03j\n",
      "  -3.75366211e-05-1.64794922e-04j -1.93084717e-03-3.40576172e-04j]\n",
      " [ 1.73034668e-03-9.88769531e-05j  4.42199707e-04-4.97131348e-04j\n",
      "  -2.59826660e-03-2.20825195e-03j  7.81860352e-04+2.34191895e-03j\n",
      "  -5.41076660e-04+7.80029297e-04j -4.03747559e-04+9.61303711e-04j\n",
      "   5.67626953e-04-1.24969482e-03j  1.19426575e-01+0.00000000e+00j\n",
      "   2.71911621e-04+5.19104004e-04j -2.05993652e-04+1.14532471e-03j\n",
      "  -2.62847900e-03-5.68542480e-04j  6.42700195e-04-3.63098145e-03j\n",
      "  -2.14233398e-03+1.26068115e-03j -3.28216553e-03+2.59826660e-03j\n",
      "  -1.30462646e-03-8.78906250e-05j -6.21185303e-03-9.33837891e-05j]\n",
      " [-1.40533447e-03-2.74658203e-05j -1.12335205e-03+5.65795898e-04j\n",
      "  -1.94732666e-03+7.96508789e-04j  1.31835938e-03+1.21124268e-03j\n",
      "   2.48840332e-03+1.38977051e-03j -1.44195557e-03+8.65173340e-04j\n",
      "  -8.23974609e-06+9.31091309e-04j  2.71911621e-04-5.19104004e-04j\n",
      "   1.18073425e-01+0.00000000e+00j -1.30004883e-04-1.14532471e-03j\n",
      "  -9.61303711e-05-9.06372070e-04j -2.66693115e-03-5.65795898e-04j\n",
      "  -5.52978516e-04-4.57763672e-05j -1.13159180e-03+8.40454102e-04j\n",
      "   4.25720215e-04+1.73309326e-03j -1.97753906e-03+9.88769531e-05j]\n",
      " [-1.74957275e-03-2.03247070e-04j  1.48406982e-03+3.62548828e-04j\n",
      "   4.94384766e-04+3.87268066e-04j  1.59576416e-03+3.66394043e-03j\n",
      "   2.21649170e-03-1.45843506e-03j -1.26892090e-03-2.16979980e-03j\n",
      "  -3.70788574e-04+8.65173340e-04j -2.05993652e-04-1.14532471e-03j\n",
      "  -1.30004883e-04+1.14532471e-03j -5.01583862e-02+0.00000000e+00j\n",
      "  -7.96508789e-05-1.02722168e-03j -1.53533936e-03+1.25244141e-03j\n",
      "   1.02172852e-03+2.45544434e-03j -6.73828125e-04-1.48498535e-03j\n",
      "   3.06518555e-03-1.64794922e-04j -2.33459473e-04+1.10687256e-03j]\n",
      " [ 1.48590088e-03-8.62426758e-04j  2.30712891e-04-8.32214355e-04j\n",
      "   1.88507080e-03+1.09863281e-05j  6.06994629e-04-1.09863281e-05j\n",
      "  -1.35955811e-03+4.91912842e-03j  2.84271240e-03+1.11236572e-03j\n",
      "   2.47192383e-04-2.10388184e-03j -2.62847900e-03+5.68542480e-04j\n",
      "  -9.61303711e-05+9.06372070e-04j -7.96508789e-05+1.02722168e-03j\n",
      "  -7.25851440e-02+0.00000000e+00j -1.01989746e-03+1.68365479e-03j\n",
      "  -8.76159668e-04-1.89514160e-04j  1.00524902e-03+7.08618164e-04j\n",
      "  -7.23266602e-04-1.25427246e-03j -5.05371094e-04-1.91162109e-03j]\n",
      " [ 1.02172852e-03-2.24945068e-03j -3.44146729e-03-2.77404785e-03j\n",
      "   1.39801025e-03-5.49316406e-05j  4.23889160e-04-6.53686523e-04j\n",
      "   1.11236572e-03+2.49664307e-03j -1.65618896e-03-2.49664307e-03j\n",
      "  -6.50939941e-04+1.60675049e-03j  6.42700195e-04+3.63098145e-03j\n",
      "  -2.66693115e-03+5.65795898e-04j -1.53533936e-03-1.25244141e-03j\n",
      "  -1.01989746e-03-1.68365479e-03j  7.43807983e-02+0.00000000e+00j\n",
      "  -3.21350098e-03+4.44946289e-04j -5.21850586e-05+6.01501465e-04j\n",
      "  -1.21948242e-03-1.94458008e-03j  1.82556152e-03+2.54699707e-03j]\n",
      " [-4.42749023e-03-1.70837402e-03j  2.38952637e-04+2.66143799e-03j\n",
      "   4.03747559e-04+1.91986084e-03j -1.60675049e-03-1.06292725e-03j\n",
      "   8.24890137e-04-1.04370117e-04j  2.69989014e-03-2.74658203e-05j\n",
      "   8.87145996e-04-1.26342773e-04j -2.14233398e-03-1.26068115e-03j\n",
      "  -5.52978516e-04+4.57763672e-05j  1.02172852e-03-2.45544434e-03j\n",
      "  -8.76159668e-04+1.89514160e-04j -3.21350098e-03-4.44946289e-04j\n",
      "  -2.66842651e-02+0.00000000e+00j -6.46362305e-04+1.13433838e-03j\n",
      "   1.40075684e-04+5.32836914e-04j  1.48590088e-03+2.05444336e-03j]\n",
      " [ 3.56781006e-03-1.54083252e-03j  1.60400391e-03-1.74133301e-03j\n",
      "  -7.66296387e-04-1.35955811e-03j  2.87567139e-03+7.33337402e-04j\n",
      "   3.02947998e-03+8.84399414e-04j  1.57196045e-03+6.81152344e-04j\n",
      "  -5.93261719e-04-2.08465576e-03j -3.28216553e-03-2.59826660e-03j\n",
      "  -1.13159180e-03-8.40454102e-04j -6.73828125e-04+1.48498535e-03j\n",
      "   1.00524902e-03-7.08618164e-04j -5.21850586e-05-6.01501465e-04j\n",
      "  -6.46362305e-04-1.13433838e-03j  2.85678101e-02+0.00000000e+00j\n",
      "  -4.66918945e-05+1.65893555e-03j -8.04748535e-04-1.26342773e-03j]\n",
      " [-5.52062988e-04-5.52062988e-04j -3.08990479e-03-8.15734863e-04j\n",
      "   2.88940430e-03-1.34582520e-03j -6.50939941e-04-2.38128662e-03j\n",
      "  -1.67816162e-03+6.04248047e-05j -2.04345703e-03+1.63970947e-03j\n",
      "  -3.75366211e-05+1.64794922e-04j -1.30462646e-03+8.78906250e-05j\n",
      "   4.25720215e-04-1.73309326e-03j  3.06518555e-03+1.64794922e-04j\n",
      "  -7.23266602e-04+1.25427246e-03j -1.21948242e-03+1.94458008e-03j\n",
      "   1.40075684e-04-5.32836914e-04j -4.66918945e-05-1.65893555e-03j\n",
      "   2.74874878e-02+0.00000000e+00j -4.15649414e-04-3.54309082e-04j]\n",
      " [-3.33709717e-03-1.11236572e-03j  1.82098389e-03-1.34307861e-03j\n",
      "   4.03747559e-04-8.48693848e-04j -1.56005859e-03+1.19201660e-03j\n",
      "  -3.62548828e-03+2.22473145e-04j  1.89788818e-03+3.48815918e-03j\n",
      "  -1.93084717e-03+3.40576172e-04j -6.21185303e-03+9.33837891e-05j\n",
      "  -1.97753906e-03-9.88769531e-05j -2.33459473e-04-1.10687256e-03j\n",
      "  -5.05371094e-04+1.91162109e-03j  1.82556152e-03-2.54699707e-03j\n",
      "   1.48590088e-03-2.05444336e-03j -8.04748535e-04+1.26342773e-03j\n",
      "  -4.15649414e-04+3.54309082e-04j  4.00771790e-01+0.00000000e+00j]]\n"
     ]
    }
   ],
   "source": [
    "main02, side_product02 = report02.export(jsonable=False)\n",
    "# you need to set jsonable=False to get the raw data\n",
    "# Otherwise, the data will be converted to JSON format,\n",
    "# which 'expect_rho' will be a string instead of a numpy array\n",
    "\n",
    "for k, v in main02.items():\n",
    "    if k == \"expect_rho\":\n",
    "        continue\n",
    "    print(f\"| {k}: {v}\")\n",
    "print(\"| expect_rho:\")\n",
    "print(main02[\"expect_rho\"])"
   ]
  },
  {
   "cell_type": "markdown",
   "id": "7da71740",
   "metadata": {},
   "source": [
    "### d. Export them after all\n"
   ]
  },
  {
   "cell_type": "code",
   "execution_count": 20,
   "id": "1c5b0ab5",
   "metadata": {},
   "outputs": [
    {
     "data": {
      "text/plain": [
       "{'folder': 'experiment.N_U_100.qurshady_entropy.011',\n",
       " 'qurryinfo': 'experiment.N_U_100.qurshady_entropy.011/qurryinfo.json',\n",
       " 'args': 'experiment.N_U_100.qurshady_entropy.011/args/experiment.N_U_100.qurshady_entropy.011.id=477e84fc-bfe9-4bbc-add0-18259234636d.args.json',\n",
       " 'advent': 'experiment.N_U_100.qurshady_entropy.011/advent/experiment.N_U_100.qurshady_entropy.011.id=477e84fc-bfe9-4bbc-add0-18259234636d.advent.json',\n",
       " 'legacy': 'experiment.N_U_100.qurshady_entropy.011/legacy/experiment.N_U_100.qurshady_entropy.011.id=477e84fc-bfe9-4bbc-add0-18259234636d.legacy.json',\n",
       " 'tales.random_unitary_ids': 'experiment.N_U_100.qurshady_entropy.011/tales/experiment.N_U_100.qurshady_entropy.011.id=477e84fc-bfe9-4bbc-add0-18259234636d.random_unitary_ids.json',\n",
       " 'reports': 'experiment.N_U_100.qurshady_entropy.011/reports/experiment.N_U_100.qurshady_entropy.011.id=477e84fc-bfe9-4bbc-add0-18259234636d.reports.json',\n",
       " 'reports.tales.rho_m_dict': 'experiment.N_U_100.qurshady_entropy.011/tales/experiment.N_U_100.qurshady_entropy.011.id=477e84fc-bfe9-4bbc-add0-18259234636d.rho_m_dict.reports.json'}"
      ]
     },
     "execution_count": 20,
     "metadata": {},
     "output_type": "execute_result"
    }
   ],
   "source": [
    "exp1_id, exp1_files_info = experiment_shadow.exps[exp1].write(\n",
    "    save_location=\".\",  # where to save files\n",
    ")\n",
    "exp1_files_info"
   ]
  },
  {
   "cell_type": "markdown",
   "id": "5ce8d9c7",
   "metadata": {},
   "source": [
    "---\n",
    "\n",
    "### Post-Process Availablities and Version Info\n"
   ]
  },
  {
   "cell_type": "code",
   "execution_count": 21,
   "id": "d4cca3b9",
   "metadata": {},
   "outputs": [
    {
     "data": {
      "text/plain": [
       " | Qurry version: 0.12.2\n",
       "---------------------------------------------------------------------------\n",
       " ### Qurry Post-Processing\n",
       "   - Backend Availability ................... Python Cython Rust   JAX   \n",
       " - randomized_measure\n",
       "   - entangled_entropy.entropy_core_2 ....... Yes    Depr.  Yes    No    \n",
       "   - entangle_entropy.purity_cell_2 ......... Yes    Depr.  Yes    No    \n",
       "   - entangled_entropy_v1.entropy_core ...... Yes    Depr.  Yes    No    \n",
       "   - entangle_entropy_v1.purity_cell ........ Yes    Depr.  Yes    No    \n",
       "   - wavefunction_overlap.echo_core_2 ....... Yes    Depr.  Yes    No    \n",
       "   - wavefunction_overlap.echo_cell_2 ....... Yes    Depr.  Yes    No    \n",
       "   - wavefunction_overlap_v1.echo_core ...... Yes    Depr.  Yes    No    \n",
       "   - wavefunction_overlap_v1.echo_cell ...... Yes    Depr.  Yes    No    \n",
       " - hadamard_test\n",
       "   - purity_echo_core ....................... Yes    No     Yes    No    \n",
       " - magnet_square\n",
       "   - magnsq_core ............................ Yes    No     No     No    \n",
       " - classical_shadow\n",
       "   - rho_m_core ............................. Yes    No     No     Yes   \n",
       " - utils\n",
       "   - randomized ............................. Yes    Depr.  Yes    No    \n",
       "   - counts_process ......................... Yes    No     Yes    No    \n",
       "   - bit_slice .............................. Yes    No     Yes    No    \n",
       "   - dummy .................................. Yes    No     Yes    No    \n",
       "   - test ................................... Yes    No     Yes    No    \n",
       "---------------------------------------------------------------------------\n",
       "   + Yes ...... Working normally.\n",
       "   + Error .... Exception occurred.\n",
       "   + No ....... Not supported.\n",
       "   + Depr. .... Deprecated.\n",
       "---------------------------------------------------------------------------\n",
       "by <Hoshi>"
      ]
     },
     "execution_count": 21,
     "metadata": {},
     "output_type": "execute_result"
    }
   ],
   "source": [
    "from qurry.process import AVAIBILITY_STATESHEET\n",
    "\n",
    "AVAIBILITY_STATESHEET"
   ]
  },
  {
   "cell_type": "code",
   "execution_count": null,
   "id": "898c1a96",
   "metadata": {},
   "outputs": [],
   "source": []
  }
 ],
 "metadata": {
  "kernelspec": {
   "display_name": "qurrium_docs",
   "language": "python",
   "name": "python3"
  },
  "language_info": {
   "codemirror_mode": {
    "name": "ipython",
    "version": 3
   },
   "file_extension": ".py",
   "mimetype": "text/x-python",
   "name": "python",
   "nbconvert_exporter": "python",
   "pygments_lexer": "ipython3",
   "version": "3.12.11"
  }
 },
 "nbformat": 4,
 "nbformat_minor": 5
}