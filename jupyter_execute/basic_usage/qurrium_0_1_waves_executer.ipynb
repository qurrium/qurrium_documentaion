{
 "cells": [
  {
   "cell_type": "markdown",
   "id": "166f3b67",
   "metadata": {},
   "source": [
    "# 0.1 WavesExecuter\n",
    "## Basic Usage\n",
    "\n",
    "This `QurriumInstance` does not any post-processing feature but provides a workdlow that can execute multiple at once.\n"
   ]
  },
  {
   "cell_type": "markdown",
   "id": "86beb579",
   "metadata": {},
   "source": [
    "### a. Import the instances\n"
   ]
  },
  {
   "cell_type": "code",
   "execution_count": 1,
   "id": "0fc71722",
   "metadata": {},
   "outputs": [],
   "source": [
    "from qurry import WavesExecuter\n",
    "\n",
    "experiment_workflow = WavesExecuter()"
   ]
  },
  {
   "cell_type": "markdown",
   "id": "d48d1d69",
   "metadata": {},
   "source": [
    "### b. Preparing quantum circuit\n",
    "\n",
    "Remember for any quantum circuit, you need to make sure that they all contain classical registers.\n",
    "Otherwise, `WavesExecuter` will raise an `ValueError` when you try to execute the circuit.\n"
   ]
  },
  {
   "cell_type": "code",
   "execution_count": 2,
   "id": "2e597e81",
   "metadata": {},
   "outputs": [],
   "source": [
    "from qiskit import QuantumCircuit\n",
    "from qurry.recipe import TrivialParamagnet, GHZ\n",
    "\n",
    "\n",
    "def make_neel_circuit(n):\n",
    "    qc = QuantumCircuit(n)\n",
    "    for i in range(0, n, 2):\n",
    "        qc.x(i)\n",
    "    return qc\n",
    "\n",
    "\n",
    "circuits_dict = {}\n",
    "\n",
    "for i in range(2, 13, 2):\n",
    "    circuits_dict[f\"trivial_paramagnet_{i}_ms\"] = TrivialParamagnet(i)\n",
    "    circuits_dict[f\"ghz_{i}_ms\"] = GHZ(i)\n",
    "    circuits_dict[f\"neel_{i}_ms\"] = make_neel_circuit(i)\n",
    "\n",
    "for name, circuit in circuits_dict.items():\n",
    "    circuit.measure_all()"
   ]
  },
  {
   "cell_type": "code",
   "execution_count": 3,
   "id": "a40fc17c",
   "metadata": {},
   "outputs": [
    {
     "name": "stdout",
     "output_type": "stream",
     "text": [
      "     ┌───┐\n",
      "q_0: ┤ H ├\n",
      "     ├───┤\n",
      "q_1: ┤ H ├\n",
      "     └───┘\n",
      "Error: | No classical register in ALL circuits, counts will be empty. Please add classical register to the circuit. (Don't be frustrated, I did the same thing on unit test. It made me confused and thought what's wrong for a while before ('_').)\n"
     ]
    }
   ],
   "source": [
    "no_creq = TrivialParamagnet(2)\n",
    "print(no_creq.draw())\n",
    "\n",
    "try:\n",
    "    experiment_workflow.measure([no_creq], shots=1024)\n",
    "except ValueError as e:\n",
    "    print(f\"Error: {e}\")"
   ]
  },
  {
   "cell_type": "markdown",
   "id": "25fc5d4c",
   "metadata": {},
   "source": [
    "### c. Execute the circuit\n"
   ]
  },
  {
   "cell_type": "markdown",
   "id": "6937e4ba",
   "metadata": {},
   "source": [
    "#### i. Directly input the circuit\n",
    "\n",
    "After executing, it will return a uuid of experiment. You can use this uuid to get the result of the experiment.\n"
   ]
  },
  {
   "cell_type": "code",
   "execution_count": 4,
   "id": "3135a9f2",
   "metadata": {},
   "outputs": [
    {
     "data": {
      "text/plain": [
       "'c139c1f4-2232-4dd1-82c1-0837045e606d'"
      ]
     },
     "execution_count": 4,
     "metadata": {},
     "output_type": "execute_result"
    }
   ],
   "source": [
    "exp1 = experiment_workflow.measure(list(circuits_dict.values()), shots=1024)\n",
    "exp1"
   ]
  },
  {
   "cell_type": "markdown",
   "id": "4052ff26",
   "metadata": {},
   "source": [
    "Each experiment result will be stored in a container `.exps`.\n"
   ]
  },
  {
   "cell_type": "code",
   "execution_count": 5,
   "id": "a01a6c9f",
   "metadata": {},
   "outputs": [
    {
     "data": {
      "text/plain": [
       "<WavesExecuterExperiment(exp_id=c139c1f4-2232-4dd1-82c1-0837045e606d, \n",
       "  WavesExecuterArguments(exp_name='experiment.waves_executer'),\n",
       "  Commonparams(exp_id='c139c1f4-2232-4dd1-82c1-0837045e606d', target_keys=[1, 2, 3, 4, 5, 6, 7, 8, 9, 10, 11, 12, 13, 14, 15, 16, 17, 18], shots=1024, backend=<AerSimulator('aer_simulator')>, run_args={}, transpile_args={}, tags=(), default_analysis=[], save_location=PosixPath('.'), filename='', files={}, serial=None, summoner_id=None, summoner_name=None, datetimes=DatetimeDict({'build': '2025-06-20 05:10:27', 'run.001': '2025-06-20 05:10:27'})),\n",
       "  unused_args_num=0,\n",
       "  analysis_num=0))>"
      ]
     },
     "execution_count": 5,
     "metadata": {},
     "output_type": "execute_result"
    }
   ],
   "source": [
    "experiment_workflow.exps[exp1]"
   ]
  },
  {
   "cell_type": "markdown",
   "id": "a392b6da",
   "metadata": {},
   "source": [
    "`WavesExecuter` does not provide any post-processing feature.\n",
    "So `.analyze()` **will not provide any useful information**, but\n",
    "\n",
    "**The Answer to the Ultimate Question of Life, The Universe, and Everything**\n"
   ]
  },
  {
   "cell_type": "code",
   "execution_count": 6,
   "id": "98b17ffb",
   "metadata": {},
   "outputs": [
    {
     "name": "stdout",
     "output_type": "stream",
     "text": [
      "| ultimate_question: \n"
     ]
    },
    {
     "data": {
      "text/plain": [
       "<WavesQurryAnalysis(\n",
       "  serial=0,\n",
       "  AnalysisInput(ultimate_question=''),\n",
       "  AnalysisContent(ultimate_answer=42, dummy=-100)),\n",
       "  unused_args_num=0\n",
       "  )>"
      ]
     },
     "execution_count": 6,
     "metadata": {},
     "output_type": "execute_result"
    }
   ],
   "source": [
    "report01 = experiment_workflow.exps[exp1].analyze()\n",
    "report01"
   ]
  },
  {
   "cell_type": "code",
   "execution_count": 7,
   "id": "04e837c4",
   "metadata": {},
   "outputs": [
    {
     "data": {
      "text/plain": [
       "{'ultimate_answer': 42,\n",
       " 'input': {'ultimate_question': ''},\n",
       " 'header': {'serial': 0,\n",
       "  'datetime': '2025-06-20 05:10:27',\n",
       "  'summoner': None,\n",
       "  'log': {}}}"
      ]
     },
     "execution_count": 7,
     "metadata": {},
     "output_type": "execute_result"
    }
   ],
   "source": [
    "main01, side_product01 = report01.export()\n",
    "main01"
   ]
  },
  {
   "cell_type": "markdown",
   "id": "80f78a90",
   "metadata": {},
   "source": [
    "#### ii. Add the circuits to container `.waves`, then call them later.\n",
    "\n",
    "Since we have executed an experiment, the circuit we input in `exp1` is stored in the container `.waves` with serial number `0`.\n"
   ]
  },
  {
   "cell_type": "code",
   "execution_count": 8,
   "id": "e7e4b5fd",
   "metadata": {},
   "outputs": [
    {
     "data": {
      "text/plain": [
       "WaveContainer({\n",
       "  0: <qurry.recipe.simple.paramagnet.TrivialParamagnet object at 0x748fa121a600>,\n",
       "  1: <qurry.recipe.simple.paramagnet.TrivialParamagnet object at 0x74900024c530>,\n",
       "  2: <qurry.recipe.simple.cat.GHZ object at 0x748fa12185f0>,\n",
       "  3: <qiskit.circuit.quantumcircuit.QuantumCircuit object at 0x748fa1218d70>,\n",
       "  4: <qurry.recipe.simple.paramagnet.TrivialParamagnet object at 0x748fa1219040>,\n",
       "  5: <qurry.recipe.simple.cat.GHZ object at 0x748fa1219550>,\n",
       "  6: <qiskit.circuit.quantumcircuit.QuantumCircuit object at 0x748fa1219730>,\n",
       "  7: <qurry.recipe.simple.paramagnet.TrivialParamagnet object at 0x748fa12197f0>,\n",
       "  8: <qurry.recipe.simple.cat.GHZ object at 0x748fa1219820>,\n",
       "  9: <qiskit.circuit.quantumcircuit.QuantumCircuit object at 0x748fa1219850>,\n",
       "  10: <qurry.recipe.simple.paramagnet.TrivialParamagnet object at 0x748fa1219910>,\n",
       "  11: <qurry.recipe.simple.cat.GHZ object at 0x748fa1219940>,\n",
       "  12: <qiskit.circuit.quantumcircuit.QuantumCircuit object at 0x748fa12199a0>,\n",
       "  13: <qurry.recipe.simple.paramagnet.TrivialParamagnet object at 0x748fa1219a60>,\n",
       "  14: <qurry.recipe.simple.cat.GHZ object at 0x748fa1219a90>,\n",
       "  15: <qiskit.circuit.quantumcircuit.QuantumCircuit object at 0x748fa1219af0>,\n",
       "  16: <qurry.recipe.simple.paramagnet.TrivialParamagnet object at 0x748fa139a2a0>,\n",
       "  17: <qurry.recipe.simple.cat.GHZ object at 0x748fa1219bb0>,\n",
       "  18: <qiskit.circuit.quantumcircuit.QuantumCircuit object at 0x748fa1485a30>})"
      ]
     },
     "execution_count": 8,
     "metadata": {},
     "output_type": "execute_result"
    }
   ],
   "source": [
    "experiment_workflow.waves"
   ]
  },
  {
   "cell_type": "markdown",
   "id": "c5dc7dc7",
   "metadata": {},
   "source": [
    "But we can also add the circuit to the container `.waves` with a custom name.\n",
    "The name should be unique, otherwise it will be overwritten.\n",
    "The method `add` will return the actual name of the circuit in the container.\n"
   ]
  },
  {
   "cell_type": "code",
   "execution_count": 9,
   "id": "ab6b71dc",
   "metadata": {},
   "outputs": [
    {
     "name": "stdout",
     "output_type": "stream",
     "text": [
      "trivial_paramagnet_2_ms\n",
      "ghz_2_ms\n",
      "neel_2_ms\n",
      "trivial_paramagnet_4_ms\n",
      "ghz_4_ms\n",
      "neel_4_ms\n",
      "trivial_paramagnet_6_ms\n",
      "ghz_6_ms\n",
      "neel_6_ms\n",
      "trivial_paramagnet_8_ms\n",
      "ghz_8_ms\n",
      "neel_8_ms\n",
      "trivial_paramagnet_10_ms\n",
      "ghz_10_ms\n",
      "neel_10_ms\n",
      "trivial_paramagnet_12_ms\n",
      "ghz_12_ms\n",
      "neel_12_ms\n"
     ]
    }
   ],
   "source": [
    "for k, v in circuits_dict.items():\n",
    "    print(experiment_workflow.add(v, k))"
   ]
  },
  {
   "cell_type": "markdown",
   "id": "d426d0bf",
   "metadata": {},
   "source": [
    "If there is a circuit with the same name, it will be replaced by the new one.\n"
   ]
  },
  {
   "cell_type": "code",
   "execution_count": 10,
   "id": "62f0b726",
   "metadata": {},
   "outputs": [
    {
     "name": "stdout",
     "output_type": "stream",
     "text": [
      "ghz_8_ms\n",
      "        ┌───┐ ░ ┌─┐   \n",
      "   q_0: ┤ H ├─░─┤M├───\n",
      "        ├───┤ ░ └╥┘┌─┐\n",
      "   q_1: ┤ H ├─░──╫─┤M├\n",
      "        └───┘ ░  ║ └╥┘\n",
      "meas: 2/═════════╩══╩═\n",
      "                 0  1 \n"
     ]
    }
   ],
   "source": [
    "print(experiment_workflow.add(circuits_dict[\"trivial_paramagnet_2_ms\"], \"ghz_8_ms\"))\n",
    "print(experiment_workflow.waves[\"ghz_8_ms\"])"
   ]
  },
  {
   "cell_type": "markdown",
   "id": "7b79fe25",
   "metadata": {},
   "source": [
    "Otherwise, you will need to use `replace=\"duplicate\"` to prevent it from being replaced.\n"
   ]
  },
  {
   "cell_type": "code",
   "execution_count": 11,
   "id": "a1d8b6ae",
   "metadata": {},
   "outputs": [
    {
     "name": "stdout",
     "output_type": "stream",
     "text": [
      "ghz_8_ms.37\n",
      "        ┌───┐ ░ ┌─┐   \n",
      "   q_0: ┤ H ├─░─┤M├───\n",
      "        ├───┤ ░ └╥┘┌─┐\n",
      "   q_1: ┤ H ├─░──╫─┤M├\n",
      "        └───┘ ░  ║ └╥┘\n",
      "meas: 2/═════════╩══╩═\n",
      "                 0  1 \n"
     ]
    }
   ],
   "source": [
    "duplicated_case01 = experiment_workflow.add(\n",
    "    circuits_dict[\"trivial_paramagnet_2_ms\"], \"ghz_8_ms\", replace=\"duplicate\"\n",
    ")\n",
    "print(duplicated_case01)\n",
    "print(experiment_workflow.waves[duplicated_case01])"
   ]
  },
  {
   "cell_type": "markdown",
   "id": "f38b4679",
   "metadata": {},
   "source": [
    "Now we have prepared the circuit and stored it in the container `.waves`.\n"
   ]
  },
  {
   "cell_type": "code",
   "execution_count": 12,
   "id": "2a6e1e85",
   "metadata": {},
   "outputs": [
    {
     "data": {
      "text/plain": [
       "WaveContainer({\n",
       "  0: <qurry.recipe.simple.paramagnet.TrivialParamagnet object at 0x748fa121a600>,\n",
       "  1: <qurry.recipe.simple.paramagnet.TrivialParamagnet object at 0x74900024c530>,\n",
       "  2: <qurry.recipe.simple.cat.GHZ object at 0x748fa12185f0>,\n",
       "  3: <qiskit.circuit.quantumcircuit.QuantumCircuit object at 0x748fa1218d70>,\n",
       "  4: <qurry.recipe.simple.paramagnet.TrivialParamagnet object at 0x748fa1219040>,\n",
       "  5: <qurry.recipe.simple.cat.GHZ object at 0x748fa1219550>,\n",
       "  6: <qiskit.circuit.quantumcircuit.QuantumCircuit object at 0x748fa1219730>,\n",
       "  7: <qurry.recipe.simple.paramagnet.TrivialParamagnet object at 0x748fa12197f0>,\n",
       "  8: <qurry.recipe.simple.cat.GHZ object at 0x748fa1219820>,\n",
       "  9: <qiskit.circuit.quantumcircuit.QuantumCircuit object at 0x748fa1219850>,\n",
       "  10: <qurry.recipe.simple.paramagnet.TrivialParamagnet object at 0x748fa1219910>,\n",
       "  11: <qurry.recipe.simple.cat.GHZ object at 0x748fa1219940>,\n",
       "  12: <qiskit.circuit.quantumcircuit.QuantumCircuit object at 0x748fa12199a0>,\n",
       "  13: <qurry.recipe.simple.paramagnet.TrivialParamagnet object at 0x748fa1219a60>,\n",
       "  14: <qurry.recipe.simple.cat.GHZ object at 0x748fa1219a90>,\n",
       "  15: <qiskit.circuit.quantumcircuit.QuantumCircuit object at 0x748fa1219af0>,\n",
       "  16: <qurry.recipe.simple.paramagnet.TrivialParamagnet object at 0x748fa139a2a0>,\n",
       "  17: <qurry.recipe.simple.cat.GHZ object at 0x748fa1219bb0>,\n",
       "  18: <qiskit.circuit.quantumcircuit.QuantumCircuit object at 0x748fa1485a30>,\n",
       "  'trivial_paramagnet_2_ms': <qurry.recipe.simple.paramagnet.TrivialParamagnet object at 0x74900024c530>,\n",
       "  'ghz_2_ms': <qurry.recipe.simple.cat.GHZ object at 0x748fa12185f0>,\n",
       "  'neel_2_ms': <qiskit.circuit.quantumcircuit.QuantumCircuit object at 0x748fa1218d70>,\n",
       "  'trivial_paramagnet_4_ms': <qurry.recipe.simple.paramagnet.TrivialParamagnet object at 0x748fa1219040>,\n",
       "  'ghz_4_ms': <qurry.recipe.simple.cat.GHZ object at 0x748fa1219550>,\n",
       "  'neel_4_ms': <qiskit.circuit.quantumcircuit.QuantumCircuit object at 0x748fa1219730>,\n",
       "  'trivial_paramagnet_6_ms': <qurry.recipe.simple.paramagnet.TrivialParamagnet object at 0x748fa12197f0>,\n",
       "  'ghz_6_ms': <qurry.recipe.simple.cat.GHZ object at 0x748fa1219820>,\n",
       "  'neel_6_ms': <qiskit.circuit.quantumcircuit.QuantumCircuit object at 0x748fa1219850>,\n",
       "  'trivial_paramagnet_8_ms': <qurry.recipe.simple.paramagnet.TrivialParamagnet object at 0x748fa1219910>,\n",
       "  'ghz_8_ms': <qurry.recipe.simple.paramagnet.TrivialParamagnet object at 0x74900024c530>,\n",
       "  'neel_8_ms': <qiskit.circuit.quantumcircuit.QuantumCircuit object at 0x748fa12199a0>,\n",
       "  'trivial_paramagnet_10_ms': <qurry.recipe.simple.paramagnet.TrivialParamagnet object at 0x748fa1219a60>,\n",
       "  'ghz_10_ms': <qurry.recipe.simple.cat.GHZ object at 0x748fa1219a90>,\n",
       "  'neel_10_ms': <qiskit.circuit.quantumcircuit.QuantumCircuit object at 0x748fa1219af0>,\n",
       "  'trivial_paramagnet_12_ms': <qurry.recipe.simple.paramagnet.TrivialParamagnet object at 0x748fa139a2a0>,\n",
       "  'ghz_12_ms': <qurry.recipe.simple.cat.GHZ object at 0x748fa1219bb0>,\n",
       "  'neel_12_ms': <qiskit.circuit.quantumcircuit.QuantumCircuit object at 0x748fa1485a30>,\n",
       "  'ghz_8_ms.37': <qurry.recipe.simple.paramagnet.TrivialParamagnet object at 0x74900024c530>})"
      ]
     },
     "execution_count": 12,
     "metadata": {},
     "output_type": "execute_result"
    }
   ],
   "source": [
    "experiment_workflow.waves"
   ]
  },
  {
   "cell_type": "markdown",
   "id": "66a312be",
   "metadata": {},
   "source": [
    "Finally, we can execute the circuit and get the result.\n"
   ]
  },
  {
   "cell_type": "code",
   "execution_count": 13,
   "id": "2d32257f",
   "metadata": {},
   "outputs": [
    {
     "data": {
      "text/plain": [
       "'2da633f8-fad9-49db-af3a-cb8dc3c0d557'"
      ]
     },
     "execution_count": 13,
     "metadata": {},
     "output_type": "execute_result"
    }
   ],
   "source": [
    "exp2 = experiment_workflow.measure(list(circuits_dict.keys()), shots=1024)\n",
    "exp2"
   ]
  },
  {
   "cell_type": "code",
   "execution_count": 14,
   "id": "3490266c",
   "metadata": {},
   "outputs": [
    {
     "data": {
      "text/plain": [
       "<WavesExecuterExperiment(exp_id=2da633f8-fad9-49db-af3a-cb8dc3c0d557, \n",
       "  WavesExecuterArguments(exp_name='experiment.waves_executer'),\n",
       "  Commonparams(exp_id='2da633f8-fad9-49db-af3a-cb8dc3c0d557', target_keys=['trivial_paramagnet_2_ms', 'ghz_2_ms', 'neel_2_ms', 'trivial_paramagnet_4_ms', 'ghz_4_ms', 'neel_4_ms', 'trivial_paramagnet_6_ms', 'ghz_6_ms', 'neel_6_ms', 'trivial_paramagnet_8_ms', 'ghz_8_ms', 'neel_8_ms', 'trivial_paramagnet_10_ms', 'ghz_10_ms', 'neel_10_ms', 'trivial_paramagnet_12_ms', 'ghz_12_ms', 'neel_12_ms'], shots=1024, backend=<AerSimulator('aer_simulator')>, run_args={}, transpile_args={}, tags=(), default_analysis=[], save_location=PosixPath('.'), filename='', files={}, serial=None, summoner_id=None, summoner_name=None, datetimes=DatetimeDict({'build': '2025-06-20 05:10:36', 'run.001': '2025-06-20 05:10:36'})),\n",
       "  unused_args_num=0,\n",
       "  analysis_num=0))>"
      ]
     },
     "execution_count": 14,
     "metadata": {},
     "output_type": "execute_result"
    }
   ],
   "source": [
    "experiment_workflow.exps[exp2]"
   ]
  },
  {
   "cell_type": "code",
   "execution_count": 15,
   "id": "3eec833e",
   "metadata": {},
   "outputs": [
    {
     "name": "stdout",
     "output_type": "stream",
     "text": [
      "| ultimate_question: What is the answer to the ultimate question of life, the universe, and everything\n"
     ]
    },
    {
     "data": {
      "text/plain": [
       "<WavesQurryAnalysis(\n",
       "  serial=0,\n",
       "  AnalysisInput(ultimate_question='What is the answer to the ultimate question of life, the universe, and everything'),\n",
       "  AnalysisContent(ultimate_answer=42, dummy=-100)),\n",
       "  unused_args_num=0\n",
       "  )>"
      ]
     },
     "execution_count": 15,
     "metadata": {},
     "output_type": "execute_result"
    }
   ],
   "source": [
    "report02 = experiment_workflow.exps[exp2].analyze(\n",
    "    \"What is the answer to the ultimate question of life, the universe, and everything\"\n",
    ")\n",
    "report02"
   ]
  },
  {
   "cell_type": "markdown",
   "id": "8beaea80",
   "metadata": {},
   "source": [
    "### d. take `counts`"
   ]
  },
  {
   "cell_type": "code",
   "execution_count": 16,
   "id": "aafd7aa5",
   "metadata": {},
   "outputs": [
    {
     "data": {
      "text/plain": [
       "[{'11': 256, '10': 262, '00': 253, '01': 253},\n",
       " {'00': 502, '11': 522},\n",
       " {'01': 1024}]"
      ]
     },
     "execution_count": 16,
     "metadata": {},
     "output_type": "execute_result"
    }
   ],
   "source": [
    "experiment_workflow.exps[exp2].afterwards.counts[:3]"
   ]
  },
  {
   "cell_type": "markdown",
   "id": "7da71740",
   "metadata": {},
   "source": [
    "### e. Export them after all\n"
   ]
  },
  {
   "cell_type": "code",
   "execution_count": 17,
   "id": "1c5b0ab5",
   "metadata": {},
   "outputs": [
    {
     "data": {
      "text/plain": [
       "{'folder': 'experiment.waves_executer.001',\n",
       " 'qurryinfo': 'experiment.waves_executer.001/qurryinfo.json',\n",
       " 'args': 'experiment.waves_executer.001/args/experiment.waves_executer.001.id=c139c1f4-2232-4dd1-82c1-0837045e606d.args.json',\n",
       " 'advent': 'experiment.waves_executer.001/advent/experiment.waves_executer.001.id=c139c1f4-2232-4dd1-82c1-0837045e606d.advent.json',\n",
       " 'legacy': 'experiment.waves_executer.001/legacy/experiment.waves_executer.001.id=c139c1f4-2232-4dd1-82c1-0837045e606d.legacy.json',\n",
       " 'reports': 'experiment.waves_executer.001/reports/experiment.waves_executer.001.id=c139c1f4-2232-4dd1-82c1-0837045e606d.reports.json',\n",
       " 'reports.tales.dummy': 'experiment.waves_executer.001/tales/experiment.waves_executer.001.id=c139c1f4-2232-4dd1-82c1-0837045e606d.dummy.reports.json'}"
      ]
     },
     "execution_count": 17,
     "metadata": {},
     "output_type": "execute_result"
    }
   ],
   "source": [
    "exp1_id, exp1_files_info = experiment_workflow.exps[exp1].write(\n",
    "    save_location=\".\",  # where to save files\n",
    ")\n",
    "exp1_files_info"
   ]
  },
  {
   "cell_type": "markdown",
   "id": "5ce8d9c7",
   "metadata": {},
   "source": [
    "---\n",
    "\n",
    "### Post-Process Availablities and Version Info\n"
   ]
  },
  {
   "cell_type": "code",
   "execution_count": 18,
   "id": "d4cca3b9",
   "metadata": {},
   "outputs": [
    {
     "data": {
      "text/plain": [
       " | Qurry version: 0.12.2\n",
       "---------------------------------------------------------------------------\n",
       " ### Qurry Post-Processing\n",
       "   - Backend Availability ................... Python Cython Rust   JAX   \n",
       " - randomized_measure\n",
       "   - entangled_entropy.entropy_core_2 ....... Yes    Depr.  Yes    No    \n",
       "   - entangle_entropy.purity_cell_2 ......... Yes    Depr.  Yes    No    \n",
       "   - entangled_entropy_v1.entropy_core ...... Yes    Depr.  Yes    No    \n",
       "   - entangle_entropy_v1.purity_cell ........ Yes    Depr.  Yes    No    \n",
       "   - wavefunction_overlap.echo_core_2 ....... Yes    Depr.  Yes    No    \n",
       "   - wavefunction_overlap.echo_cell_2 ....... Yes    Depr.  Yes    No    \n",
       "   - wavefunction_overlap_v1.echo_core ...... Yes    Depr.  Yes    No    \n",
       "   - wavefunction_overlap_v1.echo_cell ...... Yes    Depr.  Yes    No    \n",
       " - hadamard_test\n",
       "   - purity_echo_core ....................... Yes    No     Yes    No    \n",
       " - magnet_square\n",
       "   - magnsq_core ............................ Yes    No     No     No    \n",
       " - classical_shadow\n",
       "   - rho_m_core ............................. Yes    No     No     Yes   \n",
       " - utils\n",
       "   - randomized ............................. Yes    Depr.  Yes    No    \n",
       "   - counts_process ......................... Yes    No     Yes    No    \n",
       "   - bit_slice .............................. Yes    No     Yes    No    \n",
       "   - dummy .................................. Yes    No     Yes    No    \n",
       "   - test ................................... Yes    No     Yes    No    \n",
       "---------------------------------------------------------------------------\n",
       "   + Yes ...... Working normally.\n",
       "   + Error .... Exception occurred.\n",
       "   + No ....... Not supported.\n",
       "   + Depr. .... Deprecated.\n",
       "---------------------------------------------------------------------------\n",
       "by <Hoshi>"
      ]
     },
     "execution_count": 18,
     "metadata": {},
     "output_type": "execute_result"
    }
   ],
   "source": [
    "from qurry.process import AVAIBILITY_STATESHEET\n",
    "\n",
    "AVAIBILITY_STATESHEET"
   ]
  },
  {
   "cell_type": "code",
   "execution_count": null,
   "id": "898c1a96",
   "metadata": {},
   "outputs": [],
   "source": []
  }
 ],
 "metadata": {
  "kernelspec": {
   "display_name": "qurrium_docs",
   "language": "python",
   "name": "python3"
  },
  "language_info": {
   "codemirror_mode": {
    "name": "ipython",
    "version": 3
   },
   "file_extension": ".py",
   "mimetype": "text/x-python",
   "name": "python",
   "nbconvert_exporter": "python",
   "pygments_lexer": "ipython3",
   "version": "3.12.11"
  }
 },
 "nbformat": 4,
 "nbformat_minor": 5
}