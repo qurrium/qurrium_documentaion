{
 "cells": [
  {
   "cell_type": "markdown",
   "metadata": {},
   "source": [
    "# Appendix 01 - Backend Wrapper\n",
    "\n",
    "In Qiskit, there are several simulator source like `BasicAer` from `qiskit`, `Aer` from `qiskit-aer` or GPU-based `qiskit-aer`. Also, there are fake backends from `qiskit-ibm-runtime` and deprecated `qiskit.provider.fake_provider`. To make it easier to use, we can create a wrapper for each simulator. This notebook will show how to create a wrapper for the simulators.\n",
    "\n",
    "```{seealso}\n",
    "The complete source code of this tutorial can be found in\n",
    "\n",
    "{nb-download}`./a01_backend_wrapper.ipynb`\n",
    "\n",
    "```"
   ]
  },
  {
   "cell_type": "markdown",
   "metadata": {},
   "source": [
    "---\n",
    "\n",
    "## A01.01 - All the methods in `qiskit` to get a simulator backend"
   ]
  },
  {
   "cell_type": "markdown",
   "metadata": {},
   "source": [
    "### 1. `BasicAer` or `BasicProvider` from `qiskit <= 0.46.0`:\n",
    "   - Ref: https://docs.quantum.ibm.com/api/qiskit/0.19/providers_basicaer"
   ]
  },
  {
   "cell_type": "code",
   "execution_count": 1,
   "metadata": {},
   "outputs": [
    {
     "name": "stdout",
     "output_type": "stream",
     "text": [
      "| - Your qiskit version does not support BasicAer.\n"
     ]
    }
   ],
   "source": [
    "try:\n",
    "    from qiskit import BasicAer\n",
    "    from qiskit.providers.basicaer import QasmSimulatorPy\n",
    "\n",
    "    print(\"| BasicAer, which can call by '.get_backend':\")\n",
    "    for backend_wrapper in BasicAer.backends():\n",
    "        print(\n",
    "            \"| - \"\n",
    "            + (str(backend_wrapper) + \" \").ljust(38, \".\")\n",
    "            + \" \"\n",
    "            + repr(backend_wrapper)\n",
    "        )\n",
    "\n",
    "    print(\"| QasmSimulatorPy, which is a direct call:\")\n",
    "    qasm_simulator = QasmSimulatorPy()\n",
    "    print(\n",
    "        \"| - \" + (str(qasm_simulator) + \" \").ljust(38, \".\") + \" \" + repr(qasm_simulator)\n",
    "    )\n",
    "\n",
    "    display(qasm_simulator)\n",
    "except ImportError as e:\n",
    "    print(\"| - Your qiskit version does not support BasicAer.\")"
   ]
  },
  {
   "cell_type": "code",
   "execution_count": 2,
   "metadata": {},
   "outputs": [
    {
     "name": "stdout",
     "output_type": "stream",
     "text": [
      "| BasicProvider, which can call by '.get_backend':\n",
      "| - <qiskit.providers.basic_provider.basic_simulator.BasicSimulator object at 0x7533205add90>\n",
      "| BasicSimulator, which is a direct call:\n",
      "| - <qiskit.providers.basic_provider.basic_simulator.BasicSimulator object at 0x7533042529c0>\n"
     ]
    },
    {
     "data": {
      "text/plain": [
       "<qiskit.providers.basic_provider.basic_simulator.BasicSimulator at 0x7533042529c0>"
      ]
     },
     "metadata": {},
     "output_type": "display_data"
    }
   ],
   "source": [
    "try:\n",
    "    from qiskit.providers.basic_provider import BasicProvider, BasicSimulator\n",
    "\n",
    "    basic_provider = BasicProvider()\n",
    "    print(\"| BasicProvider, which can call by '.get_backend':\")\n",
    "    for backend_wrapper in basic_provider.backends():\n",
    "        print(\"| - \" + repr(backend_wrapper))\n",
    "\n",
    "    print(\"| BasicSimulator, which is a direct call:\")\n",
    "    basic_simulator = BasicSimulator()\n",
    "    print(\"| - \" + repr(basic_simulator))\n",
    "\n",
    "    display(basic_simulator)\n",
    "except ImportError as e:\n",
    "    print(\"| - Your qiskit version does not support BasicProvider.\")"
   ]
  },
  {
   "cell_type": "markdown",
   "metadata": {},
   "source": [
    "### 2. `Aer` from `qiskit-aer`:\n",
    "   - Ref: https://qiskit.github.io/qiskit-aer/getting_started.html"
   ]
  },
  {
   "cell_type": "code",
   "execution_count": 3,
   "metadata": {},
   "outputs": [
    {
     "name": "stdout",
     "output_type": "stream",
     "text": [
      "| Via AerProvider, which can call by '.get_backend':\n",
      "| - AerSimulator('aer_simulator') ........ AerSimulator('aer_simulator')\n",
      "| - AerSimulator('aer_simulator_statevector')  AerSimulator('aer_simulator_statevector')\n",
      "| - AerSimulator('aer_simulator_density_matrix')  AerSimulator('aer_simulator_density_matrix')\n",
      "| - AerSimulator('aer_simulator_stabilizer')  AerSimulator('aer_simulator_stabilizer')\n",
      "| - AerSimulator('aer_simulator_matrix_product_state')  AerSimulator('aer_simulator_matrix_product_state')\n",
      "| - AerSimulator('aer_simulator_extended_stabilizer')  AerSimulator('aer_simulator_extended_stabilizer')\n",
      "| - AerSimulator('aer_simulator_unitary')  AerSimulator('aer_simulator_unitary')\n",
      "| - AerSimulator('aer_simulator_superop')  AerSimulator('aer_simulator_superop')\n",
      "| - QasmSimulator('qasm_simulator') ...... QasmSimulator('qasm_simulator')\n",
      "| - StatevectorSimulator('statevector_simulator')  StatevectorSimulator('statevector_simulator')\n",
      "| - UnitarySimulator('unitary_simulator')  UnitarySimulator('unitary_simulator')\n",
      "| Via AerSimulator, which is a direct call:\n",
      "| - AerSimulator('aer_simulator') ........ AerSimulator('aer_simulator')\n"
     ]
    },
    {
     "data": {
      "text/plain": [
       "AerSimulator('aer_simulator')"
      ]
     },
     "metadata": {},
     "output_type": "display_data"
    }
   ],
   "source": [
    "try:\n",
    "    from qiskit_aer import AerProvider, AerSimulator\n",
    "\n",
    "    print(\"| Via AerProvider, which can call by '.get_backend':\")\n",
    "    aer_provider = AerProvider()\n",
    "    for backend_wrapper in aer_provider.backends():\n",
    "        print(\n",
    "            \"| - \"\n",
    "            + (str(backend_wrapper) + \" \").ljust(38, \".\")\n",
    "            + \" \"\n",
    "            + repr(backend_wrapper)\n",
    "        )\n",
    "\n",
    "    print(\"| Via AerSimulator, which is a direct call:\")\n",
    "    aer_simulator = AerSimulator()\n",
    "    print(\n",
    "        \"| - \" + (str(aer_simulator) + \" \").ljust(38, \".\") + \" \" + repr(aer_simulator)\n",
    "    )\n",
    "\n",
    "    display(aer_simulator)\n",
    "except ImportError as e:\n",
    "    print(\n",
    "        \"| - You do not install qiskit_aer yet, install by using 'pip install qiskit-aer'.\"\n",
    "    )"
   ]
  },
  {
   "cell_type": "markdown",
   "metadata": {},
   "source": [
    "### 3. Access `qiskit-aer-gpu`:\n",
    "   - Ref: https://qiskit.github.io/qiskit-aer/getting_started.html"
   ]
  },
  {
   "cell_type": "code",
   "execution_count": 4,
   "metadata": {},
   "outputs": [
    {
     "name": "stdout",
     "output_type": "stream",
     "text": [
      "| - Check the available devices: ('CPU',)\n",
      "| - Then set option as GPU\n",
      "| - And check again:\n",
      "| - AerSimulator('aer_simulator') ........ AerSimulator('aer_simulator')\n"
     ]
    },
    {
     "data": {
      "text/plain": [
       "AerSimulator('aer_simulator')"
      ]
     },
     "metadata": {},
     "output_type": "display_data"
    }
   ],
   "source": [
    "try:\n",
    "    from qiskit_aer import AerSimulator\n",
    "\n",
    "    aer_simulator_gpu = AerSimulator()\n",
    "\n",
    "    print(\"| - Check the available devices:\", aer_simulator_gpu.available_devices())\n",
    "\n",
    "    print(\"| - Then set option as GPU\")\n",
    "    aer_simulator_gpu.set_options(device=\"GPU\")\n",
    "\n",
    "    print(\"| - And check again:\")\n",
    "    print(\n",
    "        \"| - \"\n",
    "        + (str(aer_simulator_gpu) + \" \").ljust(38, \".\")\n",
    "        + \" \"\n",
    "        + repr(aer_simulator_gpu)\n",
    "    )\n",
    "\n",
    "    display(aer_simulator_gpu)\n",
    "except ImportError as e:\n",
    "    print(\n",
    "        \"| - You do not install qiskit_aer yet, install by using 'pip install qiskit-aer'.\"\n",
    "    )"
   ]
  },
  {
   "cell_type": "markdown",
   "metadata": {},
   "source": [
    "---\n",
    "\n",
    "## A01.02 - FackBackend\n"
   ]
  },
  {
   "cell_type": "markdown",
   "metadata": {},
   "source": [
    "### 1. From `qiskit <= 0.46.0`:\n"
   ]
  },
  {
   "cell_type": "code",
   "execution_count": 5,
   "metadata": {},
   "outputs": [
    {
     "name": "stdout",
     "output_type": "stream",
     "text": [
      "| - Your qiskit version does not support fake_provider.\n"
     ]
    }
   ],
   "source": [
    "try:\n",
    "    from qiskit.providers.fake_provider import (\n",
    "        FakeProvider as FakeProviderDep,\n",
    "        FakeProviderForBackendV2 as FakeProviderForBackendV2Dep,\n",
    "    )\n",
    "\n",
    "    fake_provider_v1_old = FakeProviderDep()\n",
    "    fake_provider_v2_old = FakeProviderForBackendV2Dep()\n",
    "    print(\"| - Fake Backend from 'qiskit'\")\n",
    "    print(\"| - BackendV1\")\n",
    "    print([b.name() for b in fake_provider_v1_old.backends()])\n",
    "    print(\"| - BackendV2\")\n",
    "    print([b.name for b in fake_provider_v2_old.backends()])\n",
    "except ImportError as e:\n",
    "    print(\"| - Your qiskit version does not support fake_provider.\")"
   ]
  },
  {
   "cell_type": "markdown",
   "metadata": {},
   "source": [
    "### 2. From `qiskit-ibm-runtime`:\n",
    "\n",
    "- In version `0.17.0`, due to [this issue #1318](https://github.com/Qiskit/qiskit-ibm-runtime/issues/1318), `FakeBackend` is not available."
   ]
  },
  {
   "cell_type": "code",
   "execution_count": 6,
   "metadata": {},
   "outputs": [
    {
     "name": "stdout",
     "output_type": "stream",
     "text": [
      "| - Your qiskit version does not support fake_provider.\n",
      "| - Since 0.33.0, FakeProvider for BackendV! has been deprecated.\n",
      "| - Or your qiskit version does not support fake_provider.\n"
     ]
    }
   ],
   "source": [
    "try:\n",
    "    from qiskit_ibm_runtime.fake_provider import (\n",
    "        FakeProviderForBackendV2 as FakeProviderForBackendV2Indep,\n",
    "    )\n",
    "\n",
    "    fake_provider_v2_new = FakeProviderForBackendV2Indep()\n",
    "    print(\"| - BackendV2\")\n",
    "    print([b.name for b in fake_provider_v2_new.backends()])\n",
    "except ImportError as e:\n",
    "    print(\"| - Your qiskit version does not support fake_provider.\")\n",
    "except FileNotFoundError as e:\n",
    "    print(e)\n",
    "    print(\"| - The version of 'qiskit-ibm-runtime' may be 0.17.0\")\n",
    "    print(\n",
    "        \"| - Fake Backend is not available in this version, consider to use other version.\"\n",
    "    )\n",
    "    print(\n",
    "        \"| - For more detail, see: https://github.com/Qiskit/qiskit-ibm-runtime/issues/1318\"\n",
    "    )\n",
    "\n",
    "try:\n",
    "    from qiskit_ibm_runtime.fake_provider import (\n",
    "        FakeProvider as FakeProviderIndep,\n",
    "    )\n",
    "\n",
    "    fake_provider_v1_new = FakeProviderIndep()\n",
    "    print(\"| - Fake Backend from 'qiskit-ibm-runtime'\")\n",
    "    print(\"| - BackendV1\")\n",
    "    print([b.name() for b in fake_provider_v1_new.backends()])\n",
    "except ImportError as e:\n",
    "    print(\"| - Since 0.33.0, FakeProvider for BackendV! has been deprecated.\")\n",
    "    print(\"| - Or your qiskit version does not support fake_provider.\")\n",
    "except FileNotFoundError as e:\n",
    "    print(e)\n",
    "    print(\"| - The version of 'qiskit-ibm-runtime' may be 0.17.0\")\n",
    "    print(\n",
    "        \"| - Fake Backend is not available in this version, consider to use other version.\"\n",
    "    )\n",
    "    print(\n",
    "        \"| - For more detail, see: https://github.com/Qiskit/qiskit-ibm-runtime/issues/1318\"\n",
    "    )"
   ]
  },
  {
   "cell_type": "markdown",
   "metadata": {},
   "source": [
    "---\n",
    "\n",
    "## A01.03 - Backend Wrapper\n",
    "\n",
    "As previously mentioned, getting a simulator backend is complicated. So `Qurry` introduce a wrapper to make it easier to get a simulator backend."
   ]
  },
  {
   "cell_type": "code",
   "execution_count": 7,
   "metadata": {},
   "outputs": [
    {
     "name": "stderr",
     "output_type": "stream",
     "text": [
      "/usr/local/lib/python3.12/site-packages/qurry/tools/backend/import_fake.py:141: QurryDependenciesNotWorking: \"No fake provider available. It may be caused by version conflict.  For qiskit<1.0.0 please install qiskit-ibm-runtime<0.21.0 by  'pip install qiskit-ibm-runtime<0.21.0'.  If you are still using qiskit 0.46.X and lower originally,  then install newer qiskit-ibm-runtime at same time,  please check whether the version of qiskit  has been updated to 1.0 by the installation  because since qiskit-ibm-runtime 0.21.0+  has been updated its dependency to qiskit 1.0.  If you already have qiskit-ibm-runtimes installed and lower than 0.21.0,  it is only available to use qiskit 0.46.X as dependency  for the migration of fake_provider is not completed around this version.  Many of the fake backends are not available in qiskit-ibm-runtime.  (This made me a lot problem to handle the fake backends in Qurry.)  (If you see this error raised, good luck to you to fix environment. :smile:.)\"\n",
      "  warnings.warn(LUCKY_MSG, category=QurryDependenciesNotWorking)\n"
     ]
    },
    {
     "data": {
      "text/plain": [
       "<AerSimulator('aer_simulator')>"
      ]
     },
     "execution_count": 7,
     "metadata": {},
     "output_type": "execute_result"
    }
   ],
   "source": [
    "from qurry import BackendWrapper\n",
    "\n",
    "backend_wrapper = BackendWrapper()\n",
    "backend_wrapper(\"sim\")"
   ]
  },
  {
   "cell_type": "markdown",
   "metadata": {},
   "source": [
    "- If your environment includes the GPU acceleration, `qiskit-aer-gpu`, it will be check the availability to access, if does, the GPU backend will also be available."
   ]
  },
  {
   "cell_type": "code",
   "execution_count": 8,
   "metadata": {},
   "outputs": [
    {
     "name": "stdout",
     "output_type": "stream",
     "text": [
      "| Does we have GPU backend to access: False\n",
      "| - There is not GPU backend to access: 'aer_gpu' unknown backend or backend callsign.\n"
     ]
    }
   ],
   "source": [
    "print(\"| Does we have GPU backend to access:\", backend_wrapper.is_aer_gpu)\n",
    "try:\n",
    "    # If you have GPU, you can use this backend.\n",
    "    display(backend_wrapper(\"aer_gpu\"))\n",
    "except ValueError as err:\n",
    "    print(\"| - There is not GPU backend to access:\", err)"
   ]
  },
  {
   "cell_type": "code",
   "execution_count": 9,
   "metadata": {},
   "outputs": [
    {
     "name": "stdout",
     "output_type": "stream",
     "text": [
      "------------------------------------------------------------\n",
      " ### BackendWrapper Statesheet\n",
      "------------------------------------------------------------\n",
      " #### Simulator\n",
      " - Aer GPU ........................... False\n",
      " - Simulator Provider by ............. qiskit_aer\n",
      "   sim\n",
      "   No Callsign Added\n",
      "------------------------------------------------------------\n",
      " #### IBM\n",
      "   No Backends Available. Real backends need to be loaded by 'BackendManager' instead of 'BackendWrapper'.\n",
      "   No Callsign Added\n",
      "------------------------------------------------------------\n",
      " #### Fake\n",
      "   No Backends Available. Choose fake version when initializing the backend wrapper.\n",
      "   No Callsign Added\n",
      "------------------------------------------------------------\n",
      " #### Extra\n",
      "   No Backends Available.\n",
      "   No Callsign Added\n",
      "\n"
     ]
    },
    {
     "data": {
      "text/plain": [
       "{'sim': {'sim': <AerSimulator('aer_simulator')>},\n",
       " 'real': {},\n",
       " 'fake': {},\n",
       " 'extra': {}}"
      ]
     },
     "execution_count": 9,
     "metadata": {},
     "output_type": "execute_result"
    }
   ],
   "source": [
    "print(backend_wrapper.statesheet())\n",
    "backend_wrapper.available_backends"
   ]
  },
  {
   "cell_type": "code",
   "execution_count": 10,
   "metadata": {},
   "outputs": [
    {
     "name": "stdout",
     "output_type": "stream",
     "text": [
      " | Qurry version: 0.12.2\n",
      "---------------------------------------------------------------------------\n",
      " ### Qurry Post-Processing\n",
      "   - Backend Availability ................... Python Cython Rust   JAX   \n",
      " - randomized_measure\n",
      "   - entangled_entropy.entropy_core_2 ....... Yes    Depr.  Yes    No    \n",
      "   - entangle_entropy.purity_cell_2 ......... Yes    Depr.  Yes    No    \n",
      "   - entangled_entropy_v1.entropy_core ...... Yes    Depr.  Yes    No    \n",
      "   - entangle_entropy_v1.purity_cell ........ Yes    Depr.  Yes    No    \n",
      "   - wavefunction_overlap.echo_core_2 ....... Yes    Depr.  Yes    No    \n",
      "   - wavefunction_overlap.echo_cell_2 ....... Yes    Depr.  Yes    No    \n",
      "   - wavefunction_overlap_v1.echo_core ...... Yes    Depr.  Yes    No    \n",
      "   - wavefunction_overlap_v1.echo_cell ...... Yes    Depr.  Yes    No    \n",
      " - hadamard_test\n",
      "   - purity_echo_core ....................... Yes    No     Yes    No    \n",
      " - magnet_square\n",
      "   - magnsq_core ............................ Yes    No     No     No    \n",
      " - classical_shadow\n",
      "   - rho_m_core ............................. Yes    No     No     Yes   \n",
      " - utils\n",
      "   - randomized ............................. Yes    Depr.  Yes    No    \n",
      "   - counts_process ......................... Yes    No     Yes    No    \n",
      "   - bit_slice .............................. Yes    No     Yes    No    \n",
      "   - dummy .................................. Yes    No     Yes    No    \n",
      "   - test ................................... Yes    No     Yes    No    \n",
      "---------------------------------------------------------------------------\n",
      "   + Yes ...... Working normally.\n",
      "   + Error .... Exception occurred.\n",
      "   + No ....... Not supported.\n",
      "   + Depr. .... Deprecated.\n",
      "---------------------------------------------------------------------------\n",
      "\n",
      " | Qurry version: 0.12.2\n",
      "--------------------------------------------\n",
      " ### Qiskit version\n",
      " - main\n",
      "   - qiskit-aer ......... 0.17.1\n",
      " - deprecated\n",
      " - into-community\n",
      "--------------------------------------------\n",
      "\n"
     ]
    }
   ],
   "source": [
    "from qurry.process import AVAIBILITY_STATESHEET\n",
    "from qurry.tools.qiskit_version import QISKIT_VERSION_STATESHEET\n",
    "\n",
    "print(AVAIBILITY_STATESHEET)\n",
    "print(QISKIT_VERSION_STATESHEET)"
   ]
  },
  {
   "cell_type": "code",
   "execution_count": null,
   "metadata": {},
   "outputs": [],
   "source": []
  }
 ],
 "metadata": {
  "kernelspec": {
   "display_name": "quantumsphere12",
   "language": "python",
   "name": "python3"
  },
  "language_info": {
   "codemirror_mode": {
    "name": "ipython",
    "version": 3
   },
   "file_extension": ".py",
   "mimetype": "text/x-python",
   "name": "python",
   "nbconvert_exporter": "python",
   "pygments_lexer": "ipython3",
   "version": "3.12.11"
  }
 },
 "nbformat": 4,
 "nbformat_minor": 2
}