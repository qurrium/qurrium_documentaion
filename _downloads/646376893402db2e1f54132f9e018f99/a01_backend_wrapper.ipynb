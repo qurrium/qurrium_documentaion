{
 "cells": [
  {
   "cell_type": "markdown",
   "metadata": {},
   "source": [
    "# Appendix 01 - Backend Wrapper\n",
    "\n",
    "In Qiskit, there are several simulator source like `BasicAer` from `qiskit`, `Aer` from `qiskit-aer` or GPU-based `qiskit-aer`. Also, there are fake backends from `qiskit-ibm-runtime` and deprecated `qiskit.provider.fake_provider`. To make it easier to use, we can create a wrapper for each simulator. This notebook will show how to create a wrapper for the simulators.\n",
    "\n",
    "```{seealso}\n",
    "The complete source code of this tutorial can be found in\n",
    "\n",
    "{nb-download}`./a01_backend_wrapper.ipynb`\n",
    "\n",
    "```\n",
    "\n",
    "---\n"
   ]
  },
  {
   "cell_type": "markdown",
   "metadata": {},
   "source": [
    "## A01.01 - All the methods in `qiskit` to get a simulator backend\n"
   ]
  },
  {
   "cell_type": "markdown",
   "metadata": {},
   "source": [
    "### 1. `BasicAer` or `BasicProvider` from `qiskit <= 0.46.0`:\n",
    "\n",
    "- Ref: https://docs.quantum.ibm.com/api/qiskit/0.19/providers_basicaer\n"
   ]
  },
  {
   "cell_type": "code",
   "execution_count": 1,
   "metadata": {},
   "outputs": [
    {
     "name": "stdout",
     "output_type": "stream",
     "text": [
      "| - Your qiskit version does not support BasicAer.\n"
     ]
    }
   ],
   "source": [
    "try:\n",
    "    from qiskit import BasicAer\n",
    "    from qiskit.providers.basicaer import QasmSimulatorPy\n",
    "\n",
    "    print(\"| BasicAer, which can call by '.get_backend':\")\n",
    "    for backend_wrapper in BasicAer.backends():\n",
    "        print(\n",
    "            \"| - \"\n",
    "            + (str(backend_wrapper) + \" \").ljust(38, \".\")\n",
    "            + \" \"\n",
    "            + repr(backend_wrapper)\n",
    "        )\n",
    "\n",
    "    print(\"| QasmSimulatorPy, which is a direct call:\")\n",
    "    qasm_simulator = QasmSimulatorPy()\n",
    "    print(\n",
    "        \"| - \" + (str(qasm_simulator) + \" \").ljust(38, \".\") + \" \" + repr(qasm_simulator)\n",
    "    )\n",
    "\n",
    "    display(qasm_simulator)\n",
    "except ImportError as e:\n",
    "    print(\"| - Your qiskit version does not support BasicAer.\")"
   ]
  },
  {
   "cell_type": "code",
   "execution_count": 2,
   "metadata": {},
   "outputs": [
    {
     "name": "stdout",
     "output_type": "stream",
     "text": [
      "| BasicProvider, which can call by '.get_backend':\n",
      "| - <qiskit.providers.basic_provider.basic_simulator.BasicSimulator object at 0x702ba899d5e0>\n",
      "| BasicSimulator, which is a direct call:\n",
      "| - <qiskit.providers.basic_provider.basic_simulator.BasicSimulator object at 0x702ba899ff80>\n"
     ]
    },
    {
     "data": {
      "text/plain": [
       "<qiskit.providers.basic_provider.basic_simulator.BasicSimulator at 0x702ba899ff80>"
      ]
     },
     "metadata": {},
     "output_type": "display_data"
    }
   ],
   "source": [
    "try:\n",
    "    from qiskit.providers.basic_provider import BasicProvider, BasicSimulator\n",
    "\n",
    "    basic_provider = BasicProvider()\n",
    "    print(\"| BasicProvider, which can call by '.get_backend':\")\n",
    "    for backend_wrapper in basic_provider.backends():\n",
    "        print(\"| - \" + repr(backend_wrapper))\n",
    "\n",
    "    print(\"| BasicSimulator, which is a direct call:\")\n",
    "    basic_simulator = BasicSimulator()\n",
    "    print(\"| - \" + repr(basic_simulator))\n",
    "\n",
    "    display(basic_simulator)\n",
    "except ImportError as e:\n",
    "    print(\"| - Your qiskit version does not support BasicProvider.\")"
   ]
  },
  {
   "cell_type": "markdown",
   "metadata": {},
   "source": [
    "### 2. `Aer` from `qiskit-aer`:\n",
    "\n",
    "- Ref: https://qiskit.github.io/qiskit-aer/getting_started.html\n"
   ]
  },
  {
   "cell_type": "code",
   "execution_count": 3,
   "metadata": {},
   "outputs": [
    {
     "name": "stdout",
     "output_type": "stream",
     "text": [
      "| Via AerProvider, which can call by '.get_backend':\n",
      "| - AerSimulator('aer_simulator') ........ AerSimulator('aer_simulator')\n",
      "| - AerSimulator('aer_simulator') ........ AerSimulator('aer_simulator')\n",
      "| - AerSimulator('aer_simulator_statevector')  AerSimulator('aer_simulator_statevector')\n",
      "| - AerSimulator('aer_simulator_statevector_gpu')  AerSimulator('aer_simulator_statevector_gpu')\n",
      "| - AerSimulator('aer_simulator_density_matrix')  AerSimulator('aer_simulator_density_matrix')\n",
      "| - AerSimulator('aer_simulator_density_matrix_gpu')  AerSimulator('aer_simulator_density_matrix_gpu')\n",
      "| - AerSimulator('aer_simulator_stabilizer')  AerSimulator('aer_simulator_stabilizer')\n",
      "| - AerSimulator('aer_simulator_matrix_product_state')  AerSimulator('aer_simulator_matrix_product_state')\n",
      "| - AerSimulator('aer_simulator_extended_stabilizer')  AerSimulator('aer_simulator_extended_stabilizer')\n",
      "| - AerSimulator('aer_simulator_unitary')  AerSimulator('aer_simulator_unitary')\n",
      "| - AerSimulator('aer_simulator_unitary_gpu')  AerSimulator('aer_simulator_unitary_gpu')\n",
      "| - AerSimulator('aer_simulator_superop')  AerSimulator('aer_simulator_superop')\n",
      "| - AerSimulator('aer_simulator_tensor_network_gpu')  AerSimulator('aer_simulator_tensor_network_gpu')\n",
      "| - QasmSimulator('qasm_simulator') ...... QasmSimulator('qasm_simulator')\n",
      "| - StatevectorSimulator('statevector_simulator')  StatevectorSimulator('statevector_simulator')\n",
      "| - UnitarySimulator('unitary_simulator')  UnitarySimulator('unitary_simulator')\n",
      "| Via AerSimulator, which is a direct call:\n",
      "| - AerSimulator('aer_simulator') ........ AerSimulator('aer_simulator')\n"
     ]
    },
    {
     "data": {
      "text/plain": [
       "AerSimulator('aer_simulator')"
      ]
     },
     "metadata": {},
     "output_type": "display_data"
    }
   ],
   "source": [
    "try:\n",
    "    from qiskit_aer import AerProvider, AerSimulator\n",
    "\n",
    "    print(\"| Via AerProvider, which can call by '.get_backend':\")\n",
    "    aer_provider = AerProvider()\n",
    "    for backend_wrapper in aer_provider.backends():\n",
    "        print(\n",
    "            \"| - \"\n",
    "            + (str(backend_wrapper) + \" \").ljust(38, \".\")\n",
    "            + \" \"\n",
    "            + repr(backend_wrapper)\n",
    "        )\n",
    "\n",
    "    print(\"| Via AerSimulator, which is a direct call:\")\n",
    "    aer_simulator = AerSimulator()\n",
    "    print(\n",
    "        \"| - \" + (str(aer_simulator) + \" \").ljust(38, \".\") + \" \" + repr(aer_simulator)\n",
    "    )\n",
    "\n",
    "    display(aer_simulator)\n",
    "except ImportError as e:\n",
    "    print(\n",
    "        \"| - You do not install qiskit_aer yet, install by using 'pip install qiskit-aer'.\"\n",
    "    )"
   ]
  },
  {
   "cell_type": "markdown",
   "metadata": {},
   "source": [
    "### 3. Access `qiskit-aer-gpu`:\n",
    "\n",
    "- Ref: https://qiskit.github.io/qiskit-aer/getting_started.html\n"
   ]
  },
  {
   "cell_type": "code",
   "execution_count": 4,
   "metadata": {},
   "outputs": [
    {
     "name": "stdout",
     "output_type": "stream",
     "text": [
      "| - Check the available devices: ('CPU', 'GPU')\n",
      "| - Then set option as GPU\n",
      "| - And check again:\n",
      "| - AerSimulator('aer_simulator') ........ AerSimulator('aer_simulator')\n"
     ]
    },
    {
     "data": {
      "text/plain": [
       "AerSimulator('aer_simulator')"
      ]
     },
     "metadata": {},
     "output_type": "display_data"
    }
   ],
   "source": [
    "try:\n",
    "    from qiskit_aer import AerSimulator\n",
    "\n",
    "    aer_simulator_gpu = AerSimulator()\n",
    "\n",
    "    print(\"| - Check the available devices:\", aer_simulator_gpu.available_devices())\n",
    "\n",
    "    print(\"| - Then set option as GPU\")\n",
    "    aer_simulator_gpu.set_options(device=\"GPU\")\n",
    "\n",
    "    print(\"| - And check again:\")\n",
    "    print(\n",
    "        \"| - \"\n",
    "        + (str(aer_simulator_gpu) + \" \").ljust(38, \".\")\n",
    "        + \" \"\n",
    "        + repr(aer_simulator_gpu)\n",
    "    )\n",
    "\n",
    "    display(aer_simulator_gpu)\n",
    "except ImportError as e:\n",
    "    print(\n",
    "        \"| - You do not install qiskit_aer yet, install by using 'pip install qiskit-aer'.\"\n",
    "    )"
   ]
  },
  {
   "cell_type": "markdown",
   "metadata": {},
   "source": [
    "---\n"
   ]
  },
  {
   "cell_type": "markdown",
   "metadata": {},
   "source": [
    "## A01.02 - FackBackend\n"
   ]
  },
  {
   "cell_type": "markdown",
   "metadata": {},
   "source": [
    "### 1. From `qiskit <= 0.46.0`:\n"
   ]
  },
  {
   "cell_type": "code",
   "execution_count": 5,
   "metadata": {},
   "outputs": [
    {
     "name": "stdout",
     "output_type": "stream",
     "text": [
      "| - Your qiskit version does not support fake_provider.\n"
     ]
    }
   ],
   "source": [
    "try:\n",
    "    from qiskit.providers.fake_provider import (\n",
    "        FakeProvider as FakeProviderDep,\n",
    "        FakeProviderForBackendV2 as FakeProviderForBackendV2Dep,\n",
    "    )\n",
    "\n",
    "    fake_provider_v1_old = FakeProviderDep()\n",
    "    fake_provider_v2_old = FakeProviderForBackendV2Dep()\n",
    "    print(\"| - Fake Backend from 'qiskit'\")\n",
    "    print(\"| - BackendV1\")\n",
    "    print([b.name() for b in fake_provider_v1_old.backends()])\n",
    "    print(\"| - BackendV2\")\n",
    "    print([b.name for b in fake_provider_v2_old.backends()])\n",
    "except ImportError as e:\n",
    "    print(\"| - Your qiskit version does not support fake_provider.\")"
   ]
  },
  {
   "cell_type": "markdown",
   "metadata": {},
   "source": [
    "### 2. From `qiskit-ibm-runtime`:\n",
    "\n",
    "- In version `0.17.0`, due to [this issue #1318](https://github.com/Qiskit/qiskit-ibm-runtime/issues/1318), `FakeBackend` is not available.\n"
   ]
  },
  {
   "cell_type": "code",
   "execution_count": 6,
   "metadata": {},
   "outputs": [
    {
     "name": "stdout",
     "output_type": "stream",
     "text": [
      "| - BackendV2\n",
      "['fake_algiers', 'fake_almaden', 'fake_armonk', 'fake_athens', 'fake_auckland', 'fake_belem', 'fake_boeblingen', 'fake_bogota', 'fake_brisbane', 'fake_brooklyn', 'fake_burlington', 'fake_cairo', 'fake_cambridge', 'fake_casablanca', 'fake_cusco', 'fake_essex', 'fake_fez', 'fake_fractional', 'fake_geneva', 'fake_guadalupe', 'fake_hanoi', 'fake_jakarta', 'fake_johannesburg', 'fake_kawasaki', 'fake_kolkata', 'fake_kyiv', 'fake_kyoto', 'fake_lagos', 'fake_lima', 'fake_london', 'fake_manhattan', 'fake_manila', 'fake_melbourne', 'fake_marrakesh', 'fake_montreal', 'fake_mumbai', 'fake_nairobi', 'fake_osaka', 'fake_oslo', 'fake_ourense', 'fake_paris', 'fake_peekskill', 'fake_perth', 'fake_prague', 'fake_poughkeepsie', 'fake_quebec', 'fake_quito', 'fake_rochester', 'fake_rome', 'fake_santiago', 'fake_sherbrooke', 'fake_singapore', 'fake_sydney', 'fake_torino', 'fake_toronto', 'fake_valencia', 'fake_vigo', 'fake_washington', 'fake_yorktown']\n",
      "| - Since 0.33.0, FakeProvider for BackendV! has been deprecated.\n",
      "| - Or your qiskit version does not support fake_provider.\n"
     ]
    }
   ],
   "source": [
    "try:\n",
    "    from qiskit_ibm_runtime.fake_provider import (\n",
    "        FakeProviderForBackendV2 as FakeProviderForBackendV2Indep,\n",
    "    )\n",
    "\n",
    "    fake_provider_v2_new = FakeProviderForBackendV2Indep()\n",
    "    print(\"| - BackendV2\")\n",
    "    print([b.name for b in fake_provider_v2_new.backends()])\n",
    "except ImportError as e:\n",
    "    print(\"| - Your qiskit version does not support fake_provider.\")\n",
    "except FileNotFoundError as e:\n",
    "    print(e)\n",
    "    print(\"| - The version of 'qiskit-ibm-runtime' may be 0.17.0\")\n",
    "    print(\n",
    "        \"| - Fake Backend is not available in this version, consider to use other version.\"\n",
    "    )\n",
    "    print(\n",
    "        \"| - For more detail, see: https://github.com/Qiskit/qiskit-ibm-runtime/issues/1318\"\n",
    "    )\n",
    "\n",
    "try:\n",
    "    from qiskit_ibm_runtime.fake_provider import (\n",
    "        FakeProvider as FakeProviderIndep,\n",
    "    )\n",
    "\n",
    "    fake_provider_v1_new = FakeProviderIndep()\n",
    "    print(\"| - Fake Backend from 'qiskit-ibm-runtime'\")\n",
    "    print(\"| - BackendV1\")\n",
    "    print([b.name() for b in fake_provider_v1_new.backends()])\n",
    "except ImportError as e:\n",
    "    print(\"| - Since 0.33.0, FakeProvider for BackendV! has been deprecated.\")\n",
    "    print(\"| - Or your qiskit version does not support fake_provider.\")\n",
    "except FileNotFoundError as e:\n",
    "    print(e)\n",
    "    print(\"| - The version of 'qiskit-ibm-runtime' may be 0.17.0\")\n",
    "    print(\n",
    "        \"| - Fake Backend is not available in this version, consider to use other version.\"\n",
    "    )\n",
    "    print(\n",
    "        \"| - For more detail, see: https://github.com/Qiskit/qiskit-ibm-runtime/issues/1318\"\n",
    "    )"
   ]
  },
  {
   "cell_type": "markdown",
   "metadata": {},
   "source": [
    "---\n"
   ]
  },
  {
   "cell_type": "markdown",
   "metadata": {},
   "source": [
    "## A01.03 - Backend Wrapper\n",
    "\n",
    "As previously mentioned, getting a simulator backend is complicated. So `Qurry` introduce a wrapper to make it easier to get a simulator backend.\n"
   ]
  },
  {
   "cell_type": "code",
   "execution_count": 7,
   "metadata": {},
   "outputs": [
    {
     "data": {
      "text/plain": [
       "<AerSimulator('aer_simulator')>"
      ]
     },
     "execution_count": 7,
     "metadata": {},
     "output_type": "execute_result"
    }
   ],
   "source": [
    "from qurry import BackendWrapper\n",
    "\n",
    "backend_wrapper = BackendWrapper()\n",
    "backend_wrapper(\"sim\")"
   ]
  },
  {
   "cell_type": "markdown",
   "metadata": {},
   "source": [
    "- If your environment includes the GPU acceleration, `qiskit-aer-gpu`, it will be check the availability to access, if does, the GPU backend will also be available.\n"
   ]
  },
  {
   "cell_type": "code",
   "execution_count": 8,
   "metadata": {},
   "outputs": [
    {
     "name": "stdout",
     "output_type": "stream",
     "text": [
      "| Does we have GPU backend to access: True\n",
      "| - There is not GPU backend to access: 'aer_gpu' unknown backend or backend callsign.\n"
     ]
    }
   ],
   "source": [
    "print(\"| Does we have GPU backend to access:\", backend_wrapper.is_aer_gpu)\n",
    "try:\n",
    "    # If you have GPU, you can use this backend.\n",
    "    display(backend_wrapper(\"aer_gpu\"))\n",
    "except ValueError as err:\n",
    "    print(\"| - There is not GPU backend to access:\", err)"
   ]
  },
  {
   "cell_type": "code",
   "execution_count": 9,
   "metadata": {},
   "outputs": [
    {
     "name": "stdout",
     "output_type": "stream",
     "text": [
      "------------------------------------------------------------\n",
      " ### BackendWrapper Statesheet\n",
      "------------------------------------------------------------\n",
      " #### Simulator\n",
      " - Aer GPU ........................... True\n",
      " - Simulator Provider by ............. qiskit_aer\n",
      "   sim\n",
      "   No Callsign Added\n",
      "------------------------------------------------------------\n",
      " #### IBM\n",
      "   No Backends Available. Real backends need to be loaded by 'BackendManager' instead of 'BackendWrapper'.\n",
      "   No Callsign Added\n",
      "------------------------------------------------------------\n",
      " #### Fake\n",
      "   fake_algiers, fake_almaden, fake_armonk,\n",
      "   fake_athens, fake_auckland, fake_belem,\n",
      "   fake_boeblingen, fake_bogota, fake_brisbane,\n",
      "   fake_brooklyn, fake_burlington, fake_cairo,\n",
      "   fake_cambridge, fake_casablanca, fake_cusco,\n",
      "   fake_essex, fake_fez, fake_fractional,\n",
      "   fake_geneva, fake_guadalupe, fake_hanoi,\n",
      "   fake_jakarta, fake_johannesburg, fake_kawasaki,\n",
      "   fake_kolkata, fake_kyiv, fake_kyoto,\n",
      "   fake_lagos, fake_lima, fake_london,\n",
      "   fake_manhattan, fake_manila, fake_melbourne,\n",
      "   fake_marrakesh, fake_montreal, fake_mumbai,\n",
      "   fake_nairobi, fake_osaka, fake_oslo,\n",
      "   fake_ourense, fake_paris, fake_peekskill,\n",
      "   fake_perth, fake_prague, fake_poughkeepsie,\n",
      "   fake_quebec, fake_quito, fake_rochester,\n",
      "   fake_rome, fake_santiago, fake_sherbrooke,\n",
      "   fake_singapore, fake_sydney, fake_torino,\n",
      "   fake_toronto, fake_valencia, fake_vigo,\n",
      "   fake_washington, fake_yorktown\n",
      " - Available Fake Backends Callsign\n",
      "   - fake_algiers ...................... fake_algiers\n",
      "   - fake_almaden ...................... fake_almaden\n",
      "   - fake_armonk ....................... fake_armonk\n",
      "   - fake_athens ....................... fake_athens\n",
      "   - fake_auckland ..................... fake_auckland\n",
      "   - fake_belem ........................ fake_belem\n",
      "   - fake_boeblingen ................... fake_boeblingen\n",
      "   - fake_bogota ....................... fake_bogota\n",
      "   - fake_brisbane ..................... fake_brisbane\n",
      "   - fake_brooklyn ..................... fake_brooklyn\n",
      "   - fake_burlington ................... fake_burlington\n",
      "   - fake_cairo ........................ fake_cairo\n",
      "   - fake_cambridge .................... fake_cambridge\n",
      "   - fake_casablanca ................... fake_casablanca\n",
      "   - fake_cusco ........................ fake_cusco\n",
      "   - fake_essex ........................ fake_essex\n",
      "   - fake_fez .......................... fake_fez\n",
      "   - fake_fractional ................... fake_fractional\n",
      "   - fake_geneva ....................... fake_geneva\n",
      "   - fake_guadalupe .................... fake_guadalupe\n",
      "   - fake_hanoi ........................ fake_hanoi\n",
      "   - fake_jakarta ...................... fake_jakarta\n",
      "   - fake_johannesburg ................. fake_johannesburg\n",
      "   - fake_kawasaki ..................... fake_kawasaki\n",
      "   - fake_kolkata ...................... fake_kolkata\n",
      "   - fake_kyiv ......................... fake_kyiv\n",
      "   - fake_kyoto ........................ fake_kyoto\n",
      "   - fake_lagos ........................ fake_lagos\n",
      "   - fake_lima ......................... fake_lima\n",
      "   - fake_london ....................... fake_london\n",
      "   - fake_manhattan .................... fake_manhattan\n",
      "   - fake_manila ....................... fake_manila\n",
      "   - fake_melbourne .................... fake_melbourne\n",
      "   - fake_marrakesh .................... fake_marrakesh\n",
      "   - fake_montreal ..................... fake_montreal\n",
      "   - fake_mumbai ....................... fake_mumbai\n",
      "   - fake_nairobi ...................... fake_nairobi\n",
      "   - fake_osaka ........................ fake_osaka\n",
      "   - fake_oslo ......................... fake_oslo\n",
      "   - fake_ourense ...................... fake_ourense\n",
      "   - fake_paris ........................ fake_paris\n",
      "   - fake_peekskill .................... fake_peekskill\n",
      "   - fake_perth ........................ fake_perth\n",
      "   - fake_prague ....................... fake_prague\n",
      "   - fake_poughkeepsie ................. fake_poughkeepsie\n",
      "   - fake_quebec ....................... fake_quebec\n",
      "   - fake_quito ........................ fake_quito\n",
      "   - fake_rochester .................... fake_rochester\n",
      "   - fake_rome ......................... fake_rome\n",
      "   - fake_santiago ..................... fake_santiago\n",
      "   - fake_sherbrooke ................... fake_sherbrooke\n",
      "   - fake_singapore .................... fake_singapore\n",
      "   - fake_sydney ....................... fake_sydney\n",
      "   - fake_torino ....................... fake_torino\n",
      "   - fake_toronto ...................... fake_toronto\n",
      "   - fake_valencia ..................... fake_valencia\n",
      "   - fake_vigo ......................... fake_vigo\n",
      "   - fake_washington ................... fake_washington\n",
      "   - fake_yorktown ..................... fake_yorktown\n",
      "   - fake_qasm ......................... fake_qasm_simulator\n",
      "------------------------------------------------------------\n",
      " #### Extra\n",
      "   No Backends Available.\n",
      "   No Callsign Added\n",
      "\n"
     ]
    },
    {
     "data": {
      "text/plain": [
       "{'sim': {'sim': <AerSimulator('aer_simulator')>},\n",
       " 'real': {},\n",
       " 'fake': {'fake_algiers': <qiskit_ibm_runtime.fake_provider.backends.algiers.fake_algiers.FakeAlgiers at 0x702b14e74530>,\n",
       "  'fake_almaden': <qiskit_ibm_runtime.fake_provider.backends.almaden.fake_almaden.FakeAlmadenV2 at 0x702b04a3a870>,\n",
       "  'fake_armonk': <qiskit_ibm_runtime.fake_provider.backends.armonk.fake_armonk.FakeArmonkV2 at 0x702b03a591c0>,\n",
       "  'fake_athens': <qiskit_ibm_runtime.fake_provider.backends.athens.fake_athens.FakeAthensV2 at 0x702b03a6c140>,\n",
       "  'fake_auckland': <qiskit_ibm_runtime.fake_provider.backends.auckland.fake_auckland.FakeAuckland at 0x702b03c40980>,\n",
       "  'fake_belem': <qiskit_ibm_runtime.fake_provider.backends.belem.fake_belem.FakeBelemV2 at 0x702b03a6cb30>,\n",
       "  'fake_boeblingen': <qiskit_ibm_runtime.fake_provider.backends.boeblingen.fake_boeblingen.FakeBoeblingenV2 at 0x702b03c1f140>,\n",
       "  'fake_bogota': <qiskit_ibm_runtime.fake_provider.backends.bogota.fake_bogota.FakeBogotaV2 at 0x702b03a9a330>,\n",
       "  'fake_brisbane': <qiskit_ibm_runtime.fake_provider.backends.brisbane.fake_brisbane.FakeBrisbane at 0x702b03ace090>,\n",
       "  'fake_brooklyn': <qiskit_ibm_runtime.fake_provider.backends.brooklyn.fake_brooklyn.FakeBrooklynV2 at 0x702b03acfce0>,\n",
       "  'fake_burlington': <qiskit_ibm_runtime.fake_provider.backends.burlington.fake_burlington.FakeBurlingtonV2 at 0x702b039a6630>,\n",
       "  'fake_cairo': <qiskit_ibm_runtime.fake_provider.backends.cairo.fake_cairo.FakeCairoV2 at 0x702b038148f0>,\n",
       "  'fake_cambridge': <qiskit_ibm_runtime.fake_provider.backends.cambridge.fake_cambridge.FakeCambridgeV2 at 0x702b03814e00>,\n",
       "  'fake_casablanca': <qiskit_ibm_runtime.fake_provider.backends.casablanca.fake_casablanca.FakeCasablancaV2 at 0x702b0382b470>,\n",
       "  'fake_cusco': <qiskit_ibm_runtime.fake_provider.backends.cusco.fake_cusco.FakeCusco at 0x702b0382b980>,\n",
       "  'fake_essex': <qiskit_ibm_runtime.fake_provider.backends.essex.fake_essex.FakeEssexV2 at 0x702b03845eb0>,\n",
       "  'fake_fez': <qiskit_ibm_runtime.fake_provider.backends.fez.fake_fez.FakeFez at 0x702b03720800>,\n",
       "  'fake_fractional': <qiskit_ibm_runtime.fake_provider.backends.fractional.fake_fractional.FakeFractionalBackend at 0x702b03720d70>,\n",
       "  'fake_geneva': <qiskit_ibm_runtime.fake_provider.backends.geneva.fake_geneva.FakeGeneva at 0x702b03720d10>,\n",
       "  'fake_guadalupe': <qiskit_ibm_runtime.fake_provider.backends.guadalupe.fake_guadalupe.FakeGuadalupeV2 at 0x702b037b6150>,\n",
       "  'fake_hanoi': <qiskit_ibm_runtime.fake_provider.backends.hanoi.fake_hanoi.FakeHanoiV2 at 0x702b037e3a10>,\n",
       "  'fake_jakarta': <qiskit_ibm_runtime.fake_provider.backends.jakarta.fake_jakarta.FakeJakartaV2 at 0x702b0360c590>,\n",
       "  'fake_johannesburg': <qiskit_ibm_runtime.fake_provider.backends.johannesburg.fake_johannesburg.FakeJohannesburgV2 at 0x702b036380b0>,\n",
       "  'fake_kawasaki': <qiskit_ibm_runtime.fake_provider.backends.kawasaki.fake_kawasaki.FakeKawasaki at 0x702b0363a5d0>,\n",
       "  'fake_kolkata': <qiskit_ibm_runtime.fake_provider.backends.kolkata.fake_kolkata.FakeKolkataV2 at 0x702b03be0cb0>,\n",
       "  'fake_kyiv': <qiskit_ibm_runtime.fake_provider.backends.kyiv.fake_kyiv.FakeKyiv at 0x702b03513e30>,\n",
       "  'fake_kyoto': <qiskit_ibm_runtime.fake_provider.backends.kyoto.fake_kyoto.FakeKyoto at 0x702b035439b0>,\n",
       "  'fake_lagos': <qiskit_ibm_runtime.fake_provider.backends.lagos.fake_lagos.FakeLagosV2 at 0x702b03416300>,\n",
       "  'fake_lima': <qiskit_ibm_runtime.fake_provider.backends.lima.fake_lima.FakeLimaV2 at 0x702b034ae030>,\n",
       "  'fake_london': <qiskit_ibm_runtime.fake_provider.backends.london.fake_london.FakeLondonV2 at 0x702b034c0560>,\n",
       "  'fake_manhattan': <qiskit_ibm_runtime.fake_provider.backends.manhattan.fake_manhattan.FakeManhattanV2 at 0x702b034c2150>,\n",
       "  'fake_manila': <qiskit_ibm_runtime.fake_provider.backends.manila.fake_manila.FakeManilaV2 at 0x702b034c2660>,\n",
       "  'fake_melbourne': <qiskit_ibm_runtime.fake_provider.backends.melbourne.fake_melbourne.FakeMelbourneV2 at 0x702b0333c920>,\n",
       "  'fake_marrakesh': <qiskit_ibm_runtime.fake_provider.backends.marrakesh.fake_marrakesh.FakeMarrakesh at 0x702b0333e5a0>,\n",
       "  'fake_montreal': <qiskit_ibm_runtime.fake_provider.backends.montreal.fake_montreal.FakeMontrealV2 at 0x702b03b99850>,\n",
       "  'fake_mumbai': <qiskit_ibm_runtime.fake_provider.backends.mumbai.fake_mumbai.FakeMumbaiV2 at 0x702b033dff20>,\n",
       "  'fake_nairobi': <qiskit_ibm_runtime.fake_provider.backends.nairobi.fake_nairobi.FakeNairobiV2 at 0x702b0320ba40>,\n",
       "  'fake_osaka': <qiskit_ibm_runtime.fake_provider.backends.osaka.fake_osaka.FakeOsaka at 0x702b03237560>,\n",
       "  'fake_oslo': <qiskit_ibm_runtime.fake_provider.backends.oslo.fake_oslo.FakeOslo at 0x702b03c40c20>,\n",
       "  'fake_ourense': <qiskit_ibm_runtime.fake_provider.backends.ourense.fake_ourense.FakeOurenseV2 at 0x702b04375640>,\n",
       "  'fake_paris': <qiskit_ibm_runtime.fake_provider.backends.paris.fake_paris.FakeParisV2 at 0x702b032e7ce0>,\n",
       "  'fake_peekskill': <qiskit_ibm_runtime.fake_provider.backends.peekskill.fake_peekskill.FakePeekskill at 0x702b03104320>,\n",
       "  'fake_perth': <qiskit_ibm_runtime.fake_provider.backends.perth.fake_perth.FakePerth at 0x702b0311fe00>,\n",
       "  'fake_prague': <qiskit_ibm_runtime.fake_provider.backends.prague.fake_prague.FakePrague at 0x702b031463f0>,\n",
       "  'fake_poughkeepsie': <qiskit_ibm_runtime.fake_provider.backends.poughkeepsie.fake_poughkeepsie.FakePoughkeepsieV2 at 0x702b03158950>,\n",
       "  'fake_quebec': <qiskit_ibm_runtime.fake_provider.backends.quebec.fake_quebec.FakeQuebec at 0x702b03180aa0>,\n",
       "  'fake_quito': <qiskit_ibm_runtime.fake_provider.backends.quito.fake_quito.FakeQuitoV2 at 0x702b03181d30>,\n",
       "  'fake_rochester': <qiskit_ibm_runtime.fake_provider.backends.rochester.fake_rochester.FakeRochesterV2 at 0x702b03064680>,\n",
       "  'fake_rome': <qiskit_ibm_runtime.fake_provider.backends.rome.fake_rome.FakeRomeV2 at 0x702b03066300>,\n",
       "  'fake_santiago': <qiskit_ibm_runtime.fake_provider.backends.santiago.fake_santiago.FakeSantiagoV2 at 0x702b03066780>,\n",
       "  'fake_sherbrooke': <qiskit_ibm_runtime.fake_provider.backends.sherbrooke.fake_sherbrooke.FakeSherbrooke at 0x702b0307c470>,\n",
       "  'fake_singapore': <qiskit_ibm_runtime.fake_provider.backends.singapore.fake_singapore.FakeSingaporeV2 at 0x702b0307e120>,\n",
       "  'fake_sydney': <qiskit_ibm_runtime.fake_provider.backends.sydney.fake_sydney.FakeSydneyV2 at 0x702b03a04bc0>,\n",
       "  'fake_torino': <qiskit_ibm_runtime.fake_provider.backends.torino.fake_torino.FakeTorino at 0x702b02f54a70>,\n",
       "  'fake_toronto': <qiskit_ibm_runtime.fake_provider.backends.toronto.fake_toronto.FakeTorontoV2 at 0x702b03a24a70>,\n",
       "  'fake_valencia': <qiskit_ibm_runtime.fake_provider.backends.valencia.fake_valencia.FakeValenciaV2 at 0x702b02f774d0>,\n",
       "  'fake_vigo': <qiskit_ibm_runtime.fake_provider.backends.vigo.fake_vigo.FakeVigoV2 at 0x702b02e2bf80>,\n",
       "  'fake_washington': <qiskit_ibm_runtime.fake_provider.backends.washington.fake_washington.FakeWashingtonV2 at 0x702b02e41b20>,\n",
       "  'fake_yorktown': <qiskit_ibm_runtime.fake_provider.backends.yorktown.fake_yorktown.FakeYorktownV2 at 0x702b02e420f0>},\n",
       " 'extra': {}}"
      ]
     },
     "execution_count": 9,
     "metadata": {},
     "output_type": "execute_result"
    }
   ],
   "source": [
    "print(backend_wrapper.statesheet())\n",
    "backend_wrapper.available_backends"
   ]
  },
  {
   "cell_type": "code",
   "execution_count": 10,
   "metadata": {},
   "outputs": [
    {
     "name": "stdout",
     "output_type": "stream",
     "text": [
      " | Qurrium version: 0.13.0\n",
      "---------------------------------------------------------------------------\n",
      " ### Qurrium Post-Processing\n",
      "   - Backend Availability ................... Python Cython Rust   JAX   \n",
      " - randomized_measure\n",
      "   - entangled_entropy.entropy_core_2 ....... Yes    Depr.  Yes    No    \n",
      "   - entangle_entropy.purity_cell_2 ......... Yes    Depr.  Yes    No    \n",
      "   - entangled_entropy_v1.entropy_core ...... Yes    Depr.  Yes    No    \n",
      "   - entangle_entropy_v1.purity_cell ........ Yes    Depr.  Yes    No    \n",
      "   - wavefunction_overlap.echo_core_2 ....... Yes    Depr.  Yes    No    \n",
      "   - wavefunction_overlap.echo_cell_2 ....... Yes    Depr.  Yes    No    \n",
      "   - wavefunction_overlap_v1.echo_core ...... Yes    Depr.  Yes    No    \n",
      "   - wavefunction_overlap_v1.echo_cell ...... Yes    Depr.  Yes    No    \n",
      " - hadamard_test\n",
      "   - purity_echo_core ....................... Yes    No     Yes    No    \n",
      " - magnet_square\n",
      "   - magnsq_core ............................ Yes    No     Yes    No    \n",
      " - string_operator\n",
      "   - strop_core ............................. Yes    No     Yes    No    \n",
      " - classical_shadow\n",
      "   - rho_m_core ............................. Yes    No     No     Yes   \n",
      " - utils\n",
      "   - randomized ............................. Yes    Depr.  Yes    No    \n",
      "   - counts_process ......................... Yes    No     Yes    No    \n",
      "   - bit_slice .............................. Yes    No     Yes    No    \n",
      "   - dummy .................................. Yes    No     Yes    No    \n",
      "   - test ................................... Yes    No     Yes    No    \n",
      "---------------------------------------------------------------------------\n",
      "   + Yes ...... Working normally.\n",
      "   + Error .... Exception occurred.\n",
      "   + No ....... Not supported.\n",
      "   + Depr. .... Deprecated.\n",
      "---------------------------------------------------------------------------\n",
      "\n",
      " | Qurrium version: 0.13.0\n",
      "--------------------------------------------\n",
      " ### Qiskit version\n",
      " - main\n",
      "   - qiskit-aer .............. 0.17.0\n",
      "   - qiskit-aer-gpu .......... 0.15.1\n",
      "   - qiskit-aer-gpu-cu11 ..... 0.17.0\n",
      "   - qiskit-ibm-runtime ...... 0.39.0\n",
      " - deprecated\n",
      " - into-community\n",
      "--------------------------------------------\n",
      " + qiskit-aer-gpu and qiskit-aer-gpu-cu11 should have the same version as qiskit-aer.\n",
      "--------------------------------------------\n",
      "\n"
     ]
    }
   ],
   "source": [
    "from qurry.process import AVAIBILITY_STATESHEET\n",
    "from qurry.tools.qiskit_version import QISKIT_VERSION_STATESHEET\n",
    "\n",
    "print(AVAIBILITY_STATESHEET)\n",
    "print(QISKIT_VERSION_STATESHEET)"
   ]
  },
  {
   "cell_type": "code",
   "execution_count": null,
   "metadata": {},
   "outputs": [],
   "source": []
  }
 ],
 "metadata": {
  "kernelspec": {
   "display_name": "quantumsphere12",
   "language": "python",
   "name": "python3"
  },
  "language_info": {
   "codemirror_mode": {
    "name": "ipython",
    "version": 3
   },
   "file_extension": ".py",
   "mimetype": "text/x-python",
   "name": "python",
   "nbconvert_exporter": "python",
   "pygments_lexer": "ipython3",
   "version": "3.12.3"
  }
 },
 "nbformat": 4,
 "nbformat_minor": 2
}