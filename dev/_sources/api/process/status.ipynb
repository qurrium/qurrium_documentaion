{
 "cells": [
  {
   "cell_type": "markdown",
   "id": "e0af72a7",
   "metadata": {},
   "source": [
    "# `status`\n",
    "\n",
    "Summarize the availabilities of Rust, JAX caculation backend on post-processing.\n",
    "\n",
    "## `backend`\n",
    "\n",
    "```{eval-rst}\n",
    ".. automodule:: qurry.process.status.backend\n",
    "    :members:\n",
    "```\n",
    "\n",
    "---\n"
   ]
  },
  {
   "cell_type": "markdown",
   "id": "c3fc5dfe",
   "metadata": {},
   "source": [
    "## Function demo\n"
   ]
  },
  {
   "cell_type": "code",
   "execution_count": 1,
   "id": "c528185d",
   "metadata": {},
   "outputs": [],
   "source": [
    "from qurry.process.status.backend import (\n",
    "    AVAIBILITY_STATESHEET,\n",
    "    AVAIBILITY_STATUS,\n",
    "    ERROR_STATUS,\n",
    ")"
   ]
  },
  {
   "cell_type": "code",
   "execution_count": 10,
   "id": "9ea915cc",
   "metadata": {},
   "outputs": [
    {
     "data": {
      "text/plain": [
       " | Qurrium version: 0.13.0\n",
       "---------------------------------------------------------------------------\n",
       " ### Qurrium Post-Processing\n",
       "   - Backend Availability ................... Python Cython Rust   JAX   \n",
       " - randomized_measure\n",
       "   - entangled_entropy.entropy_core_2 ....... Yes    Depr.  Yes    No    \n",
       "   - entangle_entropy.purity_cell_2 ......... Yes    Depr.  Yes    No    \n",
       "   - entangled_entropy_v1.entropy_core ...... Yes    Depr.  Yes    No    \n",
       "   - entangle_entropy_v1.purity_cell ........ Yes    Depr.  Yes    No    \n",
       "   - wavefunction_overlap.echo_core_2 ....... Yes    Depr.  Yes    No    \n",
       "   - wavefunction_overlap.echo_cell_2 ....... Yes    Depr.  Yes    No    \n",
       "   - wavefunction_overlap_v1.echo_core ...... Yes    Depr.  Yes    No    \n",
       "   - wavefunction_overlap_v1.echo_cell ...... Yes    Depr.  Yes    No    \n",
       " - hadamard_test\n",
       "   - purity_echo_core ....................... Yes    No     Yes    No    \n",
       " - magnet_square\n",
       "   - magnsq_core ............................ Yes    No     Yes    No    \n",
       " - string_operator\n",
       "   - strop_core ............................. Yes    No     Yes    No    \n",
       " - classical_shadow\n",
       "   - rho_m_core ............................. Yes    No     No     Yes   \n",
       " - utils\n",
       "   - randomized ............................. Yes    Depr.  Yes    No    \n",
       "   - counts_process ......................... Yes    No     Yes    No    \n",
       "   - bit_slice .............................. Yes    No     Yes    No    \n",
       "   - dummy .................................. Yes    No     Yes    No    \n",
       "   - test ................................... Yes    No     Yes    No    \n",
       "---------------------------------------------------------------------------\n",
       "   + Yes ...... Working normally.\n",
       "   + Error .... Exception occurred.\n",
       "   + No ....... Not supported.\n",
       "   + Depr. .... Deprecated.\n",
       "---------------------------------------------------------------------------\n",
       "by <Hoshi>"
      ]
     },
     "execution_count": 10,
     "metadata": {},
     "output_type": "execute_result"
    }
   ],
   "source": [
    "AVAIBILITY_STATESHEET"
   ]
  },
  {
   "cell_type": "code",
   "execution_count": 7,
   "id": "075a9ec7",
   "metadata": {},
   "outputs": [
    {
     "name": "stdout",
     "output_type": "stream",
     "text": [
      "| randomized_measure\n",
      "| - entangled_entropy.entropy_core_2\n",
      "|   {'Python': None, 'Cython': None, 'Rust': None, 'JAX': None}\n",
      "| - entangle_entropy.purity_cell_2\n",
      "|   {'Python': None, 'Cython': None, 'Rust': None, 'JAX': None}\n",
      "| - entangled_entropy_v1.entropy_core\n",
      "|   {'Python': None, 'Cython': None, 'Rust': None, 'JAX': None}\n",
      "| - entangle_entropy_v1.purity_cell\n",
      "|   {'Python': None, 'Cython': None, 'Rust': None, 'JAX': None}\n",
      "| - wavefunction_overlap.echo_core_2\n",
      "|   {'Python': None, 'Cython': None, 'Rust': None, 'JAX': None}\n",
      "| - wavefunction_overlap.echo_cell_2\n",
      "|   {'Python': None, 'Cython': None, 'Rust': None, 'JAX': None}\n",
      "| - wavefunction_overlap_v1.echo_core\n",
      "|   {'Python': None, 'Cython': None, 'Rust': None, 'JAX': None}\n",
      "| - wavefunction_overlap_v1.echo_cell\n",
      "|   {'Python': None, 'Cython': None, 'Rust': None, 'JAX': None}\n",
      "| hadamard_test\n",
      "| - purity_echo_core\n",
      "|   {'Python': None, 'Cython': None, 'Rust': None, 'JAX': None}\n",
      "| magnet_square\n",
      "| - magnsq_core\n",
      "|   {'Python': None, 'Cython': None, 'Rust': None, 'JAX': None}\n",
      "| string_operator\n",
      "| - strop_core\n",
      "|   {'Python': None, 'Cython': None, 'Rust': None, 'JAX': None}\n",
      "| classical_shadow\n",
      "| - rho_m_core\n",
      "|   {'Python': None, 'Cython': None, 'Rust': None, 'JAX': None}\n",
      "| utils\n",
      "| - randomized\n",
      "|   {'Python': None, 'Cython': None, 'Rust': None, 'JAX': None}\n",
      "| - counts_process\n",
      "|   {'Python': None, 'Cython': None, 'Rust': None, 'JAX': None}\n",
      "| - bit_slice\n",
      "|   {'Python': None, 'Cython': None, 'Rust': None, 'JAX': None}\n",
      "| - dummy\n",
      "|   {'Python': None, 'Cython': None, 'Rust': None, 'JAX': None}\n",
      "| - test\n",
      "|   {'Python': None, 'Cython': None, 'Rust': None, 'JAX': None}\n"
     ]
    }
   ],
   "source": [
    "for k, v in ERROR_STATUS.items():\n",
    "    print(f\"| {k}\")\n",
    "    for k2, v2 in v.items():\n",
    "        print(f\"| - {k2}\")\n",
    "        print(f\"|   {v2}\")"
   ]
  },
  {
   "cell_type": "code",
   "execution_count": 9,
   "id": "78ecff5a",
   "metadata": {},
   "outputs": [
    {
     "name": "stdout",
     "output_type": "stream",
     "text": [
      "| randomized_measure\n",
      "| - entangled_entropy.entropy_core_2\n",
      "|   {'Python': 'Yes', 'Cython': 'Depr.', 'Rust': 'Yes', 'JAX': 'No'}\n",
      "| - entangle_entropy.purity_cell_2\n",
      "|   {'Python': 'Yes', 'Cython': 'Depr.', 'Rust': 'Yes', 'JAX': 'No'}\n",
      "| - entangled_entropy_v1.entropy_core\n",
      "|   {'Python': 'Yes', 'Cython': 'Depr.', 'Rust': 'Yes', 'JAX': 'No'}\n",
      "| - entangle_entropy_v1.purity_cell\n",
      "|   {'Python': 'Yes', 'Cython': 'Depr.', 'Rust': 'Yes', 'JAX': 'No'}\n",
      "| - wavefunction_overlap.echo_core_2\n",
      "|   {'Python': 'Yes', 'Cython': 'Depr.', 'Rust': 'Yes', 'JAX': 'No'}\n",
      "| - wavefunction_overlap.echo_cell_2\n",
      "|   {'Python': 'Yes', 'Cython': 'Depr.', 'Rust': 'Yes', 'JAX': 'No'}\n",
      "| - wavefunction_overlap_v1.echo_core\n",
      "|   {'Python': 'Yes', 'Cython': 'Depr.', 'Rust': 'Yes', 'JAX': 'No'}\n",
      "| - wavefunction_overlap_v1.echo_cell\n",
      "|   {'Python': 'Yes', 'Cython': 'Depr.', 'Rust': 'Yes', 'JAX': 'No'}\n",
      "| hadamard_test\n",
      "| - purity_echo_core\n",
      "|   {'Python': 'Yes', 'Cython': 'No', 'Rust': 'Yes', 'JAX': 'No'}\n",
      "| magnet_square\n",
      "| - magnsq_core\n",
      "|   {'Python': 'Yes', 'Cython': 'No', 'Rust': 'Yes', 'JAX': 'No'}\n",
      "| string_operator\n",
      "| - strop_core\n",
      "|   {'Python': 'Yes', 'Cython': 'No', 'Rust': 'Yes', 'JAX': 'No'}\n",
      "| classical_shadow\n",
      "| - rho_m_core\n",
      "|   {'Python': 'Yes', 'Cython': 'No', 'Rust': 'No', 'JAX': 'Yes'}\n",
      "| utils\n",
      "| - randomized\n",
      "|   {'Python': 'Yes', 'Cython': 'Depr.', 'Rust': 'Yes', 'JAX': 'No'}\n",
      "| - counts_process\n",
      "|   {'Python': 'Yes', 'Cython': 'No', 'Rust': 'Yes', 'JAX': 'No'}\n",
      "| - bit_slice\n",
      "|   {'Python': 'Yes', 'Cython': 'No', 'Rust': 'Yes', 'JAX': 'No'}\n",
      "| - dummy\n",
      "|   {'Python': 'Yes', 'Cython': 'No', 'Rust': 'Yes', 'JAX': 'No'}\n",
      "| - test\n",
      "|   {'Python': 'Yes', 'Cython': 'No', 'Rust': 'Yes', 'JAX': 'No'}\n"
     ]
    }
   ],
   "source": [
    "for k, v in AVAIBILITY_STATUS.items():\n",
    "    print(f\"| {k}\")\n",
    "    for k2, v2 in v.items():\n",
    "        print(f\"| - {k2}\")\n",
    "        print(f\"|   {v2}\")"
   ]
  },
  {
   "cell_type": "code",
   "execution_count": null,
   "id": "52e47243",
   "metadata": {},
   "outputs": [],
   "source": []
  }
 ],
 "metadata": {
  "kernelspec": {
   "display_name": "quantumsphere12",
   "language": "python",
   "name": "python3"
  },
  "language_info": {
   "codemirror_mode": {
    "name": "ipython",
    "version": 3
   },
   "file_extension": ".py",
   "mimetype": "text/x-python",
   "name": "python",
   "nbconvert_exporter": "python",
   "pygments_lexer": "ipython3",
   "version": "3.12.3"
  }
 },
 "nbformat": 4,
 "nbformat_minor": 5
}
