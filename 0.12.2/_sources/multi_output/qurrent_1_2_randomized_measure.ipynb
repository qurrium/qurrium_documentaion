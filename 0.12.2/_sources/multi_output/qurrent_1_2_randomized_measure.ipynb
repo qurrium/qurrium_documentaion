{
 "cells": [
  {
   "cell_type": "markdown",
   "id": "166f3b67",
   "metadata": {},
   "source": [
    "# 1.2 By Randomized Measurement\n",
    "## Multiple Experiments\n",
    "\n",
    "Consider a scenario, you have multiple circuits that you want to run at once.\n",
    "\n",
    "Call `.measure()` one by one will be inefficient,\n",
    "no to mention that you also need to call `.anlyze()` for their post-processing.\n",
    "\n",
    "Here we provide a more efficient way solve this problem,\n",
    "where the true power of Qurrium as experiment manage toolkit.\n"
   ]
  },
  {
   "cell_type": "markdown",
   "id": "86beb579",
   "metadata": {},
   "source": [
    "### a. Import the instances\n"
   ]
  },
  {
   "cell_type": "code",
   "execution_count": 1,
   "id": "0fc71722",
   "metadata": {},
   "outputs": [],
   "source": [
    "from qurry import EntropyMeasure\n",
    "\n",
    "experiment_randomized = EntropyMeasure()\n",
    "# It's default method. EntropyMeasure(method='randomized') also works"
   ]
  },
  {
   "cell_type": "markdown",
   "id": "d48d1d69",
   "metadata": {},
   "source": [
    "### b. Preparing quantum circuit\n",
    "\n",
    "Prepare and add circuits to the `.wave` for later usage.\n"
   ]
  },
  {
   "cell_type": "code",
   "execution_count": 2,
   "id": "2e597e81",
   "metadata": {},
   "outputs": [
    {
     "data": {
      "text/plain": [
       "WaveContainer({\n",
       "  'trivial_paramagnet_2': <qurry.recipe.simple.paramagnet.TrivialParamagnet object at 0x75408012cfb0>,\n",
       "  'ghz_2': <qurry.recipe.simple.cat.GHZ object at 0x753f996e1820>,\n",
       "  'neel_2': <qiskit.circuit.quantumcircuit.QuantumCircuit object at 0x753f99e798e0>,\n",
       "  'trivial_paramagnet_4': <qurry.recipe.simple.paramagnet.TrivialParamagnet object at 0x754081703050>,\n",
       "  'ghz_4': <qurry.recipe.simple.cat.GHZ object at 0x753fa77d3170>,\n",
       "  'neel_4': <qiskit.circuit.quantumcircuit.QuantumCircuit object at 0x753f995086e0>,\n",
       "  'trivial_paramagnet_6': <qurry.recipe.simple.paramagnet.TrivialParamagnet object at 0x753f995220f0>,\n",
       "  'ghz_6': <qurry.recipe.simple.cat.GHZ object at 0x753f99522180>,\n",
       "  'neel_6': <qiskit.circuit.quantumcircuit.QuantumCircuit object at 0x753f99522390>,\n",
       "  'trivial_paramagnet_8': <qurry.recipe.simple.paramagnet.TrivialParamagnet object at 0x753f99522510>,\n",
       "  'ghz_8': <qurry.recipe.simple.cat.GHZ object at 0x753f99522690>,\n",
       "  'neel_8': <qiskit.circuit.quantumcircuit.QuantumCircuit object at 0x753f99522870>,\n",
       "  'trivial_paramagnet_10': <qurry.recipe.simple.paramagnet.TrivialParamagnet object at 0x753f99522ab0>,\n",
       "  'ghz_10': <qurry.recipe.simple.cat.GHZ object at 0x753f99522b40>,\n",
       "  'neel_10': <qiskit.circuit.quantumcircuit.QuantumCircuit object at 0x753f99522cf0>,\n",
       "  'trivial_paramagnet_12': <qurry.recipe.simple.paramagnet.TrivialParamagnet object at 0x753f995230b0>,\n",
       "  'ghz_12': <qurry.recipe.simple.cat.GHZ object at 0x754081702ed0>,\n",
       "  'neel_12': <qiskit.circuit.quantumcircuit.QuantumCircuit object at 0x753f99523320>})"
      ]
     },
     "execution_count": 2,
     "metadata": {},
     "output_type": "execute_result"
    }
   ],
   "source": [
    "from qiskit import QuantumCircuit\n",
    "from qurry.recipe import TrivialParamagnet, GHZ\n",
    "\n",
    "\n",
    "def make_neel_circuit(n):\n",
    "    qc = QuantumCircuit(n)\n",
    "    for i in range(0, n, 2):\n",
    "        qc.x(i)\n",
    "    return qc\n",
    "\n",
    "\n",
    "for i in range(2, 13, 2):\n",
    "    experiment_randomized.add(TrivialParamagnet(i), f\"trivial_paramagnet_{i}\")\n",
    "    experiment_randomized.add(GHZ(i), f\"ghz_{i}\")\n",
    "    experiment_randomized.add(make_neel_circuit(i), f\"neel_{i}\")\n",
    "\n",
    "experiment_randomized.waves"
   ]
  },
  {
   "cell_type": "markdown",
   "id": "25fc5d4c",
   "metadata": {},
   "source": [
    "### c. Execute multiple experiments at once\n",
    "\n",
    "Let's demonstrate the true power of Qurrium.\n"
   ]
  },
  {
   "cell_type": "code",
   "execution_count": 3,
   "id": "1e63ed3e",
   "metadata": {},
   "outputs": [],
   "source": [
    "from qurry.qurrent.randomized_measure.arguments import (\n",
    "    EntropyMeasureRandomizedMeasureArgs,\n",
    ")"
   ]
  },
  {
   "cell_type": "markdown",
   "id": "45d57823",
   "metadata": {},
   "source": [
    "Preparing a configuration list for multiple experiments with following parameters:\n",
    "\n",
    "```python\n",
    "class EntropyMeasureRandomizedMeasureArgs(total=False):\n",
    "    \"\"\"Output arguments for :meth:`output`.\"\"\"\n",
    "    shots: int\n",
    "    \"\"\"Number of shots.\"\"\"\n",
    "    tags: Optional[tuple[str, ...]]\n",
    "    \"\"\"The tags to be used for the experiment.\"\"\"\n",
    "\n",
    "    wave: Optional[Union[QuantumCircuit, Hashable]]\n",
    "    \"\"\"The key or the circuit to execute.\"\"\"\n",
    "    times: int\n",
    "    \"\"\"The number of random unitary operator. \n",
    "    It will denote as `N_U` in the experiment name.\"\"\"\n",
    "    measure: Optional[Union[tuple[int, int], int, list[int]]]\n",
    "    \"\"\"The measure range.\"\"\"\n",
    "    unitary_loc: Optional[Union[tuple[int, int], int, list[int]]]\n",
    "    \"\"\"The range of the unitary operator.\"\"\"\n",
    "    unitary_loc_not_cover_measure: bool\n",
    "    \"\"\"Whether the range of the unitary operator is not cover the measure range.\"\"\"\n",
    "    random_unitary_seeds: Optional[dict[int, dict[int, int]]]\n",
    "    \"\"\"The seeds for all random unitary operator.\n",
    "    This argument only takes input as type of `dict[int, dict[int, int]]`.\n",
    "    The first key is the index for the random unitary operator.\n",
    "    The second key is the index for the qubit.\n",
    "\n",
    "    .. code-block:: python\n",
    "        {\n",
    "            0: {0: 1234, 1: 5678},\n",
    "            1: {0: 2345, 1: 6789},\n",
    "            2: {0: 3456, 1: 7890},\n",
    "        }\n",
    "\n",
    "    If you want to generate the seeds for all random unitary operator,\n",
    "    you can use the function :func:`generate_random_unitary_seeds` \n",
    "    in :mod:`qurry.qurrium.utils.random_unitary`.\n",
    "\n",
    "    .. code-block:: python\n",
    "        from qurry.qurrium.utils.random_unitary import generate_random_unitary_seeds\n",
    "\n",
    "        random_unitary_seeds = generate_random_unitary_seeds(100, 2)\n",
    "    \"\"\"\n",
    "```\n"
   ]
  },
  {
   "cell_type": "code",
   "execution_count": 4,
   "id": "9a6c6749",
   "metadata": {},
   "outputs": [
    {
     "name": "stdout",
     "output_type": "stream",
     "text": [
      "180\n"
     ]
    }
   ],
   "source": [
    "config_list: list[EntropyMeasureRandomizedMeasureArgs] = [\n",
    "    {\n",
    "        \"shots\": 1024,\n",
    "        \"wave\": f\"{wave_names}_{i}\",\n",
    "        \"times\": 100,\n",
    "        \"tags\": (wave_names, f\"size_{i}\"),\n",
    "    }\n",
    "    for _ in range(10)\n",
    "    for i in range(2, 13, 2)\n",
    "    for wave_names in [\"trivial_paramagnet\", \"ghz\", \"neel\"]\n",
    "]\n",
    "print(len(config_list))"
   ]
  },
  {
   "cell_type": "markdown",
   "id": "28ef8515",
   "metadata": {},
   "source": [
    "The `.multiOutput` will return an id of this `multimanager` instance,\n",
    "which can be used to get the results and post-process them.\n",
    "\n",
    "Each `multimanager` will export the experiments in a folder you can specify\n",
    "by setting `save_location` parameter with default location for current directory\n",
    "where Python executed.\n",
    "It will create a folder with the name of the `multimanager` instance,\n",
    "and inside it will create a folder for storing each experiment data.\n",
    "\n",
    "It will do firstly in the building process, but you can skip it by setting `skip_build_write=True` to save time.\n",
    "After all experiments are executed, it will export secondly,\n",
    "which can also be skipped by setting `skip_output_write=True` for no files output.\n"
   ]
  },
  {
   "cell_type": "code",
   "execution_count": 5,
   "id": "3135a9f2",
   "metadata": {},
   "outputs": [
    {
     "name": "stdout",
     "output_type": "stream",
     "text": [
      "| MultiManager building...\n",
      "| Write \"qurrent.randomized_measure.001\", at location \"qurrent.randomized_measure.001\"\n"
     ]
    },
    {
     "data": {
      "application/vnd.jupyter.widget-view+json": {
       "model_id": "1cf2f9c6153d4dae899388d26326a7ff",
       "version_major": 2,
       "version_minor": 0
      },
      "text/plain": [
       "| 0/180   0%|          | - MultiManager building... - 00:00 < ?"
      ]
     },
     "metadata": {},
     "output_type": "display_data"
    },
    {
     "name": "stdout",
     "output_type": "stream",
     "text": [
      "| MultiOutput running...\n"
     ]
    },
    {
     "data": {
      "application/vnd.jupyter.widget-view+json": {
       "model_id": "1021c60d4ed049409f5ee9e3d6bbd7bb",
       "version_major": 2,
       "version_minor": 0
      },
      "text/plain": [
       "| 0/180   0%|          | -  - 00:00 < ?"
      ]
     },
     "metadata": {},
     "output_type": "display_data"
    },
    {
     "name": "stdout",
     "output_type": "stream",
     "text": [
      "| Export multimanager...\n"
     ]
    },
    {
     "data": {
      "application/vnd.jupyter.widget-view+json": {
       "model_id": "c454dc3954054154989e9bc1b41b9176",
       "version_major": 2,
       "version_minor": 0
      },
      "text/plain": [
       "| 0/9 - Exporting MultiManager content... - 00:00 < ?"
      ]
     },
     "metadata": {},
     "output_type": "display_data"
    },
    {
     "name": "stdout",
     "output_type": "stream",
     "text": [
      "| No quantity to export.\n",
      "| Export multi.config.json for d747b2a9-8728-4d85-abcd-f691d9c9e023\n"
     ]
    },
    {
     "data": {
      "application/vnd.jupyter.widget-view+json": {
       "model_id": "afb407f448ff43b18f614a5be07371f8",
       "version_major": 2,
       "version_minor": 0
      },
      "text/plain": [
       "| 0/179 - Exporting experiments... - 00:00 < ?"
      ]
     },
     "metadata": {},
     "output_type": "display_data"
    },
    {
     "data": {
      "application/vnd.jupyter.widget-view+json": {
       "model_id": "68b3570010744ec4aaa8518cd3f23900",
       "version_major": 2,
       "version_minor": 0
      },
      "text/plain": [
       "| 0/180 - Loading file infomation... - 00:00 < ?"
      ]
     },
     "metadata": {},
     "output_type": "display_data"
    },
    {
     "name": "stdout",
     "output_type": "stream",
     "text": [
      "| Exporting file taglist...\n",
      "| Exporting qurrent.randomized_measure.001/qurryinfo.json...\n",
      "| Exporting qurrent.randomized_measure.001/qurryinfo.json done.\n"
     ]
    },
    {
     "data": {
      "text/plain": [
       "'d747b2a9-8728-4d85-abcd-f691d9c9e023'"
      ]
     },
     "execution_count": 5,
     "metadata": {},
     "output_type": "execute_result"
    }
   ],
   "source": [
    "multi_exps1 = experiment_randomized.multiOutput(\n",
    "    config_list,\n",
    "    summoner_name=\"qurrent.randomized_measure\",  # you can name it whatever you want\n",
    "    multiprocess_build=True,\n",
    "    # Using multiprocessing to build the experiments,\n",
    "    # it will be faster but take all the CPU\n",
    "    skip_build_write=True,\n",
    "    # Skip the writing of the experiment as files during the build,\n",
    "    save_location=\".\",\n",
    "    # Save the experiment as files in the current directory\n",
    "    multiprocess_write=True,\n",
    "    # Writing the experiment as files using multiprocessing,\n",
    ")\n",
    "multi_exps1"
   ]
  },
  {
   "cell_type": "markdown",
   "id": "1a64516c",
   "metadata": {},
   "source": [
    "You can check the result of `multiOutput` that we just executed by accessing the `.multimanagers`"
   ]
  },
  {
   "cell_type": "code",
   "execution_count": 6,
   "id": "465b50c0",
   "metadata": {},
   "outputs": [
    {
     "data": {
      "text/plain": [
       "MultiManagerContainer(num=1, {\n",
       "  \"d747b2a9-8728-4d85-abcd-f691d9c9e023\":\n",
       "    <MultiManager(name=\"qurrent.randomized_measure.001\", jobstype=\"local\", ..., exps_num=180)>,\n",
       "})"
      ]
     },
     "execution_count": 6,
     "metadata": {},
     "output_type": "execute_result"
    }
   ],
   "source": [
    "experiment_randomized.multimanagers"
   ]
  },
  {
   "cell_type": "code",
   "execution_count": 7,
   "id": "29668232",
   "metadata": {},
   "outputs": [
    {
     "data": {
      "text/plain": [
       "<MultiManager(id=\"d747b2a9-8728-4d85-abcd-f691d9c9e023\",\n",
       "  name=\"qurrent.randomized_measure.001\",\n",
       "  tags=(),\n",
       "  jobstype=\"local\",\n",
       "  pending_strategy=\"tags\",\n",
       "  last_events={\n",
       "    'output.001': '2025-06-17 19:46:46',},\n",
       "  exps_num=180)>"
      ]
     },
     "execution_count": 7,
     "metadata": {},
     "output_type": "execute_result"
    }
   ],
   "source": [
    "experiment_randomized.multimanagers[multi_exps1]"
   ]
  },
  {
   "cell_type": "markdown",
   "id": "4052ff26",
   "metadata": {},
   "source": [
    "### d. Run post-processing at once\n"
   ]
  },
  {
   "cell_type": "code",
   "execution_count": 8,
   "id": "045b5b22",
   "metadata": {},
   "outputs": [
    {
     "data": {
      "application/vnd.jupyter.widget-view+json": {
       "model_id": "1714cc4d257e482fb48bc61a6ac1c05d",
       "version_major": 2,
       "version_minor": 0
      },
      "text/plain": [
       "| 0/180 - Analysis:  - 00:00 < ?"
      ]
     },
     "metadata": {},
     "output_type": "display_data"
    },
    {
     "name": "stdout",
     "output_type": "stream",
     "text": [
      "| \"report.001\" has been completed.\n"
     ]
    },
    {
     "data": {
      "text/plain": [
       "'d747b2a9-8728-4d85-abcd-f691d9c9e023'"
      ]
     },
     "execution_count": 8,
     "metadata": {},
     "output_type": "execute_result"
    }
   ],
   "source": [
    "experiment_randomized.multiAnalysis(\n",
    "    summoner_id=multi_exps1,\n",
    "    skip_write=True,\n",
    "    multiprocess_write=False,\n",
    "    selected_qubits=[0, 1],\n",
    ")"
   ]
  },
  {
   "cell_type": "code",
   "execution_count": 9,
   "id": "483b0b35",
   "metadata": {},
   "outputs": [
    {
     "name": "stdout",
     "output_type": "stream",
     "text": [
      "| Available results:\n",
      "| - ('trivial_paramagnet', 'size_2') with length 10\n",
      "| - ('ghz', 'size_2') with length 10\n",
      "| - ('neel', 'size_2') with length 10\n",
      "| - ('trivial_paramagnet', 'size_4') with length 10\n",
      "| - ('ghz', 'size_4') with length 10\n",
      "| - ('neel', 'size_4') with length 10\n",
      "| - ('trivial_paramagnet', 'size_6') with length 10\n",
      "| - ('ghz', 'size_6') with length 10\n",
      "| - ('neel', 'size_6') with length 10\n",
      "| - ('trivial_paramagnet', 'size_8') with length 10\n",
      "| - ('ghz', 'size_8') with length 10\n",
      "| - ('neel', 'size_8') with length 10\n",
      "| - ('trivial_paramagnet', 'size_10') with length 10\n",
      "| - ('ghz', 'size_10') with length 10\n",
      "| - ('neel', 'size_10') with length 10\n",
      "| - ('trivial_paramagnet', 'size_12') with length 10\n",
      "| - ('ghz', 'size_12') with length 10\n",
      "| - ('neel', 'size_12') with length 10\n"
     ]
    }
   ],
   "source": [
    "print(\"| Available results:\")\n",
    "for k, v in (\n",
    "    experiment_randomized.multimanagers[multi_exps1]\n",
    "    .quantity_container[\"report.001\"]\n",
    "    .items()\n",
    "):\n",
    "    print(\"| -\", k, \"with length\", len(v))"
   ]
  },
  {
   "cell_type": "markdown",
   "id": "4622ce0b",
   "metadata": {},
   "source": [
    "- Example of the content of `quantity_container`"
   ]
  },
  {
   "cell_type": "code",
   "execution_count": 10,
   "id": "c8b8b3c6",
   "metadata": {},
   "outputs": [
    {
     "data": {
      "text/plain": [
       "[{'purity': np.float64(1.0204687881469727),\n",
       "  'entropy': np.float64(-0.02923205706519441),\n",
       "  'puritySD': np.float64(0.6447086333372172),\n",
       "  'entropySD': np.float64(0.9114614370742952),\n",
       "  'num_classical_registers': 10,\n",
       "  'classical_registers': [0, 1],\n",
       "  'classical_registers_actually': [0, 1],\n",
       "  'all_system_source': 'independent',\n",
       "  'purityAllSys': np.float64(1.6160114288330079),\n",
       "  'entropyAllSys': np.float64(-0.6924374012223802),\n",
       "  'puritySDAllSys': np.float64(0.8897919779637544),\n",
       "  'entropySDAllSys': np.float64(0.7943622496272226),\n",
       "  'num_classical_registers_all_sys': 10,\n",
       "  'classical_registers_all_sys': None,\n",
       "  'classical_registers_actually_all_sys': [0, 1, 2, 3, 4, 5, 6, 7, 8, 9],\n",
       "  'errorRate': np.float64(-0.2714612029246201),\n",
       "  'mitigatedPurity': np.float64(0.7265942787159235),\n",
       "  'mitigatedEntropy': np.float64(0.46077808903027784),\n",
       "  'counts_num': 100,\n",
       "  'taking_time': 0.0005954,\n",
       "  'taking_time_all_sys': 0.027875765,\n",
       "  'counts_used': None,\n",
       "  'input': {'num_qubits': 10,\n",
       "   'selected_qubits': [0, 1],\n",
       "   'registers_mapping': {0: 0,\n",
       "    1: 1,\n",
       "    2: 2,\n",
       "    3: 3,\n",
       "    4: 4,\n",
       "    5: 5,\n",
       "    6: 6,\n",
       "    7: 7,\n",
       "    8: 8,\n",
       "    9: 9},\n",
       "   'bitstring_mapping': {0: 0,\n",
       "    1: 1,\n",
       "    2: 2,\n",
       "    3: 3,\n",
       "    4: 4,\n",
       "    5: 5,\n",
       "    6: 6,\n",
       "    7: 7,\n",
       "    8: 8,\n",
       "    9: 9},\n",
       "   'shots': 1024,\n",
       "   'unitary_located': [0, 1, 2, 3, 4, 5, 6, 7, 8, 9]},\n",
       "  'header': {'serial': 0, 'datetime': '2025-06-17 19:47:02', 'log': {}}},\n",
       " {'purity': np.float64(1.0537848854064942),\n",
       "  'entropy': np.float64(-0.07558039218265715),\n",
       "  'puritySD': np.float64(0.6842389900725656),\n",
       "  'entropySD': np.float64(0.9367644302278769),\n",
       "  'num_classical_registers': 10,\n",
       "  'classical_registers': [0, 1],\n",
       "  'classical_registers_actually': [0, 1],\n",
       "  'all_system_source': 'independent',\n",
       "  'purityAllSys': np.float64(2.110069923400879),\n",
       "  'entropyAllSys': np.float64(-1.077290807687069),\n",
       "  'puritySDAllSys': np.float64(1.679213948134027),\n",
       "  'entropySDAllSys': np.float64(1.1481105951503032),\n",
       "  'num_classical_registers_all_sys': 10,\n",
       "  'classical_registers_all_sys': None,\n",
       "  'classical_registers_actually_all_sys': [0, 1, 2, 3, 4, 5, 6, 7, 8, 9],\n",
       "  'errorRate': np.float64(-0.4529814299365527),\n",
       "  'mitigatedPurity': np.float64(0.630732287207213),\n",
       "  'mitigatedEntropy': np.float64(0.6649003081798465),\n",
       "  'counts_num': 100,\n",
       "  'taking_time': 0.000585845,\n",
       "  'taking_time_all_sys': 0.027986208,\n",
       "  'counts_used': None,\n",
       "  'input': {'num_qubits': 10,\n",
       "   'selected_qubits': [0, 1],\n",
       "   'registers_mapping': {0: 0,\n",
       "    1: 1,\n",
       "    2: 2,\n",
       "    3: 3,\n",
       "    4: 4,\n",
       "    5: 5,\n",
       "    6: 6,\n",
       "    7: 7,\n",
       "    8: 8,\n",
       "    9: 9},\n",
       "   'bitstring_mapping': {0: 0,\n",
       "    1: 1,\n",
       "    2: 2,\n",
       "    3: 3,\n",
       "    4: 4,\n",
       "    5: 5,\n",
       "    6: 6,\n",
       "    7: 7,\n",
       "    8: 8,\n",
       "    9: 9},\n",
       "   'shots': 1024,\n",
       "   'unitary_located': [0, 1, 2, 3, 4, 5, 6, 7, 8, 9]},\n",
       "  'header': {'serial': 0, 'datetime': '2025-06-17 19:47:02', 'log': {}}}]"
      ]
     },
     "execution_count": 10,
     "metadata": {},
     "output_type": "execute_result"
    }
   ],
   "source": [
    "experiment_randomized.multimanagers[multi_exps1].quantity_container[\"report.001\"][\n",
    "    (\"trivial_paramagnet\", \"size_10\")\n",
    "][:2]"
   ]
  },
  {
   "cell_type": "markdown",
   "id": "1963d333",
   "metadata": {},
   "source": [
    "### e. Run post-processing at once with specific analysis arguments\n",
    "\n",
    "At first, we need to get the each experiment's id in the `multimanager` instance.\n"
   ]
  },
  {
   "cell_type": "code",
   "execution_count": 12,
   "id": "b114c2d8",
   "metadata": {},
   "outputs": [
    {
     "name": "stdout",
     "output_type": "stream",
     "text": [
      "180\n"
     ]
    }
   ],
   "source": [
    "expkeys_of_multi_exps1 = list(\n",
    "    experiment_randomized.multimanagers[multi_exps1].exps.keys()\n",
    ")\n",
    "print(len(expkeys_of_multi_exps1))"
   ]
  },
  {
   "cell_type": "markdown",
   "id": "f13dfbdd",
   "metadata": {},
   "source": [
    "1. If you want to run the post-processing for some specific experiments,\n",
    "   for example, the first 3 experiments we get for the `multimanager` instance.\n"
   ]
  },
  {
   "cell_type": "code",
   "execution_count": 13,
   "id": "9ac1a24f",
   "metadata": {},
   "outputs": [
    {
     "data": {
      "text/plain": [
       "['578e611d-e9c6-44b9-9e32-f27c2844d68f',\n",
       " 'ab242664-6442-41a4-ba28-0212cc1a771a',\n",
       " 'c48eb11b-bea5-442b-be45-1a82d20adb6f',\n",
       " 'fe53efa6-a6fd-48f9-ab93-221946407cbe',\n",
       " '844594f1-2cd9-407a-a633-45fcf8f0b7c4',\n",
       " '127fcc87-0c3e-410e-809d-c9f7455fade5',\n",
       " '1f64b79b-a257-4a4c-be17-875c0559dbec',\n",
       " '3b801d1b-865a-4736-8c03-926f7fec2cd7',\n",
       " '43bb7bcd-3f1f-445d-9935-e1b1ac25545a',\n",
       " 'b85db631-8a95-4eb9-a3e3-eb6e9ac20eb1',\n",
       " 'cd75de8a-d715-4469-bd7e-2c3273e03a0b',\n",
       " '45f14f26-6ae0-40bb-8207-36832f445b8e',\n",
       " '73f8ff28-9223-4141-a9df-17ae65ce7e57',\n",
       " '67aa522e-7342-4e95-9963-dfbc73db8f5c',\n",
       " 'f323d7be-403b-4aa9-8f8f-831fcc9b5548',\n",
       " '393fc1c3-6d25-4eba-b3e3-b389c4001a46',\n",
       " '203ec3e5-bbba-4095-87f5-5b78d6e93371',\n",
       " 'd14f37f3-ab26-4c3b-8fb6-0c71cfed01be',\n",
       " '6a023dd8-d9f5-44d7-b1d1-6408cdf4b9d9',\n",
       " '547750dd-078f-47ab-ac2f-f15100e4c40a',\n",
       " '5eed54e8-8113-4a5e-b281-3650e3361e07',\n",
       " '7442f136-8e6e-4f9f-b3c6-428195a38711',\n",
       " '880f4e8c-d975-4855-8851-cc4bcb308202',\n",
       " 'e3465367-1fc4-4cf5-b49a-66dbca80f7e4',\n",
       " '65ff44f9-7a2f-4652-8454-5591c149ef58',\n",
       " 'dbe3d938-e989-4762-8737-d327dfb36916',\n",
       " '7647db47-67d1-48e4-ac68-12b5bf29616d',\n",
       " 'c7a0ba7f-0d5f-41f0-9c5a-f496304fea99',\n",
       " 'e1d5934e-45ae-44ff-b53c-a8698828fb10',\n",
       " '04b5a0de-c8dd-441d-b594-b73370b771d8',\n",
       " '3b58ab2d-e4e5-41a9-b063-6bc338003055',\n",
       " 'a9063cf3-ec6e-4b59-aa6b-b4fe9cb0339e',\n",
       " '1b825017-b39d-4dab-b26d-a47ce5cc8033',\n",
       " 'fa283818-a216-4449-9eba-0947462b015b',\n",
       " 'c4c59bb4-f5b3-4067-9f1b-9a4bd33cc1ce',\n",
       " 'ef44c1dd-5e46-4831-b81f-7113d2d03f3e',\n",
       " '8b191723-a285-476d-b36b-327abf16c431',\n",
       " 'fa8555b2-c94d-4725-9a46-fd0a41523322',\n",
       " '654e6bc3-8b62-4aa0-9873-d88c78425b81',\n",
       " '5a431af6-41ff-429b-b98d-3808e6644ca0',\n",
       " '2137b2d1-a3d5-4e1b-b61b-8639ea3156c3',\n",
       " '7d21ab44-755b-433c-ae87-d7e1d1f28c7a',\n",
       " '5cea6713-e90d-4678-a855-4743b7acca4b',\n",
       " 'a9abb0ae-9f4f-40fe-bad0-2fc12966b89b',\n",
       " '3c62a053-6d7d-4b6c-aa8f-3b0d32781137',\n",
       " '984a19d0-9e96-479f-b021-b4f51e2cea45',\n",
       " '6ffcf18d-174d-4913-89d3-cedfedb80867',\n",
       " '69d746b4-0a57-4c28-99c5-4bd37b464e58',\n",
       " 'eb87195a-ebff-460d-aba6-211cb7b8eb3d',\n",
       " '4cbd1286-7d07-44b0-97a2-526687d8fd37',\n",
       " '7b0b0fec-c611-458b-aa48-a498125878eb',\n",
       " 'bfed478d-5ef0-4be8-b7ad-825ea8db0b0a',\n",
       " 'c3ae7c7a-4260-43d9-9038-b61707482943',\n",
       " '0d4fb0b0-43bd-4768-8fc2-82d4444c780a',\n",
       " '4c68a427-56c2-440b-8790-885b43bf53c4',\n",
       " '1c06910d-0953-4e35-8b6e-80543fa454d8',\n",
       " 'baaec5a2-63d9-4d37-a911-6b73554808a2',\n",
       " 'cc340a80-9026-4171-b5ba-6ff74b37a039',\n",
       " 'b555d6d5-32ea-4c81-b8ac-1f8830df9c08',\n",
       " '7320b1c5-fd06-46e2-9535-f0797da2050c',\n",
       " 'e5245b7f-82d6-405e-b3cf-2bec4f731436',\n",
       " 'b2120001-92cb-43b0-a98e-4dc50a16e518',\n",
       " 'd35f11dd-bb97-4e19-9e10-92377d4798cc',\n",
       " '8ab9c9bd-0541-4b1e-b391-0d2ba2d5d313',\n",
       " '72a72d58-cf81-463a-a290-6ebbcb8229e4',\n",
       " '7449a3a9-f849-44ee-898d-0f1d3e9c3ef5',\n",
       " 'd86ea607-6096-49f3-84f6-2d5855061289',\n",
       " 'bc322078-abe9-459d-a22a-26ad35c38e44',\n",
       " 'c6daa1da-ba15-4595-b518-c282dfa279be',\n",
       " 'a1ec47a3-3ed2-4913-89bf-41a21440b4c8',\n",
       " '35452193-33be-4fec-8103-44433a4aa819',\n",
       " 'd2bdbfb1-ebfa-43d8-970d-c947bedb5708',\n",
       " '29f1b149-2c78-436c-8c1e-22e61c840471',\n",
       " '46092c37-f3dd-4dea-b809-5641b6528f5f',\n",
       " '8a6e41c9-22e5-4232-820d-23024ab2075b',\n",
       " '70b82ea6-ed62-4aba-83f5-a113b43e784a',\n",
       " '15caea53-9a0b-4374-90c6-c5c0d41ce680',\n",
       " '91b26719-4e42-4af8-86dc-8dded5a371f2',\n",
       " '1aedb2ba-d877-44b3-b4b1-11ed34e7c2ca',\n",
       " '3d468a76-493e-4cc4-b8ce-96a29b3a4e86',\n",
       " '49cb17ad-1c23-48ce-be2f-7c1de2044814',\n",
       " '077d2d2d-28a9-47e3-9b0f-5af661d728d3',\n",
       " 'ad37ec31-4ef4-452c-a802-d45dba8ed187',\n",
       " '9ac36a54-e922-42be-b2c8-cd84e90a7fce',\n",
       " '791cb07f-3c7e-49fd-8fa5-f80008aacdb0',\n",
       " 'c93d1792-fbdc-4949-a279-7fc1bb73718c',\n",
       " '2bad3a0e-8dd5-4779-896c-750913c0441e',\n",
       " 'e4de31c0-4e5d-4442-bb95-362ea8f685bc',\n",
       " '9eaed3ff-a933-4386-974b-65e5639d8ff1',\n",
       " '4cb1d3a5-c5b1-47c2-a459-cddc0d81d62c',\n",
       " '6cbcba7d-1fe0-4068-9ae3-8596d3ae44fd',\n",
       " '4a1dda00-aaa8-4568-a464-6801a109af7f',\n",
       " 'b61e9e24-7fe3-4b48-af66-4ed9f1405468',\n",
       " '553546cf-bbee-469a-8367-9882416a24f7',\n",
       " 'b03ffca2-49a7-4837-bbaa-15d00fe44c81',\n",
       " '2c0f5145-65d2-4503-9a51-f3c68db8bc10',\n",
       " 'fcb6c9d3-786e-401a-8dec-23ebcf03036b',\n",
       " 'b83067c0-536f-4295-bf1e-886e1a901fd3',\n",
       " '93c64552-22e6-4b18-80ab-26efa20400a0',\n",
       " '2f89c939-852e-4764-9126-7f87992ab049',\n",
       " '92b5d3e9-1d50-4f25-81fc-7fc7cb8d3111',\n",
       " '42ec1ff9-c32d-408c-a1d4-743b7be0c6f5',\n",
       " '7f76caab-4b89-4b75-9920-9d60592df5ad',\n",
       " 'a4e1be59-b60f-4633-b3dd-600500a3e836',\n",
       " 'd7cdd12f-5d20-45ff-bf20-1503b330954c',\n",
       " 'd24567b8-ee73-448a-a78e-2480e7ac330c',\n",
       " '2781a2bc-22fb-45e3-9548-7a8f0e26144c',\n",
       " '4b2c8079-413b-41ce-b37c-d6cc71e9e99c',\n",
       " '93c1adec-29d1-467d-ba81-d15b2850ae5f',\n",
       " '5edfe1f3-0be7-4a24-a39a-5e47cd0c73b7',\n",
       " '33c1a87e-f436-4892-89bd-90667184d322',\n",
       " '588d3dce-e088-4045-b771-2aaf6a95eaae',\n",
       " '1f15d2d2-6a17-4b72-99a0-3dc39ddbb423',\n",
       " 'a02f0597-53b8-47ed-9b46-5b3d5268a66b',\n",
       " 'cb6fc2d6-a266-4882-824d-4185b8ba9eee',\n",
       " 'c0a2100a-64fd-4aa8-950c-dbdfa6b48674',\n",
       " '73155be6-4a10-44f8-805d-bf767c07d229',\n",
       " 'c82ab713-5e88-4b05-9cb1-28fb3e1a589f',\n",
       " '77bc914e-f970-49da-acbe-24baffc282ce',\n",
       " 'ace33c67-d4fe-4ca8-aa50-eab41283dce9',\n",
       " '8038bf38-c75c-4167-b647-b395744972ca',\n",
       " '5d482ec5-b6d5-4015-9629-f61b83fb95e6',\n",
       " '11359c9e-5b08-42f6-9b49-035a8ffa4898',\n",
       " '8299db29-42db-480b-8eca-5ce6a5541609',\n",
       " '2f728403-f797-453b-9da8-d3098714c15d',\n",
       " 'c8b47fe1-32f5-49ba-b413-b1087331f26c',\n",
       " '0da4d950-6691-4482-84c7-19ec4e009357',\n",
       " 'a59c7907-ef9f-4721-89f4-95445b094e8d',\n",
       " '9187b1db-78cc-4974-8e79-9ee8d62deba7',\n",
       " 'c26a80ca-ee12-4154-85ea-61283a5bdc2b',\n",
       " 'e6d8696b-5d03-4153-ae03-3e0851eb59b7',\n",
       " '249b06f5-e618-42bc-b826-b6b8d1625b92',\n",
       " '15558441-9964-4b32-b334-0c32752259c8',\n",
       " '3c13137f-858f-4850-be6e-4c10489f18b7',\n",
       " 'e0ebb127-46b3-45ca-8b86-fd453fd01e17',\n",
       " '191ce6fd-dc56-4787-8ec2-8584f03ecb15',\n",
       " '8e669f3a-0cad-47bb-b3c6-a44184c3e55c',\n",
       " '4f32cad7-43c4-4dde-b50b-bad320f3df75',\n",
       " '7c046958-80b4-4c17-b125-21126d894614',\n",
       " 'faafebc0-5790-408d-bdab-cbec6a99f251',\n",
       " 'f1f8c88c-f7db-4b55-ae96-7b37f261d5f8',\n",
       " 'af8dcbcf-386d-4658-809a-e820bd64e569',\n",
       " '357657bc-45a9-4cde-a269-872fc2eb6559',\n",
       " '66d8bf54-5288-4a0b-bb26-fab8599ca273',\n",
       " '29c302e0-c208-4c05-b42a-af461dd78bbd',\n",
       " '42b8b0f2-a8cd-434e-81b7-e4594c025e6b',\n",
       " '3d94b7db-0832-437f-b22a-c5974538a9f1',\n",
       " '576de875-33d5-4e5b-9433-2b6b26ae7b26',\n",
       " '5ba95138-cd90-4f73-83c8-bd38cc7715ea',\n",
       " 'a9ab8df3-c10f-4eb2-b26c-9fb192809413',\n",
       " 'a9198f60-345b-4926-8eba-c63c9b5778df',\n",
       " 'a1c4176b-0c39-4ecd-a75c-92247c85f42c',\n",
       " 'db28970f-b699-422f-9279-36573a70a60c',\n",
       " '51b488c2-a0ed-4eec-ba4c-8d613f2b72c4',\n",
       " 'b0959ecf-7d4b-4ebb-80a9-e484609485a3',\n",
       " '831768c9-bd06-464e-8ace-7a286c3f9402',\n",
       " '499c101c-cd03-4169-b762-61f361370445',\n",
       " '499b766a-f057-472c-b03d-3e4a996e50bc',\n",
       " '1b51c583-0c42-4f0e-b638-a99f52a0e06f',\n",
       " 'ffec4848-98af-45ef-a364-9f82a3d23286',\n",
       " 'ddc91e49-0370-48d6-97bd-8beb56bb69cd',\n",
       " '27c84940-97e8-4233-9f55-bc17f5ab0df3',\n",
       " '90164d69-06ab-4443-ac48-24a7d3936850',\n",
       " '60684cc4-f385-4043-af04-ae33507bbe77',\n",
       " '5c36748c-b9bc-40ce-aa61-a244cca4e8f8',\n",
       " '3d3dfa5e-aecc-40eb-8de7-00e0c2cf7895',\n",
       " 'af6cfa79-bc0a-401e-8227-f85927b8cc65',\n",
       " '7a60ce8e-4bba-454a-b1e2-517bc5fe1077',\n",
       " '61177996-d326-4a2b-9f62-dc137b949f5d',\n",
       " '4686dd7c-5f56-453c-9b61-58b3da51b09f',\n",
       " '4ac9279e-3e71-4530-a805-81f48c5a4b42',\n",
       " 'a3e72ed3-eb22-4900-8f4d-f168bb609ab3',\n",
       " '437752f9-6434-4640-b0ac-c38739af6074',\n",
       " '62831d0f-e5fb-4e6e-a0e2-c2eb6ce26b86',\n",
       " '61eb1136-1de7-4a99-b84b-164795007294',\n",
       " '7eff2202-d78e-43ee-999e-f68e4ad72375',\n",
       " 'a0a91041-dddc-4738-b160-eebcebaf538c',\n",
       " 'e721d1a8-1862-4be6-bf5e-8bbbba07561b',\n",
       " 'c3cfd819-b7a1-4492-8911-091cbff1ed11',\n",
       " 'a625d82f-a990-406a-9a5e-a4e4faa8d183']"
      ]
     },
     "execution_count": 13,
     "metadata": {},
     "output_type": "execute_result"
    }
   ],
   "source": [
    "expkeys_of_multi_exps1"
   ]
  },
  {
   "cell_type": "code",
   "execution_count": 14,
   "id": "38778cf7",
   "metadata": {},
   "outputs": [
    {
     "data": {
      "application/vnd.jupyter.widget-view+json": {
       "model_id": "2ad2de667ab246d6b01e2aa9f197cb5e",
       "version_major": 2,
       "version_minor": 0
      },
      "text/plain": [
       "| 0/180 - Analysis:  - 00:00 < ?"
      ]
     },
     "metadata": {},
     "output_type": "display_data"
    },
    {
     "name": "stdout",
     "output_type": "stream",
     "text": [
      "| \"first_3.002\" has been completed.\n"
     ]
    },
    {
     "data": {
      "text/plain": [
       "'ac5ddb2b-7699-4134-be7e-b154bc0dfe8c'"
      ]
     },
     "execution_count": 14,
     "metadata": {},
     "output_type": "execute_result"
    }
   ],
   "source": [
    "experiment_randomized.multiAnalysis(\n",
    "    summoner_id=multi_exps1,\n",
    "    analysis_name=\"first_3\",\n",
    "    skip_write=True,\n",
    "    multiprocess_write=False,\n",
    "    specific_analysis_args={\n",
    "        k: (\n",
    "            {\n",
    "                \"selected_qubits\": [0, 1],\n",
    "            }\n",
    "            if idx < 3\n",
    "            else False\n",
    "        )\n",
    "        for idx, k in enumerate(expkeys_of_multi_exps1)\n",
    "    },\n",
    ")"
   ]
  },
  {
   "cell_type": "code",
   "execution_count": 15,
   "id": "ada4eb86",
   "metadata": {},
   "outputs": [
    {
     "name": "stdout",
     "output_type": "stream",
     "text": [
      "| Available results:\n",
      "| length: 3\n"
     ]
    }
   ],
   "source": [
    "print(\"| Available results:\")\n",
    "print(\n",
    "    \"| length:\",\n",
    "    sum(\n",
    "        len(v)\n",
    "        for v in experiment_randomized.multimanagers[multi_exps1]\n",
    "        .quantity_container[\"first_3.002\"]\n",
    "        .values()\n",
    "    ),\n",
    ")"
   ]
  },
  {
   "cell_type": "markdown",
   "id": "4a1f8281",
   "metadata": {},
   "source": [
    "2. Or manually specify all the analysis arguments for each experiment.\n"
   ]
  },
  {
   "cell_type": "code",
   "execution_count": 16,
   "id": "6f483aff",
   "metadata": {},
   "outputs": [
    {
     "data": {
      "application/vnd.jupyter.widget-view+json": {
       "model_id": "16aec600f1774661b17846434e875fe9",
       "version_major": 2,
       "version_minor": 0
      },
      "text/plain": [
       "| 0/180 - Analysis:  - 00:00 < ?"
      ]
     },
     "metadata": {},
     "output_type": "display_data"
    },
    {
     "name": "stdout",
     "output_type": "stream",
     "text": [
      "| \"all_manual.003\" has been completed.\n",
      "| Export multimanager...\n"
     ]
    },
    {
     "data": {
      "application/vnd.jupyter.widget-view+json": {
       "model_id": "9249ad47e78043328dbabb122312cef8",
       "version_major": 2,
       "version_minor": 0
      },
      "text/plain": [
       "| 0/9 - Exporting MultiManager content... - 00:00 < ?"
      ]
     },
     "metadata": {},
     "output_type": "display_data"
    },
    {
     "data": {
      "application/vnd.jupyter.widget-view+json": {
       "model_id": "5fccf637019b4ca4aedf1bcb7f979953",
       "version_major": 2,
       "version_minor": 0
      },
      "text/plain": [
       "| 0/3 - exporting quantity - 00:00 < ?"
      ]
     },
     "metadata": {},
     "output_type": "display_data"
    },
    {
     "name": "stdout",
     "output_type": "stream",
     "text": [
      "| Export multi.config.json for ac5ddb2b-7699-4134-be7e-b154bc0dfe8c\n"
     ]
    },
    {
     "data": {
      "application/vnd.jupyter.widget-view+json": {
       "model_id": "ea86726508c748e8ba0af7d12ec24369",
       "version_major": 2,
       "version_minor": 0
      },
      "text/plain": [
       "| 0/179 - Exporting experiments... - 00:00 < ?"
      ]
     },
     "metadata": {},
     "output_type": "display_data"
    },
    {
     "data": {
      "application/vnd.jupyter.widget-view+json": {
       "model_id": "6125a9c59c464dea9df871ff89a38f3c",
       "version_major": 2,
       "version_minor": 0
      },
      "text/plain": [
       "| 0/180 - Loading file infomation... - 00:00 < ?"
      ]
     },
     "metadata": {},
     "output_type": "display_data"
    },
    {
     "name": "stdout",
     "output_type": "stream",
     "text": [
      "| Exporting file taglist...\n",
      "| Exporting qurrent.randomized_measure.003/qurryinfo.json...\n",
      "| Exporting qurrent.randomized_measure.003/qurryinfo.json done.\n"
     ]
    },
    {
     "data": {
      "text/plain": [
       "'ac5ddb2b-7699-4134-be7e-b154bc0dfe8c'"
      ]
     },
     "execution_count": 16,
     "metadata": {},
     "output_type": "execute_result"
    }
   ],
   "source": [
    "experiment_randomized.multiAnalysis(\n",
    "    summoner_id=multi_exps1,\n",
    "    skip_write=False,\n",
    "    analysis_name=\"all_manual\",\n",
    "    multiprocess_write=True,\n",
    "    specific_analysis_args={\n",
    "        k: {\n",
    "            \"selected_qubits\": [0, 1],  # selected qubits for the analysis\n",
    "        }\n",
    "        for idx, k in enumerate(expkeys_of_multi_exps1)\n",
    "    },\n",
    ")"
   ]
  },
  {
   "cell_type": "code",
   "execution_count": 17,
   "id": "0b62f923",
   "metadata": {},
   "outputs": [
    {
     "data": {
      "text/plain": [
       "dict_keys(['report.001', 'first_3.002', 'all_manual.003'])"
      ]
     },
     "execution_count": 17,
     "metadata": {},
     "output_type": "execute_result"
    }
   ],
   "source": [
    "experiment_randomized.multimanagers[multi_exps1].quantity_container.keys()"
   ]
  },
  {
   "cell_type": "code",
   "execution_count": 18,
   "id": "9d2c5e8d",
   "metadata": {},
   "outputs": [
    {
     "name": "stdout",
     "output_type": "stream",
     "text": [
      "| Available results:\n",
      "| length: 180\n"
     ]
    }
   ],
   "source": [
    "print(\"| Available results:\")\n",
    "print(\n",
    "    \"| length:\",\n",
    "    sum(\n",
    "        len(v)\n",
    "        for v in experiment_randomized.multimanagers[multi_exps1]\n",
    "        .quantity_container[\"all_manual.003\"]\n",
    "        .values()\n",
    "    ),\n",
    ")"
   ]
  },
  {
   "cell_type": "markdown",
   "id": "1f4ffe7a",
   "metadata": {},
   "source": [
    "### f. Read exported multimanager data\n"
   ]
  },
  {
   "cell_type": "code",
   "execution_count": null,
   "id": "e873e02d",
   "metadata": {},
   "outputs": [
    {
     "name": "stdout",
     "output_type": "stream",
     "text": [
      "| Retrieve qurrent.randomized_measure.001...\n",
      "| at: qurrent.randomized_measure.001\n"
     ]
    },
    {
     "data": {
      "application/vnd.jupyter.widget-view+json": {
       "model_id": "38fe5ba5cd6c47eebe4f74c9744b3cc8",
       "version_major": 2,
       "version_minor": 0
      },
      "text/plain": [
       "| 0/180   0%|          | - Loading 180 experiments ... - 00:00 < ?"
      ]
     },
     "metadata": {},
     "output_type": "display_data"
    }
   ],
   "source": [
    "multi_exps1_reades = experiment_randomized.multiRead(\n",
    "    save_location=\".\",\n",
    "    summoner_name=\"qurrent.randomized_measure.001\",\n",
    ")"
   ]
  },
  {
   "cell_type": "markdown",
   "id": "b89d7007",
   "metadata": {},
   "source": [
    "## Post-Process Availablities and Version Info"
   ]
  },
  {
   "cell_type": "code",
   "execution_count": 20,
   "id": "1fe20bf0",
   "metadata": {},
   "outputs": [
    {
     "data": {
      "text/plain": [
       " | Qurry version: 0.12.2.dev2\n",
       "---------------------------------------------------------------------------\n",
       " ### Qurry Post-Processing\n",
       "   - Backend Availability ................... Python Cython Rust   JAX   \n",
       " - randomized_measure\n",
       "   - entangled_entropy.entropy_core_2 ....... Yes    Depr.  Yes    No    \n",
       "   - entangle_entropy.purity_cell_2 ......... Yes    Depr.  Yes    No    \n",
       "   - entangled_entropy_v1.entropy_core ...... Yes    Depr.  Yes    No    \n",
       "   - entangle_entropy_v1.purity_cell ........ Yes    Depr.  Yes    No    \n",
       "   - wavefunction_overlap.echo_core_2 ....... Yes    Depr.  Yes    No    \n",
       "   - wavefunction_overlap.echo_cell_2 ....... Yes    Depr.  Yes    No    \n",
       "   - wavefunction_overlap_v1.echo_core ...... Yes    Depr.  Yes    No    \n",
       "   - wavefunction_overlap_v1.echo_cell ...... Yes    Depr.  Yes    No    \n",
       " - hadamard_test\n",
       "   - purity_echo_core ....................... Yes    No     Yes    No    \n",
       " - magnet_square\n",
       "   - magnsq_core ............................ Yes    No     No     No    \n",
       " - classical_shadow\n",
       "   - rho_m_core ............................. Yes    No     No     Error \n",
       " - utils\n",
       "   - randomized ............................. Yes    Depr.  Yes    No    \n",
       "   - counts_process ......................... Yes    No     Yes    No    \n",
       "   - bit_slice .............................. Yes    No     Yes    No    \n",
       "   - dummy .................................. Yes    No     Yes    No    \n",
       "   - test ................................... Yes    No     Yes    No    \n",
       "---------------------------------------------------------------------------\n",
       "   + Yes ...... Working normally.\n",
       "   + Error .... Exception occurred.\n",
       "   + No ....... Not supported.\n",
       "   + Depr. .... Deprecated.\n",
       "---------------------------------------------------------------------------\n",
       "by <Hoshi>"
      ]
     },
     "execution_count": 20,
     "metadata": {},
     "output_type": "execute_result"
    }
   ],
   "source": [
    "from qurry.process import AVAIBILITY_STATESHEET\n",
    "\n",
    "AVAIBILITY_STATESHEET"
   ]
  }
 ],
 "metadata": {
  "kernelspec": {
   "display_name": "quantumsphere12",
   "language": "python",
   "name": "python3"
  },
  "language_info": {
   "codemirror_mode": {
    "name": "ipython",
    "version": 3
   },
   "file_extension": ".py",
   "mimetype": "text/x-python",
   "name": "python",
   "nbconvert_exporter": "python",
   "pygments_lexer": "ipython3",
   "version": "3.12.3"
  }
 },
 "nbformat": 4,
 "nbformat_minor": 5
}
