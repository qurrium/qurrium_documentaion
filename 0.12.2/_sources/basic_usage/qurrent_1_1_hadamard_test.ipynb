{
 "cells": [
  {
   "cell_type": "markdown",
   "id": "166f3b67",
   "metadata": {},
   "source": [
    "# 1.1 By Hadamard Test\n",
    "## Basic Usage"
   ]
  },
  {
   "cell_type": "markdown",
   "id": "86beb579",
   "metadata": {},
   "source": [
    "### a. Import the instances"
   ]
  },
  {
   "cell_type": "code",
   "execution_count": 1,
   "id": "0fc71722",
   "metadata": {},
   "outputs": [],
   "source": [
    "from qurry import EntropyMeasure\n",
    "\n",
    "experiment_hadamard = EntropyMeasure(method=\"hadamard\")"
   ]
  },
  {
   "cell_type": "markdown",
   "id": "d48d1d69",
   "metadata": {},
   "source": [
    "### b. Preparing quantum circuit"
   ]
  },
  {
   "cell_type": "code",
   "execution_count": 2,
   "id": "2e597e81",
   "metadata": {},
   "outputs": [],
   "source": [
    "from qiskit import QuantumCircuit\n",
    "from qurry.recipe import TrivialParamagnet, GHZ"
   ]
  },
  {
   "cell_type": "code",
   "execution_count": 3,
   "id": "9584bc4f",
   "metadata": {},
   "outputs": [
    {
     "name": "stdout",
     "output_type": "stream",
     "text": [
      "| trivial paramagnet in 8 qubits:\n",
      "     ┌───┐\n",
      "q_0: ┤ H ├\n",
      "     ├───┤\n",
      "q_1: ┤ H ├\n",
      "     ├───┤\n",
      "q_2: ┤ H ├\n",
      "     ├───┤\n",
      "q_3: ┤ H ├\n",
      "     ├───┤\n",
      "q_4: ┤ H ├\n",
      "     ├───┤\n",
      "q_5: ┤ H ├\n",
      "     ├───┤\n",
      "q_6: ┤ H ├\n",
      "     ├───┤\n",
      "q_7: ┤ H ├\n",
      "     └───┘\n"
     ]
    }
   ],
   "source": [
    "sample01 = TrivialParamagnet(8)\n",
    "print(\"| trivial paramagnet in 8 qubits:\")\n",
    "print(sample01)"
   ]
  },
  {
   "cell_type": "code",
   "execution_count": 4,
   "id": "ddd66f20",
   "metadata": {},
   "outputs": [
    {
     "name": "stdout",
     "output_type": "stream",
     "text": [
      "| GHZ in 8 qubits:\n",
      "     ┌───┐                                   \n",
      "q_0: ┤ H ├──■────────────────────────────────\n",
      "     └───┘┌─┴─┐                              \n",
      "q_1: ─────┤ X ├──■───────────────────────────\n",
      "          └───┘┌─┴─┐                         \n",
      "q_2: ──────────┤ X ├──■──────────────────────\n",
      "               └───┘┌─┴─┐                    \n",
      "q_3: ───────────────┤ X ├──■─────────────────\n",
      "                    └───┘┌─┴─┐               \n",
      "q_4: ────────────────────┤ X ├──■────────────\n",
      "                         └───┘┌─┴─┐          \n",
      "q_5: ─────────────────────────┤ X ├──■───────\n",
      "                              └───┘┌─┴─┐     \n",
      "q_6: ──────────────────────────────┤ X ├──■──\n",
      "                                   └───┘┌─┴─┐\n",
      "q_7: ───────────────────────────────────┤ X ├\n",
      "                                        └───┘\n"
     ]
    }
   ],
   "source": [
    "sample02 = GHZ(8)\n",
    "print(\"| GHZ in 8 qubits:\")\n",
    "print(sample02)"
   ]
  },
  {
   "cell_type": "code",
   "execution_count": 5,
   "id": "bf3a0988",
   "metadata": {},
   "outputs": [
    {
     "name": "stdout",
     "output_type": "stream",
     "text": [
      "| Custom circuit:\n",
      "     ┌───┐\n",
      "q_0: ┤ X ├\n",
      "     └───┘\n",
      "q_1: ─────\n",
      "     ┌───┐\n",
      "q_2: ┤ X ├\n",
      "     └───┘\n",
      "q_3: ─────\n",
      "     ┌───┐\n",
      "q_4: ┤ X ├\n",
      "     └───┘\n",
      "q_5: ─────\n",
      "     ┌───┐\n",
      "q_6: ┤ X ├\n",
      "     └───┘\n",
      "q_7: ─────\n",
      "          \n"
     ]
    }
   ],
   "source": [
    "sample03 = QuantumCircuit(8)\n",
    "sample03.x(range(0, 8, 2))\n",
    "print(\"| Custom circuit:\")\n",
    "print(sample03)"
   ]
  },
  {
   "cell_type": "markdown",
   "id": "25fc5d4c",
   "metadata": {},
   "source": [
    "### c. Execute the circuit"
   ]
  },
  {
   "cell_type": "markdown",
   "id": "6937e4ba",
   "metadata": {},
   "source": [
    "#### i. Directly input the circuit\n",
    "\n",
    "After executing, it will return a uuid of experiment. You can use this uuid to get the result of the experiment.\n"
   ]
  },
  {
   "cell_type": "code",
   "execution_count": 6,
   "id": "3135a9f2",
   "metadata": {},
   "outputs": [
    {
     "data": {
      "text/plain": [
       "'76dc0afa-fd03-4a73-8a79-36fcf1693b53'"
      ]
     },
     "execution_count": 6,
     "metadata": {},
     "output_type": "execute_result"
    }
   ],
   "source": [
    "exp1 = experiment_hadamard.measure(sample01, degree=4, shots=4096)\n",
    "exp1"
   ]
  },
  {
   "cell_type": "markdown",
   "id": "4052ff26",
   "metadata": {},
   "source": [
    "Each experiment result will be stored in a container `.exps`."
   ]
  },
  {
   "cell_type": "code",
   "execution_count": 7,
   "id": "a01a6c9f",
   "metadata": {},
   "outputs": [
    {
     "data": {
      "text/plain": [
       "<EntropyMeasureHadamardExperiment(exp_id=76dc0afa-fd03-4a73-8a79-36fcf1693b53, \n",
       "  EntropyMeasureHadamardArguments(exp_name='experiment.degree_4_8.qurrent_hadamard', degree=(4, 8)),\n",
       "  Commonparams(exp_id='76dc0afa-fd03-4a73-8a79-36fcf1693b53', target_keys=[0], shots=4096, backend=<AerSimulator('aer_simulator')>, run_args={}, transpile_args={}, tags=(), save_location=PosixPath('.'), serial=None, summoner_id=None, summoner_name=None, datetimes=DatetimeDict({'build': '2025-06-24 12:37:43', 'run.001': '2025-06-24 12:37:43'})),\n",
       "  unused_args_num=0,\n",
       "  analysis_num=1))>"
      ]
     },
     "execution_count": 7,
     "metadata": {},
     "output_type": "execute_result"
    }
   ],
   "source": [
    "experiment_hadamard.exps[exp1]"
   ]
  },
  {
   "cell_type": "code",
   "execution_count": 8,
   "id": "98b17ffb",
   "metadata": {},
   "outputs": [
    {
     "data": {
      "text/plain": [
       "<EMHAnalysis(\n",
       "  serial=1,\n",
       "  EMHAnalysisInput(),\n",
       "  EMHAnalysisContent(purity=1.0, entropy=-0.0)),\n",
       "  unused_args_num=1\n",
       "  )>"
      ]
     },
     "execution_count": 8,
     "metadata": {},
     "output_type": "execute_result"
    }
   ],
   "source": [
    "report01 = experiment_hadamard.exps[exp1].analyze()\n",
    "report01"
   ]
  },
  {
   "cell_type": "code",
   "execution_count": 9,
   "id": "04e837c4",
   "metadata": {},
   "outputs": [
    {
     "data": {
      "text/plain": [
       "{'purity': 1.0,\n",
       " 'entropy': np.float64(-0.0),\n",
       " 'input': {},\n",
       " 'header': {'serial': 1, 'datetime': '2025-06-24 12:37:43', 'log': {}}}"
      ]
     },
     "execution_count": 9,
     "metadata": {},
     "output_type": "execute_result"
    }
   ],
   "source": [
    "main01, side_product01 = report01.export()\n",
    "main01"
   ]
  },
  {
   "cell_type": "markdown",
   "id": "80f78a90",
   "metadata": {},
   "source": [
    "#### ii. Add the circuits to container `.waves`, then call them later.\n",
    "\n",
    "Since we have executed an experiment, the circuit we input in `exp1` is stored in the container `.waves` with serial number `0`."
   ]
  },
  {
   "cell_type": "code",
   "execution_count": 10,
   "id": "e7e4b5fd",
   "metadata": {},
   "outputs": [
    {
     "data": {
      "text/plain": [
       "WaveContainer({\n",
       "  0: <qurry.recipe.simple.paramagnet.TrivialParamagnet object at 0x743fd7732060>})"
      ]
     },
     "execution_count": 10,
     "metadata": {},
     "output_type": "execute_result"
    }
   ],
   "source": [
    "experiment_hadamard.waves"
   ]
  },
  {
   "cell_type": "markdown",
   "id": "c5dc7dc7",
   "metadata": {},
   "source": [
    "But we can also add the circuit to the container `.waves` with a custom name.\n",
    "The name should be unique, otherwise it will be overwritten.\n",
    "The method `add` will return the actual name of the circuit in the container."
   ]
  },
  {
   "cell_type": "code",
   "execution_count": 11,
   "id": "50325122",
   "metadata": {},
   "outputs": [
    {
     "name": "stdout",
     "output_type": "stream",
     "text": [
      "ghz_8\n",
      "     ┌───┐                                   \n",
      "q_0: ┤ H ├──■────────────────────────────────\n",
      "     └───┘┌─┴─┐                              \n",
      "q_1: ─────┤ X ├──■───────────────────────────\n",
      "          └───┘┌─┴─┐                         \n",
      "q_2: ──────────┤ X ├──■──────────────────────\n",
      "               └───┘┌─┴─┐                    \n",
      "q_3: ───────────────┤ X ├──■─────────────────\n",
      "                    └───┘┌─┴─┐               \n",
      "q_4: ────────────────────┤ X ├──■────────────\n",
      "                         └───┘┌─┴─┐          \n",
      "q_5: ─────────────────────────┤ X ├──■───────\n",
      "                              └───┘┌─┴─┐     \n",
      "q_6: ──────────────────────────────┤ X ├──■──\n",
      "                                   └───┘┌─┴─┐\n",
      "q_7: ───────────────────────────────────┤ X ├\n",
      "                                        └───┘\n"
     ]
    }
   ],
   "source": [
    "print(experiment_hadamard.add(sample02, \"ghz_8\"))\n",
    "print(experiment_hadamard.waves[\"ghz_8\"])"
   ]
  },
  {
   "cell_type": "markdown",
   "id": "d426d0bf",
   "metadata": {},
   "source": [
    "If there is a circuit with the same name, it will be replaced by the new one."
   ]
  },
  {
   "cell_type": "code",
   "execution_count": 12,
   "id": "62f0b726",
   "metadata": {},
   "outputs": [
    {
     "name": "stdout",
     "output_type": "stream",
     "text": [
      "ghz_8\n",
      "     ┌───┐\n",
      "q_0: ┤ X ├\n",
      "     └───┘\n",
      "q_1: ─────\n",
      "     ┌───┐\n",
      "q_2: ┤ X ├\n",
      "     └───┘\n",
      "q_3: ─────\n",
      "     ┌───┐\n",
      "q_4: ┤ X ├\n",
      "     └───┘\n",
      "q_5: ─────\n",
      "     ┌───┐\n",
      "q_6: ┤ X ├\n",
      "     └───┘\n",
      "q_7: ─────\n",
      "          \n"
     ]
    }
   ],
   "source": [
    "print(experiment_hadamard.add(sample03, \"ghz_8\"))\n",
    "print(experiment_hadamard.waves[\"ghz_8\"])"
   ]
  },
  {
   "cell_type": "markdown",
   "id": "7b79fe25",
   "metadata": {},
   "source": [
    "Otherwise, you will need to use `replace=\"duplicate\"` to prevent it from being replaced."
   ]
  },
  {
   "cell_type": "code",
   "execution_count": 13,
   "id": "a1d8b6ae",
   "metadata": {},
   "outputs": [
    {
     "name": "stdout",
     "output_type": "stream",
     "text": [
      "ghz_8.2\n",
      "     ┌───┐                                   \n",
      "q_0: ┤ H ├──■────────────────────────────────\n",
      "     └───┘┌─┴─┐                              \n",
      "q_1: ─────┤ X ├──■───────────────────────────\n",
      "          └───┘┌─┴─┐                         \n",
      "q_2: ──────────┤ X ├──■──────────────────────\n",
      "               └───┘┌─┴─┐                    \n",
      "q_3: ───────────────┤ X ├──■─────────────────\n",
      "                    └───┘┌─┴─┐               \n",
      "q_4: ────────────────────┤ X ├──■────────────\n",
      "                         └───┘┌─┴─┐          \n",
      "q_5: ─────────────────────────┤ X ├──■───────\n",
      "                              └───┘┌─┴─┐     \n",
      "q_6: ──────────────────────────────┤ X ├──■──\n",
      "                                   └───┘┌─┴─┐\n",
      "q_7: ───────────────────────────────────┤ X ├\n",
      "                                        └───┘\n"
     ]
    }
   ],
   "source": [
    "duplicated_case01 = experiment_hadamard.add(sample02, \"ghz_8\", replace=\"duplicate\")\n",
    "print(duplicated_case01)\n",
    "print(experiment_hadamard.waves[duplicated_case01])"
   ]
  },
  {
   "cell_type": "markdown",
   "id": "f38b4679",
   "metadata": {},
   "source": [
    "Now we have prepared the circuit and stored it in the container `.waves`."
   ]
  },
  {
   "cell_type": "code",
   "execution_count": 14,
   "id": "2a6e1e85",
   "metadata": {},
   "outputs": [
    {
     "data": {
      "text/plain": [
       "WaveContainer({\n",
       "  0: <qurry.recipe.simple.paramagnet.TrivialParamagnet object at 0x743fd7732060>,\n",
       "  'ghz_8': <qiskit.circuit.quantumcircuit.QuantumCircuit object at 0x743fd761d490>,\n",
       "  'ghz_8.2': <qurry.recipe.simple.cat.GHZ object at 0x743fd761d5e0>})"
      ]
     },
     "execution_count": 14,
     "metadata": {},
     "output_type": "execute_result"
    }
   ],
   "source": [
    "experiment_hadamard.waves"
   ]
  },
  {
   "cell_type": "markdown",
   "id": "66a312be",
   "metadata": {},
   "source": [
    "Finally, we can execute the circuit and get the result."
   ]
  },
  {
   "cell_type": "code",
   "execution_count": 15,
   "id": "2d32257f",
   "metadata": {},
   "outputs": [
    {
     "data": {
      "text/plain": [
       "'8dfd6f1d-b8aa-440d-ae43-6f1b495a3538'"
      ]
     },
     "execution_count": 15,
     "metadata": {},
     "output_type": "execute_result"
    }
   ],
   "source": [
    "exp2 = experiment_hadamard.measure(\"ghz_8.2\", degree=4, shots=4096)\n",
    "exp2"
   ]
  },
  {
   "cell_type": "code",
   "execution_count": 16,
   "id": "3490266c",
   "metadata": {},
   "outputs": [
    {
     "data": {
      "text/plain": [
       "<EntropyMeasureHadamardExperiment(exp_id=8dfd6f1d-b8aa-440d-ae43-6f1b495a3538, \n",
       "  EntropyMeasureHadamardArguments(exp_name='experiment.degree_4_8.qurrent_hadamard', degree=(4, 8)),\n",
       "  Commonparams(exp_id='8dfd6f1d-b8aa-440d-ae43-6f1b495a3538', target_keys=['ghz_8.2'], shots=4096, backend=<AerSimulator('aer_simulator')>, run_args={}, transpile_args={}, tags=(), save_location=PosixPath('.'), serial=None, summoner_id=None, summoner_name=None, datetimes=DatetimeDict({'build': '2025-06-24 12:37:46', 'run.001': '2025-06-24 12:37:46'})),\n",
       "  unused_args_num=0,\n",
       "  analysis_num=1))>"
      ]
     },
     "execution_count": 16,
     "metadata": {},
     "output_type": "execute_result"
    }
   ],
   "source": [
    "experiment_hadamard.exps[exp2]"
   ]
  },
  {
   "cell_type": "code",
   "execution_count": 17,
   "id": "3eec833e",
   "metadata": {},
   "outputs": [
    {
     "data": {
      "text/plain": [
       "<EMHAnalysis(\n",
       "  serial=1,\n",
       "  EMHAnalysisInput(),\n",
       "  EMHAnalysisContent(purity=0.4892578125, entropy=1.0313332068047916)),\n",
       "  unused_args_num=1\n",
       "  )>"
      ]
     },
     "execution_count": 17,
     "metadata": {},
     "output_type": "execute_result"
    }
   ],
   "source": [
    "report02 = experiment_hadamard.exps[exp2].analyze()\n",
    "report02"
   ]
  },
  {
   "cell_type": "markdown",
   "id": "7da71740",
   "metadata": {},
   "source": [
    "### d. Export them after all"
   ]
  },
  {
   "cell_type": "code",
   "execution_count": 18,
   "id": "1c5b0ab5",
   "metadata": {},
   "outputs": [
    {
     "data": {
      "text/plain": [
       "{'folder': 'experiment.degree_4_8.qurrent_hadamard.001',\n",
       " 'qurryinfo': 'experiment.degree_4_8.qurrent_hadamard.001/qurryinfo.json',\n",
       " 'args': 'experiment.degree_4_8.qurrent_hadamard.001/args/experiment.degree_4_8.qurrent_hadamard.001.id=76dc0afa-fd03-4a73-8a79-36fcf1693b53.args.json',\n",
       " 'advent': 'experiment.degree_4_8.qurrent_hadamard.001/advent/experiment.degree_4_8.qurrent_hadamard.001.id=76dc0afa-fd03-4a73-8a79-36fcf1693b53.advent.json',\n",
       " 'legacy': 'experiment.degree_4_8.qurrent_hadamard.001/legacy/experiment.degree_4_8.qurrent_hadamard.001.id=76dc0afa-fd03-4a73-8a79-36fcf1693b53.legacy.json',\n",
       " 'reports': 'experiment.degree_4_8.qurrent_hadamard.001/reports/experiment.degree_4_8.qurrent_hadamard.001.id=76dc0afa-fd03-4a73-8a79-36fcf1693b53.reports.json'}"
      ]
     },
     "execution_count": 18,
     "metadata": {},
     "output_type": "execute_result"
    }
   ],
   "source": [
    "exp1_id, exp1_files_info = experiment_hadamard.exps[exp1].write(\n",
    "    save_location=\".\",  # where to save files\n",
    ")\n",
    "exp1_files_info"
   ]
  },
  {
   "cell_type": "markdown",
   "id": "5ce8d9c7",
   "metadata": {},
   "source": [
    "---\n",
    "\n",
    "### Post-Process Availablities and Version Info"
   ]
  },
  {
   "cell_type": "code",
   "execution_count": 19,
   "id": "d4cca3b9",
   "metadata": {},
   "outputs": [
    {
     "data": {
      "text/plain": [
       " | Qurrium version: 0.13.0.dev1\n",
       "---------------------------------------------------------------------------\n",
       " ### Qurrium Post-Processing\n",
       "   - Backend Availability ................... Python Cython Rust   JAX   \n",
       " - randomized_measure\n",
       "   - entangled_entropy.entropy_core_2 ....... Yes    Depr.  Yes    No    \n",
       "   - entangle_entropy.purity_cell_2 ......... Yes    Depr.  Yes    No    \n",
       "   - entangled_entropy_v1.entropy_core ...... Yes    Depr.  Yes    No    \n",
       "   - entangle_entropy_v1.purity_cell ........ Yes    Depr.  Yes    No    \n",
       "   - wavefunction_overlap.echo_core_2 ....... Yes    Depr.  Yes    No    \n",
       "   - wavefunction_overlap.echo_cell_2 ....... Yes    Depr.  Yes    No    \n",
       "   - wavefunction_overlap_v1.echo_core ...... Yes    Depr.  Yes    No    \n",
       "   - wavefunction_overlap_v1.echo_cell ...... Yes    Depr.  Yes    No    \n",
       " - hadamard_test\n",
       "   - purity_echo_core ....................... Yes    No     Yes    No    \n",
       " - magnet_square\n",
       "   - magnsq_core ............................ Yes    No     Yes    No    \n",
       " - classical_shadow\n",
       "   - rho_m_core ............................. Yes    No     No     Yes   \n",
       " - utils\n",
       "   - randomized ............................. Yes    Depr.  Yes    No    \n",
       "   - counts_process ......................... Yes    No     Yes    No    \n",
       "   - bit_slice .............................. Yes    No     Yes    No    \n",
       "   - dummy .................................. Yes    No     Yes    No    \n",
       "   - test ................................... Yes    No     Yes    No    \n",
       "---------------------------------------------------------------------------\n",
       "   + Yes ...... Working normally.\n",
       "   + Error .... Exception occurred.\n",
       "   + No ....... Not supported.\n",
       "   + Depr. .... Deprecated.\n",
       "---------------------------------------------------------------------------\n",
       "by <Hoshi>"
      ]
     },
     "execution_count": 19,
     "metadata": {},
     "output_type": "execute_result"
    }
   ],
   "source": [
    "from qurry.process import AVAIBILITY_STATESHEET\n",
    "\n",
    "AVAIBILITY_STATESHEET"
   ]
  },
  {
   "cell_type": "code",
   "execution_count": null,
   "id": "898c1a96",
   "metadata": {},
   "outputs": [],
   "source": []
  }
 ],
 "metadata": {
  "kernelspec": {
   "display_name": "quantumsphere12",
   "language": "python",
   "name": "python3"
  },
  "language_info": {
   "codemirror_mode": {
    "name": "ipython",
    "version": 3
   },
   "file_extension": ".py",
   "mimetype": "text/x-python",
   "name": "python",
   "nbconvert_exporter": "python",
   "pygments_lexer": "ipython3",
   "version": "3.12.3"
  }
 },
 "nbformat": 4,
 "nbformat_minor": 5
}
