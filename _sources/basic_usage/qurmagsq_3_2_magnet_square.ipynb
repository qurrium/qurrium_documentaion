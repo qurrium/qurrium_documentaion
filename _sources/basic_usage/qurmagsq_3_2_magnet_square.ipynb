{
 "cells": [
  {
   "cell_type": "markdown",
   "id": "166f3b67",
   "metadata": {},
   "source": [
    "# 3.2 Magnetization Square for Any Directions\n",
    "\n",
    "---\n",
    "\n",
    "## Basic Usage\n"
   ]
  },
  {
   "cell_type": "markdown",
   "id": "86beb579",
   "metadata": {},
   "source": [
    "### a. Import the instances\n"
   ]
  },
  {
   "cell_type": "code",
   "execution_count": 1,
   "id": "0fc71722",
   "metadata": {},
   "outputs": [],
   "source": [
    "from qurry import MagnetSquare\n",
    "\n",
    "experiment_magnetsquare = MagnetSquare()"
   ]
  },
  {
   "cell_type": "markdown",
   "id": "d48d1d69",
   "metadata": {},
   "source": [
    "### b. Preparing quantum circuit\n"
   ]
  },
  {
   "cell_type": "code",
   "execution_count": 2,
   "id": "2e597e81",
   "metadata": {},
   "outputs": [],
   "source": [
    "from qurry.recipe import Cat, TrivialParamagnet"
   ]
  },
  {
   "cell_type": "code",
   "execution_count": 3,
   "id": "9584bc4f",
   "metadata": {},
   "outputs": [
    {
     "name": "stdout",
     "output_type": "stream",
     "text": [
      "| trivial paramagnet and cat in 4 qubits:\n",
      "     ┌───┐\n",
      "q_0: ┤ H ├\n",
      "     ├───┤\n",
      "q_1: ┤ H ├\n",
      "     ├───┤\n",
      "q_2: ┤ H ├\n",
      "     ├───┤\n",
      "q_3: ┤ H ├\n",
      "     └───┘\n",
      "     ┌───┐               \n",
      "q_0: ┤ H ├──■────────────\n",
      "     └───┘┌─┴─┐          \n",
      "q_1: ─────┤ X ├──■───────\n",
      "          └───┘┌─┴─┐     \n",
      "q_2: ──────────┤ X ├──■──\n",
      "               └───┘┌─┴─┐\n",
      "q_3: ───────────────┤ X ├\n",
      "                    └───┘\n"
     ]
    }
   ],
   "source": [
    "circuits_dict = {\n",
    "    \"trivialPM_2\": TrivialParamagnet(2),\n",
    "    \"trivialPM_4\": TrivialParamagnet(4),\n",
    "    \"trivialPM_6\": TrivialParamagnet(6),\n",
    "    \"trivialPM_8\": TrivialParamagnet(8),\n",
    "    \"cat_2\": Cat(2),\n",
    "    \"cat_4\": Cat(4),\n",
    "    \"cat_6\": Cat(6),\n",
    "    \"cat_8\": Cat(8),\n",
    "}\n",
    "print(\"| trivial paramagnet and cat in 4 qubits:\")\n",
    "print(circuits_dict[\"trivialPM_4\"])\n",
    "print(circuits_dict[\"cat_4\"])"
   ]
  },
  {
   "cell_type": "markdown",
   "id": "25fc5d4c",
   "metadata": {},
   "source": [
    "### c. Execute the circuit\n"
   ]
  },
  {
   "cell_type": "markdown",
   "id": "6937e4ba",
   "metadata": {},
   "source": [
    "#### i. Directly input the circuit\n",
    "\n",
    "After executing, it will return a uuid of experiment. You can use this uuid to get the result of the experiment.\n"
   ]
  },
  {
   "cell_type": "code",
   "execution_count": 4,
   "id": "3135a9f2",
   "metadata": {},
   "outputs": [
    {
     "data": {
      "text/plain": [
       "'8adad442-3b1c-4072-8db0-3d0bb50845d7'"
      ]
     },
     "execution_count": 4,
     "metadata": {},
     "output_type": "execute_result"
    }
   ],
   "source": [
    "exp1 = experiment_magnetsquare.measure(\n",
    "    circuits_dict[\"cat_6\"], unitary_operator=\"z\", shots=4096\n",
    ")\n",
    "exp1"
   ]
  },
  {
   "cell_type": "markdown",
   "id": "4052ff26",
   "metadata": {},
   "source": [
    "Each experiment result will be stored in a container `.exps`.\n"
   ]
  },
  {
   "cell_type": "code",
   "execution_count": 5,
   "id": "a01a6c9f",
   "metadata": {},
   "outputs": [
    {
     "data": {
      "text/plain": [
       "<MagnetSquareExperiment(exp_id=8adad442-3b1c-4072-8db0-3d0bb50845d7, \n",
       "  MagnetSquareArguments(exp_name='experiment.qurmagsq_magnet_square', num_qubits=6, unitary_operator='z'),\n",
       "  Commonparams(exp_id='8adad442-3b1c-4072-8db0-3d0bb50845d7', target_keys=[0], shots=4096, backend=<AerSimulator('aer_simulator')>, run_args={}, transpile_args={}, tags=(), save_location=PosixPath('.'), serial=None, summoner_id=None, summoner_name=None, datetimes=DatetimeDict({'build': '2025-06-25 13:42:05', 'run.001': '2025-06-25 13:42:05'})),\n",
       "  unused_args_num=0,\n",
       "  analysis_num=1))>"
      ]
     },
     "execution_count": 5,
     "metadata": {},
     "output_type": "execute_result"
    }
   ],
   "source": [
    "experiment_magnetsquare.exps[exp1]"
   ]
  },
  {
   "cell_type": "markdown",
   "id": "ab7aa147",
   "metadata": {},
   "source": [
    "For `MagnetSquare`, its `.analyze` in `MagnetSquareExperiment` does not require any arguments, so its post-processing will be executed automatically after `.measure`.\n"
   ]
  },
  {
   "cell_type": "code",
   "execution_count": 6,
   "id": "9d0f697f",
   "metadata": {},
   "outputs": [
    {
     "data": {
      "text/plain": [
       "AnalysisContainer(length=1, {\n",
       "  0: <MSAnalysis(serial=0, MSAnalysisInput(), MSAnalysisContent(magnet_square=1.0, unitary_operator=z, and others)), unused_args_num=0>})"
      ]
     },
     "execution_count": 6,
     "metadata": {},
     "output_type": "execute_result"
    }
   ],
   "source": [
    "experiment_magnetsquare.exps[exp1].reports"
   ]
  },
  {
   "cell_type": "code",
   "execution_count": 7,
   "id": "dd76acdf",
   "metadata": {},
   "outputs": [
    {
     "data": {
      "text/plain": [
       "<MSAnalysis(\n",
       "  serial=0,\n",
       "  MSAnalysisInput(),\n",
       "  MSAnalysisContent(magnet_square=1.0, unitary_operator=z, and others)),\n",
       "  unused_args_num=0\n",
       "  )>"
      ]
     },
     "execution_count": 7,
     "metadata": {},
     "output_type": "execute_result"
    }
   ],
   "source": [
    "report01 = experiment_magnetsquare.exps[exp1].reports[0]\n",
    "report01"
   ]
  },
  {
   "cell_type": "code",
   "execution_count": null,
   "id": "04e837c4",
   "metadata": {},
   "outputs": [
    {
     "name": "stdout",
     "output_type": "stream",
     "text": [
      "| magnetization square 1.0\n",
      "| num_qubits: 6\n",
      "| shots: 4096\n",
      "| unitary_operator: z\n",
      "| taking_time: 0.003601382\n",
      "| input: {}\n",
      "| header: {'serial': 0, 'datetime': '2025-06-25 13:42:05', 'log': {}}\n"
     ]
    }
   ],
   "source": [
    "main01, side_product01 = report01.export()\n",
    "print(\"| magnetization square\", main01[\"magnet_square\"])\n",
    "for k, v in main01.items():\n",
    "    if \"magnet_square\" in k:\n",
    "        continue\n",
    "    print(f\"| {k}: {v}\")"
   ]
  },
  {
   "cell_type": "code",
   "execution_count": 9,
   "id": "08a939fa",
   "metadata": {},
   "outputs": [
    {
     "name": "stdout",
     "output_type": "stream",
     "text": [
      "| side product is empty here: {}\n"
     ]
    }
   ],
   "source": [
    "print(\"| side product is empty here:\", side_product01)"
   ]
  },
  {
   "cell_type": "markdown",
   "id": "cac5321a",
   "metadata": {},
   "source": [
    "`main` contains another keys `\"magnet_square_cells\"` which is a dict,\n",
    "It contains the magnetization square cells they correspond to the magnetization square.\n"
   ]
  },
  {
   "cell_type": "code",
   "execution_count": 10,
   "id": "84068715",
   "metadata": {},
   "outputs": [
    {
     "name": "stdout",
     "output_type": "stream",
     "text": [
      "{7: 1.0, 21: 1.0, 18: 1.0, 20: 1.0, 12: 1.0, 26: 1.0, 27: 1.0, 29: 1.0, 10: 1.0, 3: 1.0, 9: 1.0, 1: 1.0, 6: 1.0, 17: 1.0, 4: 1.0, 23: 1.0, 14: 1.0, 25: 1.0, 11: 1.0, 13: 1.0, 8: 1.0, 28: 1.0, 5: 1.0, 16: 1.0, 0: 1.0, 15: 1.0, 22: 1.0, 24: 1.0, 2: 1.0, 19: 1.0}\n"
     ]
    }
   ],
   "source": [
    "print(main01[\"magnet_square_cells\"])"
   ]
  },
  {
   "cell_type": "markdown",
   "id": "80f78a90",
   "metadata": {},
   "source": [
    "#### ii. Add the circuits to container `.waves`, then call them later.\n",
    "\n",
    "Since we have executed an experiment, the circuit we input in `exp1` is stored in the container `.waves` with serial number `0`.\n"
   ]
  },
  {
   "cell_type": "code",
   "execution_count": 11,
   "id": "e7e4b5fd",
   "metadata": {},
   "outputs": [
    {
     "data": {
      "text/plain": [
       "WaveContainer({ 0: <qurry.recipe.simple.cat.Cat object at 0x75c10c2463f0>})"
      ]
     },
     "execution_count": 11,
     "metadata": {},
     "output_type": "execute_result"
    }
   ],
   "source": [
    "experiment_magnetsquare.waves"
   ]
  },
  {
   "cell_type": "markdown",
   "id": "c5dc7dc7",
   "metadata": {},
   "source": [
    "But we can also add the circuit to the container `.waves` with a custom name.\n",
    "The name should be unique, otherwise it will be overwritten.\n",
    "The method `add` will return the actual name of the circuit in the container.\n"
   ]
  },
  {
   "cell_type": "code",
   "execution_count": 12,
   "id": "50325122",
   "metadata": {},
   "outputs": [
    {
     "name": "stdout",
     "output_type": "stream",
     "text": [
      "| trivialPM_2 added with key: trivialPM_2\n",
      "| trivialPM_4 added with key: trivialPM_4\n",
      "| trivialPM_6 added with key: trivialPM_6\n",
      "| trivialPM_8 added with key: trivialPM_8\n",
      "| cat_2 added with key: cat_2\n",
      "| cat_4 added with key: cat_4\n",
      "| cat_6 added with key: cat_6\n",
      "| cat_8 added with key: cat_8\n",
      "     ┌───┐               \n",
      "q_0: ┤ H ├──■────────────\n",
      "     └───┘┌─┴─┐          \n",
      "q_1: ─────┤ X ├──■───────\n",
      "          └───┘┌─┴─┐     \n",
      "q_2: ──────────┤ X ├──■──\n",
      "               └───┘┌─┴─┐\n",
      "q_3: ───────────────┤ X ├\n",
      "                    └───┘\n"
     ]
    }
   ],
   "source": [
    "for k, v in circuits_dict.items():\n",
    "    key_of_cirq = experiment_magnetsquare.add(v, k)\n",
    "    print(f\"| {k} added with key: {key_of_cirq}\")\n",
    "print(experiment_magnetsquare.waves[\"cat_4\"])"
   ]
  },
  {
   "cell_type": "markdown",
   "id": "d426d0bf",
   "metadata": {},
   "source": [
    "If there is a circuit with the same name, it will be replaced by the new one.\n"
   ]
  },
  {
   "cell_type": "code",
   "execution_count": 13,
   "id": "62f0b726",
   "metadata": {},
   "outputs": [
    {
     "name": "stdout",
     "output_type": "stream",
     "text": [
      "cat_4\n",
      "     ┌───┐               \n",
      "q_0: ┤ H ├──■────────────\n",
      "     └───┘┌─┴─┐          \n",
      "q_1: ─────┤ X ├──■───────\n",
      "          └───┘┌─┴─┐     \n",
      "q_2: ──────────┤ X ├──■──\n",
      "               └───┘┌─┴─┐\n",
      "q_3: ───────────────┤ X ├\n",
      "                    └───┘\n"
     ]
    }
   ],
   "source": [
    "print(experiment_magnetsquare.add(circuits_dict[\"cat_4\"], \"cat_4\"))\n",
    "print(experiment_magnetsquare.waves[\"cat_4\"])"
   ]
  },
  {
   "cell_type": "markdown",
   "id": "7b79fe25",
   "metadata": {},
   "source": [
    "Otherwise, you will need to use `replace=\"duplicate\"` to prevent it from being replaced.\n"
   ]
  },
  {
   "cell_type": "code",
   "execution_count": 14,
   "id": "a1d8b6ae",
   "metadata": {},
   "outputs": [
    {
     "name": "stdout",
     "output_type": "stream",
     "text": [
      "cat_4.9\n",
      "     ┌───┐               \n",
      "q_0: ┤ H ├──■────────────\n",
      "     └───┘┌─┴─┐          \n",
      "q_1: ─────┤ X ├──■───────\n",
      "          └───┘┌─┴─┐     \n",
      "q_2: ──────────┤ X ├──■──\n",
      "               └───┘┌─┴─┐\n",
      "q_3: ───────────────┤ X ├\n",
      "                    └───┘\n"
     ]
    }
   ],
   "source": [
    "duplicated_case01 = experiment_magnetsquare.add(\n",
    "    circuits_dict[\"cat_4\"], \"cat_4\", replace=\"duplicate\"\n",
    ")\n",
    "print(duplicated_case01)\n",
    "print(experiment_magnetsquare.waves[duplicated_case01])"
   ]
  },
  {
   "cell_type": "markdown",
   "id": "f38b4679",
   "metadata": {},
   "source": [
    "Now we have prepared the circuit and stored it in the container `.waves`.\n"
   ]
  },
  {
   "cell_type": "code",
   "execution_count": 15,
   "id": "2a6e1e85",
   "metadata": {},
   "outputs": [
    {
     "data": {
      "text/plain": [
       "WaveContainer({\n",
       "  0: <qurry.recipe.simple.cat.Cat object at 0x75c10c2463f0>,\n",
       "  'trivialPM_2': <qurry.recipe.simple.paramagnet.TrivialParamagnet object at 0x75c027a1b140>,\n",
       "  'trivialPM_4': <qurry.recipe.simple.paramagnet.TrivialParamagnet object at 0x75c017c01340>,\n",
       "  'trivialPM_6': <qurry.recipe.simple.paramagnet.TrivialParamagnet object at 0x75c017b9bda0>,\n",
       "  'trivialPM_8': <qurry.recipe.simple.paramagnet.TrivialParamagnet object at 0x75c01784caa0>,\n",
       "  'cat_2': <qurry.recipe.simple.cat.Cat object at 0x75c01784cd10>,\n",
       "  'cat_4': <qurry.recipe.simple.cat.Cat object at 0x75c01784cf50>,\n",
       "  'cat_6': <qurry.recipe.simple.cat.Cat object at 0x75c10c2463f0>,\n",
       "  'cat_8': <qurry.recipe.simple.cat.Cat object at 0x75c027a1af90>,\n",
       "  'cat_4.9': <qurry.recipe.simple.cat.Cat object at 0x75c01784cf50>})"
      ]
     },
     "execution_count": 15,
     "metadata": {},
     "output_type": "execute_result"
    }
   ],
   "source": [
    "experiment_magnetsquare.waves"
   ]
  },
  {
   "cell_type": "markdown",
   "id": "66a312be",
   "metadata": {},
   "source": [
    "Finally, we can execute the circuit and get the result.\n"
   ]
  },
  {
   "cell_type": "code",
   "execution_count": 16,
   "id": "2d32257f",
   "metadata": {},
   "outputs": [
    {
     "data": {
      "text/plain": [
       "'431bbc87-3c34-41ae-ae5f-0a36867e5372'"
      ]
     },
     "execution_count": 16,
     "metadata": {},
     "output_type": "execute_result"
    }
   ],
   "source": [
    "exp2 = experiment_magnetsquare.measure(\"cat_4\", unitary_operator=\"z\", shots=4096)\n",
    "exp2"
   ]
  },
  {
   "cell_type": "code",
   "execution_count": 17,
   "id": "3490266c",
   "metadata": {},
   "outputs": [
    {
     "data": {
      "text/plain": [
       "<MagnetSquareExperiment(exp_id=431bbc87-3c34-41ae-ae5f-0a36867e5372, \n",
       "  MagnetSquareArguments(exp_name='experiment.qurmagsq_magnet_square', num_qubits=4, unitary_operator='z'),\n",
       "  Commonparams(exp_id='431bbc87-3c34-41ae-ae5f-0a36867e5372', target_keys=['cat_4'], shots=4096, backend=<AerSimulator('aer_simulator')>, run_args={}, transpile_args={}, tags=(), save_location=PosixPath('.'), serial=None, summoner_id=None, summoner_name=None, datetimes=DatetimeDict({'build': '2025-06-25 13:42:21', 'run.001': '2025-06-25 13:42:21'})),\n",
       "  unused_args_num=0,\n",
       "  analysis_num=1))>"
      ]
     },
     "execution_count": 17,
     "metadata": {},
     "output_type": "execute_result"
    }
   ],
   "source": [
    "experiment_magnetsquare.exps[exp2]"
   ]
  },
  {
   "cell_type": "code",
   "execution_count": 18,
   "id": "3eec833e",
   "metadata": {},
   "outputs": [
    {
     "data": {
      "text/plain": [
       "<MSAnalysis(\n",
       "  serial=0,\n",
       "  MSAnalysisInput(),\n",
       "  MSAnalysisContent(magnet_square=1.0, unitary_operator=z, and others)),\n",
       "  unused_args_num=0\n",
       "  )>"
      ]
     },
     "execution_count": 18,
     "metadata": {},
     "output_type": "execute_result"
    }
   ],
   "source": [
    "report02 = experiment_magnetsquare.exps[exp2].reports[0]\n",
    "report02"
   ]
  },
  {
   "cell_type": "markdown",
   "id": "449dd792",
   "metadata": {},
   "source": [
    "### d. More direction Consider\n",
    "\n",
    "`MagnetSquare` also can measure on different direction. Except `x`, `y`, `z` have been preset. You can use other single qubit instruction like `Gate` from `qiskit.circuit` or `Operator` from `qiskit.quantum_info` to set specific direction you wanted.\n",
    "\n",
    "For example, we use a `RZGate` on **$\\phi$ = 0** which is identity and its `Operator` version.\n"
   ]
  },
  {
   "cell_type": "code",
   "execution_count": 19,
   "id": "31a28a0f",
   "metadata": {},
   "outputs": [],
   "source": [
    "from qiskit.circuit.library import RZGate\n",
    "from qiskit.quantum_info import Operator"
   ]
  },
  {
   "cell_type": "markdown",
   "id": "f933001f",
   "metadata": {},
   "source": [
    "Preparing `RZGate` and its `Operator` version.\n"
   ]
  },
  {
   "cell_type": "code",
   "execution_count": 20,
   "id": "8b5609e9",
   "metadata": {},
   "outputs": [
    {
     "data": {
      "text/plain": [
       "array([[1.-0.j, 0.+0.j],\n",
       "       [0.+0.j, 1.+0.j]])"
      ]
     },
     "execution_count": 20,
     "metadata": {},
     "output_type": "execute_result"
    }
   ],
   "source": [
    "rz_0 = RZGate(0)\n",
    "rz_0_matrix = rz_0.to_matrix()\n",
    "rz_0_matrix"
   ]
  },
  {
   "cell_type": "code",
   "execution_count": 21,
   "id": "405a25bc",
   "metadata": {},
   "outputs": [
    {
     "name": "stdout",
     "output_type": "stream",
     "text": [
      "Operator([[1.-0.j, 0.+0.j],\n",
      "          [0.+0.j, 1.+0.j]],\n",
      "         input_dims=(2,), output_dims=(2,))\n"
     ]
    }
   ],
   "source": [
    "rz_0_op = Operator(rz_0_matrix)\n",
    "rz_0_op"
   ]
  },
  {
   "cell_type": "markdown",
   "id": "b857aee1",
   "metadata": {},
   "source": [
    "Executing the experiments\n"
   ]
  },
  {
   "cell_type": "code",
   "execution_count": 22,
   "id": "e281dfe8",
   "metadata": {},
   "outputs": [
    {
     "name": "stdout",
     "output_type": "stream",
     "text": [
      "| magnetization square using RZGate\n",
      "|--------------------------------------------------\n",
      "| magnetization square 1.0\n",
      "| num_qubits: 4\n",
      "| shots: 4096\n",
      "| unitary_operator: [[1.-0.j 0.+0.j]\n",
      " [0.+0.j 1.+0.j]]\n",
      "| taking_time: 0.000428192\n",
      "| input: {}\n",
      "| header: {'serial': 0, 'datetime': '2025-06-25 13:42:40', 'log': {}}\n"
     ]
    },
    {
     "data": {
      "text/plain": [
       "<MSAnalysis(\n",
       "  serial=0,\n",
       "  MSAnalysisInput(),\n",
       "  MSAnalysisContent(magnet_square=1.0, unitary_operator=[[1.-0.j 0.+0.j]\n",
       " [0.+0.j 1.+0.j]], and others)),\n",
       "  unused_args_num=0\n",
       "  )>"
      ]
     },
     "execution_count": 22,
     "metadata": {},
     "output_type": "execute_result"
    }
   ],
   "source": [
    "exp_rz_gate = experiment_magnetsquare.measure(\n",
    "    \"cat_4\", unitary_operator=rz_0, shots=4096\n",
    ")\n",
    "reports_rz_gate = experiment_magnetsquare.exps[exp_rz_gate].reports[0]\n",
    "main_rz_gate, _side_product_rz_gate = reports_rz_gate.export()\n",
    "print(\"| magnetization square using RZGate\")\n",
    "print(\"|\" + \"-\" * 50)\n",
    "print(\"| magnetization square\", main_rz_gate[\"magnet_square\"])\n",
    "for k, v in main_rz_gate.items():\n",
    "    if \"magnet_square\" in k:\n",
    "        continue\n",
    "    print(f\"| {k}: {v}\")\n",
    "reports_rz_gate"
   ]
  },
  {
   "cell_type": "code",
   "execution_count": 23,
   "id": "a76d84ae",
   "metadata": {},
   "outputs": [
    {
     "name": "stdout",
     "output_type": "stream",
     "text": [
      "| magnetization square using RZGate Operator\n",
      "|--------------------------------------------------\n",
      "| magnetization square 1.0\n",
      "| num_qubits: 4\n",
      "| shots: 4096\n",
      "| unitary_operator: [[1.-0.j 0.+0.j]\n",
      " [0.+0.j 1.+0.j]]\n",
      "| taking_time: 0.000350192\n",
      "| input: {}\n",
      "| header: {'serial': 0, 'datetime': '2025-06-25 13:42:58', 'log': {}}\n"
     ]
    },
    {
     "data": {
      "text/plain": [
       "<MSAnalysis(\n",
       "  serial=0,\n",
       "  MSAnalysisInput(),\n",
       "  MSAnalysisContent(magnet_square=1.0, unitary_operator=[[1.-0.j 0.+0.j]\n",
       " [0.+0.j 1.+0.j]], and others)),\n",
       "  unused_args_num=0\n",
       "  )>"
      ]
     },
     "execution_count": 23,
     "metadata": {},
     "output_type": "execute_result"
    }
   ],
   "source": [
    "exp_rz_op = experiment_magnetsquare.measure(\n",
    "    \"cat_4\", unitary_operator=rz_0_op, shots=4096\n",
    ")\n",
    "reports_rz_op = experiment_magnetsquare.exps[exp_rz_op].reports[0]\n",
    "main_rz_op, _side_product_rz_op = reports_rz_op.export()\n",
    "print(\"| magnetization square using RZGate Operator\")\n",
    "print(\"|\" + \"-\" * 50)\n",
    "print(\"| magnetization square\", main_rz_op[\"magnet_square\"])\n",
    "for k, v in main_rz_op.items():\n",
    "    if \"magnet_square\" in k:\n",
    "        continue\n",
    "    print(f\"| {k}: {v}\")\n",
    "reports_rz_op"
   ]
  },
  {
   "cell_type": "markdown",
   "id": "7da71740",
   "metadata": {},
   "source": [
    "### e. Export them after all\n"
   ]
  },
  {
   "cell_type": "code",
   "execution_count": 24,
   "id": "1c5b0ab5",
   "metadata": {},
   "outputs": [
    {
     "data": {
      "text/plain": [
       "{'folder': 'experiment.qurmagsq_magnet_square.001',\n",
       " 'qurryinfo': 'experiment.qurmagsq_magnet_square.001/qurryinfo.json',\n",
       " 'args': 'experiment.qurmagsq_magnet_square.001/args/experiment.qurmagsq_magnet_square.001.id=8adad442-3b1c-4072-8db0-3d0bb50845d7.args.json',\n",
       " 'advent': 'experiment.qurmagsq_magnet_square.001/advent/experiment.qurmagsq_magnet_square.001.id=8adad442-3b1c-4072-8db0-3d0bb50845d7.advent.json',\n",
       " 'legacy': 'experiment.qurmagsq_magnet_square.001/legacy/experiment.qurmagsq_magnet_square.001.id=8adad442-3b1c-4072-8db0-3d0bb50845d7.legacy.json',\n",
       " 'reports': 'experiment.qurmagsq_magnet_square.001/reports/experiment.qurmagsq_magnet_square.001.id=8adad442-3b1c-4072-8db0-3d0bb50845d7.reports.json'}"
      ]
     },
     "execution_count": 24,
     "metadata": {},
     "output_type": "execute_result"
    }
   ],
   "source": [
    "exp1_id, exp1_files_info = experiment_magnetsquare.exps[exp1].write(\n",
    "    save_location=\".\",  # where to save files\n",
    ")\n",
    "exp1_files_info"
   ]
  },
  {
   "cell_type": "markdown",
   "id": "5ce8d9c7",
   "metadata": {},
   "source": [
    "---\n",
    "\n",
    "### Post-Process Availablities and Version Info\n"
   ]
  },
  {
   "cell_type": "code",
   "execution_count": 25,
   "id": "d4cca3b9",
   "metadata": {},
   "outputs": [
    {
     "data": {
      "text/plain": [
       " | Qurrium version: 0.13.0\n",
       "---------------------------------------------------------------------------\n",
       " ### Qurrium Post-Processing\n",
       "   - Backend Availability ................... Python Cython Rust   JAX   \n",
       " - randomized_measure\n",
       "   - entangled_entropy.entropy_core_2 ....... Yes    Depr.  Yes    No    \n",
       "   - entangle_entropy.purity_cell_2 ......... Yes    Depr.  Yes    No    \n",
       "   - entangled_entropy_v1.entropy_core ...... Yes    Depr.  Yes    No    \n",
       "   - entangle_entropy_v1.purity_cell ........ Yes    Depr.  Yes    No    \n",
       "   - wavefunction_overlap.echo_core_2 ....... Yes    Depr.  Yes    No    \n",
       "   - wavefunction_overlap.echo_cell_2 ....... Yes    Depr.  Yes    No    \n",
       "   - wavefunction_overlap_v1.echo_core ...... Yes    Depr.  Yes    No    \n",
       "   - wavefunction_overlap_v1.echo_cell ...... Yes    Depr.  Yes    No    \n",
       " - hadamard_test\n",
       "   - purity_echo_core ....................... Yes    No     Yes    No    \n",
       " - magnet_square\n",
       "   - magnsq_core ............................ Yes    No     Yes    No    \n",
       " - string_operator\n",
       "   - strop_core ............................. Yes    No     Yes    No    \n",
       " - classical_shadow\n",
       "   - rho_m_core ............................. Yes    No     No     Yes   \n",
       " - utils\n",
       "   - randomized ............................. Yes    Depr.  Yes    No    \n",
       "   - counts_process ......................... Yes    No     Yes    No    \n",
       "   - bit_slice .............................. Yes    No     Yes    No    \n",
       "   - dummy .................................. Yes    No     Yes    No    \n",
       "   - test ................................... Yes    No     Yes    No    \n",
       "---------------------------------------------------------------------------\n",
       "   + Yes ...... Working normally.\n",
       "   + Error .... Exception occurred.\n",
       "   + No ....... Not supported.\n",
       "   + Depr. .... Deprecated.\n",
       "---------------------------------------------------------------------------\n",
       "by <Hoshi>"
      ]
     },
     "execution_count": 25,
     "metadata": {},
     "output_type": "execute_result"
    }
   ],
   "source": [
    "from qurry.process import AVAIBILITY_STATESHEET\n",
    "\n",
    "AVAIBILITY_STATESHEET"
   ]
  },
  {
   "cell_type": "code",
   "execution_count": null,
   "id": "1c995e6f",
   "metadata": {},
   "outputs": [],
   "source": []
  }
 ],
 "metadata": {
  "kernelspec": {
   "display_name": "quantumsphere12",
   "language": "python",
   "name": "python3"
  },
  "language_info": {
   "codemirror_mode": {
    "name": "ipython",
    "version": 3
   },
   "file_extension": ".py",
   "mimetype": "text/x-python",
   "name": "python",
   "nbconvert_exporter": "python",
   "pygments_lexer": "ipython3",
   "version": "3.12.3"
  }
 },
 "nbformat": 4,
 "nbformat_minor": 5
}
