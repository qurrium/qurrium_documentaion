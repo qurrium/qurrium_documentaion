{
 "cells": [
  {
   "cell_type": "markdown",
   "id": "166f3b67",
   "metadata": {},
   "source": [
    "# 1.3 By Classical Shadow\n",
    "\n",
    "## Basic Usag"
   ]
  },
  {
   "cell_type": "markdown",
   "id": "86beb579",
   "metadata": {},
   "source": [
    "### a. Import the instances\n"
   ]
  },
  {
   "cell_type": "code",
   "execution_count": 1,
   "id": "0fc71722",
   "metadata": {},
   "outputs": [],
   "source": [
    "from qurry import ShadowUnveil\n",
    "\n",
    "experiment_shadow = ShadowUnveil()"
   ]
  },
  {
   "cell_type": "markdown",
   "id": "d48d1d69",
   "metadata": {},
   "source": [
    "### b. Preparing quantum circuit\n"
   ]
  },
  {
   "cell_type": "code",
   "execution_count": null,
   "id": "2e597e81",
   "metadata": {},
   "outputs": [],
   "source": [
    "from qiskit import QuantumCircuit\n",
    "from qurry.recipe import TrivialParamagnet, GHZ"
   ]
  },
  {
   "cell_type": "code",
   "execution_count": 3,
   "id": "9584bc4f",
   "metadata": {},
   "outputs": [
    {
     "name": "stdout",
     "output_type": "stream",
     "text": [
      "| trivial paramagnet in 8 qubits:\n",
      "     ┌───┐\n",
      "q_0: ┤ H ├\n",
      "     ├───┤\n",
      "q_1: ┤ H ├\n",
      "     ├───┤\n",
      "q_2: ┤ H ├\n",
      "     ├───┤\n",
      "q_3: ┤ H ├\n",
      "     ├───┤\n",
      "q_4: ┤ H ├\n",
      "     ├───┤\n",
      "q_5: ┤ H ├\n",
      "     ├───┤\n",
      "q_6: ┤ H ├\n",
      "     ├───┤\n",
      "q_7: ┤ H ├\n",
      "     └───┘\n"
     ]
    }
   ],
   "source": [
    "sample01 = TrivialParamagnet(8)\n",
    "print(\"| trivial paramagnet in 8 qubits:\")\n",
    "print(sample01)"
   ]
  },
  {
   "cell_type": "code",
   "execution_count": 4,
   "id": "ddd66f20",
   "metadata": {},
   "outputs": [
    {
     "name": "stdout",
     "output_type": "stream",
     "text": [
      "| GHZ in 8 qubits:\n",
      "     ┌───┐                                   \n",
      "q_0: ┤ H ├──■────────────────────────────────\n",
      "     └───┘┌─┴─┐                              \n",
      "q_1: ─────┤ X ├──■───────────────────────────\n",
      "          └───┘┌─┴─┐                         \n",
      "q_2: ──────────┤ X ├──■──────────────────────\n",
      "               └───┘┌─┴─┐                    \n",
      "q_3: ───────────────┤ X ├──■─────────────────\n",
      "                    └───┘┌─┴─┐               \n",
      "q_4: ────────────────────┤ X ├──■────────────\n",
      "                         └───┘┌─┴─┐          \n",
      "q_5: ─────────────────────────┤ X ├──■───────\n",
      "                              └───┘┌─┴─┐     \n",
      "q_6: ──────────────────────────────┤ X ├──■──\n",
      "                                   └───┘┌─┴─┐\n",
      "q_7: ───────────────────────────────────┤ X ├\n",
      "                                        └───┘\n"
     ]
    }
   ],
   "source": [
    "sample02 = GHZ(8)\n",
    "print(\"| GHZ in 8 qubits:\")\n",
    "print(sample02)"
   ]
  },
  {
   "cell_type": "code",
   "execution_count": 5,
   "id": "bf3a0988",
   "metadata": {},
   "outputs": [
    {
     "name": "stdout",
     "output_type": "stream",
     "text": [
      "| Custom circuit:\n",
      "     ┌───┐\n",
      "q_0: ┤ X ├\n",
      "     └───┘\n",
      "q_1: ─────\n",
      "     ┌───┐\n",
      "q_2: ┤ X ├\n",
      "     └───┘\n",
      "q_3: ─────\n",
      "     ┌───┐\n",
      "q_4: ┤ X ├\n",
      "     └───┘\n",
      "q_5: ─────\n",
      "     ┌───┐\n",
      "q_6: ┤ X ├\n",
      "     └───┘\n",
      "q_7: ─────\n",
      "          \n"
     ]
    }
   ],
   "source": [
    "sample03 = QuantumCircuit(8)\n",
    "sample03.x(range(0, 8, 2))\n",
    "print(\"| Custom circuit:\")\n",
    "print(sample03)"
   ]
  },
  {
   "cell_type": "markdown",
   "id": "25fc5d4c",
   "metadata": {},
   "source": [
    "### c. Execute the circuit\n"
   ]
  },
  {
   "cell_type": "markdown",
   "id": "6937e4ba",
   "metadata": {},
   "source": [
    "#### i. Directly input the circuit\n",
    "\n",
    "After executing, it will return a uuid of experiment. You can use this uuid to get the result of the experiment.\n"
   ]
  },
  {
   "cell_type": "code",
   "execution_count": 6,
   "id": "3135a9f2",
   "metadata": {},
   "outputs": [
    {
     "data": {
      "text/plain": [
       "'adae9cfe-ed27-4520-ab8f-dbe0b4a12676'"
      ]
     },
     "execution_count": 6,
     "metadata": {},
     "output_type": "execute_result"
    }
   ],
   "source": [
    "exp1 = experiment_shadow.measure(sample01, times=100, shots=4096)\n",
    "exp1"
   ]
  },
  {
   "cell_type": "markdown",
   "id": "4052ff26",
   "metadata": {},
   "source": [
    "Each experiment result will be stored in a container `.exps`.\n"
   ]
  },
  {
   "cell_type": "code",
   "execution_count": 7,
   "id": "a01a6c9f",
   "metadata": {},
   "outputs": [
    {
     "data": {
      "text/plain": [
       "<ShadowUnveilExperiment(exp_id=adae9cfe-ed27-4520-ab8f-dbe0b4a12676, \n",
       "  ShadowUnveilArguments(exp_name='experiment.N_U_100.qurshady_entropy', times=100, qubits_measured=[0, 1, 2, 3, 4, 5, 6, 7], registers_mapping={0: 0, 1: 1, 2: 2, 3: 3, 4: 4, 5: 5, 6: 6, 7: 7}, actual_num_qubits=8, unitary_located=[0, 1, 2, 3, 4, 5, 6, 7], random_unitary_seeds=None),\n",
       "  Commonparams(exp_id='adae9cfe-ed27-4520-ab8f-dbe0b4a12676', target_keys=[0], shots=4096, backend=<BasicSimulator('basic_simulator')>, run_args={}, transpile_args={}, tags=(), default_analysis=[], save_location=PosixPath('.'), filename='', files={}, serial=None, summoner_id=None, summoner_name=None, datetimes=DatetimeDict({'build': '2025-05-22 16:56:18', 'run.001': '2025-05-22 16:56:18'})),\n",
       "  unused_args_num=0,\n",
       "  analysis_num=0))>"
      ]
     },
     "execution_count": 7,
     "metadata": {},
     "output_type": "execute_result"
    }
   ],
   "source": [
    "experiment_shadow.exps[exp1]"
   ]
  },
  {
   "cell_type": "code",
   "execution_count": 8,
   "id": "98b17ffb",
   "metadata": {},
   "outputs": [
    {
     "data": {
      "text/plain": [
       "<ShadowUnveilAnalysis(\n",
       "  serial=0,\n",
       "  AnalysisInput(num_qubits=8, selected_qubits=[0, 1, 2, 3], registers_mapping={0: 0, 1: 1, 2: 2, 3: 3, 4: 4, 5: 5, 6: 6, 7: 7}, bitstring_mapping={0: 0, 1: 1, 2: 2, 3: 3, 4: 4, 5: 5, 6: 6, 7: 7}, shots=4096, unitary_located=[0, 1, 2, 3, 4, 5, 6, 7]),\n",
       "  AnalysisContent(purity=0.7071282147548416, entropy=0.4999562702057615, and others)),\n",
       "  unused_args_num=1\n",
       "  )>"
      ]
     },
     "execution_count": 8,
     "metadata": {},
     "output_type": "execute_result"
    }
   ],
   "source": [
    "report01 = experiment_shadow.exps[exp1].analyze(\n",
    "    selected_qubits=[0, 1, 2, 3],\n",
    ")\n",
    "report01"
   ]
  },
  {
   "cell_type": "markdown",
   "id": "adbac124",
   "metadata": {},
   "source": [
    "The analysis result will be content following the structure of the experiment result. The analysis fields in the dictionary `main01`.\n",
    "\n",
    "```python\n",
    "expect_rho: np.ndarray[tuple[int, int], np.dtype[np.complex128]]\n",
    "\"\"\"The expectation value of Rho.\n",
    "Which is the esitmation of the density matrix on selected qubits,\n",
    "in other words, on selected susbsystem.\n",
    "\n",
    "It will be a 2D array with shape (2^n, 2^n),\n",
    "where n is the number of selected qubits.\n",
    "\"\"\"\n",
    "purity: float\n",
    "\"\"\"The purity calculated by classical shadow.\"\"\"\n",
    "entropy: float\n",
    "\"\"\"The entropy calculated by classical shadow.\"\"\"\n",
    "\n",
    "rho_m_dict: dict[int, np.ndarray[tuple[int, int], np.dtype[np.complex128]]]\n",
    "\"\"\"The dictionary of Rho M.\"\"\"\n",
    "classical_registers_actually: list[int]\n",
    "\"\"\"The list of the index of classical register respecting selected qubits.\"\"\"\n",
    "taking_time: float\n",
    "\"\"\"The time taken for the calculation.\"\"\"\n",
    "```\n"
   ]
  },
  {
   "cell_type": "code",
   "execution_count": 9,
   "id": "04e837c4",
   "metadata": {},
   "outputs": [
    {
     "name": "stdout",
     "output_type": "stream",
     "text": [
      "| purity: 0.7071282147548416\n",
      "| entropy: 0.4999562702057615\n",
      "| classical_registers_actually: [3, 2, 1, 0]\n",
      "| taking_time: 0.02884840965270996\n",
      "| input: {'num_qubits': 8, 'selected_qubits': [0, 1, 2, 3], 'registers_mapping': {0: 0, 1: 1, 2: 2, 3: 3, 4: 4, 5: 5, 6: 6, 7: 7}, 'bitstring_mapping': {0: 0, 1: 1, 2: 2, 3: 3, 4: 4, 5: 5, 6: 6, 7: 7}, 'shots': 4096, 'unitary_located': [0, 1, 2, 3, 4, 5, 6, 7]}\n",
      "| header: {'serial': 0, 'datetime': '2025-05-22 16:56:19', 'summoner': None, 'log': {}}\n",
      "| expect_rho:\n",
      "[[0.06165314+0.00000000e+00j 0.05190857+1.45019531e-03j\n",
      "  0.05996155-1.97662354e-03j 0.04975159+6.09741211e-04j\n",
      "  0.06154449-1.85119629e-03j 0.03816925-3.12286377e-03j\n",
      "  0.06688751+4.44946289e-04j 0.04938904-3.26293945e-03j\n",
      "  0.06265503-3.59802246e-04j 0.07162537-7.14111328e-05j\n",
      "  0.05778259-5.02624512e-04j 0.07057343+3.89739990e-03j\n",
      "  0.04362671-9.69543457e-04j 0.04834259-3.56781006e-03j\n",
      "  0.052034  -1.43371582e-03j 0.04798004-1.73034668e-04j]\n",
      " [0.05190857-1.45019531e-03j 0.06032379+0.00000000e+00j\n",
      "  0.05227295-3.06518555e-03j 0.06      +1.45111084e-03j\n",
      "  0.03878448-3.24920654e-03j 0.06388458-3.68041992e-04j\n",
      "  0.05083923+7.08618164e-04j 0.06739838+2.80151367e-04j\n",
      "  0.07455872+7.30590820e-04j 0.06125977+1.34857178e-03j\n",
      "  0.07240265+2.59552002e-03j 0.05786499+2.08465576e-03j\n",
      "  0.05005646+2.34832764e-03j 0.04563721-1.77703857e-03j\n",
      "  0.05262726-2.29888916e-03j 0.04684296-3.06518555e-03j]\n",
      " [0.05996155+1.97662354e-03j 0.05227295+3.06518555e-03j\n",
      "  0.06325348+0.00000000e+00j 0.05627014+3.62548828e-04j\n",
      "  0.06725555-6.59179687e-04j 0.05050964-1.79626465e-03j\n",
      "  0.06502716+1.90612793e-03j 0.03920746+2.62847900e-03j\n",
      "  0.05583801+8.87145996e-04j 0.06862885-4.01275635e-03j\n",
      "  0.06222107+5.68542480e-04j 0.07551453-3.84521484e-05j\n",
      "  0.04916656-1.00524902e-03j 0.04768341-5.85845947e-03j\n",
      "  0.0453241 -1.11785889e-03j 0.04987518+1.72210693e-03j]\n",
      " [0.04975159-6.09741211e-04j 0.06      -1.45111084e-03j\n",
      "  0.05627014-3.62548828e-04j 0.06407745+0.00000000e+00j\n",
      "  0.05176208+1.58203125e-03j 0.07013947+2.40600586e-03j\n",
      "  0.04018524+2.10662842e-03j 0.06357697+1.64245605e-03j\n",
      "  0.0668985 -7.99255371e-04j 0.05634888-1.70013428e-03j\n",
      "  0.07291077+6.97631836e-04j 0.06158386-1.57928467e-03j\n",
      "  0.05539581+2.00225830e-03j 0.05485199-2.83447266e-03j\n",
      "  0.05584076-2.84271240e-03j 0.04545593-1.03546143e-03j]\n",
      " [0.06154449+1.85119629e-03j 0.03878448+3.24920654e-03j\n",
      "  0.06725555+6.59179687e-04j 0.05176208-1.58203125e-03j\n",
      "  0.06214386+0.00000000e+00j 0.05667114+2.19726562e-05j\n",
      "  0.06      +1.71478271e-03j 0.05121826-2.57080078e-03j\n",
      "  0.04558228+2.47192383e-05j 0.0461673 +1.52435303e-03j\n",
      "  0.05223175-6.59179688e-04j 0.04862274+3.48541260e-03j\n",
      "  0.06302307+9.42077637e-04j 0.07502014-2.52685547e-04j\n",
      "  0.05315186+7.82775879e-04j 0.06310822-2.48016357e-03j]\n",
      " [0.03816925+3.12286377e-03j 0.06388458+3.68041992e-04j\n",
      "  0.05050964+1.79626465e-03j 0.07013947-2.40600586e-03j\n",
      "  0.05667114-2.19726562e-05j 0.06427521+0.00000000e+00j\n",
      "  0.04958679+4.36706543e-03j 0.06030212-1.87774658e-03j\n",
      "  0.05061676+4.20227051e-04j 0.04373657+8.32214355e-04j\n",
      "  0.05326996+1.16180420e-03j 0.05168793+9.72290039e-04j\n",
      "  0.06905457-3.40576172e-04j 0.06110046-1.92260742e-05j\n",
      "  0.06572845-3.08990479e-03j 0.05639832-1.47491455e-03j]\n",
      " [0.06688751-4.44946289e-04j 0.05083923-7.08618164e-04j\n",
      "  0.06502716-1.90612793e-03j 0.04018524-2.10662842e-03j\n",
      "  0.06      -1.71478271e-03j 0.04958679-4.36706543e-03j\n",
      "  0.06297516+0.00000000e+00j 0.05266113-1.03271484e-03j\n",
      "  0.0485733 +6.92138672e-04j 0.04585419-1.01348877e-03j\n",
      "  0.04530212-1.31011963e-03j 0.0519516 -1.19476318e-03j\n",
      "  0.05684326-1.51885986e-03j 0.06521759+5.85021973e-04j\n",
      "  0.06097412-4.36706543e-04j 0.07001038-2.19726563e-04j]\n",
      " [0.04938904+3.26293945e-03j 0.06739838-2.80151367e-04j\n",
      "  0.03920746-2.62847900e-03j 0.06357697-1.64245605e-03j\n",
      "  0.05121826+2.57080078e-03j 0.06030212+1.87774658e-03j\n",
      "  0.05266113+1.03271484e-03j 0.06033844+0.00000000e+00j\n",
      "  0.05356659+7.04498291e-03j 0.04961151+2.52136230e-03j\n",
      "  0.05214935+3.04046631e-03j 0.04533508+3.87268066e-04j\n",
      "  0.06744232+3.10638428e-03j 0.05577209+7.38830566e-04j\n",
      "  0.07630554-3.73535156e-04j 0.06218262-3.10363770e-04j]\n",
      " [0.06265503+3.59802246e-04j 0.07455872-7.30590820e-04j\n",
      "  0.05583801-8.87145996e-04j 0.0668985 +7.99255371e-04j\n",
      "  0.04558228-2.47192383e-05j 0.05061676-4.20227051e-04j\n",
      "  0.0485733 -6.92138672e-04j 0.05356659-7.04498291e-03j\n",
      "  0.06214569+0.00000000e+00j 0.05569336-1.31286621e-03j\n",
      "  0.06035706+1.83563232e-03j 0.05125122-6.75659180e-04j\n",
      "  0.06402191+1.74133301e-03j 0.03933929+4.20227051e-04j\n",
      "  0.06753021-6.26220703e-04j 0.05215759+2.47192383e-04j]\n",
      " [0.07162537+7.14111328e-05j 0.06125977-1.34857178e-03j\n",
      "  0.06862885+4.01275635e-03j 0.05634888+1.70013428e-03j\n",
      "  0.0461673 -1.52435303e-03j 0.04373657-8.32214355e-04j\n",
      "  0.04585419+1.01348877e-03j 0.04961151-2.52136230e-03j\n",
      "  0.05569336+1.31286621e-03j 0.06322235+0.00000000e+00j\n",
      "  0.051828  +4.68017578e-03j 0.06131836+1.07757568e-03j\n",
      "  0.03876801+2.46917725e-03j 0.06385712-1.55456543e-03j\n",
      "  0.04965271-1.71386719e-03j 0.06645905-6.92138672e-04j]\n",
      " [0.05778259+5.02624512e-04j 0.07240265-2.59552002e-03j\n",
      "  0.06222107-5.68542480e-04j 0.07291077-6.97631836e-04j\n",
      "  0.05223175+6.59179688e-04j 0.05326996-1.16180420e-03j\n",
      "  0.04530212+1.31011963e-03j 0.05214935-3.04046631e-03j\n",
      "  0.06035706-1.83563232e-03j 0.051828  -4.68017578e-03j\n",
      "  0.06300995+0.00000000e+00j 0.05412231-2.26867676e-03j\n",
      "  0.06651398+5.76782227e-04j 0.05209167-3.62548828e-04j\n",
      "  0.06443939-1.78527832e-03j 0.0403775 -1.63970947e-03j]\n",
      " [0.07057343-3.89739990e-03j 0.05786499-2.08465576e-03j\n",
      "  0.07551453+3.84521484e-05j 0.06158386+1.57928467e-03j\n",
      "  0.04862274-3.48541260e-03j 0.05168793-9.72290039e-04j\n",
      "  0.0519516 +1.19476318e-03j 0.04533508-3.87268066e-04j\n",
      "  0.05125122+6.75659180e-04j 0.06131836-1.07757568e-03j\n",
      "  0.05412231+2.26867676e-03j 0.0624826 +0.00000000e+00j\n",
      "  0.04859802-9.39331055e-04j 0.06781586-3.77380371e-03j\n",
      "  0.04016876-3.81774902e-04j 0.06364838+9.33837891e-05j]\n",
      " [0.04362671+9.69543457e-04j 0.05005646-2.34832764e-03j\n",
      "  0.04916656+1.00524902e-03j 0.05539581-2.00225830e-03j\n",
      "  0.06302307-9.42077637e-04j 0.06905457+3.40576172e-04j\n",
      "  0.05684326+1.51885986e-03j 0.06744232-3.10638428e-03j\n",
      "  0.06402191-1.74133301e-03j 0.03876801-2.46917725e-03j\n",
      "  0.06651398-5.76782227e-04j 0.04859802+9.39331055e-04j\n",
      "  0.0638559 +0.00000000e+00j 0.05257874+1.14807129e-03j\n",
      "  0.05841797-6.36291504e-04j 0.04866394+6.92138672e-04j]\n",
      " [0.04834259+3.56781006e-03j 0.04563721+1.77703857e-03j\n",
      "  0.04768341+5.85845947e-03j 0.05485199+2.83447266e-03j\n",
      "  0.07502014+2.52685547e-04j 0.06110046+1.92260742e-05j\n",
      "  0.06521759-5.85021973e-04j 0.05577209-7.38830566e-04j\n",
      "  0.03933929-4.20227051e-04j 0.06385712+1.55456543e-03j\n",
      "  0.05209167+3.62548828e-04j 0.06781586+3.77380371e-03j\n",
      "  0.05257874-1.14807129e-03j 0.06048309+0.00000000e+00j\n",
      "  0.05042725-3.90563965e-03j 0.05964294+8.79821777e-04j]\n",
      " [0.052034  +1.43371582e-03j 0.05262726+2.29888916e-03j\n",
      "  0.0453241 +1.11785889e-03j 0.05584076+2.84271240e-03j\n",
      "  0.05315186-7.82775879e-04j 0.06572845+3.08990479e-03j\n",
      "  0.06097412+4.36706543e-04j 0.07630554+3.73535156e-04j\n",
      "  0.06753021+6.26220703e-04j 0.04965271+1.71386719e-03j\n",
      "  0.06443939+1.78527832e-03j 0.04016876+3.81774902e-04j\n",
      "  0.05841797+6.36291504e-04j 0.05042725+3.90563965e-03j\n",
      "  0.06190765+0.00000000e+00j 0.0550946 +6.20727539e-04j]\n",
      " [0.04798004+1.73034668e-04j 0.04684296+3.06518555e-03j\n",
      "  0.04987518-1.72210693e-03j 0.04545593+1.03546143e-03j\n",
      "  0.06310822+2.48016357e-03j 0.05639832+1.47491455e-03j\n",
      "  0.07001038+2.19726563e-04j 0.06218262+3.10363770e-04j\n",
      "  0.05215759-2.47192383e-04j 0.06645905+6.92138672e-04j\n",
      "  0.0403775 +1.63970947e-03j 0.06364838-9.33837891e-05j\n",
      "  0.04866394-6.92138672e-04j 0.05964294-8.79821777e-04j\n",
      "  0.0550946 -6.20727539e-04j 0.06385223+0.00000000e+00j]]\n"
     ]
    }
   ],
   "source": [
    "main01, side_product01 = report01.export(jsonable=False)\n",
    "# you need to set jsonable=False to get the raw data\n",
    "# Otherwise, the data will be converted to JSON format,\n",
    "# which 'expect_rho' will be a string instead of a numpy array\n",
    "\n",
    "for k, v in main01.items():\n",
    "    if k == \"expect_rho\":\n",
    "        continue\n",
    "    print(f\"| {k}: {v}\")\n",
    "print(\"| expect_rho:\")\n",
    "print(main01[\"expect_rho\"])"
   ]
  },
  {
   "cell_type": "markdown",
   "id": "f67989e3",
   "metadata": {},
   "source": [
    "Also, `side_product` will contain a dictionary of `rho` from each group of random unitary,\n",
    "which is where `expect_rho` is calculated from.\n"
   ]
  },
  {
   "cell_type": "code",
   "execution_count": null,
   "id": "a3b11a9e",
   "metadata": {},
   "outputs": [
    {
     "name": "stdout",
     "output_type": "stream",
     "text": [
      "| rho_m_dict\n",
      "| length of rho_m_dict: 100\n",
      "| keys of rho_s_dict: dict_keys([0, 1, 2, 3, 4, 5, 6, 7, 8, 9, 10, 11, 12, 13, 14, 15, 16, 17, 18, 19, 20, 21, 22, 23, 24, 25, 26, 27, 28, 29, 30, 31, 32, 33, 34, 35, 36, 37, 38, 39, 40, 41, 42, 43, 44, 45, 46, 47, 48, 49, 50, 51, 52, 53, 54, 55, 56, 57, 58, 59, 60, 61, 62, 63, 64, 65, 66, 67, 68, 69, 70, 71, 72, 73, 74, 75, 76, 77, 78, 79, 80, 81, 82, 83, 84, 85, 86, 87, 88, 89, 90, 91, 92, 93, 94, 95, 96, 97, 98, 99])\n",
      "| rho_m_dict[0]:\n",
      "[[0.06616211+0.j         0.        +0.06115723j 0.19848633+0.j\n",
      "  0.        +0.18347168j 0.        +0.j         0.        +0.j\n",
      "  0.        +0.j         0.        +0.j         0.        +0.j\n",
      "  0.        +0.j         0.        +0.j         0.        +0.j\n",
      "  0.        +0.j         0.        +0.j         0.        +0.j\n",
      "  0.        +0.j        ]\n",
      " [0.        -0.06115723j 0.06616211+0.j         0.        -0.18347168j\n",
      "  0.19848633+0.j         0.        +0.j         0.        +0.j\n",
      "  0.        +0.j         0.        +0.j         0.        +0.j\n",
      "  0.        +0.j         0.        +0.j         0.        +0.j\n",
      "  0.        +0.j         0.        +0.j         0.        +0.j\n",
      "  0.        +0.j        ]\n",
      " [0.19848633+0.j         0.        +0.18347168j 0.06616211+0.j\n",
      "  0.        +0.06115723j 0.        +0.j         0.        +0.j\n",
      "  0.        +0.j         0.        +0.j         0.        +0.j\n",
      "  0.        +0.j         0.        +0.j         0.        +0.j\n",
      "  0.        +0.j         0.        +0.j         0.        +0.j\n",
      "  0.        +0.j        ]\n",
      " [0.        -0.18347168j 0.19848633+0.j         0.        -0.06115723j\n",
      "  0.06616211+0.j         0.        +0.j         0.        +0.j\n",
      "  0.        +0.j         0.        +0.j         0.        +0.j\n",
      "  0.        +0.j         0.        +0.j         0.        +0.j\n",
      "  0.        +0.j         0.        +0.j         0.        +0.j\n",
      "  0.        +0.j        ]\n",
      " [0.        +0.j         0.        +0.j         0.        +0.j\n",
      "  0.        +0.j         0.06011963+0.j         0.        -0.03497314j\n",
      "  0.18035889+0.j         0.        -0.10491943j 0.        +0.j\n",
      "  0.        +0.j         0.        +0.j         0.        +0.j\n",
      "  0.        +0.j         0.        +0.j         0.        +0.j\n",
      "  0.        +0.j        ]\n",
      " [0.        +0.j         0.        +0.j         0.        +0.j\n",
      "  0.        +0.j         0.        +0.03497314j 0.06011963+0.j\n",
      "  0.        +0.10491943j 0.18035889+0.j         0.        +0.j\n",
      "  0.        +0.j         0.        +0.j         0.        +0.j\n",
      "  0.        +0.j         0.        +0.j         0.        +0.j\n",
      "  0.        +0.j        ]\n",
      " [0.        +0.j         0.        +0.j         0.        +0.j\n",
      "  0.        +0.j         0.18035889+0.j         0.        -0.10491943j\n",
      "  0.06011963+0.j         0.        -0.03497314j 0.        +0.j\n",
      "  0.        +0.j         0.        +0.j         0.        +0.j\n",
      "  0.        +0.j         0.        +0.j         0.        +0.j\n",
      "  0.        +0.j        ]\n",
      " [0.        +0.j         0.        +0.j         0.        +0.j\n",
      "  0.        +0.j         0.        +0.10491943j 0.18035889+0.j\n",
      "  0.        +0.03497314j 0.06011963+0.j         0.        +0.j\n",
      "  0.        +0.j         0.        +0.j         0.        +0.j\n",
      "  0.        +0.j         0.        +0.j         0.        +0.j\n",
      "  0.        +0.j        ]\n",
      " [0.        +0.j         0.        +0.j         0.        +0.j\n",
      "  0.        +0.j         0.        +0.j         0.        +0.j\n",
      "  0.        +0.j         0.        +0.j         0.06213379+0.j\n",
      "  0.        -0.05529785j 0.18640137+0.j         0.        -0.16589355j\n",
      "  0.        +0.j         0.        +0.j         0.        +0.j\n",
      "  0.        +0.j        ]\n",
      " [0.        +0.j         0.        +0.j         0.        +0.j\n",
      "  0.        +0.j         0.        +0.j         0.        +0.j\n",
      "  0.        +0.j         0.        +0.j         0.        +0.05529785j\n",
      "  0.06213379+0.j         0.        +0.16589355j 0.18640137+0.j\n",
      "  0.        +0.j         0.        +0.j         0.        +0.j\n",
      "  0.        +0.j        ]\n",
      " [0.        +0.j         0.        +0.j         0.        +0.j\n",
      "  0.        +0.j         0.        +0.j         0.        +0.j\n",
      "  0.        +0.j         0.        +0.j         0.18640137+0.j\n",
      "  0.        -0.16589355j 0.06213379+0.j         0.        -0.05529785j\n",
      "  0.        +0.j         0.        +0.j         0.        +0.j\n",
      "  0.        +0.j        ]\n",
      " [0.        +0.j         0.        +0.j         0.        +0.j\n",
      "  0.        +0.j         0.        +0.j         0.        +0.j\n",
      "  0.        +0.j         0.        +0.j         0.        +0.16589355j\n",
      "  0.18640137+0.j         0.        +0.05529785j 0.06213379+0.j\n",
      "  0.        +0.j         0.        +0.j         0.        +0.j\n",
      "  0.        +0.j        ]\n",
      " [0.        +0.j         0.        +0.j         0.        +0.j\n",
      "  0.        +0.j         0.        +0.j         0.        +0.j\n",
      "  0.        +0.j         0.        +0.j         0.        +0.j\n",
      "  0.        +0.j         0.        +0.j         0.        +0.j\n",
      "  0.06158447+0.j         0.        +0.03973389j 0.18475342+0.j\n",
      "  0.        +0.11920166j]\n",
      " [0.        +0.j         0.        +0.j         0.        +0.j\n",
      "  0.        +0.j         0.        +0.j         0.        +0.j\n",
      "  0.        +0.j         0.        +0.j         0.        +0.j\n",
      "  0.        +0.j         0.        +0.j         0.        +0.j\n",
      "  0.        -0.03973389j 0.06158447+0.j         0.        -0.11920166j\n",
      "  0.18475342+0.j        ]\n",
      " [0.        +0.j         0.        +0.j         0.        +0.j\n",
      "  0.        +0.j         0.        +0.j         0.        +0.j\n",
      "  0.        +0.j         0.        +0.j         0.        +0.j\n",
      "  0.        +0.j         0.        +0.j         0.        +0.j\n",
      "  0.18475342+0.j         0.        +0.11920166j 0.06158447+0.j\n",
      "  0.        +0.03973389j]\n",
      " [0.        +0.j         0.        +0.j         0.        +0.j\n",
      "  0.        +0.j         0.        +0.j         0.        +0.j\n",
      "  0.        +0.j         0.        +0.j         0.        +0.j\n",
      "  0.        +0.j         0.        +0.j         0.        +0.j\n",
      "  0.        -0.11920166j 0.18475342+0.j         0.        -0.03973389j\n",
      "  0.06158447+0.j        ]]\n"
     ]
    }
   ],
   "source": [
    "for k, v in side_product01.items():\n",
    "    print(f\"| {k}\")\n",
    "\n",
    "print(\"| length of rho_m_dict:\", len(side_product01[\"rho_m_dict\"]))\n",
    "print(\"| keys of rho_s_dict:\", side_product01[\"rho_m_dict\"].keys())\n",
    "print(\"| rho_m_dict[0]:\")\n",
    "print(side_product01[\"rho_m_dict\"][0])"
   ]
  },
  {
   "cell_type": "markdown",
   "id": "80f78a90",
   "metadata": {},
   "source": [
    "#### ii. Add the circuits to container `.waves`, then call them later.\n",
    "\n",
    "Since we have executed an experiment, the circuit we input in `exp1` is stored in the container `.waves` with serial number `0`.\n"
   ]
  },
  {
   "cell_type": "code",
   "execution_count": 11,
   "id": "e7e4b5fd",
   "metadata": {},
   "outputs": [
    {
     "data": {
      "text/plain": [
       "WaveContainer({\n",
       "  0: <qurry.recipe.simple.paramagnet.TrivialParamagnet object at 0x73df51a23d70>,\n",
       "  'ghz_8': <qurry.recipe.simple.cat.GHZ object at 0x73df4f7e3b00>})"
      ]
     },
     "execution_count": 11,
     "metadata": {},
     "output_type": "execute_result"
    }
   ],
   "source": [
    "experiment_shadow.waves"
   ]
  },
  {
   "cell_type": "markdown",
   "id": "c5dc7dc7",
   "metadata": {},
   "source": [
    "But we can also add the circuit to the container `.waves` with a custom name.\n",
    "The name should be unique, otherwise it will be overwritten.\n",
    "The method `add` will return the actual name of the circuit in the container.\n"
   ]
  },
  {
   "cell_type": "code",
   "execution_count": null,
   "id": "50325122",
   "metadata": {},
   "outputs": [
    {
     "name": "stdout",
     "output_type": "stream",
     "text": [
      "ghz_8\n",
      "     ┌───┐                                   \n",
      "q_0: ┤ H ├──■────────────────────────────────\n",
      "     └───┘┌─┴─┐                              \n",
      "q_1: ─────┤ X ├──■───────────────────────────\n",
      "          └───┘┌─┴─┐                         \n",
      "q_2: ──────────┤ X ├──■──────────────────────\n",
      "               └───┘┌─┴─┐                    \n",
      "q_3: ───────────────┤ X ├──■─────────────────\n",
      "                    └───┘┌─┴─┐               \n",
      "q_4: ────────────────────┤ X ├──■────────────\n",
      "                         └───┘┌─┴─┐          \n",
      "q_5: ─────────────────────────┤ X ├──■───────\n",
      "                              └───┘┌─┴─┐     \n",
      "q_6: ──────────────────────────────┤ X ├──■──\n",
      "                                   └───┘┌─┴─┐\n",
      "q_7: ───────────────────────────────────┤ X ├\n",
      "                                        └───┘\n"
     ]
    }
   ],
   "source": [
    "print(experiment_shadow.add(sample02, \"ghz_8\"))\n",
    "print(experiment_shadow.waves[\"ghz_8\"])"
   ]
  },
  {
   "cell_type": "markdown",
   "id": "d426d0bf",
   "metadata": {},
   "source": [
    "If there is a circuit with the same name, it will be replaced by the new one.\n"
   ]
  },
  {
   "cell_type": "code",
   "execution_count": null,
   "id": "62f0b726",
   "metadata": {},
   "outputs": [
    {
     "name": "stdout",
     "output_type": "stream",
     "text": [
      "ghz_8\n",
      "     ┌───┐\n",
      "q_0: ┤ X ├\n",
      "     └───┘\n",
      "q_1: ─────\n",
      "     ┌───┐\n",
      "q_2: ┤ X ├\n",
      "     └───┘\n",
      "q_3: ─────\n",
      "     ┌───┐\n",
      "q_4: ┤ X ├\n",
      "     └───┘\n",
      "q_5: ─────\n",
      "     ┌───┐\n",
      "q_6: ┤ X ├\n",
      "     └───┘\n",
      "q_7: ─────\n",
      "          \n"
     ]
    }
   ],
   "source": [
    "print(experiment_shadow.add(sample03, \"ghz_8\"))\n",
    "print(experiment_shadow.waves[\"ghz_8\"])"
   ]
  },
  {
   "cell_type": "markdown",
   "id": "7b79fe25",
   "metadata": {},
   "source": [
    "Otherwise, you will need to use `replace=\"duplicate\"` to prevent it from being replaced.\n"
   ]
  },
  {
   "cell_type": "code",
   "execution_count": null,
   "id": "a1d8b6ae",
   "metadata": {},
   "outputs": [
    {
     "name": "stdout",
     "output_type": "stream",
     "text": [
      "ghz_8.2\n",
      "     ┌───┐                                   \n",
      "q_0: ┤ H ├──■────────────────────────────────\n",
      "     └───┘┌─┴─┐                              \n",
      "q_1: ─────┤ X ├──■───────────────────────────\n",
      "          └───┘┌─┴─┐                         \n",
      "q_2: ──────────┤ X ├──■──────────────────────\n",
      "               └───┘┌─┴─┐                    \n",
      "q_3: ───────────────┤ X ├──■─────────────────\n",
      "                    └───┘┌─┴─┐               \n",
      "q_4: ────────────────────┤ X ├──■────────────\n",
      "                         └───┘┌─┴─┐          \n",
      "q_5: ─────────────────────────┤ X ├──■───────\n",
      "                              └───┘┌─┴─┐     \n",
      "q_6: ──────────────────────────────┤ X ├──■──\n",
      "                                   └───┘┌─┴─┐\n",
      "q_7: ───────────────────────────────────┤ X ├\n",
      "                                        └───┘\n"
     ]
    }
   ],
   "source": [
    "duplicated_case01 = experiment_shadow.add(sample02, \"ghz_8\", replace=\"duplicate\")\n",
    "print(duplicated_case01)\n",
    "print(experiment_shadow.waves[duplicated_case01])"
   ]
  },
  {
   "cell_type": "markdown",
   "id": "f38b4679",
   "metadata": {},
   "source": [
    "Now we have prepared the circuit and stored it in the container `.waves`.\n"
   ]
  },
  {
   "cell_type": "code",
   "execution_count": 15,
   "id": "2a6e1e85",
   "metadata": {},
   "outputs": [
    {
     "data": {
      "text/plain": [
       "WaveContainer({\n",
       "  0: <qurry.recipe.simple.paramagnet.TrivialParamagnet object at 0x73df51a23d70>,\n",
       "  'ghz_8': <qiskit.circuit.quantumcircuit.QuantumCircuit object at 0x73df4f7e3bf0>,\n",
       "  'ghz_8.2': <qurry.recipe.simple.cat.GHZ object at 0x73df4f7e3b00>})"
      ]
     },
     "execution_count": 15,
     "metadata": {},
     "output_type": "execute_result"
    }
   ],
   "source": [
    "experiment_shadow.waves"
   ]
  },
  {
   "cell_type": "markdown",
   "id": "66a312be",
   "metadata": {},
   "source": [
    "Finally, we can execute the circuit and get the result.\n"
   ]
  },
  {
   "cell_type": "code",
   "execution_count": null,
   "id": "2d32257f",
   "metadata": {},
   "outputs": [
    {
     "data": {
      "text/plain": [
       "'73f52064-8458-4b97-b18f-c4b6f3bf9d22'"
      ]
     },
     "execution_count": 16,
     "metadata": {},
     "output_type": "execute_result"
    }
   ],
   "source": [
    "exp2 = experiment_shadow.measure(\"ghz_8.2\", times=100, shots=4096)\n",
    "exp2"
   ]
  },
  {
   "cell_type": "code",
   "execution_count": 17,
   "id": "3490266c",
   "metadata": {},
   "outputs": [
    {
     "data": {
      "text/plain": [
       "<ShadowUnveilExperiment(exp_id=73f52064-8458-4b97-b18f-c4b6f3bf9d22, \n",
       "  ShadowUnveilArguments(exp_name='experiment.N_U_100.qurshady_entropy', times=100, qubits_measured=[0, 1, 2, 3, 4, 5, 6, 7], registers_mapping={0: 0, 1: 1, 2: 2, 3: 3, 4: 4, 5: 5, 6: 6, 7: 7}, actual_num_qubits=8, unitary_located=[0, 1, 2, 3, 4, 5, 6, 7], random_unitary_seeds=None),\n",
       "  Commonparams(exp_id='73f52064-8458-4b97-b18f-c4b6f3bf9d22', target_keys=['ghz_8.2'], shots=4096, backend=<BasicSimulator('basic_simulator')>, run_args={}, transpile_args={}, tags=(), default_analysis=[], save_location=PosixPath('.'), filename='', files={}, serial=None, summoner_id=None, summoner_name=None, datetimes=DatetimeDict({'build': '2025-05-22 16:56:51', 'run.001': '2025-05-22 16:56:51'})),\n",
       "  unused_args_num=0,\n",
       "  analysis_num=0))>"
      ]
     },
     "execution_count": 17,
     "metadata": {},
     "output_type": "execute_result"
    }
   ],
   "source": [
    "experiment_shadow.exps[exp2]"
   ]
  },
  {
   "cell_type": "code",
   "execution_count": 18,
   "id": "3eec833e",
   "metadata": {},
   "outputs": [
    {
     "name": "stderr",
     "output_type": "stream",
     "text": [
      "/home/nccu/Documents/.homejupyter/qurryplayground/qurrium_docs/lib/python3.12/site-packages/qurry/process/classical_shadow/classical_shadow.py:458: RuntimeWarning: The imaginary part of the trace of Rho square is not zero. The imaginary part is 6.225228103069853e-37.method: einsum_aij_bji_to_ab_numpy, numpy_precomputed, Python\n",
      "  warnings.warn(\n"
     ]
    },
    {
     "data": {
      "text/plain": [
       "<ShadowUnveilAnalysis(\n",
       "  serial=0,\n",
       "  AnalysisInput(num_qubits=8, selected_qubits=[0, 1, 2, 3], registers_mapping={0: 0, 1: 1, 2: 2, 3: 3, 4: 4, 5: 5, 6: 6, 7: 7}, bitstring_mapping={0: 0, 1: 1, 2: 2, 3: 3, 4: 4, 5: 5, 6: 6, 7: 7}, shots=4096, unitary_located=[0, 1, 2, 3, 4, 5, 6, 7]),\n",
       "  AnalysisContent(purity=0.44492649603973733, entropy=1.1683610791632544, and others)),\n",
       "  unused_args_num=1\n",
       "  )>"
      ]
     },
     "execution_count": 18,
     "metadata": {},
     "output_type": "execute_result"
    }
   ],
   "source": [
    "report02 = experiment_shadow.exps[exp2].analyze(\n",
    "    selected_qubits=[0, 1, 2, 3],\n",
    ")\n",
    "report02"
   ]
  },
  {
   "cell_type": "code",
   "execution_count": 19,
   "id": "8af56cc4",
   "metadata": {},
   "outputs": [
    {
     "name": "stdout",
     "output_type": "stream",
     "text": [
      "| purity: 0.44492649603973733\n",
      "| entropy: 1.1683610791632544\n",
      "| classical_registers_actually: [3, 2, 1, 0]\n",
      "| taking_time: 0.04080033302307129\n",
      "| input: {'num_qubits': 8, 'selected_qubits': [0, 1, 2, 3], 'registers_mapping': {0: 0, 1: 1, 2: 2, 3: 3, 4: 4, 5: 5, 6: 6, 7: 7}, 'bitstring_mapping': {0: 0, 1: 1, 2: 2, 3: 3, 4: 4, 5: 5, 6: 6, 7: 7}, 'shots': 4096, 'unitary_located': [0, 1, 2, 3, 4, 5, 6, 7]}\n",
      "| header: {'serial': 0, 'datetime': '2025-05-22 16:56:52', 'summoner': None, 'log': {}}\n",
      "| expect_rho:\n",
      "[[ 4.50743103e-01+0.00000000e+00j  9.67712402e-04-2.65136719e-03j\n",
      "   3.47442627e-03+4.00085449e-04j  3.40576172e-04-4.89990234e-03j\n",
      "   9.80529785e-04+8.62426758e-04j  5.79528809e-04-2.19177246e-03j\n",
      "  -4.31213379e-04-7.96508789e-05j  6.59179687e-04-2.12585449e-03j\n",
      "  -6.16149902e-04-3.62548828e-04j  1.97753906e-04-8.70666504e-04j\n",
      "  -5.11413574e-03-1.38427734e-03j  2.05993652e-03-1.10412598e-03j\n",
      "  -2.00225830e-03-7.80029297e-04j -1.58203125e-03+9.14611816e-04j\n",
      "  -1.82922363e-03-1.81274414e-03j -1.82922363e-03-2.76855469e-03j]\n",
      " [ 9.67712402e-04+2.65136719e-03j  1.13539734e-01+0.00000000e+00j\n",
      "  -6.04248047e-04-9.88769531e-05j -1.79351807e-03+1.76788330e-03j\n",
      "   2.11486816e-04+1.82373047e-03j -5.79528809e-04+8.07495117e-04j\n",
      "   1.02172852e-03+3.90563965e-03j  1.59576416e-03-1.54632568e-03j\n",
      "  -5.98754883e-04-1.01348877e-03j  4.82482910e-04+8.07495117e-04j\n",
      "   6.92138672e-04-6.75659180e-04j  3.48815918e-03+1.17004395e-03j\n",
      "   1.58203125e-03+1.29364014e-03j  8.48693848e-04+9.33837891e-04j\n",
      "  -1.08764648e-03+2.07641602e-03j  9.88769531e-05+3.62548828e-04j]\n",
      " [ 3.47442627e-03-4.00085449e-04j -6.04248047e-04+9.88769531e-05j\n",
      "   1.26358032e-02+0.00000000e+00j  2.75573730e-04+1.24328613e-03j\n",
      "  -1.78802490e-03-3.87268066e-04j -2.14233398e-04+3.29589844e-05j\n",
      "   7.55310059e-04-1.20849609e-04j -1.62048340e-04+1.87866211e-03j\n",
      "   2.29064941e-03-2.25219727e-04j  3.62548828e-03+7.58056641e-04j\n",
      "  -9.34753418e-04+1.08215332e-03j -1.43371582e-03-4.42199707e-04j\n",
      "  -1.02172852e-03-5.27343750e-04j  1.48315430e-04+7.91015625e-04j\n",
      "   2.10113525e-03-4.99877930e-04j -1.92810059e-03-5.19104004e-04j]\n",
      " [ 3.40576172e-04+4.89990234e-03j -1.79351807e-03-1.76788330e-03j\n",
      "   2.75573730e-04-1.24328613e-03j -7.99349976e-02+0.00000000e+00j\n",
      "   7.08618164e-04-4.28466797e-04j -9.06372070e-05-2.05993652e-04j\n",
      "  -6.28967285e-04-1.65344238e-03j  1.30462646e-03+3.84521484e-04j\n",
      "   1.30187988e-03+3.29589844e-04j -1.82922363e-03+3.51562500e-04j\n",
      "  -7.14111328e-04+2.54608154e-03j  6.50024414e-05-2.26318359e-03j\n",
      "  -2.57080078e-03+1.68090820e-03j -1.17004395e-03+2.43896484e-03j\n",
      "   1.23596191e-03+4.53186035e-04j -2.66143799e-03+2.30163574e-03j]\n",
      " [ 9.80529785e-04-8.62426758e-04j  2.11486816e-04-1.82373047e-03j\n",
      "  -1.78802490e-03+3.87268066e-04j  7.08618164e-04+4.28466797e-04j\n",
      "   4.39541626e-02+0.00000000e+00j  2.26959229e-03+1.53442383e-03j\n",
      "  -1.85943604e-03-1.65710449e-04j -1.04370117e-04+2.43347168e-03j\n",
      "  -1.13983154e-03+7.30590820e-04j -3.29589844e-05-8.65173340e-04j\n",
      "  -1.18652344e-03-7.74536133e-04j  2.96630859e-03+2.22473145e-03j\n",
      "   2.84729004e-04-1.20849609e-04j  4.11987305e-04-1.18377686e-03j\n",
      "   9.50317383e-04+4.77905273e-04j -8.56933594e-04-3.13110352e-04j]\n",
      " [ 5.79528809e-04+2.19177246e-03j -5.79528809e-04-8.07495117e-04j\n",
      "  -2.14233398e-04-3.29589844e-05j -9.06372070e-05+2.05993652e-04j\n",
      "   2.26959229e-03-1.53442383e-03j -6.64364624e-02+0.00000000e+00j\n",
      "  -4.55932617e-04+2.48840332e-03j  1.17828369e-03-4.45861816e-04j\n",
      "   9.22851563e-04-5.76782227e-05j  6.31713867e-05+5.65795898e-04j\n",
      "   6.42700195e-04-8.40454102e-04j -1.13708496e-03+1.15356445e-04j\n",
      "  -1.50512695e-03+3.28765869e-03j  1.96838379e-04-5.98754883e-04j\n",
      "  -1.23596191e-03+1.15356445e-04j  6.04248047e-05+1.15356445e-03j]\n",
      " [-4.31213379e-04+7.96508789e-05j  1.02172852e-03-3.90563965e-03j\n",
      "   7.55310059e-04+1.20849609e-04j -6.28967285e-04+1.65344238e-03j\n",
      "  -1.85943604e-03+1.65710449e-04j -4.55932617e-04-2.48840332e-03j\n",
      "  -5.42800903e-02+0.00000000e+00j -1.22406006e-03-9.64965820e-04j\n",
      "   4.26818848e-03-7.74536133e-04j  1.38427734e-03+4.44946289e-04j\n",
      "   5.24597168e-04-2.74658203e-04j -3.79028320e-04+7.66296387e-04j\n",
      "  -3.67492676e-03+2.03247070e-03j -3.79028320e-04-3.29589844e-05j\n",
      "   8.88977051e-04+1.32385254e-03j -1.21948242e-03+7.27844238e-04j]\n",
      " [ 6.59179687e-04+2.12585449e-03j  1.59576416e-03+1.54632568e-03j\n",
      "  -1.62048340e-04-1.87866211e-03j  1.30462646e-03-3.84521484e-04j\n",
      "  -1.04370117e-04-2.43347168e-03j  1.17828369e-03+4.45861816e-04j\n",
      "  -1.22406006e-03+9.64965820e-04j  7.89071655e-02+0.00000000e+00j\n",
      "   1.73034668e-03-2.22473145e-03j  4.61425781e-04+9.06372070e-04j\n",
      "   5.76782227e-04+5.85021973e-04j -9.42077637e-04+6.48193359e-04j\n",
      "   4.61425781e-04-4.61425781e-04j  1.69738770e-03-1.64245605e-03j\n",
      "   3.52111816e-03-1.95281982e-03j  7.02209473e-04-1.88964844e-03j]\n",
      " [-6.16149902e-04+3.62548828e-04j -5.98754883e-04+1.01348877e-03j\n",
      "   2.29064941e-03+2.25219727e-04j  1.30187988e-03-3.29589844e-04j\n",
      "  -1.13983154e-03-7.30590820e-04j  9.22851563e-04+5.76782227e-05j\n",
      "   4.26818848e-03+7.74536133e-04j  1.73034668e-03+2.22473145e-03j\n",
      "   7.98428345e-02+0.00000000e+00j -1.55364990e-03+6.99462891e-04j\n",
      "  -2.23297119e-03-1.14349365e-03j -1.04370117e-03+3.33984375e-03j\n",
      "   1.88690186e-03-8.02001953e-04j  7.11364746e-04+1.26892090e-03j\n",
      "   1.41448975e-03+2.74658203e-06j  1.64794922e-03-1.18652344e-03j]\n",
      " [ 1.97753906e-04+8.70666504e-04j  4.82482910e-04-8.07495117e-04j\n",
      "   3.62548828e-03-7.58056641e-04j -1.82922363e-03-3.51562500e-04j\n",
      "  -3.29589844e-05+8.65173340e-04j  6.31713867e-05-5.65795898e-04j\n",
      "   1.38427734e-03-4.44946289e-04j  4.61425781e-04-9.06372070e-04j\n",
      "  -1.55364990e-03-6.99462891e-04j -5.69699097e-02+0.00000000e+00j\n",
      "  -6.37207031e-04+1.68090820e-03j  1.00250244e-03-9.29260254e-04j\n",
      "   2.11486816e-04-2.88940430e-03j -1.68365479e-03-1.84570312e-03j\n",
      "   3.29589844e-05-2.76855469e-03j -2.49114990e-03-1.06842041e-03j]\n",
      " [-5.11413574e-03+1.38427734e-03j  6.92138672e-04+6.75659180e-04j\n",
      "  -9.34753418e-04-1.08215332e-03j -7.14111328e-04-2.54608154e-03j\n",
      "  -1.18652344e-03+7.74536133e-04j  6.42700195e-04+8.40454102e-04j\n",
      "   5.24597168e-04+2.74658203e-04j  5.76782227e-04-5.85021973e-04j\n",
      "  -2.23297119e-03+1.14349365e-03j -6.37207031e-04-1.68090820e-03j\n",
      "  -6.73135376e-02+0.00000000e+00j  1.47857666e-03-9.42993164e-04j\n",
      "   4.20227051e-04-5.02624512e-04j  7.74536133e-04-1.15356445e-04j\n",
      "  -2.75482178e-03-1.58752441e-03j  6.61926270e-04-2.66967773e-03j]\n",
      " [ 2.05993652e-03+1.10412598e-03j  3.48815918e-03-1.17004395e-03j\n",
      "  -1.43371582e-03+4.42199707e-04j  6.50024414e-05+2.26318359e-03j\n",
      "   2.96630859e-03-2.22473145e-03j -1.13708496e-03-1.15356445e-04j\n",
      "  -3.79028320e-04-7.66296387e-04j -9.42077637e-04-6.48193359e-04j\n",
      "  -1.04370117e-03-3.33984375e-03j  1.00250244e-03+9.29260254e-04j\n",
      "   1.47857666e-03+9.42993164e-04j  4.72958374e-02+0.00000000e+00j\n",
      "  -2.80151367e-04-3.24645996e-03j  1.12884521e-03+7.41577148e-05j\n",
      "   6.31713867e-05+2.58178711e-04j  1.34582520e-04+6.97631836e-04j]\n",
      " [-2.00225830e-03+7.80029297e-04j  1.58203125e-03-1.29364014e-03j\n",
      "  -1.02172852e-03+5.27343750e-04j -2.57080078e-03-1.68090820e-03j\n",
      "   2.84729004e-04+1.20849609e-04j -1.50512695e-03-3.28765869e-03j\n",
      "  -3.67492676e-03-2.03247070e-03j  4.61425781e-04+4.61425781e-04j\n",
      "   1.88690186e-03+8.02001953e-04j  2.11486816e-04+2.88940430e-03j\n",
      "   4.20227051e-04+5.02624512e-04j -2.80151367e-04+3.24645996e-03j\n",
      "  -7.63150024e-02+0.00000000e+00j -6.80236816e-04-6.18896484e-04j\n",
      "   1.66168213e-03+6.63757324e-04j  9.33837891e-05-3.86169434e-03j]\n",
      " [-1.58203125e-03-9.14611816e-04j  8.48693848e-04-9.33837891e-04j\n",
      "   1.48315430e-04-7.91015625e-04j -1.17004395e-03-2.43896484e-03j\n",
      "   4.11987305e-04+1.18377686e-03j  1.96838379e-04+5.98754883e-04j\n",
      "  -3.79028320e-04+3.29589844e-05j  1.69738770e-03+1.64245605e-03j\n",
      "   7.11364746e-04-1.26892090e-03j -1.68365479e-03+1.84570312e-03j\n",
      "   7.74536133e-04+1.15356445e-04j  1.12884521e-03-7.41577148e-05j\n",
      "  -6.80236816e-04+6.18896484e-04j  1.11141968e-02+0.00000000e+00j\n",
      "   1.09313965e-03-1.36779785e-03j -6.39953613e-04-7.69958496e-04j]\n",
      " [-1.82922363e-03+1.81274414e-03j -1.08764648e-03-2.07641602e-03j\n",
      "   2.10113525e-03+4.99877930e-04j  1.23596191e-03-4.53186035e-04j\n",
      "   9.50317383e-04-4.77905273e-04j -1.23596191e-03-1.15356445e-04j\n",
      "   8.88977051e-04-1.32385254e-03j  3.52111816e-03+1.95281982e-03j\n",
      "   1.41448975e-03-2.74658203e-06j  3.29589844e-05+2.76855469e-03j\n",
      "  -2.75482178e-03+1.58752441e-03j  6.31713867e-05-2.58178711e-04j\n",
      "   1.66168213e-03-6.63757324e-04j  1.09313965e-03+1.36779785e-03j\n",
      "   1.12710266e-01+0.00000000e+00j -4.49523926e-04+2.61657715e-03j]\n",
      " [-1.82922363e-03+2.76855469e-03j  9.88769531e-05-3.62548828e-04j\n",
      "  -1.92810059e-03+5.19104004e-04j -2.66143799e-03-2.30163574e-03j\n",
      "  -8.56933594e-04+3.13110352e-04j  6.04248047e-05-1.15356445e-03j\n",
      "  -1.21948242e-03-7.27844238e-04j  7.02209473e-04+1.88964844e-03j\n",
      "   1.64794922e-03+1.18652344e-03j -2.49114990e-03+1.06842041e-03j\n",
      "   6.61926270e-04+2.66967773e-03j  1.34582520e-04-6.97631836e-04j\n",
      "   9.33837891e-05+3.86169434e-03j -6.39953613e-04+7.69958496e-04j\n",
      "  -4.49523926e-04-2.61657715e-03j  4.50506897e-01+0.00000000e+00j]]\n"
     ]
    }
   ],
   "source": [
    "main02, side_product02 = report02.export(jsonable=False)\n",
    "# you need to set jsonable=False to get the raw data\n",
    "# Otherwise, the data will be converted to JSON format,\n",
    "# which 'expect_rho' will be a string instead of a numpy array\n",
    "\n",
    "for k, v in main02.items():\n",
    "    if k == \"expect_rho\":\n",
    "        continue\n",
    "    print(f\"| {k}: {v}\")\n",
    "print(\"| expect_rho:\")\n",
    "print(main02[\"expect_rho\"])"
   ]
  },
  {
   "cell_type": "markdown",
   "id": "7da71740",
   "metadata": {},
   "source": [
    "### d. Export them after all\n"
   ]
  },
  {
   "cell_type": "code",
   "execution_count": null,
   "id": "1c5b0ab5",
   "metadata": {},
   "outputs": [
    {
     "data": {
      "text/plain": [
       "{'folder': 'experiment.N_U_100.qurshady_entropy.001',\n",
       " 'qurryinfo': 'experiment.N_U_100.qurshady_entropy.001/qurryinfo.json',\n",
       " 'args': 'experiment.N_U_100.qurshady_entropy.001/args/experiment.N_U_100.qurshady_entropy.001.id=82c775a4-3f1b-4d65-9015-e158a80ec47d.args.json',\n",
       " 'advent': 'experiment.N_U_100.qurshady_entropy.001/advent/experiment.N_U_100.qurshady_entropy.001.id=82c775a4-3f1b-4d65-9015-e158a80ec47d.advent.json',\n",
       " 'legacy': 'experiment.N_U_100.qurshady_entropy.001/legacy/experiment.N_U_100.qurshady_entropy.001.id=82c775a4-3f1b-4d65-9015-e158a80ec47d.legacy.json',\n",
       " 'tales.random_unitary_ids': 'experiment.N_U_100.qurshady_entropy.001/tales/experiment.N_U_100.qurshady_entropy.001.id=82c775a4-3f1b-4d65-9015-e158a80ec47d.random_unitary_ids.json',\n",
       " 'reports': 'experiment.N_U_100.qurshady_entropy.001/reports/experiment.N_U_100.qurshady_entropy.001.id=82c775a4-3f1b-4d65-9015-e158a80ec47d.reports.json',\n",
       " 'reports.tales.rho_m_dict': 'experiment.N_U_100.qurshady_entropy.001/tales/experiment.N_U_100.qurshady_entropy.001.id=82c775a4-3f1b-4d65-9015-e158a80ec47d.rho_m_dict.reports.json'}"
      ]
     },
     "execution_count": 19,
     "metadata": {},
     "output_type": "execute_result"
    }
   ],
   "source": [
    "exp1_id, exp1_files_info = experiment_shadow.exps[exp1].write(\n",
    "    save_location=\".\",  # where to save files\n",
    ")\n",
    "exp1_files_info"
   ]
  },
  {
   "cell_type": "markdown",
   "id": "5ce8d9c7",
   "metadata": {},
   "source": [
    "---\n",
    "\n",
    "### Post-Process Availablities and Version Info\n"
   ]
  },
  {
   "cell_type": "code",
   "execution_count": null,
   "id": "d4cca3b9",
   "metadata": {},
   "outputs": [
    {
     "data": {
      "text/plain": [
       " | Qurry version: 0.12.2.dev2\n",
       "---------------------------------------------------------------------------\n",
       " ### Qurry Post-Processing\n",
       "   - Backend Availability ................... Python Cython Rust   JAX   \n",
       " - randomized_measure\n",
       "   - entangled_entropy.entropy_core_2 ....... Yes    Depr.  Yes    No    \n",
       "   - entangle_entropy.purity_cell_2 ......... Yes    Depr.  Yes    No    \n",
       "   - entangled_entropy_v1.entropy_core ...... Yes    Depr.  Yes    No    \n",
       "   - entangle_entropy_v1.purity_cell ........ Yes    Depr.  Yes    No    \n",
       "   - wavefunction_overlap.echo_core_2 ....... Yes    Depr.  Yes    No    \n",
       "   - wavefunction_overlap.echo_cell_2 ....... Yes    Depr.  Yes    No    \n",
       "   - wavefunction_overlap_v1.echo_core ...... Yes    Depr.  Yes    No    \n",
       "   - wavefunction_overlap_v1.echo_cell ...... Yes    Depr.  Yes    No    \n",
       " - hadamard_test\n",
       "   - purity_echo_core ....................... Yes    No     Yes    No    \n",
       " - magnet_square\n",
       "   - magnsq_core ............................ Yes    No     No     No    \n",
       " - classical_shadow\n",
       "   - rho_m_core ............................. Yes    No     No     Error \n",
       " - utils\n",
       "   - randomized ............................. Yes    Depr.  Yes    No    \n",
       "   - counts_process ......................... Yes    No     Yes    No    \n",
       "   - bit_slice .............................. Yes    No     Yes    No    \n",
       "   - dummy .................................. Yes    No     Yes    No    \n",
       "   - test ................................... Yes    No     Yes    No    \n",
       "---------------------------------------------------------------------------\n",
       "   + Yes ...... Working normally.\n",
       "   + Error .... Exception occurred.\n",
       "   + No ....... Not supported.\n",
       "   + Depr. .... Deprecated.\n",
       "---------------------------------------------------------------------------\n",
       "by <Hoshi>"
      ]
     },
     "execution_count": 20,
     "metadata": {},
     "output_type": "execute_result"
    }
   ],
   "source": [
    "from qurry.process import AVAIBILITY_STATESHEET\n",
    "\n",
    "AVAIBILITY_STATESHEET"
   ]
  },
  {
   "cell_type": "code",
   "execution_count": null,
   "id": "898c1a96",
   "metadata": {},
   "outputs": [],
   "source": []
  }
 ],
 "metadata": {
  "kernelspec": {
   "display_name": "qurrium_docs",
   "language": "python",
   "name": "python3"
  },
  "language_info": {
   "codemirror_mode": {
    "name": "ipython",
    "version": 3
   },
   "file_extension": ".py",
   "mimetype": "text/x-python",
   "name": "python",
   "nbconvert_exporter": "python",
   "pygments_lexer": "ipython3",
   "version": "3.12.3"
  }
 },
 "nbformat": 4,
 "nbformat_minor": 5
}
