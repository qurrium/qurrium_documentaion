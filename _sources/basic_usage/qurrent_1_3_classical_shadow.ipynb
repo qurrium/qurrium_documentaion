{
 "cells": [
  {
   "cell_type": "markdown",
   "id": "166f3b67",
   "metadata": {},
   "source": [
    "# 1.3 Entanglement Entropy by Classical Shadow\n",
    "\n",
    "---\n",
    "\n",
    "## Basic Usage\n"
   ]
  },
  {
   "cell_type": "markdown",
   "id": "86beb579",
   "metadata": {},
   "source": [
    "### a. Import the instances\n"
   ]
  },
  {
   "cell_type": "code",
   "execution_count": 22,
   "id": "0fc71722",
   "metadata": {},
   "outputs": [],
   "source": [
    "from qurry import ShadowUnveil\n",
    "\n",
    "experiment_shadow = ShadowUnveil()"
   ]
  },
  {
   "cell_type": "markdown",
   "id": "d48d1d69",
   "metadata": {},
   "source": [
    "### b. Preparing quantum circuit\n"
   ]
  },
  {
   "cell_type": "code",
   "execution_count": 23,
   "id": "2e597e81",
   "metadata": {},
   "outputs": [],
   "source": [
    "from qiskit import QuantumCircuit\n",
    "from qurry.recipe import TrivialParamagnet, GHZ"
   ]
  },
  {
   "cell_type": "code",
   "execution_count": 24,
   "id": "9584bc4f",
   "metadata": {},
   "outputs": [
    {
     "name": "stdout",
     "output_type": "stream",
     "text": [
      "| trivial paramagnet in 8 qubits:\n",
      "     ┌───┐\n",
      "q_0: ┤ H ├\n",
      "     ├───┤\n",
      "q_1: ┤ H ├\n",
      "     ├───┤\n",
      "q_2: ┤ H ├\n",
      "     ├───┤\n",
      "q_3: ┤ H ├\n",
      "     ├───┤\n",
      "q_4: ┤ H ├\n",
      "     ├───┤\n",
      "q_5: ┤ H ├\n",
      "     ├───┤\n",
      "q_6: ┤ H ├\n",
      "     ├───┤\n",
      "q_7: ┤ H ├\n",
      "     └───┘\n"
     ]
    }
   ],
   "source": [
    "sample01 = TrivialParamagnet(8)\n",
    "print(\"| trivial paramagnet in 8 qubits:\")\n",
    "print(sample01)"
   ]
  },
  {
   "cell_type": "code",
   "execution_count": 25,
   "id": "ddd66f20",
   "metadata": {},
   "outputs": [
    {
     "name": "stdout",
     "output_type": "stream",
     "text": [
      "| GHZ in 8 qubits:\n",
      "     ┌───┐                                   \n",
      "q_0: ┤ H ├──■────────────────────────────────\n",
      "     └───┘┌─┴─┐                              \n",
      "q_1: ─────┤ X ├──■───────────────────────────\n",
      "          └───┘┌─┴─┐                         \n",
      "q_2: ──────────┤ X ├──■──────────────────────\n",
      "               └───┘┌─┴─┐                    \n",
      "q_3: ───────────────┤ X ├──■─────────────────\n",
      "                    └───┘┌─┴─┐               \n",
      "q_4: ────────────────────┤ X ├──■────────────\n",
      "                         └───┘┌─┴─┐          \n",
      "q_5: ─────────────────────────┤ X ├──■───────\n",
      "                              └───┘┌─┴─┐     \n",
      "q_6: ──────────────────────────────┤ X ├──■──\n",
      "                                   └───┘┌─┴─┐\n",
      "q_7: ───────────────────────────────────┤ X ├\n",
      "                                        └───┘\n"
     ]
    }
   ],
   "source": [
    "sample02 = GHZ(8)\n",
    "print(\"| GHZ in 8 qubits:\")\n",
    "print(sample02)"
   ]
  },
  {
   "cell_type": "code",
   "execution_count": 26,
   "id": "bf3a0988",
   "metadata": {},
   "outputs": [
    {
     "name": "stdout",
     "output_type": "stream",
     "text": [
      "| Custom circuit:\n",
      "     ┌───┐\n",
      "q_0: ┤ X ├\n",
      "     └───┘\n",
      "q_1: ─────\n",
      "     ┌───┐\n",
      "q_2: ┤ X ├\n",
      "     └───┘\n",
      "q_3: ─────\n",
      "     ┌───┐\n",
      "q_4: ┤ X ├\n",
      "     └───┘\n",
      "q_5: ─────\n",
      "     ┌───┐\n",
      "q_6: ┤ X ├\n",
      "     └───┘\n",
      "q_7: ─────\n",
      "          \n"
     ]
    }
   ],
   "source": [
    "sample03 = QuantumCircuit(8)\n",
    "sample03.x(range(0, 8, 2))\n",
    "print(\"| Custom circuit:\")\n",
    "print(sample03)"
   ]
  },
  {
   "cell_type": "markdown",
   "id": "25fc5d4c",
   "metadata": {},
   "source": [
    "### c. Execute the circuit\n"
   ]
  },
  {
   "cell_type": "markdown",
   "id": "6937e4ba",
   "metadata": {},
   "source": [
    "#### i. Directly input the circuit\n",
    "\n",
    "After executing, it will return a uuid of experiment. You can use this uuid to get the result of the experiment.\n"
   ]
  },
  {
   "cell_type": "code",
   "execution_count": 27,
   "id": "3135a9f2",
   "metadata": {},
   "outputs": [
    {
     "name": "stderr",
     "output_type": "stream",
     "text": [
      "/usr/lib/python3.12/multiprocessing/popen_fork.py:66: RuntimeWarning: os.fork() was called. os.fork() is incompatible with multithreaded code, and JAX is multithreaded, so this will likely lead to a deadlock.\n",
      "  self.pid = os.fork()\n",
      "/usr/lib/python3.12/multiprocessing/popen_fork.py:66: RuntimeWarning: os.fork() was called. os.fork() is incompatible with multithreaded code, and JAX is multithreaded, so this will likely lead to a deadlock.\n",
      "  self.pid = os.fork()\n"
     ]
    },
    {
     "data": {
      "text/plain": [
       "'c3653198-1661-4845-b1f1-59a88bb78458'"
      ]
     },
     "execution_count": 27,
     "metadata": {},
     "output_type": "execute_result"
    }
   ],
   "source": [
    "exp1 = experiment_shadow.measure(sample01, times=100, shots=4096)\n",
    "exp1"
   ]
  },
  {
   "cell_type": "markdown",
   "id": "4052ff26",
   "metadata": {},
   "source": [
    "Each experiment result will be stored in a container `.exps`.\n"
   ]
  },
  {
   "cell_type": "code",
   "execution_count": 28,
   "id": "a01a6c9f",
   "metadata": {},
   "outputs": [
    {
     "data": {
      "text/plain": [
       "<ShadowUnveilExperiment(exp_id=c3653198-1661-4845-b1f1-59a88bb78458, \n",
       "  ShadowUnveilArguments(exp_name='experiment.N_U_100.qurshady_entropy', times=100, qubits_measured=[0, 1, 2, 3, 4, 5, 6, 7], registers_mapping={0: 0, 1: 1, 2: 2, 3: 3, 4: 4, 5: 5, 6: 6, 7: 7}, actual_num_qubits=8, unitary_located=[0, 1, 2, 3, 4, 5, 6, 7], random_unitary_seeds=None),\n",
       "  Commonparams(exp_id='c3653198-1661-4845-b1f1-59a88bb78458', target_keys=[0], shots=4096, backend=<AerSimulator('aer_simulator')>, run_args={}, transpile_args={}, tags=(), save_location=PosixPath('.'), serial=None, summoner_id=None, summoner_name=None, datetimes=DatetimeDict({'build': '2025-06-25 13:44:44', 'run.001': '2025-06-25 13:44:44'})),\n",
       "  unused_args_num=0,\n",
       "  analysis_num=0))>"
      ]
     },
     "execution_count": 28,
     "metadata": {},
     "output_type": "execute_result"
    }
   ],
   "source": [
    "experiment_shadow.exps[exp1]"
   ]
  },
  {
   "cell_type": "code",
   "execution_count": 29,
   "id": "98b17ffb",
   "metadata": {},
   "outputs": [
    {
     "data": {
      "text/plain": [
       "<SUAnalysis(\n",
       "  serial=0,\n",
       "  SUAnalysisInput(shots=4096, num_qubits=8, selected_qubits=[0, 1, 2, 3], registers_mapping={0: 0, 1: 1, 2: 2, 3: 3, 4: 4, 5: 5, 6: 6, 7: 7}, bitstring_mapping={0: 0, 1: 1, 2: 2, 3: 3, 4: 4, 5: 5, 6: 6, 7: 7}, unitary_located=[0, 1, 2, 3, 4, 5, 6, 7]),\n",
       "  SUAnalysisContent(purity=1.1537019177458503, entropy=-0.20627052264885695, and others)),\n",
       "  unused_args_num=3\n",
       "  )>"
      ]
     },
     "execution_count": 29,
     "metadata": {},
     "output_type": "execute_result"
    }
   ],
   "source": [
    "report01 = experiment_shadow.exps[exp1].analyze(\n",
    "    selected_qubits=[0, 1, 2, 3],\n",
    ")\n",
    "report01"
   ]
  },
  {
   "cell_type": "markdown",
   "id": "adbac124",
   "metadata": {},
   "source": [
    "The analysis result will be content following the structure of the experiment result. The analysis fields in the dictionary `main01`.\n",
    "\n",
    "```python\n",
    "\n",
    "classical_registers_actually: list[int]\n",
    "\"\"\"The list of the selected_classical_registers.\"\"\"\n",
    "taking_time: float\n",
    "\"\"\"The time taken for the calculation.\"\"\"\n",
    "# The mean of Rho\n",
    "mean_of_rho: np.ndarray[tuple[int, int], np.dtype[np.complex128]]\n",
    "\"\"\"The expectation value of Rho.\"\"\"\n",
    "# The trace of Rho square\n",
    "purity: float\n",
    "\"\"\"The purity calculated by classical shadow.\"\"\"\n",
    "entropy: float\n",
    "\"\"\"The entropy calculated by classical shadow.\"\"\"\n",
    "# esitimation of given operators\n",
    "estimate_of_given_operators: list[np.ndarray[tuple[int, int], np.dtype[np.complex128]]]\n",
    "r\"\"\"The result of measurement primitive :math:`\\mathcal{U}`.\"\"\"\n",
    "\n",
    "accuracy_prob_comp_delta: float\n",
    "r\"\"\"The probabiltiy complement of accuracy, which used the notation :math:`\\delta`\n",
    "and mentioned in Theorem S1 in the supplementary material,\n",
    "the equation (S13) in the supplementary material.\n",
    "The probabiltiy of accuracy is :math:`1 - \\delta`.\n",
    "\n",
    "The number of given operators and the accuracy parameters will\n",
    "be used to decide the number of estimators K\n",
    "from the equation (S13) in the supplementary material.\n",
    "\n",
    ".. math::\n",
    "    K = 2 \\log(2M / \\delta)\n",
    "\n",
    "where :math:`\\delta` is the probabiltiy complement of accuracy,\n",
    "and :math:`M` is the number of given operators.\n",
    "\n",
    "But we can see :math:`K` will be not the integer value of the result of the equation.\n",
    "So, we will use the ceil value of the result of the equation.\n",
    "And recalculate the probabiltiy complement of accuracy from this new value of :math:`K`.\n",
    "\"\"\"\n",
    "num_of_estimators_k: int\n",
    "r\"\"\"The number of esitmators, which used the notation K\n",
    "and mentioned in Algorithm 1 in the paper,\n",
    "Theorem S1 in the supplementary material,\n",
    "the equation (S13) in the supplementary material.\n",
    "\n",
    "We can calculate the number of esitmator K from the equation (S13)\n",
    "in the supplementary material, the equation (S13) is as follows,\n",
    ".. math::\n",
    "    K = 2 \\log(2M / \\delta)\n",
    "\n",
    "where :math:`\\delta` is the probabiltiy complement of accuracy,\n",
    "and :math:`M` is the number of given operators.\n",
    "\n",
    "But we can see :math:`K` will be not the integer value of the result of the equation.\n",
    "So, we will use the ceil value of the result of the equation.\n",
    "And recalculate the probabiltiy complement of accuracy from this new value of :math:`K`.\n",
    "\"\"\"\n",
    "\n",
    "accuracy_predict_epsilon: float\n",
    "r\"\"\"The prediction of accuracy, which used the notation :math:`\\epsilon`\n",
    "and mentioned in Theorem S1 in the supplementary material,\n",
    "the equation (S13) in the supplementary material.\n",
    "\n",
    "We can calculate the prediction of accuracy :math:`\\epsilon` from the equation (S13)\n",
    "in the supplementary material, the equation (S13) is as follows,\n",
    ".. math::\n",
    "    N = \\frac{34}{\\epsilon^2} \\max_{1 \\leq i \\leq M}\n",
    "    || O_i - \\frac{\\text{tr}(O_i)}{2^n} ||_{\\text{shadow}}^2\n",
    "\n",
    "where :math:`\\epsilon` is the prediction of accuracy,\n",
    "and :math:`M` is the number of given operatorsm\n",
    "and :math:`N` is the number of classical snapshots.\n",
    "The :math:`|| O_i - \\frac{\\text{tr}(O_i)}{2^n} ||_{\\text{shadow}}^2` is maximum shadow norm,\n",
    "which is defined in the supplementary material with value between 0 and 1.\n",
    "\"\"\"\n",
    "maximum_shadow_norm: float\n",
    "r\"\"\"The maximum shadow norm, which is defined in the supplementary material\n",
    "with value between 0 and 1.\n",
    "The maximum shadow norm is used to calculate the prediction of accuracy :math:`\\epsilon`\n",
    "from the equation (S13) in the supplementary material.\n",
    "\n",
    "We can calculate the prediction of accuracy :math:`\\epsilon` from the equation (S13)\n",
    "in the supplementary material, the equation (S13) is as follows,\n",
    ".. math::\n",
    "    N = \\frac{34}{\\epsilon^2} \\max_{1 \\leq i \\leq M}\n",
    "    || O_i - \\frac{\\text{tr}(O_i)}{2^n} ||_{\\text{shadow}}^2\n",
    "\n",
    "where :math:`\\epsilon` is the prediction of accuracy,\n",
    "and :math:`M` is the number of given operatorsm\n",
    "and :math:`N` is the number of classical snapshots.\n",
    "The :math:`|| O_i - \\frac{\\text{tr}(O_i)}{2^n} ||_{\\text{shadow}}^2` is maximum shadow norm,\n",
    "which is defined in the supplementary material with value between 0 and 1.\n",
    "\n",
    "Due to maximum shadow norm is complex and it is a norm,\n",
    "we suppose we have the worst case scenario,\n",
    "where the maximum shadow norm is 1 as default.\n",
    "Thus, we can simplify the equation to:\n",
    ".. math::\n",
    "    N = \\frac{34}{\\epsilon^2}\n",
    "\"\"\"\n",
    "\n",
    "```\n"
   ]
  },
  {
   "cell_type": "code",
   "execution_count": 30,
   "id": "04e837c4",
   "metadata": {},
   "outputs": [
    {
     "name": "stdout",
     "output_type": "stream",
     "text": [
      "| classical_registers_actually: [3, 2, 1, 0]\n",
      "| taking_time: 0.10479378700256348\n",
      "| purity: 1.1537019177458503\n",
      "| entropy: -0.20627052264885695\n",
      "| estimate_of_given_operators: []\n",
      "| accuracy_prob_comp_delta: nan\n",
      "| num_of_estimators_k: 0\n",
      "| accuracy_predict_epsilon: nan\n",
      "| maximum_shadow_norm: nan\n",
      "| input: {'shots': 4096, 'num_qubits': 8, 'selected_qubits': [0, 1, 2, 3], 'registers_mapping': {0: 0, 1: 1, 2: 2, 3: 3, 4: 4, 5: 5, 6: 6, 7: 7}, 'bitstring_mapping': {0: 0, 1: 1, 2: 2, 3: 3, 4: 4, 5: 5, 6: 6, 7: 7}, 'unitary_located': [0, 1, 2, 3, 4, 5, 6, 7]}\n",
      "| header: {'serial': 0, 'datetime': '2025-06-25 13:44:49', 'log': {}}\n",
      "| shape of mean_of_rho:\n",
      "(16, 16)\n"
     ]
    }
   ],
   "source": [
    "main01, side_product01 = report01.export(jsonable=False)\n",
    "# you need to set jsonable=False to get the raw data\n",
    "# Otherwise, the data will be converted to JSON format,\n",
    "# which 'mean_of_rho' will be a string instead of a numpy array\n",
    "\n",
    "for k, v in main01.items():\n",
    "    if k == \"mean_of_rho\":\n",
    "        continue\n",
    "    print(f\"| {k}: {v}\")\n",
    "print(\"| shape of mean_of_rho:\")\n",
    "print(main01[\"mean_of_rho\"].shape)"
   ]
  },
  {
   "cell_type": "markdown",
   "id": "f67989e3",
   "metadata": {},
   "source": [
    "Also, `side_product` will contain a dictionary of `rho` from each group of random unitary,\n",
    "called `average_classical_snapshots_rho`, which is where `mean_of_rho` is calculated from.\n",
    "\n",
    "If you give the operators in in `.analyze` to get the estimatiton. `corresponding_rhos` will contain the `rho` used for calculation.\n",
    "\n",
    "```python\n",
    "\n",
    "average_classical_snapshots_rho: dict[int, np.ndarray[tuple[int, int], np.dtype[np.complex128]]]\n",
    "\"\"\"The dictionary of Rho M.\"\"\"\n",
    "corresponding_rhos: list[np.ndarray[tuple[int, ...], np.dtype[np.complex128]]]\n",
    "r\"\"\"The corresponding rho of measurement primitive :math:`\\mathcal{U}`.\"\"\"\n",
    "\n",
    "```\n"
   ]
  },
  {
   "cell_type": "code",
   "execution_count": 31,
   "id": "a3b11a9e",
   "metadata": {},
   "outputs": [
    {
     "name": "stdout",
     "output_type": "stream",
     "text": [
      "| average_classical_snapshots_rho\n",
      "| corresponding_rhos\n",
      "| length of average_classical_snapshots_rho: 100\n",
      "| keys of average_classical_snapshots_rho: dict_keys([0, 1, 2, 3, 4, 5, 6, 7, 8, 9, 10, 11, 12, 13, 14, 15, 16, 17, 18, 19, 20, 21, 22, 23, 24, 25, 26, 27, 28, 29, 30, 31, 32, 33, 34, 35, 36, 37, 38, 39, 40, 41, 42, 43, 44, 45, 46, 47, 48, 49, 50, 51, 52, 53, 54, 55, 56, 57, 58, 59, 60, 61, 62, 63, 64, 65, 66, 67, 68, 69, 70, 71, 72, 73, 74, 75, 76, 77, 78, 79, 80, 81, 82, 83, 84, 85, 86, 87, 88, 89, 90, 91, 92, 93, 94, 95, 96, 97, 98, 99])\n",
      "| shape of average_classical_snapshots_rho[0]:\n",
      "(16, 16)\n"
     ]
    }
   ],
   "source": [
    "for k, v in side_product01.items():\n",
    "    print(f\"| {k}\")\n",
    "\n",
    "print(\n",
    "    \"| length of average_classical_snapshots_rho:\",\n",
    "    len(side_product01[\"average_classical_snapshots_rho\"]),\n",
    ")\n",
    "print(\n",
    "    \"| keys of average_classical_snapshots_rho:\",\n",
    "    side_product01[\"average_classical_snapshots_rho\"].keys(),\n",
    ")\n",
    "print(\"| shape of average_classical_snapshots_rho[0]:\")\n",
    "print(side_product01[\"average_classical_snapshots_rho\"][0].shape)"
   ]
  },
  {
   "cell_type": "markdown",
   "id": "80f78a90",
   "metadata": {},
   "source": [
    "#### ii. Add the circuits to container `.waves`, then call them later.\n",
    "\n",
    "Since we have executed an experiment, the circuit we input in `exp1` is stored in the container `.waves` with serial number `0`.\n"
   ]
  },
  {
   "cell_type": "code",
   "execution_count": 32,
   "id": "e7e4b5fd",
   "metadata": {},
   "outputs": [
    {
     "data": {
      "text/plain": [
       "WaveContainer({\n",
       "  0: <qurry.recipe.simple.paramagnet.TrivialParamagnet object at 0x7d51400fbd70>})"
      ]
     },
     "execution_count": 32,
     "metadata": {},
     "output_type": "execute_result"
    }
   ],
   "source": [
    "experiment_shadow.waves"
   ]
  },
  {
   "cell_type": "markdown",
   "id": "c5dc7dc7",
   "metadata": {},
   "source": [
    "But we can also add the circuit to the container `.waves` with a custom name.\n",
    "The name should be unique, otherwise it will be overwritten.\n",
    "The method `add` will return the actual name of the circuit in the container.\n"
   ]
  },
  {
   "cell_type": "code",
   "execution_count": 33,
   "id": "50325122",
   "metadata": {},
   "outputs": [
    {
     "name": "stdout",
     "output_type": "stream",
     "text": [
      "ghz_8\n",
      "     ┌───┐                                   \n",
      "q_0: ┤ H ├──■────────────────────────────────\n",
      "     └───┘┌─┴─┐                              \n",
      "q_1: ─────┤ X ├──■───────────────────────────\n",
      "          └───┘┌─┴─┐                         \n",
      "q_2: ──────────┤ X ├──■──────────────────────\n",
      "               └───┘┌─┴─┐                    \n",
      "q_3: ───────────────┤ X ├──■─────────────────\n",
      "                    └───┘┌─┴─┐               \n",
      "q_4: ────────────────────┤ X ├──■────────────\n",
      "                         └───┘┌─┴─┐          \n",
      "q_5: ─────────────────────────┤ X ├──■───────\n",
      "                              └───┘┌─┴─┐     \n",
      "q_6: ──────────────────────────────┤ X ├──■──\n",
      "                                   └───┘┌─┴─┐\n",
      "q_7: ───────────────────────────────────┤ X ├\n",
      "                                        └───┘\n"
     ]
    }
   ],
   "source": [
    "print(experiment_shadow.add(sample02, \"ghz_8\"))\n",
    "print(experiment_shadow.waves[\"ghz_8\"])"
   ]
  },
  {
   "cell_type": "markdown",
   "id": "d426d0bf",
   "metadata": {},
   "source": [
    "If there is a circuit with the same name, it will be replaced by the new one.\n"
   ]
  },
  {
   "cell_type": "code",
   "execution_count": 34,
   "id": "62f0b726",
   "metadata": {},
   "outputs": [
    {
     "name": "stdout",
     "output_type": "stream",
     "text": [
      "ghz_8\n",
      "     ┌───┐\n",
      "q_0: ┤ X ├\n",
      "     └───┘\n",
      "q_1: ─────\n",
      "     ┌───┐\n",
      "q_2: ┤ X ├\n",
      "     └───┘\n",
      "q_3: ─────\n",
      "     ┌───┐\n",
      "q_4: ┤ X ├\n",
      "     └───┘\n",
      "q_5: ─────\n",
      "     ┌───┐\n",
      "q_6: ┤ X ├\n",
      "     └───┘\n",
      "q_7: ─────\n",
      "          \n"
     ]
    }
   ],
   "source": [
    "print(experiment_shadow.add(sample03, \"ghz_8\"))\n",
    "print(experiment_shadow.waves[\"ghz_8\"])"
   ]
  },
  {
   "cell_type": "markdown",
   "id": "7b79fe25",
   "metadata": {},
   "source": [
    "Otherwise, you will need to use `replace=\"duplicate\"` to prevent it from being replaced.\n"
   ]
  },
  {
   "cell_type": "code",
   "execution_count": 35,
   "id": "a1d8b6ae",
   "metadata": {},
   "outputs": [
    {
     "name": "stdout",
     "output_type": "stream",
     "text": [
      "ghz_8.2\n",
      "     ┌───┐                                   \n",
      "q_0: ┤ H ├──■────────────────────────────────\n",
      "     └───┘┌─┴─┐                              \n",
      "q_1: ─────┤ X ├──■───────────────────────────\n",
      "          └───┘┌─┴─┐                         \n",
      "q_2: ──────────┤ X ├──■──────────────────────\n",
      "               └───┘┌─┴─┐                    \n",
      "q_3: ───────────────┤ X ├──■─────────────────\n",
      "                    └───┘┌─┴─┐               \n",
      "q_4: ────────────────────┤ X ├──■────────────\n",
      "                         └───┘┌─┴─┐          \n",
      "q_5: ─────────────────────────┤ X ├──■───────\n",
      "                              └───┘┌─┴─┐     \n",
      "q_6: ──────────────────────────────┤ X ├──■──\n",
      "                                   └───┘┌─┴─┐\n",
      "q_7: ───────────────────────────────────┤ X ├\n",
      "                                        └───┘\n"
     ]
    }
   ],
   "source": [
    "duplicated_case01 = experiment_shadow.add(sample02, \"ghz_8\", replace=\"duplicate\")\n",
    "print(duplicated_case01)\n",
    "print(experiment_shadow.waves[duplicated_case01])"
   ]
  },
  {
   "cell_type": "markdown",
   "id": "f38b4679",
   "metadata": {},
   "source": [
    "Now we have prepared the circuit and stored it in the container `.waves`.\n"
   ]
  },
  {
   "cell_type": "code",
   "execution_count": 36,
   "id": "2a6e1e85",
   "metadata": {},
   "outputs": [
    {
     "data": {
      "text/plain": [
       "WaveContainer({\n",
       "  0: <qurry.recipe.simple.paramagnet.TrivialParamagnet object at 0x7d51400fbd70>,\n",
       "  'ghz_8': <qiskit.circuit.quantumcircuit.QuantumCircuit object at 0x7d51400f8ce0>,\n",
       "  'ghz_8.2': <qurry.recipe.simple.cat.GHZ object at 0x7d51400f9790>})"
      ]
     },
     "execution_count": 36,
     "metadata": {},
     "output_type": "execute_result"
    }
   ],
   "source": [
    "experiment_shadow.waves"
   ]
  },
  {
   "cell_type": "markdown",
   "id": "66a312be",
   "metadata": {},
   "source": [
    "Finally, we can execute the circuit and get the result.\n"
   ]
  },
  {
   "cell_type": "code",
   "execution_count": 37,
   "id": "2d32257f",
   "metadata": {},
   "outputs": [
    {
     "name": "stderr",
     "output_type": "stream",
     "text": [
      "/usr/lib/python3.12/multiprocessing/popen_fork.py:66: RuntimeWarning: os.fork() was called. os.fork() is incompatible with multithreaded code, and JAX is multithreaded, so this will likely lead to a deadlock.\n",
      "  self.pid = os.fork()\n",
      "/usr/lib/python3.12/multiprocessing/popen_fork.py:66: RuntimeWarning: os.fork() was called. os.fork() is incompatible with multithreaded code, and JAX is multithreaded, so this will likely lead to a deadlock.\n",
      "  self.pid = os.fork()\n"
     ]
    },
    {
     "data": {
      "text/plain": [
       "'18d1aaf1-7fc7-4e4d-a30e-1dcea918cb97'"
      ]
     },
     "execution_count": 37,
     "metadata": {},
     "output_type": "execute_result"
    }
   ],
   "source": [
    "exp2 = experiment_shadow.measure(\"ghz_8.2\", times=100, shots=4096)\n",
    "exp2"
   ]
  },
  {
   "cell_type": "code",
   "execution_count": 38,
   "id": "3490266c",
   "metadata": {},
   "outputs": [
    {
     "data": {
      "text/plain": [
       "<ShadowUnveilExperiment(exp_id=18d1aaf1-7fc7-4e4d-a30e-1dcea918cb97, \n",
       "  ShadowUnveilArguments(exp_name='experiment.N_U_100.qurshady_entropy', times=100, qubits_measured=[0, 1, 2, 3, 4, 5, 6, 7], registers_mapping={0: 0, 1: 1, 2: 2, 3: 3, 4: 4, 5: 5, 6: 6, 7: 7}, actual_num_qubits=8, unitary_located=[0, 1, 2, 3, 4, 5, 6, 7], random_unitary_seeds=None),\n",
       "  Commonparams(exp_id='18d1aaf1-7fc7-4e4d-a30e-1dcea918cb97', target_keys=['ghz_8.2'], shots=4096, backend=<AerSimulator('aer_simulator')>, run_args={}, transpile_args={}, tags=(), save_location=PosixPath('.'), serial=None, summoner_id=None, summoner_name=None, datetimes=DatetimeDict({'build': '2025-06-25 13:45:16', 'run.001': '2025-06-25 13:45:16'})),\n",
       "  unused_args_num=0,\n",
       "  analysis_num=0))>"
      ]
     },
     "execution_count": 38,
     "metadata": {},
     "output_type": "execute_result"
    }
   ],
   "source": [
    "experiment_shadow.exps[exp2]"
   ]
  },
  {
   "cell_type": "code",
   "execution_count": 39,
   "id": "3eec833e",
   "metadata": {},
   "outputs": [
    {
     "data": {
      "text/plain": [
       "<SUAnalysis(\n",
       "  serial=0,\n",
       "  SUAnalysisInput(shots=4096, num_qubits=8, selected_qubits=[0, 1, 2, 3], registers_mapping={0: 0, 1: 1, 2: 2, 3: 3, 4: 4, 5: 5, 6: 6, 7: 7}, bitstring_mapping={0: 0, 1: 1, 2: 2, 3: 3, 4: 4, 5: 5, 6: 6, 7: 7}, unitary_located=[0, 1, 2, 3, 4, 5, 6, 7]),\n",
       "  SUAnalysisContent(purity=0.9236204512552781, entropy=0.11462797656321735, and others)),\n",
       "  unused_args_num=3\n",
       "  )>"
      ]
     },
     "execution_count": 39,
     "metadata": {},
     "output_type": "execute_result"
    }
   ],
   "source": [
    "report02 = experiment_shadow.exps[exp2].analyze(\n",
    "    selected_qubits=[0, 1, 2, 3],\n",
    ")\n",
    "report02"
   ]
  },
  {
   "cell_type": "code",
   "execution_count": 40,
   "id": "8af56cc4",
   "metadata": {},
   "outputs": [
    {
     "name": "stdout",
     "output_type": "stream",
     "text": [
      "| classical_registers_actually: [3, 2, 1, 0]\n",
      "| taking_time: 0.16693925857543945\n",
      "| purity: 0.9236204512552781\n",
      "| entropy: 0.11462797656321735\n",
      "| estimate_of_given_operators: []\n",
      "| accuracy_prob_comp_delta: nan\n",
      "| num_of_estimators_k: 0\n",
      "| accuracy_predict_epsilon: nan\n",
      "| maximum_shadow_norm: nan\n",
      "| input: {'shots': 4096, 'num_qubits': 8, 'selected_qubits': [0, 1, 2, 3], 'registers_mapping': {0: 0, 1: 1, 2: 2, 3: 3, 4: 4, 5: 5, 6: 6, 7: 7}, 'bitstring_mapping': {0: 0, 1: 1, 2: 2, 3: 3, 4: 4, 5: 5, 6: 6, 7: 7}, 'unitary_located': [0, 1, 2, 3, 4, 5, 6, 7]}\n",
      "| header: {'serial': 0, 'datetime': '2025-06-25 13:45:19', 'log': {}}\n",
      "| the shape of mean_of_rho:\n",
      "(16, 16)\n"
     ]
    }
   ],
   "source": [
    "main02, side_product02 = report02.export(jsonable=False)\n",
    "# you need to set jsonable=False to get the raw data\n",
    "# Otherwise, the data will be converted to JSON format,\n",
    "# which 'mean_of_rho' will be a string instead of a numpy array\n",
    "\n",
    "for k, v in main02.items():\n",
    "    if k == \"mean_of_rho\":\n",
    "        continue\n",
    "    print(f\"| {k}: {v}\")\n",
    "print(\"| the shape of mean_of_rho:\")\n",
    "# For its shape, it should be (2**n, 2**n) where n is the number of selected qubits\n",
    "print(main02[\"mean_of_rho\"].shape)"
   ]
  },
  {
   "cell_type": "markdown",
   "id": "7da71740",
   "metadata": {},
   "source": [
    "### d. Export them after all\n"
   ]
  },
  {
   "cell_type": "code",
   "execution_count": 41,
   "id": "1c5b0ab5",
   "metadata": {},
   "outputs": [
    {
     "data": {
      "text/plain": [
       "{'folder': 'experiment.N_U_100.qurshady_entropy.001',\n",
       " 'qurryinfo': 'experiment.N_U_100.qurshady_entropy.001/qurryinfo.json',\n",
       " 'args': 'experiment.N_U_100.qurshady_entropy.001/args/experiment.N_U_100.qurshady_entropy.001.id=c3653198-1661-4845-b1f1-59a88bb78458.args.json',\n",
       " 'advent': 'experiment.N_U_100.qurshady_entropy.001/advent/experiment.N_U_100.qurshady_entropy.001.id=c3653198-1661-4845-b1f1-59a88bb78458.advent.json',\n",
       " 'legacy': 'experiment.N_U_100.qurshady_entropy.001/legacy/experiment.N_U_100.qurshady_entropy.001.id=c3653198-1661-4845-b1f1-59a88bb78458.legacy.json',\n",
       " 'tales.random_unitary_ids': 'experiment.N_U_100.qurshady_entropy.001/tales/experiment.N_U_100.qurshady_entropy.001.id=c3653198-1661-4845-b1f1-59a88bb78458.random_unitary_ids.json',\n",
       " 'reports': 'experiment.N_U_100.qurshady_entropy.001/reports/experiment.N_U_100.qurshady_entropy.001.id=c3653198-1661-4845-b1f1-59a88bb78458.reports.json',\n",
       " 'reports.tales.average_classical_snapshots_rho': 'experiment.N_U_100.qurshady_entropy.001/tales/experiment.N_U_100.qurshady_entropy.001.id=c3653198-1661-4845-b1f1-59a88bb78458.average_classical_snapshots_rho.reports.json',\n",
       " 'reports.tales.corresponding_rhos': 'experiment.N_U_100.qurshady_entropy.001/tales/experiment.N_U_100.qurshady_entropy.001.id=c3653198-1661-4845-b1f1-59a88bb78458.corresponding_rhos.reports.json'}"
      ]
     },
     "execution_count": 41,
     "metadata": {},
     "output_type": "execute_result"
    }
   ],
   "source": [
    "exp1_id, exp1_files_info = experiment_shadow.exps[exp1].write(\n",
    "    save_location=\".\",  # where to save files\n",
    ")\n",
    "exp1_files_info"
   ]
  },
  {
   "cell_type": "markdown",
   "id": "5ce8d9c7",
   "metadata": {},
   "source": [
    "---\n",
    "\n",
    "### Post-Process Availablities and Version Info\n"
   ]
  },
  {
   "cell_type": "code",
   "execution_count": 42,
   "id": "d4cca3b9",
   "metadata": {},
   "outputs": [
    {
     "data": {
      "text/plain": [
       " | Qurrium version: 0.13.0\n",
       "---------------------------------------------------------------------------\n",
       " ### Qurrium Post-Processing\n",
       "   - Backend Availability ................... Python Cython Rust   JAX   \n",
       " - randomized_measure\n",
       "   - entangled_entropy.entropy_core_2 ....... Yes    Depr.  Yes    No    \n",
       "   - entangle_entropy.purity_cell_2 ......... Yes    Depr.  Yes    No    \n",
       "   - entangled_entropy_v1.entropy_core ...... Yes    Depr.  Yes    No    \n",
       "   - entangle_entropy_v1.purity_cell ........ Yes    Depr.  Yes    No    \n",
       "   - wavefunction_overlap.echo_core_2 ....... Yes    Depr.  Yes    No    \n",
       "   - wavefunction_overlap.echo_cell_2 ....... Yes    Depr.  Yes    No    \n",
       "   - wavefunction_overlap_v1.echo_core ...... Yes    Depr.  Yes    No    \n",
       "   - wavefunction_overlap_v1.echo_cell ...... Yes    Depr.  Yes    No    \n",
       " - hadamard_test\n",
       "   - purity_echo_core ....................... Yes    No     Yes    No    \n",
       " - magnet_square\n",
       "   - magnsq_core ............................ Yes    No     Yes    No    \n",
       " - string_operator\n",
       "   - strop_core ............................. Yes    No     Yes    No    \n",
       " - classical_shadow\n",
       "   - rho_m_core ............................. Yes    No     No     Yes   \n",
       " - utils\n",
       "   - randomized ............................. Yes    Depr.  Yes    No    \n",
       "   - counts_process ......................... Yes    No     Yes    No    \n",
       "   - bit_slice .............................. Yes    No     Yes    No    \n",
       "   - dummy .................................. Yes    No     Yes    No    \n",
       "   - test ................................... Yes    No     Yes    No    \n",
       "---------------------------------------------------------------------------\n",
       "   + Yes ...... Working normally.\n",
       "   + Error .... Exception occurred.\n",
       "   + No ....... Not supported.\n",
       "   + Depr. .... Deprecated.\n",
       "---------------------------------------------------------------------------\n",
       "by <Hoshi>"
      ]
     },
     "execution_count": 42,
     "metadata": {},
     "output_type": "execute_result"
    }
   ],
   "source": [
    "from qurry.process import AVAIBILITY_STATESHEET\n",
    "\n",
    "AVAIBILITY_STATESHEET"
   ]
  },
  {
   "cell_type": "code",
   "execution_count": null,
   "id": "898c1a96",
   "metadata": {},
   "outputs": [],
   "source": []
  }
 ],
 "metadata": {
  "kernelspec": {
   "display_name": "quantumsphere12",
   "language": "python",
   "name": "python3"
  },
  "language_info": {
   "codemirror_mode": {
    "name": "ipython",
    "version": 3
   },
   "file_extension": ".py",
   "mimetype": "text/x-python",
   "name": "python",
   "nbconvert_exporter": "python",
   "pygments_lexer": "ipython3",
   "version": "3.12.3"
  }
 },
 "nbformat": 4,
 "nbformat_minor": 5
}
