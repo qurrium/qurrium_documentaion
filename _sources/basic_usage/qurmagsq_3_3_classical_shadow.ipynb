{
 "cells": [
  {
   "cell_type": "markdown",
   "id": "166f3b67",
   "metadata": {},
   "source": [
    "# 3.3 Magnetization Square by Classical Shadow\n",
    "\n",
    "---\n",
    "\n",
    "## Basic Usage\n"
   ]
  },
  {
   "cell_type": "markdown",
   "id": "86beb579",
   "metadata": {},
   "source": [
    "### a. Import the instances\n"
   ]
  },
  {
   "cell_type": "code",
   "execution_count": 1,
   "id": "0fc71722",
   "metadata": {},
   "outputs": [],
   "source": [
    "from qurry import ShadowUnveil\n",
    "\n",
    "experiment_shadow = ShadowUnveil()"
   ]
  },
  {
   "cell_type": "markdown",
   "id": "d48d1d69",
   "metadata": {},
   "source": [
    "### b. Preparing quantum circuit\n"
   ]
  },
  {
   "cell_type": "code",
   "execution_count": 2,
   "id": "2e597e81",
   "metadata": {},
   "outputs": [],
   "source": [
    "from qurry.recipe import Cat, TrivialParamagnet"
   ]
  },
  {
   "cell_type": "code",
   "execution_count": 3,
   "id": "9584bc4f",
   "metadata": {},
   "outputs": [
    {
     "name": "stdout",
     "output_type": "stream",
     "text": [
      "| trivial paramagnet and cat in 4 qubits:\n",
      "     ┌───┐\n",
      "q_0: ┤ H ├\n",
      "     ├───┤\n",
      "q_1: ┤ H ├\n",
      "     ├───┤\n",
      "q_2: ┤ H ├\n",
      "     ├───┤\n",
      "q_3: ┤ H ├\n",
      "     └───┘\n",
      "     ┌───┐               \n",
      "q_0: ┤ H ├──■────────────\n",
      "     └───┘┌─┴─┐          \n",
      "q_1: ─────┤ X ├──■───────\n",
      "          └───┘┌─┴─┐     \n",
      "q_2: ──────────┤ X ├──■──\n",
      "               └───┘┌─┴─┐\n",
      "q_3: ───────────────┤ X ├\n",
      "                    └───┘\n"
     ]
    }
   ],
   "source": [
    "circuits_dict = {\n",
    "    \"trivialPM_2\": TrivialParamagnet(2),\n",
    "    \"trivialPM_4\": TrivialParamagnet(4),\n",
    "    \"trivialPM_6\": TrivialParamagnet(6),\n",
    "    \"trivialPM_8\": TrivialParamagnet(8),\n",
    "    \"cat_2\": Cat(2),\n",
    "    \"cat_4\": Cat(4),\n",
    "    \"cat_6\": Cat(6),\n",
    "    \"cat_8\": Cat(8),\n",
    "}\n",
    "print(\"| trivial paramagnet and cat in 4 qubits:\")\n",
    "print(circuits_dict[\"trivialPM_4\"])\n",
    "print(circuits_dict[\"cat_4\"])"
   ]
  },
  {
   "cell_type": "markdown",
   "id": "25fc5d4c",
   "metadata": {},
   "source": [
    "### c. Execute the circuit\n"
   ]
  },
  {
   "cell_type": "markdown",
   "id": "6937e4ba",
   "metadata": {},
   "source": [
    "#### i. Preparing the operators for post-processing\n"
   ]
  },
  {
   "cell_type": "code",
   "execution_count": 4,
   "id": "4ad34268",
   "metadata": {},
   "outputs": [],
   "source": [
    "import numpy as np\n",
    "import functools as ft\n",
    "from itertools import permutations\n",
    "from qiskit import QuantumCircuit\n",
    "from qiskit.circuit.library import ZGate, IGate\n",
    "\n",
    "\n",
    "def operator_preparing(\n",
    "    circuit: QuantumCircuit,\n",
    ") -> list[np.ndarray[tuple[int, int], np.dtype[np.complex128]]]:\n",
    "    \"\"\"Prepare the operator for the circuit.\n",
    "\n",
    "    Args:\n",
    "        circuit (QuantumCircuit): The quantum circuit for which the operator is prepared.\n",
    "\n",
    "    Returns:\n",
    "        list[np.ndarray[tuple[int, int], np.dtype[np.complex128]]]:\n",
    "            A list of numpy arrays representing the operator for each pair of qubits.\n",
    "    \"\"\"\n",
    "    z_gate_matrix = ZGate().to_matrix()\n",
    "    i_gate_matrix = IGate().to_matrix()\n",
    "    num_qubits = circuit.num_qubits\n",
    "\n",
    "    return [\n",
    "        ft.reduce(\n",
    "            np.kron,\n",
    "            (\n",
    "                z_gate_matrix.copy() if i in tgt else i_gate_matrix.copy()\n",
    "                for i in range(num_qubits)\n",
    "            ),\n",
    "        )\n",
    "        for tgt in permutations(range(num_qubits), 2)\n",
    "    ]  # type: ignore[return]"
   ]
  },
  {
   "cell_type": "code",
   "execution_count": 5,
   "id": "0e6c0634",
   "metadata": {},
   "outputs": [
    {
     "name": "stdout",
     "output_type": "stream",
     "text": [
      "| The number of operators for Magnetization Square: 12\n"
     ]
    }
   ],
   "source": [
    "operators_for_magnet_sq = operator_preparing(circuits_dict[\"cat_4\"])\n",
    "print(\n",
    "    \"| The number of operators for Magnetization Square:\", len(operators_for_magnet_sq)\n",
    ")"
   ]
  },
  {
   "cell_type": "markdown",
   "id": "28bf5b1b",
   "metadata": {},
   "source": [
    "#### ii. Find a Proper Number of Classical Snapshot for Epsilon Upperbound\n"
   ]
  },
  {
   "cell_type": "code",
   "execution_count": 6,
   "id": "edfad477",
   "metadata": {},
   "outputs": [],
   "source": [
    "from qurry.process.classical_shadow.expectation_process import (\n",
    "    worst_accuracy_predict_epsilon_calc,\n",
    ")"
   ]
  },
  {
   "cell_type": "code",
   "execution_count": 7,
   "id": "90f3dd88",
   "metadata": {},
   "outputs": [
    {
     "name": "stdout",
     "output_type": "stream",
     "text": [
      "| The candidate number for classical snapshot: 100\n",
      "| The epsilon upper bound for the worst accuracy prediction is :\n",
      " 9.329523031752482\n",
      "| The candidate number for classical snapshot: 200\n",
      "| The epsilon upper bound for the worst accuracy prediction is :\n",
      " 6.596969000988257\n",
      "| The candidate number for classical snapshot: 300\n",
      "| The epsilon upper bound for the worst accuracy prediction is :\n",
      " 5.386402633793108\n",
      "| The candidate number for classical snapshot: 400\n",
      "| The epsilon upper bound for the worst accuracy prediction is :\n",
      " 4.664761515876241\n",
      "| The candidate number for classical snapshot: 500\n",
      "| The epsilon upper bound for the worst accuracy prediction is :\n",
      " 4.172289539329696\n"
     ]
    }
   ],
   "source": [
    "num_classical_snapshot_candinates = []\n",
    "\n",
    "for i in range(1, 6):\n",
    "    num_classical_snapshot_candinates.append(i * 100)\n",
    "    print(\n",
    "        \"| The candidate number for classical snapshot:\",\n",
    "        num_classical_snapshot_candinates[-1],\n",
    "    )\n",
    "    epsilon_upperbound, shadow_norm_upperbound = worst_accuracy_predict_epsilon_calc(\n",
    "        num_classical_snapshot_candinates[-1], operators_for_magnet_sq\n",
    "    )\n",
    "    print(\n",
    "        \"| The epsilon upper bound for the worst accuracy prediction is :\\n\",\n",
    "        epsilon_upperbound,\n",
    "    )"
   ]
  },
  {
   "cell_type": "markdown",
   "id": "0615692d",
   "metadata": {},
   "source": [
    "We use `300` as the number of classical snapshot.\n",
    "\n",
    "#### iii. Execute experiment and run post-processing\n"
   ]
  },
  {
   "cell_type": "code",
   "execution_count": 8,
   "id": "3135a9f2",
   "metadata": {},
   "outputs": [
    {
     "data": {
      "text/plain": [
       "'a072c67d-681a-49fa-8494-bb884c52a8d7'"
      ]
     },
     "execution_count": 8,
     "metadata": {},
     "output_type": "execute_result"
    }
   ],
   "source": [
    "exp1 = experiment_shadow.measure(circuits_dict[\"cat_4\"], times=300, shots=4096)\n",
    "exp1"
   ]
  },
  {
   "cell_type": "markdown",
   "id": "4052ff26",
   "metadata": {},
   "source": [
    "Use the operators we prepare for post-processing.\n"
   ]
  },
  {
   "cell_type": "code",
   "execution_count": 9,
   "id": "a01a6c9f",
   "metadata": {},
   "outputs": [
    {
     "name": "stderr",
     "output_type": "stream",
     "text": [
      "WARNING:2025-06-25 13:42:47,776:jax._src.xla_bridge:909: An NVIDIA GPU may be present on this machine, but a CUDA-enabled jaxlib is not installed. Falling back to cpu.\n"
     ]
    },
    {
     "data": {
      "text/plain": [
       "<SUAnalysis(\n",
       "  serial=0,\n",
       "  SUAnalysisInput(shots=4096, num_qubits=4, selected_qubits=[0, 1, 2, 3], registers_mapping={0: 0, 1: 1, 2: 2, 3: 3}, bitstring_mapping={0: 0, 1: 1, 2: 2, 3: 3}, unitary_located=[0, 1, 2, 3]),\n",
       "  SUAnalysisContent(purity=1.1318041252721114, entropy=-0.17862430097011894, and others)),\n",
       "  unused_args_num=3\n",
       "  )>"
      ]
     },
     "execution_count": 9,
     "metadata": {},
     "output_type": "execute_result"
    }
   ],
   "source": [
    "report01 = experiment_shadow.exps[exp1].analyze(\n",
    "    range(4),\n",
    "    operators_for_magnet_sq,\n",
    ")\n",
    "report01"
   ]
  },
  {
   "cell_type": "code",
   "execution_count": 10,
   "id": "0b9c4c72",
   "metadata": {},
   "outputs": [
    {
     "name": "stdout",
     "output_type": "stream",
     "text": [
      "dict_keys(['classical_registers_actually', 'taking_time', 'mean_of_rho', 'purity', 'entropy', 'estimate_of_given_operators', 'accuracy_prob_comp_delta', 'num_of_estimators_k', 'accuracy_predict_epsilon', 'maximum_shadow_norm', 'input', 'header'])\n",
      "dict_keys(['average_classical_snapshots_rho', 'corresponding_rhos'])\n"
     ]
    }
   ],
   "source": [
    "main01, side_product_01 = report01.export()\n",
    "print(main01.keys())\n",
    "print(side_product_01.keys())"
   ]
  },
  {
   "cell_type": "markdown",
   "id": "14d36a27",
   "metadata": {},
   "source": [
    "Now, you can find we have some values in `estimate_of_given_operators`, we will need this to calculate magnetization square.\n"
   ]
  },
  {
   "cell_type": "code",
   "execution_count": 11,
   "id": "27f79f0d",
   "metadata": {},
   "outputs": [
    {
     "name": "stdout",
     "output_type": "stream",
     "text": [
      "| estimate_of_given_operators:\n",
      "[np.complex128(1+0j), np.complex128(0.5+0j), np.complex128(0.9999999999999999+0j), np.complex128(1+0j), np.complex128(1+0j), np.complex128(1+0j), np.complex128(0.5+0j), np.complex128(1+0j), np.complex128(1+0j), np.complex128(0.9999999999999999+0j), np.complex128(1+0j), np.complex128(1+0j)]\n",
      "|--------------------------------------------------\n",
      "| accuracy_prob_comp_delta: 0.008051103069660285\n",
      "| num_of_estimators_k: 16\n",
      "| accuracy_predict_epsilon: 5.386402633793108\n",
      "| maximum_shadow_norm: nan\n"
     ]
    }
   ],
   "source": [
    "print(\"| estimate_of_given_operators:\")\n",
    "print(main01[\"estimate_of_given_operators\"])\n",
    "print(\"|\" + \"-\" * 50)\n",
    "for k in [\n",
    "    \"accuracy_prob_comp_delta\",\n",
    "    \"num_of_estimators_k\",\n",
    "    \"accuracy_predict_epsilon\",\n",
    "    \"maximum_shadow_norm\",\n",
    "]:\n",
    "    print(f\"| {k}:\", main01[k])"
   ]
  },
  {
   "cell_type": "markdown",
   "id": "86bcb838",
   "metadata": {},
   "source": [
    "With following functions:\n"
   ]
  },
  {
   "cell_type": "code",
   "execution_count": 12,
   "id": "3b59f3af",
   "metadata": {},
   "outputs": [],
   "source": [
    "def unveil_magnetization_square(\n",
    "    estimate_of_given_operators: list[np.complex128],\n",
    "    num_qubits: int,\n",
    ") -> np.float64:\n",
    "    \"\"\"Processing Classical Shadows post-processing for MagnetSquare.\n",
    "\n",
    "    Args:\n",
    "        estimate_of_given_operators (list[np.complex128]): The estimates of the given operators.\n",
    "        num_qubits (int): The number of qubits in the circuit.\n",
    "\n",
    "    Returns:\n",
    "        np.float64: The unveiled magnet square value.\n",
    "    \"\"\"\n",
    "    return np.complex128(sum(estimate_of_given_operators) + num_qubits).real / (\n",
    "        num_qubits**2\n",
    "    )"
   ]
  },
  {
   "cell_type": "code",
   "execution_count": 13,
   "id": "9ed6ea7b",
   "metadata": {},
   "outputs": [
    {
     "name": "stdout",
     "output_type": "stream",
     "text": [
      "| The magnetization square value is: 0.9375\n"
     ]
    }
   ],
   "source": [
    "unveil_magnetization_square_01 = unveil_magnetization_square(\n",
    "    main01[\"estimate_of_given_operators\"],\n",
    "    main01[\"input\"][\"num_qubits\"],\n",
    ")\n",
    "print(\n",
    "    \"| The magnetization square value is:\",\n",
    "    unveil_magnetization_square_01,\n",
    ")"
   ]
  },
  {
   "cell_type": "markdown",
   "id": "fa5d35f3",
   "metadata": {},
   "source": [
    "- All main quantities\n"
   ]
  },
  {
   "cell_type": "code",
   "execution_count": 14,
   "id": "bb338487",
   "metadata": {},
   "outputs": [
    {
     "name": "stdout",
     "output_type": "stream",
     "text": [
      "| classical_registers_actually : [3, 2, 1, 0]\n",
      "| taking_time : 0.29941844940185547\n",
      "| purity : 1.1318041252721114\n",
      "| entropy : -0.17862430097011894\n",
      "| estimate_of_given_operators : [np.complex128(1+0j), np.complex128(0.5+0j), np.complex128(0.9999999999999999+0j), np.complex128(1+0j), np.complex128(1+0j), np.complex128(1+0j), np.complex128(0.5+0j), np.complex128(1+0j), np.complex128(1+0j), np.complex128(0.9999999999999999+0j), np.complex128(1+0j), np.complex128(1+0j)]\n",
      "| accuracy_prob_comp_delta : 0.008051103069660285\n",
      "| num_of_estimators_k : 16\n",
      "| accuracy_predict_epsilon : 5.386402633793108\n",
      "| maximum_shadow_norm : nan\n",
      "| input : {'shots': 4096, 'num_qubits': 4, 'selected_qubits': [0, 1, 2, 3], 'registers_mapping': {0: 0, 1: 1, 2: 2, 3: 3}, 'bitstring_mapping': {0: 0, 1: 1, 2: 2, 3: 3}, 'unitary_located': [0, 1, 2, 3]}\n",
      "| header : {'serial': 0, 'datetime': '2025-06-25 13:42:48', 'log': {}}\n"
     ]
    }
   ],
   "source": [
    "for key, value in main01.items():\n",
    "    if key in [\"mean_of_rho\"]:\n",
    "        continue\n",
    "    print(f\"| {key} : {value}\")"
   ]
  },
  {
   "cell_type": "code",
   "execution_count": 15,
   "id": "d9ad8893",
   "metadata": {},
   "outputs": [
    {
     "name": "stdout",
     "output_type": "stream",
     "text": [
      "(16, 16)\n"
     ]
    }
   ],
   "source": [
    "print(main01[\"mean_of_rho\"].shape)"
   ]
  },
  {
   "cell_type": "markdown",
   "id": "7da71740",
   "metadata": {},
   "source": [
    "### d. Export them after all\n"
   ]
  },
  {
   "cell_type": "code",
   "execution_count": 16,
   "id": "1c5b0ab5",
   "metadata": {},
   "outputs": [
    {
     "data": {
      "text/plain": [
       "{'folder': 'experiment.N_U_300.qurshady_entropy.001',\n",
       " 'qurryinfo': 'experiment.N_U_300.qurshady_entropy.001/qurryinfo.json',\n",
       " 'args': 'experiment.N_U_300.qurshady_entropy.001/args/experiment.N_U_300.qurshady_entropy.001.id=a072c67d-681a-49fa-8494-bb884c52a8d7.args.json',\n",
       " 'advent': 'experiment.N_U_300.qurshady_entropy.001/advent/experiment.N_U_300.qurshady_entropy.001.id=a072c67d-681a-49fa-8494-bb884c52a8d7.advent.json',\n",
       " 'legacy': 'experiment.N_U_300.qurshady_entropy.001/legacy/experiment.N_U_300.qurshady_entropy.001.id=a072c67d-681a-49fa-8494-bb884c52a8d7.legacy.json',\n",
       " 'tales.random_unitary_ids': 'experiment.N_U_300.qurshady_entropy.001/tales/experiment.N_U_300.qurshady_entropy.001.id=a072c67d-681a-49fa-8494-bb884c52a8d7.random_unitary_ids.json',\n",
       " 'reports': 'experiment.N_U_300.qurshady_entropy.001/reports/experiment.N_U_300.qurshady_entropy.001.id=a072c67d-681a-49fa-8494-bb884c52a8d7.reports.json',\n",
       " 'reports.tales.average_classical_snapshots_rho': 'experiment.N_U_300.qurshady_entropy.001/tales/experiment.N_U_300.qurshady_entropy.001.id=a072c67d-681a-49fa-8494-bb884c52a8d7.average_classical_snapshots_rho.reports.json',\n",
       " 'reports.tales.corresponding_rhos': 'experiment.N_U_300.qurshady_entropy.001/tales/experiment.N_U_300.qurshady_entropy.001.id=a072c67d-681a-49fa-8494-bb884c52a8d7.corresponding_rhos.reports.json'}"
      ]
     },
     "execution_count": 16,
     "metadata": {},
     "output_type": "execute_result"
    }
   ],
   "source": [
    "exp1_id, exp1_files_info = experiment_shadow.exps[exp1].write(\n",
    "    save_location=\".\",  # where to save files\n",
    ")\n",
    "exp1_files_info"
   ]
  },
  {
   "cell_type": "markdown",
   "id": "5ce8d9c7",
   "metadata": {},
   "source": [
    "## Post-Process Availablities and Version Info\n"
   ]
  },
  {
   "cell_type": "code",
   "execution_count": 17,
   "id": "d4cca3b9",
   "metadata": {},
   "outputs": [
    {
     "data": {
      "text/plain": [
       " | Qurrium version: 0.13.0\n",
       "---------------------------------------------------------------------------\n",
       " ### Qurrium Post-Processing\n",
       "   - Backend Availability ................... Python Cython Rust   JAX   \n",
       " - randomized_measure\n",
       "   - entangled_entropy.entropy_core_2 ....... Yes    Depr.  Yes    No    \n",
       "   - entangle_entropy.purity_cell_2 ......... Yes    Depr.  Yes    No    \n",
       "   - entangled_entropy_v1.entropy_core ...... Yes    Depr.  Yes    No    \n",
       "   - entangle_entropy_v1.purity_cell ........ Yes    Depr.  Yes    No    \n",
       "   - wavefunction_overlap.echo_core_2 ....... Yes    Depr.  Yes    No    \n",
       "   - wavefunction_overlap.echo_cell_2 ....... Yes    Depr.  Yes    No    \n",
       "   - wavefunction_overlap_v1.echo_core ...... Yes    Depr.  Yes    No    \n",
       "   - wavefunction_overlap_v1.echo_cell ...... Yes    Depr.  Yes    No    \n",
       " - hadamard_test\n",
       "   - purity_echo_core ....................... Yes    No     Yes    No    \n",
       " - magnet_square\n",
       "   - magnsq_core ............................ Yes    No     Yes    No    \n",
       " - string_operator\n",
       "   - strop_core ............................. Yes    No     Yes    No    \n",
       " - classical_shadow\n",
       "   - rho_m_core ............................. Yes    No     No     Yes   \n",
       " - utils\n",
       "   - randomized ............................. Yes    Depr.  Yes    No    \n",
       "   - counts_process ......................... Yes    No     Yes    No    \n",
       "   - bit_slice .............................. Yes    No     Yes    No    \n",
       "   - dummy .................................. Yes    No     Yes    No    \n",
       "   - test ................................... Yes    No     Yes    No    \n",
       "---------------------------------------------------------------------------\n",
       "   + Yes ...... Working normally.\n",
       "   + Error .... Exception occurred.\n",
       "   + No ....... Not supported.\n",
       "   + Depr. .... Deprecated.\n",
       "---------------------------------------------------------------------------\n",
       "by <Hoshi>"
      ]
     },
     "execution_count": 17,
     "metadata": {},
     "output_type": "execute_result"
    }
   ],
   "source": [
    "from qurry.process import AVAIBILITY_STATESHEET\n",
    "\n",
    "AVAIBILITY_STATESHEET"
   ]
  },
  {
   "cell_type": "code",
   "execution_count": null,
   "id": "898c1a96",
   "metadata": {},
   "outputs": [],
   "source": []
  }
 ],
 "metadata": {
  "kernelspec": {
   "display_name": "quantumsphere12",
   "language": "python",
   "name": "python3"
  },
  "language_info": {
   "codemirror_mode": {
    "name": "ipython",
    "version": 3
   },
   "file_extension": ".py",
   "mimetype": "text/x-python",
   "name": "python",
   "nbconvert_exporter": "python",
   "pygments_lexer": "ipython3",
   "version": "3.12.3"
  }
 },
 "nbformat": 4,
 "nbformat_minor": 5
}
