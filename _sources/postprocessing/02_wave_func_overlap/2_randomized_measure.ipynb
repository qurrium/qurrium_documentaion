{
 "cells": [
  {
   "cell_type": "markdown",
   "metadata": {},
   "source": [
    "# 2.2 WaveFunction Overlap - Randomized Measurement\n",
    "\n",
    "The `WaveFunctionOverlap` or `EchoListen` instance provides three methods:\n",
    "\n",
    "1. **`EchoListenRandomized`**: Uses randomized measurements and serves as the default method.\n",
    "   ```python\n",
    "   exp_method_02 = WaveFunctionOverlap()\n",
    "   ```\n",
    "   or\n",
    "   ```python\n",
    "   exp_method_02 = EchoListen()\n",
    "   ```\n",
    "   or\n",
    "   ```python\n",
    "   exp_method_02 = WaveFunctionOverlap(method=\"randomized\")\n",
    "   ```\n",
    "   or\n",
    "   ```python\n",
    "   exp_method_02 = EchoListen(method=\"randomized\")\n",
    "   ```\n",
    "   or\n",
    "   ```python\n",
    "   exp_method_02 = WaveFunctionOverlap(method=\"base\")\n",
    "   ```\n",
    "   or\n",
    "   ```python\n",
    "   exp_method_02 = EchoListen(method=\"base\")\n",
    "   ```\n",
    "2. **`EchoListenHadamard`**: Employs the Hadamard test for entropy calculation.\n",
    "   ```python\n",
    "   exp_method_01 = WaveFunctionOverlap(method=\"hadamard\")\n",
    "   ```\n",
    "   or\n",
    "   ```python\n",
    "   exp_method_01 = EchoListen(method=\"hadamard\")\n",
    "   ```\n",
    "3. **`EchoListenRandomizedV1`**: Implements randomized measurements with a different approach but is deprecated due to limitations in subsystem selection.\n",
    "   ```python\n",
    "   exp_method_03 = WaveFunctionOverlap(method=\"randomized_v1\")\n",
    "   ```\n",
    "   or\n",
    "   ```python\n",
    "   exp_method_03 = EchoListen(method=\"randomized_v1\")\n",
    "   ```\n",
    "\n",
    "All three methods calculate the entropy of a quantum state, but their calculation techniques and post-processing procedures are entirely different.\n"
   ]
  },
  {
   "cell_type": "markdown",
   "metadata": {},
   "source": [
    "## 2.2 Randomized Measurement\n",
    "\n",
    "This method is based on [Probing Rényi entanglement entropy via randomized measurements](https://www.science.org/doi/abs/10.1126/science.aau4963) with deplorizing error mitigation by [Simple mitigation of global depolarizing errors in quantum simulations](https://link.aps.org/doi/10.1103/PhysRevE.104.035309).\n"
   ]
  },
  {
   "cell_type": "markdown",
   "metadata": {
    "tags": []
   },
   "source": [
    "---\n",
    "\n",
    "### `randomized_overlap_echo`\n",
    "\n",
    "<a id='randomized_overlap_echo'></a>\n"
   ]
  },
  {
   "cell_type": "markdown",
   "metadata": {},
   "source": [
    "Here, we assume you already have the calculated data. You can call the function `randomized_overlap_echo` from `qurry.process.randomized_measure` to calculate the entropy.\n",
    "\n",
    "This function requires only three arguments: `shots`, `counts`, and `selected_classical_registers`. All other arguments are optional.\n",
    "\n",
    "Note that `selected_classical_registers` expects a list of <u>bitstring indices</u>, **NOT** <u>qubit indices</u>, as these are distinct.\n",
    "\n",
    "The following is the arguments of the function:\n",
    "\n",
    "```python\n",
    "\n",
    "def randomized_overlap_echo(\n",
    "    shots: int,\n",
    "    first_counts: list[dict[str, int]],\n",
    "    second_counts: list[dict[str, int]],\n",
    "    selected_classical_registers: Optional[Iterable[int]] = None,\n",
    "    backend: PostProcessingBackendLabel = DEFAULT_PROCESS_BACKEND,\n",
    "    pbar: Optional[tqdm.tqdm] = None,\n",
    ") -> WaveFuctionOverlapResult:\n",
    "    \"\"\"Calculate wavefunction overlap\n",
    "    a.k.a. loschmidt echo when processes time evolution system.\n",
    "\n",
    "    Args:\n",
    "        shots (int):\n",
    "            Shots of the experiment on quantum machine.\n",
    "        first_counts (list[dict[str, int]]):\n",
    "            Counts of the experiment on quantum machine.\n",
    "        second_counts (list[dict[str, int]]):\n",
    "            Counts of the experiment on quantum machine.\n",
    "        selected_classical_registers (Optional[Iterable[int]], optional):\n",
    "            The list of **the index of the selected_classical_registers**.\n",
    "        backend (ExistingProcessBackendLabel, optional):\n",
    "            Backend for the process. Defaults to DEFAULT_PROCESS_BACKEND.\n",
    "        pbar (Optional[tqdm.tqdm], optional):\n",
    "            The progress bar API, you can use put a :cls:`tqdm` object here.\n",
    "            This function will update the progress bar description.\n",
    "            Defaults to None.\n",
    "\n",
    "\n",
    "    Returns:\n",
    "        WaveFuctionOverlapResult: A dictionary contains purity, entropy,\n",
    "            a list of each overlap, puritySD, degree, actual measure range, bitstring range.\n",
    "    \"\"\"\n",
    "```\n",
    "This function returns a dictionary that contains the echo, echoSD, and other relevant information. \n",
    "The returned `dict` contains the following information:\n",
    "\n",
    "```python\n",
    "class WaveFuctionOverlapResult(TypedDict):\n",
    "    \"\"\"The return type of the post-processing for wavefunction overlap.\"\"\"\n",
    "\n",
    "    echo: np.float64\n",
    "    \"\"\"The overlap value.\"\"\"\n",
    "    echoSD: np.float64\n",
    "    \"\"\"The overlap standard deviation.\"\"\"\n",
    "    echoCells: dict[int, np.float64]\n",
    "    \"\"\"The overlap of each single count.\"\"\"\n",
    "    num_classical_registers: int\n",
    "    \"\"\"The number of classical registers.\"\"\"\n",
    "    classical_registers: Optional[list[int]]\n",
    "    \"\"\"The list of the index of the selected classical registers.\"\"\"\n",
    "    classical_registers_actually: list[int]\n",
    "    \"\"\"The list of the index of the selected classical registers which is actually used.\"\"\"\n",
    "    # refactored\n",
    "    counts_num: int\n",
    "    \"\"\"The number of first counts and second counts.\"\"\"\n",
    "    taking_time: float\n",
    "    \"\"\"The calculation time.\"\"\"\n",
    "```\n",
    "\n",
    "\n"
   ]
  },
  {
   "cell_type": "markdown",
   "metadata": {},
   "source": [
    "---\n",
    "\n",
    "#### Dummy Data\n"
   ]
  },
  {
   "cell_type": "code",
   "execution_count": 1,
   "metadata": {},
   "outputs": [],
   "source": [
    "from qurry.capsule import quickRead\n",
    "\n",
    "easy_dummy: dict[str, dict[str, int]] = quickRead(\"../easy-dummy.json\")\n",
    "large_dummy_list = [easy_dummy[\"0\"] for _ in range(100)]"
   ]
  },
  {
   "cell_type": "markdown",
   "metadata": {},
   "source": [
    "---\n",
    "\n",
    "#### Simple Example\n"
   ]
  },
  {
   "cell_type": "code",
   "execution_count": 2,
   "metadata": {},
   "outputs": [],
   "source": [
    "from qurry.process.randomized_measure import (\n",
    "    randomized_overlap_echo,\n",
    ")\n",
    "\n",
    "test_result_1_1_1 = randomized_overlap_echo(\n",
    "    4096, large_dummy_list, large_dummy_list, list(range(6))\n",
    ")"
   ]
  },
  {
   "cell_type": "code",
   "execution_count": 3,
   "metadata": {},
   "outputs": [
    {
     "name": "stdout",
     "output_type": "stream",
     "text": [
      "| result of randomized_overlap_echo except for purityCells\n",
      "{'classical_registers': [0, 1, 2, 3, 4, 5],\n",
      " 'classical_registers_actually': [0, 1, 2, 3, 4, 5],\n",
      " 'counts_num': 100,\n",
      " 'echo': np.float64(1.0627930164337158),\n",
      " 'echoSD': np.float64(0.0),\n",
      " 'num_classical_registers': 8,\n",
      " 'taking_time': 0.007889697}\n",
      "| result of randomized_overlap_echo[purityCells]\n",
      "1.0627930164337158\n",
      "1.0627930164337158\n"
     ]
    }
   ],
   "source": [
    "from pprint import pprint\n",
    "\n",
    "print(\"| result of randomized_overlap_echo except for purityCells\")\n",
    "pprint({k: v for k, v in test_result_1_1_1.items() if k != \"echoCells\"})\n",
    "# \"echoCells\" is too long we skip it here\n",
    "\n",
    "print(\"| result of randomized_overlap_echo[purityCells]\")\n",
    "print(test_result_1_1_1[\"echoCells\"][0])\n",
    "print(test_result_1_1_1[\"echoCells\"][1])"
   ]
  },
  {
   "cell_type": "markdown",
   "metadata": {},
   "source": [
    "---\n",
    "\n",
    "#### Integration with your own progress bar\n"
   ]
  },
  {
   "cell_type": "code",
   "execution_count": 4,
   "metadata": {},
   "outputs": [
    {
     "name": "stderr",
     "output_type": "stream",
     "text": [
      "| Calculate selected classical registers: [0, 1, 2, 3, 4, 5]. - 00:00 < ?"
     ]
    },
    {
     "name": "stdout",
     "output_type": "stream",
     "text": [
      "[0, 1, 2, 3, 4, 5]\n"
     ]
    },
    {
     "name": "stderr",
     "output_type": "stream",
     "text": [
      "| Calculate selected classical registers: [2, 3, 4, 5, 6, 7]. - 00:00 < 00:02"
     ]
    },
    {
     "name": "stdout",
     "output_type": "stream",
     "text": [
      "[2, 3, 4, 5, 6, 7]\n"
     ]
    },
    {
     "name": "stderr",
     "output_type": "stream",
     "text": [
      "| Calculate selected classical registers: [0, 1, 2, 3, 4, 5, 6]. - 00:01 < 00:02"
     ]
    },
    {
     "name": "stdout",
     "output_type": "stream",
     "text": [
      "[0, 1, 2, 3, 4, 5, 6]\n"
     ]
    },
    {
     "name": "stderr",
     "output_type": "stream",
     "text": [
      "| Calculate selected classical registers: [0, 1, 2, 3, 4, 5, 6]. - 00:01 < 00:01"
     ]
    },
    {
     "name": "stdout",
     "output_type": "stream",
     "text": [
      "[0, 1, 2, 3, 4, 5, 6]\n"
     ]
    },
    {
     "name": "stderr",
     "output_type": "stream",
     "text": [
      "| Calculate selected classical registers: [0, 1, 2, 6, 7]. - 00:02 < 00:01      "
     ]
    },
    {
     "name": "stdout",
     "output_type": "stream",
     "text": [
      "[0, 1, 2, 6, 7]\n"
     ]
    },
    {
     "name": "stderr",
     "output_type": "stream",
     "text": [
      "| Calculate selected classical registers: [3, 4, 5, 6, 7, 0, 1]. - 00:02 < 00:00"
     ]
    },
    {
     "name": "stdout",
     "output_type": "stream",
     "text": [
      "[3, 4, 5, 6, 7, 0, 1]\n"
     ]
    },
    {
     "name": "stderr",
     "output_type": "stream",
     "text": [
      "| Calculate selected classical registers: [3, 4, 5, 6, 7, 0, 1]. - 00:03 < 00:00\n"
     ]
    }
   ],
   "source": [
    "from tqdm import tqdm\n",
    "import time\n",
    "\n",
    "all_counts_progress_01 = tqdm(\n",
    "    [\n",
    "        (4096, large_dummy_list, list(range(6))),\n",
    "        (4096, large_dummy_list, list(range(2, 8))),\n",
    "        (4096, large_dummy_list, list(range(7))),\n",
    "        (4096, large_dummy_list, list(range(0, 7))),\n",
    "        (4096, large_dummy_list, [0, 1, 2, 6, 7]),\n",
    "        (4096, large_dummy_list, [3, 4, 5, 6, 7, 0, 1]),\n",
    "    ],\n",
    "    bar_format=\"| {desc} - {elapsed} < {remaining}\",\n",
    ")\n",
    "\n",
    "test_result_1_1_2 = []\n",
    "for tmp_shot, tmp_counts, tmp_partition in all_counts_progress_01:\n",
    "    print(tmp_partition)\n",
    "    test_result_1_1_2.append(\n",
    "        randomized_overlap_echo(\n",
    "            tmp_shot, tmp_counts, tmp_counts, tmp_partition, pbar=all_counts_progress_01\n",
    "        )\n",
    "    )\n",
    "    time.sleep(0.5)"
   ]
  },
  {
   "cell_type": "markdown",
   "metadata": {},
   "source": [
    "---\n",
    "\n",
    "#### Using Python backend\n",
    "\n",
    "It will be slow. You'd better think twice before using it.\n"
   ]
  },
  {
   "cell_type": "code",
   "execution_count": 5,
   "metadata": {},
   "outputs": [
    {
     "name": "stderr",
     "output_type": "stream",
     "text": [
      "| Calculate selected classical registers: [0, 1, 2, 3, 4, 5]. - 00:00 < ?"
     ]
    },
    {
     "name": "stdout",
     "output_type": "stream",
     "text": [
      "[0, 1, 2, 3, 4, 5]\n"
     ]
    },
    {
     "name": "stderr",
     "output_type": "stream",
     "text": [
      "| Calculate selected classical registers: [2, 3, 4, 5, 6, 7]. - 00:01 < 00:06"
     ]
    },
    {
     "name": "stdout",
     "output_type": "stream",
     "text": [
      "[2, 3, 4, 5, 6, 7]\n"
     ]
    },
    {
     "name": "stderr",
     "output_type": "stream",
     "text": [
      "| Calculate selected classical registers: [0, 1, 2, 3, 4, 5, 6]. - 00:02 < 00:05"
     ]
    },
    {
     "name": "stdout",
     "output_type": "stream",
     "text": [
      "[0, 1, 2, 3, 4, 5, 6]\n"
     ]
    },
    {
     "name": "stderr",
     "output_type": "stream",
     "text": [
      "| Calculate selected classical registers: [0, 1, 2, 3, 4, 5, 6]. - 00:05 < 00:06"
     ]
    },
    {
     "name": "stdout",
     "output_type": "stream",
     "text": [
      "[0, 1, 2, 3, 4, 5, 6]\n"
     ]
    },
    {
     "name": "stderr",
     "output_type": "stream",
     "text": [
      "| Calculate selected classical registers: [0, 1, 2, 6, 7]. - 00:08 < 00:04      "
     ]
    },
    {
     "name": "stdout",
     "output_type": "stream",
     "text": [
      "[0, 1, 2, 6, 7]\n"
     ]
    },
    {
     "name": "stderr",
     "output_type": "stream",
     "text": [
      "| Calculate selected classical registers: [3, 4, 5, 6, 7, 0, 1]. - 00:09 < 00:01"
     ]
    },
    {
     "name": "stdout",
     "output_type": "stream",
     "text": [
      "[3, 4, 5, 6, 7, 0, 1]\n"
     ]
    },
    {
     "name": "stderr",
     "output_type": "stream",
     "text": [
      "| Calculate selected classical registers: [3, 4, 5, 6, 7, 0, 1]. - 00:11 < 00:00\n"
     ]
    }
   ],
   "source": [
    "all_counts_progress_02 = tqdm(\n",
    "    [\n",
    "        (4096, large_dummy_list, list(range(6))),\n",
    "        (4096, large_dummy_list, list(range(2, 8))),\n",
    "        (4096, large_dummy_list, list(range(7))),\n",
    "        (4096, large_dummy_list, list(range(0, 7))),\n",
    "        (4096, large_dummy_list, [0, 1, 2, 6, 7]),\n",
    "        (4096, large_dummy_list, [3, 4, 5, 6, 7, 0, 1]),\n",
    "    ],\n",
    "    bar_format=\"| {desc} - {elapsed} < {remaining}\",\n",
    ")\n",
    "\n",
    "\n",
    "test_result_1_1_2 = []\n",
    "for tmp_shot, tmp_counts, tmp_partition in all_counts_progress_02:\n",
    "    print(tmp_partition)\n",
    "    test_result_1_1_2.append(\n",
    "        randomized_overlap_echo(\n",
    "            tmp_shot,\n",
    "            tmp_counts,\n",
    "            tmp_counts,\n",
    "            tmp_partition,\n",
    "            pbar=all_counts_progress_02,\n",
    "            backend=\"Python\",\n",
    "        )\n",
    "    )\n",
    "    time.sleep(0.5)"
   ]
  },
  {
   "cell_type": "markdown",
   "metadata": {},
   "source": [
    "---\n",
    "\n",
    "### Post-Processing Speed-up Availablities and Version Info\n",
    "\n"
   ]
  },
  {
   "cell_type": "code",
   "execution_count": 6,
   "metadata": {},
   "outputs": [
    {
     "data": {
      "text/plain": [
       " | Qurry version: 0.10.0\n",
       "--------------------------------------------------------\n",
       " ### Qurry Post-Processing\n",
       "   - Backend Availability ................... Python Cython Rust  \n",
       " - randomized_measure\n",
       "   - entangled_entropy.entropy_core_2 ....... Yes    Depr.  Yes   \n",
       "   - entangle_entropy.purity_cell_2 ......... Yes    Depr.  Yes   \n",
       "   - wavefunction_overlap.echo_core_2 ....... Yes    Depr.  Yes   \n",
       "   - wavefunction_overlap.echo_cell_2 ....... Yes    Depr.  Error \n",
       " - utils\n",
       "   - randomized ............................. Yes    Depr.  Yes   \n",
       "   - construct .............................. Yes    No     Yes   \n",
       "   - dummy .................................. Yes    No     Yes   \n",
       "   - test ................................... Yes    No     Yes   \n",
       " - hadamard_test\n",
       "   - purity_echo_core ....................... Yes    No     Yes   \n",
       " - magnet_square\n",
       "   - magnsq_core ............................ Yes    No     No    \n",
       "--------------------------------------------------------\n",
       "   + Yes ...... Working normally.\n",
       "   + Error .... Exception occurred.\n",
       "   + No ....... Not supported.\n",
       "   + Depr. .... Deprecated.\n",
       "--------------------------------------------------------\n",
       "by <Hoshi>"
      ]
     },
     "execution_count": 6,
     "metadata": {},
     "output_type": "execute_result"
    }
   ],
   "source": [
    "from qurry.process.status import AVAIBILITY_STATESHEET\n",
    "\n",
    "AVAIBILITY_STATESHEET"
   ]
  },
  {
   "cell_type": "code",
   "execution_count": null,
   "metadata": {},
   "outputs": [],
   "source": []
  }
 ],
 "metadata": {
  "kernelspec": {
   "display_name": "quantumsphere12",
   "language": "python",
   "name": "python3"
  },
  "language_info": {
   "codemirror_mode": {
    "name": "ipython",
    "version": 3
   },
   "file_extension": ".py",
   "mimetype": "text/x-python",
   "name": "python",
   "nbconvert_exporter": "python",
   "pygments_lexer": "ipython3",
   "version": "3.12.7"
  }
 },
 "nbformat": 4,
 "nbformat_minor": 4
}
