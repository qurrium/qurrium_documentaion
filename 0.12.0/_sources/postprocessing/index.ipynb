{
 "cells": [
  {
   "cell_type": "markdown",
   "metadata": {},
   "source": [
    "# Post-Processing\n",
    "\n",
    "We have introduced the workflow from building circuits to executing post-processing to get the final result. However, for some users that already have measurement outcomes from their own calculations, they may want to skip the building circuits and job manager to use the post-processing part only.\n",
    "\n",
    "In this notebook, we will focus on the post-processing part. We will introduce how to access the fuctions that performs post-processing for <u>**those who are familiar with the post-processing procedure and more experienced with Python**</u>."
   ]
  },
  {
   "cell_type": "markdown",
   "metadata": {},
   "source": [
    "```{toctree}\n",
    ":caption: Entanglement Entropy\n",
    "\n",
    "01_entropy_measure/intro\n",
    "01_entropy_measure/1_hadamard\n",
    "01_entropy_measure/2a_randomized_measure\n",
    "01_entropy_measure/2b_randomized_measure\n",
    "01_entropy_measure/4a_randomized_measure_v1\n",
    "01_entropy_measure/4b_randomized_measure_v1\n",
    "\n",
    "```\n",
    "\n",
    "```{toctree}\n",
    ":caption: Wavefunction Overlap\n",
    "\n",
    "02_wave_func_overlap/intro\n",
    "02_wave_func_overlap/1_hadamard\n",
    "02_wave_func_overlap/2_randomized_measure\n",
    "02_wave_func_overlap/3_randomized_measure_v1\n",
    "\n",
    "```"
   ]
  },
  {
   "cell_type": "markdown",
   "metadata": {},
   "source": [
    "## Access the post-processing functions with Rust or Cython acceleration\n",
    "\n",
    "All the functions are located in the `qurry.process` module. You can access them by importing the module.\n",
    "\n",
    "We also prepared Rust and Cython acceleration for the post-processing because Python is notorious for its inefficiency. The post-processing is the most time-consuming part in the workflow, as a result of the exponential amount of quantum data. Thus, acceleration of the process is of extreme importance. \n",
    "\n",
    "For comparison, Rust is the fastest, Cython is the second, and Python is the slowest. You can check whether the acceleration module is available by checking `AVAIBILITY_STATESHEET` from `qurry.process.status`"
   ]
  },
  {
   "cell_type": "code",
   "execution_count": 1,
   "metadata": {},
   "outputs": [
    {
     "data": {
      "text/plain": [
       " | Qurry version: 0.9.1.dev1\n",
       "--------------------------------------------------------\n",
       " ### Qurry Post-Processing\n",
       "   - Backend Availability ......... Python Cython Rust  \n",
       " - randomized_measure\n",
       "   - entangled_core ............... True   True   True  \n",
       "   - purity_cell .................. True   True   True  \n",
       "   - wavefunction_overlap ......... True   True   True  \n",
       "   - echo_cell .................... True   True   True  \n",
       " - utils\n",
       "   - randomized ................... True   True   True  \n",
       "   - construct .................... True   None   True  \n",
       "   - dummy ........................ True   None   True  \n",
       " - hadamard_test\n",
       "   - purity_echo_core ............. True   None   True  \n",
       " - magnet_square\n",
       "   - magnsq_core .................. True   None   None  \n",
       "--------------------------------------------------------\n",
       "   + True ..... Working normally.\n",
       "   + False .... Exception occurred.\n",
       "   + None ..... Not supported.\n",
       "--------------------------------------------------------\n",
       "by <Hoshi>"
      ]
     },
     "execution_count": 1,
     "metadata": {},
     "output_type": "execute_result"
    }
   ],
   "source": [
    "from qurry.process.status import AVAIBILITY_STATESHEET\n",
    "\n",
    "AVAIBILITY_STATESHEET"
   ]
  },
  {
   "cell_type": "markdown",
   "metadata": {},
   "source": [
    "### The Future of Acceleration\n",
    "\n",
    "The future version of Qurry will only maintain Rust acceleration. \n",
    "Cython acceleration that has been implemented will remain in the package, but not be updated anymore. For the computation efficiency of Cython is only slightly better than that of Python. Nonetheless, Cython and Python are hard to work parallelly due to not just **GIL (Global Interpreter Lock) in multi-thread**, but also **memory-wasted and inefficient for each children process in multi-process**. Therefore, we decided to focus on Rust acceleration. Python version will be remained for the compatibility and the convenience of debugging."
   ]
  },
  {
   "cell_type": "code",
   "execution_count": null,
   "metadata": {},
   "outputs": [],
   "source": []
  }
 ],
 "metadata": {
  "kernelspec": {
   "display_name": "quantumsphere12",
   "language": "python",
   "name": "python3"
  },
  "language_info": {
   "codemirror_mode": {
    "name": "ipython",
    "version": 3
   },
   "file_extension": ".py",
   "mimetype": "text/x-python",
   "name": "python",
   "nbconvert_exporter": "python",
   "pygments_lexer": "ipython3",
   "version": "3.12.2"
  }
 },
 "nbformat": 4,
 "nbformat_minor": 4
}
