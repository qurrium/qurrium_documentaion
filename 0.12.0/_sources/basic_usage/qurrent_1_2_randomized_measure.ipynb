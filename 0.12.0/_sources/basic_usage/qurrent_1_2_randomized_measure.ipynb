{
 "cells": [
  {
   "cell_type": "markdown",
   "id": "166f3b67",
   "metadata": {},
   "source": [
    "# 1.2 By Randomized Measurement\n",
    "## Basic Usage\n",
    "\n"
   ]
  },
  {
   "cell_type": "markdown",
   "id": "86beb579",
   "metadata": {},
   "source": [
    "### a. Import the instances"
   ]
  },
  {
   "cell_type": "code",
   "execution_count": 1,
   "id": "0fc71722",
   "metadata": {},
   "outputs": [],
   "source": [
    "from qurry import EntropyMeasure\n",
    "\n",
    "experiment_randomized = EntropyMeasure()\n",
    "# It's default method. EntropyMeasure(method='randomized') also works"
   ]
  },
  {
   "cell_type": "markdown",
   "id": "d48d1d69",
   "metadata": {},
   "source": [
    "### b. Preparing quantum circuit"
   ]
  },
  {
   "cell_type": "code",
   "execution_count": 2,
   "id": "2e597e81",
   "metadata": {},
   "outputs": [],
   "source": [
    "from qiskit import QuantumCircuit\n",
    "from qurry.recipe import TrivialParamagnet, GHZ"
   ]
  },
  {
   "cell_type": "code",
   "execution_count": 3,
   "id": "9584bc4f",
   "metadata": {},
   "outputs": [
    {
     "name": "stdout",
     "output_type": "stream",
     "text": [
      "| trivial paramagnet in 8 qubits:\n",
      "     ┌───┐\n",
      "q_0: ┤ H ├\n",
      "     ├───┤\n",
      "q_1: ┤ H ├\n",
      "     ├───┤\n",
      "q_2: ┤ H ├\n",
      "     ├───┤\n",
      "q_3: ┤ H ├\n",
      "     ├───┤\n",
      "q_4: ┤ H ├\n",
      "     ├───┤\n",
      "q_5: ┤ H ├\n",
      "     ├───┤\n",
      "q_6: ┤ H ├\n",
      "     ├───┤\n",
      "q_7: ┤ H ├\n",
      "     └───┘\n"
     ]
    }
   ],
   "source": [
    "sample01 = TrivialParamagnet(8)\n",
    "print(\"| trivial paramagnet in 8 qubits:\")\n",
    "print(sample01)"
   ]
  },
  {
   "cell_type": "code",
   "execution_count": 4,
   "id": "ddd66f20",
   "metadata": {},
   "outputs": [
    {
     "name": "stdout",
     "output_type": "stream",
     "text": [
      "| GHZ in 8 qubits:\n",
      "     ┌───┐                                   \n",
      "q_0: ┤ H ├──■────────────────────────────────\n",
      "     └───┘┌─┴─┐                              \n",
      "q_1: ─────┤ X ├──■───────────────────────────\n",
      "          └───┘┌─┴─┐                         \n",
      "q_2: ──────────┤ X ├──■──────────────────────\n",
      "               └───┘┌─┴─┐                    \n",
      "q_3: ───────────────┤ X ├──■─────────────────\n",
      "                    └───┘┌─┴─┐               \n",
      "q_4: ────────────────────┤ X ├──■────────────\n",
      "                         └───┘┌─┴─┐          \n",
      "q_5: ─────────────────────────┤ X ├──■───────\n",
      "                              └───┘┌─┴─┐     \n",
      "q_6: ──────────────────────────────┤ X ├──■──\n",
      "                                   └───┘┌─┴─┐\n",
      "q_7: ───────────────────────────────────┤ X ├\n",
      "                                        └───┘\n"
     ]
    }
   ],
   "source": [
    "sample02 = GHZ(8)\n",
    "print(\"| GHZ in 8 qubits:\")\n",
    "print(sample02)"
   ]
  },
  {
   "cell_type": "code",
   "execution_count": 5,
   "id": "bf3a0988",
   "metadata": {},
   "outputs": [
    {
     "name": "stdout",
     "output_type": "stream",
     "text": [
      "| Custom circuit:\n",
      "     ┌───┐\n",
      "q_0: ┤ X ├\n",
      "     └───┘\n",
      "q_1: ─────\n",
      "     ┌───┐\n",
      "q_2: ┤ X ├\n",
      "     └───┘\n",
      "q_3: ─────\n",
      "     ┌───┐\n",
      "q_4: ┤ X ├\n",
      "     └───┘\n",
      "q_5: ─────\n",
      "     ┌───┐\n",
      "q_6: ┤ X ├\n",
      "     └───┘\n",
      "q_7: ─────\n",
      "          \n"
     ]
    }
   ],
   "source": [
    "sample03 = QuantumCircuit(8)\n",
    "sample03.x(range(0, 8, 2))\n",
    "print(\"| Custom circuit:\")\n",
    "print(sample03)"
   ]
  },
  {
   "cell_type": "markdown",
   "id": "25fc5d4c",
   "metadata": {},
   "source": [
    "### c. Execute the circuit"
   ]
  },
  {
   "cell_type": "markdown",
   "id": "6937e4ba",
   "metadata": {},
   "source": [
    "#### i. Directly input the circuit\n",
    "\n",
    "After executing, it will return a uuid of experiment. You can use this uuid to get the result of the experiment.\n"
   ]
  },
  {
   "cell_type": "code",
   "execution_count": 6,
   "id": "3135a9f2",
   "metadata": {},
   "outputs": [
    {
     "data": {
      "text/plain": [
       "'db6ac7a1-78fc-4802-a2a3-1c289c8bf519'"
      ]
     },
     "execution_count": 6,
     "metadata": {},
     "output_type": "execute_result"
    }
   ],
   "source": [
    "exp1 = experiment_randomized.measure(sample01, times=100, shots=4096)\n",
    "exp1"
   ]
  },
  {
   "cell_type": "markdown",
   "id": "4052ff26",
   "metadata": {},
   "source": [
    "Each experiment result will be stored in a container `.exps`."
   ]
  },
  {
   "cell_type": "code",
   "execution_count": 7,
   "id": "a01a6c9f",
   "metadata": {},
   "outputs": [
    {
     "data": {
      "text/plain": [
       "<EntropyMeasureRandomizedExperiment(exp_id=db6ac7a1-78fc-4802-a2a3-1c289c8bf519, \n",
       "  EntropyMeasureRandomizedArguments(exp_name='experiment.N_U_100.qurrent_randomized', times=100, qubits_measured=[0, 1, 2, 3, 4, 5, 6, 7], registers_mapping={0: 0, 1: 1, 2: 2, 3: 3, 4: 4, 5: 5, 6: 6, 7: 7}, actual_num_qubits=8, unitary_located=[0, 1, 2, 3, 4, 5, 6, 7], random_unitary_seeds=None),\n",
       "  Commonparams(exp_id='db6ac7a1-78fc-4802-a2a3-1c289c8bf519', target_keys=[0], shots=4096, backend=<BasicSimulator('basic_simulator')>, run_args={}, transpile_args={}, tags=(), default_analysis=[], save_location=PosixPath('.'), filename='', files={}, serial=None, summoner_id=None, summoner_name=None, datetimes=DatetimeDict({'build': '2025-05-22 15:28:08', 'run.001': '2025-05-22 15:28:08'})),\n",
       "  unused_args_num=0,\n",
       "  analysis_num=0))>"
      ]
     },
     "execution_count": 7,
     "metadata": {},
     "output_type": "execute_result"
    }
   ],
   "source": [
    "experiment_randomized.exps[exp1]"
   ]
  },
  {
   "cell_type": "code",
   "execution_count": 11,
   "id": "98b17ffb",
   "metadata": {},
   "outputs": [
    {
     "data": {
      "text/plain": [
       "<EntropyMeasureRandomizedAnalysis(\n",
       "  serial=0,\n",
       "  AnalysisInput(num_qubits=8, selected_qubits=[0, 1, 2, 3], registers_mapping={0: 0, 1: 1, 2: 2, 3: 3, 4: 4, 5: 5, 6: 6, 7: 7}, bitstring_mapping={0: 0, 1: 1, 2: 2, 3: 3, 4: 4, 5: 5, 6: 6, 7: 7}, shots=4096, unitary_located=[0, 1, 2, 3, 4, 5, 6, 7]),\n",
       "  AnalysisContent(purity=0.9178369641304016, entropy=0.12369018518036091, and others)),\n",
       "  unused_args_num=0\n",
       "  )>"
      ]
     },
     "execution_count": 11,
     "metadata": {},
     "output_type": "execute_result"
    }
   ],
   "source": [
    "report01 = experiment_randomized.exps[exp1].analyze(\n",
    "    selected_qubits=[0, 1, 2, 3],\n",
    ")\n",
    "report01"
   ]
  },
  {
   "cell_type": "code",
   "execution_count": 12,
   "id": "04e837c4",
   "metadata": {},
   "outputs": [
    {
     "data": {
      "text/plain": [
       "{'purity': np.float64(0.9178369641304016),\n",
       " 'entropy': np.float64(0.12369018518036091),\n",
       " 'puritySD': np.float64(0.7986181040002881),\n",
       " 'entropySD': np.float64(1.2553017836854832),\n",
       " 'num_classical_registers': 8,\n",
       " 'classical_registers': [0, 1, 2, 3],\n",
       " 'classical_registers_actually': [0, 1, 2, 3],\n",
       " 'all_system_source': 'independent',\n",
       " 'purityAllSys': np.float64(1.022006870508194),\n",
       " 'entropyAllSys': np.float64(-0.03140489492013558),\n",
       " 'puritySDAllSys': np.float64(1.6222453684032423),\n",
       " 'entropySDAllSys': np.float64(2.2900094076047437),\n",
       " 'num_classical_registers_all_sys': 8,\n",
       " 'classical_registers_all_sys': None,\n",
       " 'classical_registers_actually_all_sys': [0, 1, 2, 3, 4, 5, 6, 7],\n",
       " 'errorRate': np.float64(-0.010986237275843075),\n",
       " 'mitigatedPurity': np.float64(0.8993483300687765),\n",
       " 'mitigatedEntropy': np.float64(0.1530480951309023),\n",
       " 'counts_num': 100,\n",
       " 'taking_time': 0.001423519,\n",
       " 'taking_time_all_sys': 0.009315791,\n",
       " 'counts_used': None,\n",
       " 'input': {'num_qubits': 8,\n",
       "  'selected_qubits': [0, 1, 2, 3],\n",
       "  'registers_mapping': {0: 0, 1: 1, 2: 2, 3: 3, 4: 4, 5: 5, 6: 6, 7: 7},\n",
       "  'bitstring_mapping': {0: 0, 1: 1, 2: 2, 3: 3, 4: 4, 5: 5, 6: 6, 7: 7},\n",
       "  'shots': 4096,\n",
       "  'unitary_located': [0, 1, 2, 3, 4, 5, 6, 7]},\n",
       " 'header': {'serial': 0,\n",
       "  'datetime': '2025-05-22 15:30:20',\n",
       "  'summoner': None,\n",
       "  'log': {}}}"
      ]
     },
     "execution_count": 12,
     "metadata": {},
     "output_type": "execute_result"
    }
   ],
   "source": [
    "main01, side_product01 = report01.export()\n",
    "main01"
   ]
  },
  {
   "cell_type": "markdown",
   "id": "80f78a90",
   "metadata": {},
   "source": [
    "#### ii. Add the circuits to container `.waves`, then call them later.\n",
    "\n",
    "Since we have executed an experiment, the circuit we input in `exp1` is stored in the container `.waves` with serial number `0`."
   ]
  },
  {
   "cell_type": "code",
   "execution_count": 13,
   "id": "e7e4b5fd",
   "metadata": {},
   "outputs": [
    {
     "data": {
      "text/plain": [
       "WaveContainer({\n",
       "  0: <qurry.recipe.simple.paramagnet.TrivialParamagnet object at 0x785a2e031610>})"
      ]
     },
     "execution_count": 13,
     "metadata": {},
     "output_type": "execute_result"
    }
   ],
   "source": [
    "experiment_randomized.waves"
   ]
  },
  {
   "cell_type": "markdown",
   "id": "c5dc7dc7",
   "metadata": {},
   "source": [
    "But we can also add the circuit to the container `.waves` with a custom name.\n",
    "The name should be unique, otherwise it will be overwritten.\n",
    "The method `add` will return the actual name of the circuit in the container."
   ]
  },
  {
   "cell_type": "code",
   "execution_count": 14,
   "id": "50325122",
   "metadata": {},
   "outputs": [
    {
     "name": "stdout",
     "output_type": "stream",
     "text": [
      "ghz_8\n",
      "     ┌───┐                                   \n",
      "q_0: ┤ H ├──■────────────────────────────────\n",
      "     └───┘┌─┴─┐                              \n",
      "q_1: ─────┤ X ├──■───────────────────────────\n",
      "          └───┘┌─┴─┐                         \n",
      "q_2: ──────────┤ X ├──■──────────────────────\n",
      "               └───┘┌─┴─┐                    \n",
      "q_3: ───────────────┤ X ├──■─────────────────\n",
      "                    └───┘┌─┴─┐               \n",
      "q_4: ────────────────────┤ X ├──■────────────\n",
      "                         └───┘┌─┴─┐          \n",
      "q_5: ─────────────────────────┤ X ├──■───────\n",
      "                              └───┘┌─┴─┐     \n",
      "q_6: ──────────────────────────────┤ X ├──■──\n",
      "                                   └───┘┌─┴─┐\n",
      "q_7: ───────────────────────────────────┤ X ├\n",
      "                                        └───┘\n"
     ]
    }
   ],
   "source": [
    "print(experiment_randomized.add(sample02, \"ghz_8\"))\n",
    "print(experiment_randomized.waves[\"ghz_8\"])"
   ]
  },
  {
   "cell_type": "markdown",
   "id": "d426d0bf",
   "metadata": {},
   "source": [
    "If there is a circuit with the same name, it will be replaced by the new one."
   ]
  },
  {
   "cell_type": "code",
   "execution_count": 15,
   "id": "62f0b726",
   "metadata": {},
   "outputs": [
    {
     "name": "stdout",
     "output_type": "stream",
     "text": [
      "ghz_8\n",
      "     ┌───┐\n",
      "q_0: ┤ X ├\n",
      "     └───┘\n",
      "q_1: ─────\n",
      "     ┌───┐\n",
      "q_2: ┤ X ├\n",
      "     └───┘\n",
      "q_3: ─────\n",
      "     ┌───┐\n",
      "q_4: ┤ X ├\n",
      "     └───┘\n",
      "q_5: ─────\n",
      "     ┌───┐\n",
      "q_6: ┤ X ├\n",
      "     └───┘\n",
      "q_7: ─────\n",
      "          \n"
     ]
    }
   ],
   "source": [
    "print(experiment_randomized.add(sample03, \"ghz_8\"))\n",
    "print(experiment_randomized.waves[\"ghz_8\"])"
   ]
  },
  {
   "cell_type": "markdown",
   "id": "7b79fe25",
   "metadata": {},
   "source": [
    "Otherwise, you will need to use `replace=\"duplicate\"` to prevent it from being replaced."
   ]
  },
  {
   "cell_type": "code",
   "execution_count": 16,
   "id": "a1d8b6ae",
   "metadata": {},
   "outputs": [
    {
     "name": "stdout",
     "output_type": "stream",
     "text": [
      "ghz_8.2\n",
      "     ┌───┐                                   \n",
      "q_0: ┤ H ├──■────────────────────────────────\n",
      "     └───┘┌─┴─┐                              \n",
      "q_1: ─────┤ X ├──■───────────────────────────\n",
      "          └───┘┌─┴─┐                         \n",
      "q_2: ──────────┤ X ├──■──────────────────────\n",
      "               └───┘┌─┴─┐                    \n",
      "q_3: ───────────────┤ X ├──■─────────────────\n",
      "                    └───┘┌─┴─┐               \n",
      "q_4: ────────────────────┤ X ├──■────────────\n",
      "                         └───┘┌─┴─┐          \n",
      "q_5: ─────────────────────────┤ X ├──■───────\n",
      "                              └───┘┌─┴─┐     \n",
      "q_6: ──────────────────────────────┤ X ├──■──\n",
      "                                   └───┘┌─┴─┐\n",
      "q_7: ───────────────────────────────────┤ X ├\n",
      "                                        └───┘\n"
     ]
    }
   ],
   "source": [
    "duplicated_case01 = experiment_randomized.add(sample02, \"ghz_8\", replace=\"duplicate\")\n",
    "print(duplicated_case01)\n",
    "print(experiment_randomized.waves[duplicated_case01])"
   ]
  },
  {
   "cell_type": "markdown",
   "id": "f38b4679",
   "metadata": {},
   "source": [
    "Now we have prepared the circuit and stored it in the container `.waves`."
   ]
  },
  {
   "cell_type": "code",
   "execution_count": 17,
   "id": "2a6e1e85",
   "metadata": {},
   "outputs": [
    {
     "data": {
      "text/plain": [
       "WaveContainer({\n",
       "  0: <qurry.recipe.simple.paramagnet.TrivialParamagnet object at 0x785a2e031610>,\n",
       "  'ghz_8': <qiskit.circuit.quantumcircuit.QuantumCircuit object at 0x785a2e032630>,\n",
       "  'ghz_8.2': <qurry.recipe.simple.cat.GHZ object at 0x785a2e0d2840>})"
      ]
     },
     "execution_count": 17,
     "metadata": {},
     "output_type": "execute_result"
    }
   ],
   "source": [
    "experiment_randomized.waves"
   ]
  },
  {
   "cell_type": "markdown",
   "id": "66a312be",
   "metadata": {},
   "source": [
    "Finally, we can execute the circuit and get the result."
   ]
  },
  {
   "cell_type": "code",
   "execution_count": 18,
   "id": "2d32257f",
   "metadata": {},
   "outputs": [
    {
     "data": {
      "text/plain": [
       "'202eaf61-7540-490b-bb20-7aa958553d36'"
      ]
     },
     "execution_count": 18,
     "metadata": {},
     "output_type": "execute_result"
    }
   ],
   "source": [
    "exp2 = experiment_randomized.measure(\"ghz_8.2\", times=100, shots=4096)\n",
    "exp2"
   ]
  },
  {
   "cell_type": "code",
   "execution_count": 19,
   "id": "3490266c",
   "metadata": {},
   "outputs": [
    {
     "data": {
      "text/plain": [
       "<EntropyMeasureRandomizedExperiment(exp_id=202eaf61-7540-490b-bb20-7aa958553d36, \n",
       "  EntropyMeasureRandomizedArguments(exp_name='experiment.N_U_100.qurrent_randomized', times=100, qubits_measured=[0, 1, 2, 3, 4, 5, 6, 7], registers_mapping={0: 0, 1: 1, 2: 2, 3: 3, 4: 4, 5: 5, 6: 6, 7: 7}, actual_num_qubits=8, unitary_located=[0, 1, 2, 3, 4, 5, 6, 7], random_unitary_seeds=None),\n",
       "  Commonparams(exp_id='202eaf61-7540-490b-bb20-7aa958553d36', target_keys=['ghz_8.2'], shots=4096, backend=<BasicSimulator('basic_simulator')>, run_args={}, transpile_args={}, tags=(), default_analysis=[], save_location=PosixPath('.'), filename='', files={}, serial=None, summoner_id=None, summoner_name=None, datetimes=DatetimeDict({'build': '2025-05-22 15:30:37', 'run.001': '2025-05-22 15:30:37'})),\n",
       "  unused_args_num=0,\n",
       "  analysis_num=0))>"
      ]
     },
     "execution_count": 19,
     "metadata": {},
     "output_type": "execute_result"
    }
   ],
   "source": [
    "experiment_randomized.exps[exp2]"
   ]
  },
  {
   "cell_type": "code",
   "execution_count": 20,
   "id": "3eec833e",
   "metadata": {},
   "outputs": [
    {
     "data": {
      "text/plain": [
       "<EntropyMeasureRandomizedAnalysis(\n",
       "  serial=0,\n",
       "  AnalysisInput(num_qubits=8, selected_qubits=[0, 1, 2, 3], registers_mapping={0: 0, 1: 1, 2: 2, 3: 3, 4: 4, 5: 5, 6: 6, 7: 7}, bitstring_mapping={0: 0, 1: 1, 2: 2, 3: 3, 4: 4, 5: 5, 6: 6, 7: 7}, shots=4096, unitary_located=[0, 1, 2, 3, 4, 5, 6, 7]),\n",
       "  AnalysisContent(purity=0.4793319714069366, entropy=1.0609029240689454, and others)),\n",
       "  unused_args_num=0\n",
       "  )>"
      ]
     },
     "execution_count": 20,
     "metadata": {},
     "output_type": "execute_result"
    }
   ],
   "source": [
    "report02 = experiment_randomized.exps[exp2].analyze(\n",
    "    selected_qubits=[0, 1, 2, 3],\n",
    ")\n",
    "report02"
   ]
  },
  {
   "cell_type": "markdown",
   "id": "7da71740",
   "metadata": {},
   "source": [
    "### d. Export them after all"
   ]
  },
  {
   "cell_type": "code",
   "execution_count": 21,
   "id": "1c5b0ab5",
   "metadata": {},
   "outputs": [
    {
     "data": {
      "text/plain": [
       "{'folder': 'experiment.N_U_100.qurrent_randomized.006',\n",
       " 'qurryinfo': 'experiment.N_U_100.qurrent_randomized.006/qurryinfo.json',\n",
       " 'args': 'experiment.N_U_100.qurrent_randomized.006/args/experiment.N_U_100.qurrent_randomized.006.id=db6ac7a1-78fc-4802-a2a3-1c289c8bf519.args.json',\n",
       " 'advent': 'experiment.N_U_100.qurrent_randomized.006/advent/experiment.N_U_100.qurrent_randomized.006.id=db6ac7a1-78fc-4802-a2a3-1c289c8bf519.advent.json',\n",
       " 'legacy': 'experiment.N_U_100.qurrent_randomized.006/legacy/experiment.N_U_100.qurrent_randomized.006.id=db6ac7a1-78fc-4802-a2a3-1c289c8bf519.legacy.json',\n",
       " 'tales.unitaryOP': 'experiment.N_U_100.qurrent_randomized.006/tales/experiment.N_U_100.qurrent_randomized.006.id=db6ac7a1-78fc-4802-a2a3-1c289c8bf519.unitaryOP.json',\n",
       " 'tales.randomized': 'experiment.N_U_100.qurrent_randomized.006/tales/experiment.N_U_100.qurrent_randomized.006.id=db6ac7a1-78fc-4802-a2a3-1c289c8bf519.randomized.json',\n",
       " 'reports': 'experiment.N_U_100.qurrent_randomized.006/reports/experiment.N_U_100.qurrent_randomized.006.id=db6ac7a1-78fc-4802-a2a3-1c289c8bf519.reports.json',\n",
       " 'reports.tales.purityCells': 'experiment.N_U_100.qurrent_randomized.006/tales/experiment.N_U_100.qurrent_randomized.006.id=db6ac7a1-78fc-4802-a2a3-1c289c8bf519.purityCells.reports.json',\n",
       " 'reports.tales.purityCellsAllSys': 'experiment.N_U_100.qurrent_randomized.006/tales/experiment.N_U_100.qurrent_randomized.006.id=db6ac7a1-78fc-4802-a2a3-1c289c8bf519.purityCellsAllSys.reports.json'}"
      ]
     },
     "execution_count": 21,
     "metadata": {},
     "output_type": "execute_result"
    }
   ],
   "source": [
    "exp1_id, exp1_files_info = experiment_randomized.exps[exp1].write(\n",
    "    save_location=\".\",  # where to save files\n",
    ")\n",
    "exp1_files_info"
   ]
  },
  {
   "cell_type": "markdown",
   "id": "5ce8d9c7",
   "metadata": {},
   "source": [
        "\n",
    "### Post-Process Availablities and Version Info"
   ]
  },
  {
   "cell_type": "code",
   "execution_count": 19,
   "id": "d4cca3b9",
   "metadata": {},
   "outputs": [
    {
     "data": {
      "text/plain": [
       " | Qurry version: 0.12.2.dev2\n",
       "---------------------------------------------------------------------------\n",
       " ### Qurry Post-Processing\n",
       "   - Backend Availability ................... Python Cython Rust   JAX   \n",
       " - randomized_measure\n",
       "   - entangled_entropy.entropy_core_2 ....... Yes    Depr.  Yes    No    \n",
       "   - entangle_entropy.purity_cell_2 ......... Yes    Depr.  Yes    No    \n",
       "   - entangled_entropy_v1.entropy_core ...... Yes    Depr.  Yes    No    \n",
       "   - entangle_entropy_v1.purity_cell ........ Yes    Depr.  Yes    No    \n",
       "   - wavefunction_overlap.echo_core_2 ....... Yes    Depr.  Yes    No    \n",
       "   - wavefunction_overlap.echo_cell_2 ....... Yes    Depr.  Yes    No    \n",
       "   - wavefunction_overlap_v1.echo_core ...... Yes    Depr.  Yes    No    \n",
       "   - wavefunction_overlap_v1.echo_cell ...... Yes    Depr.  Yes    No    \n",
       " - hadamard_test\n",
       "   - purity_echo_core ....................... Yes    No     Yes    No    \n",
       " - magnet_square\n",
       "   - magnsq_core ............................ Yes    No     No     No    \n",
       " - classical_shadow\n",
       "   - rho_m_core ............................. Yes    No     No     Error \n",
       " - utils\n",
       "   - randomized ............................. Yes    Depr.  Yes    No    \n",
       "   - counts_process ......................... Yes    No     Yes    No    \n",
       "   - bit_slice .............................. Yes    No     Yes    No    \n",
       "   - dummy .................................. Yes    No     Yes    No    \n",
       "   - test ................................... Yes    No     Yes    No    \n",
       "---------------------------------------------------------------------------\n",
       "   + Yes ...... Working normally.\n",
       "   + Error .... Exception occurred.\n",
       "   + No ....... Not supported.\n",
       "   + Depr. .... Deprecated.\n",
       "---------------------------------------------------------------------------\n",
       "by <Hoshi>"
      ]
     },
     "execution_count": 19,
     "metadata": {},
     "output_type": "execute_result"
    }
   ],
   "source": [
    "from qurry.process import AVAIBILITY_STATESHEET\n",
    "\n",
    "AVAIBILITY_STATESHEET"
   ]
  },
  {
   "cell_type": "code",
   "execution_count": null,
   "id": "898c1a96",
   "metadata": {},
   "outputs": [],
   "source": []
  }
 ],
 "metadata": {
  "kernelspec": {
   "display_name": "qurrium_docs",
   "language": "python",
   "name": "python3"
  },
  "language_info": {
   "codemirror_mode": {
    "name": "ipython",
    "version": 3
   },
   "file_extension": ".py",
   "mimetype": "text/x-python",
   "name": "python",
   "nbconvert_exporter": "python",
   "pygments_lexer": "ipython3",
   "version": "3.12.3"
  }
 },
 "nbformat": 4,
 "nbformat_minor": 5
}
